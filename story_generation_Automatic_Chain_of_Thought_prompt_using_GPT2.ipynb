{
  "nbformat": 4,
  "nbformat_minor": 0,
  "metadata": {
    "colab": {
      "provenance": [],
      "gpuType": "T4",
      "include_colab_link": true
    },
    "kernelspec": {
      "name": "python3",
      "display_name": "Python 3"
    },
    "language_info": {
      "name": "python"
    },
    "accelerator": "GPU",
    "widgets": {
      "application/vnd.jupyter.widget-state+json": {
        "d589b4aa6d6044ce9d42fd5426ec1c7a": {
          "model_module": "@jupyter-widgets/controls",
          "model_name": "HBoxModel",
          "model_module_version": "1.5.0",
          "state": {
            "_dom_classes": [],
            "_model_module": "@jupyter-widgets/controls",
            "_model_module_version": "1.5.0",
            "_model_name": "HBoxModel",
            "_view_count": null,
            "_view_module": "@jupyter-widgets/controls",
            "_view_module_version": "1.5.0",
            "_view_name": "HBoxView",
            "box_style": "",
            "children": [
              "IPY_MODEL_fb8dabcb4c9c4b779b22e45a960a7603",
              "IPY_MODEL_4b0fa8e190484a0c844663b99a9ff61f",
              "IPY_MODEL_842a084d986f4b4ab09ddb27a70b7e1c"
            ],
            "layout": "IPY_MODEL_a3664294f2ea4ef190f03b626b5ad3d0"
          }
        },
        "fb8dabcb4c9c4b779b22e45a960a7603": {
          "model_module": "@jupyter-widgets/controls",
          "model_name": "HTMLModel",
          "model_module_version": "1.5.0",
          "state": {
            "_dom_classes": [],
            "_model_module": "@jupyter-widgets/controls",
            "_model_module_version": "1.5.0",
            "_model_name": "HTMLModel",
            "_view_count": null,
            "_view_module": "@jupyter-widgets/controls",
            "_view_module_version": "1.5.0",
            "_view_name": "HTMLView",
            "description": "",
            "description_tooltip": null,
            "layout": "IPY_MODEL_b010a1e134184297860b0231fbdcc80f",
            "placeholder": "​",
            "style": "IPY_MODEL_8f47128e43d6406899de3e2264df7f25",
            "value": "Downloading data: 100%"
          }
        },
        "4b0fa8e190484a0c844663b99a9ff61f": {
          "model_module": "@jupyter-widgets/controls",
          "model_name": "FloatProgressModel",
          "model_module_version": "1.5.0",
          "state": {
            "_dom_classes": [],
            "_model_module": "@jupyter-widgets/controls",
            "_model_module_version": "1.5.0",
            "_model_name": "FloatProgressModel",
            "_view_count": null,
            "_view_module": "@jupyter-widgets/controls",
            "_view_module_version": "1.5.0",
            "_view_name": "ProgressView",
            "bar_style": "success",
            "description": "",
            "description_tooltip": null,
            "layout": "IPY_MODEL_c92c00d1e4d24a3291d8611ab6c208d4",
            "max": 21195548,
            "min": 0,
            "orientation": "horizontal",
            "style": "IPY_MODEL_a1aa417e7cf541f7b392fd278fd7f5f4",
            "value": 21195548
          }
        },
        "842a084d986f4b4ab09ddb27a70b7e1c": {
          "model_module": "@jupyter-widgets/controls",
          "model_name": "HTMLModel",
          "model_module_version": "1.5.0",
          "state": {
            "_dom_classes": [],
            "_model_module": "@jupyter-widgets/controls",
            "_model_module_version": "1.5.0",
            "_model_name": "HTMLModel",
            "_view_count": null,
            "_view_module": "@jupyter-widgets/controls",
            "_view_module_version": "1.5.0",
            "_view_name": "HTMLView",
            "description": "",
            "description_tooltip": null,
            "layout": "IPY_MODEL_5454ef4c5216499fa6f9b3300e81b2e5",
            "placeholder": "​",
            "style": "IPY_MODEL_fb843a79ff054874b2002bd961feba79",
            "value": " 21.2M/21.2M [00:01&lt;00:00, 13.2MB/s]"
          }
        },
        "a3664294f2ea4ef190f03b626b5ad3d0": {
          "model_module": "@jupyter-widgets/base",
          "model_name": "LayoutModel",
          "model_module_version": "1.2.0",
          "state": {
            "_model_module": "@jupyter-widgets/base",
            "_model_module_version": "1.2.0",
            "_model_name": "LayoutModel",
            "_view_count": null,
            "_view_module": "@jupyter-widgets/base",
            "_view_module_version": "1.2.0",
            "_view_name": "LayoutView",
            "align_content": null,
            "align_items": null,
            "align_self": null,
            "border": null,
            "bottom": null,
            "display": null,
            "flex": null,
            "flex_flow": null,
            "grid_area": null,
            "grid_auto_columns": null,
            "grid_auto_flow": null,
            "grid_auto_rows": null,
            "grid_column": null,
            "grid_gap": null,
            "grid_row": null,
            "grid_template_areas": null,
            "grid_template_columns": null,
            "grid_template_rows": null,
            "height": null,
            "justify_content": null,
            "justify_items": null,
            "left": null,
            "margin": null,
            "max_height": null,
            "max_width": null,
            "min_height": null,
            "min_width": null,
            "object_fit": null,
            "object_position": null,
            "order": null,
            "overflow": null,
            "overflow_x": null,
            "overflow_y": null,
            "padding": null,
            "right": null,
            "top": null,
            "visibility": null,
            "width": null
          }
        },
        "b010a1e134184297860b0231fbdcc80f": {
          "model_module": "@jupyter-widgets/base",
          "model_name": "LayoutModel",
          "model_module_version": "1.2.0",
          "state": {
            "_model_module": "@jupyter-widgets/base",
            "_model_module_version": "1.2.0",
            "_model_name": "LayoutModel",
            "_view_count": null,
            "_view_module": "@jupyter-widgets/base",
            "_view_module_version": "1.2.0",
            "_view_name": "LayoutView",
            "align_content": null,
            "align_items": null,
            "align_self": null,
            "border": null,
            "bottom": null,
            "display": null,
            "flex": null,
            "flex_flow": null,
            "grid_area": null,
            "grid_auto_columns": null,
            "grid_auto_flow": null,
            "grid_auto_rows": null,
            "grid_column": null,
            "grid_gap": null,
            "grid_row": null,
            "grid_template_areas": null,
            "grid_template_columns": null,
            "grid_template_rows": null,
            "height": null,
            "justify_content": null,
            "justify_items": null,
            "left": null,
            "margin": null,
            "max_height": null,
            "max_width": null,
            "min_height": null,
            "min_width": null,
            "object_fit": null,
            "object_position": null,
            "order": null,
            "overflow": null,
            "overflow_x": null,
            "overflow_y": null,
            "padding": null,
            "right": null,
            "top": null,
            "visibility": null,
            "width": null
          }
        },
        "8f47128e43d6406899de3e2264df7f25": {
          "model_module": "@jupyter-widgets/controls",
          "model_name": "DescriptionStyleModel",
          "model_module_version": "1.5.0",
          "state": {
            "_model_module": "@jupyter-widgets/controls",
            "_model_module_version": "1.5.0",
            "_model_name": "DescriptionStyleModel",
            "_view_count": null,
            "_view_module": "@jupyter-widgets/base",
            "_view_module_version": "1.2.0",
            "_view_name": "StyleView",
            "description_width": ""
          }
        },
        "c92c00d1e4d24a3291d8611ab6c208d4": {
          "model_module": "@jupyter-widgets/base",
          "model_name": "LayoutModel",
          "model_module_version": "1.2.0",
          "state": {
            "_model_module": "@jupyter-widgets/base",
            "_model_module_version": "1.2.0",
            "_model_name": "LayoutModel",
            "_view_count": null,
            "_view_module": "@jupyter-widgets/base",
            "_view_module_version": "1.2.0",
            "_view_name": "LayoutView",
            "align_content": null,
            "align_items": null,
            "align_self": null,
            "border": null,
            "bottom": null,
            "display": null,
            "flex": null,
            "flex_flow": null,
            "grid_area": null,
            "grid_auto_columns": null,
            "grid_auto_flow": null,
            "grid_auto_rows": null,
            "grid_column": null,
            "grid_gap": null,
            "grid_row": null,
            "grid_template_areas": null,
            "grid_template_columns": null,
            "grid_template_rows": null,
            "height": null,
            "justify_content": null,
            "justify_items": null,
            "left": null,
            "margin": null,
            "max_height": null,
            "max_width": null,
            "min_height": null,
            "min_width": null,
            "object_fit": null,
            "object_position": null,
            "order": null,
            "overflow": null,
            "overflow_x": null,
            "overflow_y": null,
            "padding": null,
            "right": null,
            "top": null,
            "visibility": null,
            "width": null
          }
        },
        "a1aa417e7cf541f7b392fd278fd7f5f4": {
          "model_module": "@jupyter-widgets/controls",
          "model_name": "ProgressStyleModel",
          "model_module_version": "1.5.0",
          "state": {
            "_model_module": "@jupyter-widgets/controls",
            "_model_module_version": "1.5.0",
            "_model_name": "ProgressStyleModel",
            "_view_count": null,
            "_view_module": "@jupyter-widgets/base",
            "_view_module_version": "1.2.0",
            "_view_name": "StyleView",
            "bar_color": null,
            "description_width": ""
          }
        },
        "5454ef4c5216499fa6f9b3300e81b2e5": {
          "model_module": "@jupyter-widgets/base",
          "model_name": "LayoutModel",
          "model_module_version": "1.2.0",
          "state": {
            "_model_module": "@jupyter-widgets/base",
            "_model_module_version": "1.2.0",
            "_model_name": "LayoutModel",
            "_view_count": null,
            "_view_module": "@jupyter-widgets/base",
            "_view_module_version": "1.2.0",
            "_view_name": "LayoutView",
            "align_content": null,
            "align_items": null,
            "align_self": null,
            "border": null,
            "bottom": null,
            "display": null,
            "flex": null,
            "flex_flow": null,
            "grid_area": null,
            "grid_auto_columns": null,
            "grid_auto_flow": null,
            "grid_auto_rows": null,
            "grid_column": null,
            "grid_gap": null,
            "grid_row": null,
            "grid_template_areas": null,
            "grid_template_columns": null,
            "grid_template_rows": null,
            "height": null,
            "justify_content": null,
            "justify_items": null,
            "left": null,
            "margin": null,
            "max_height": null,
            "max_width": null,
            "min_height": null,
            "min_width": null,
            "object_fit": null,
            "object_position": null,
            "order": null,
            "overflow": null,
            "overflow_x": null,
            "overflow_y": null,
            "padding": null,
            "right": null,
            "top": null,
            "visibility": null,
            "width": null
          }
        },
        "fb843a79ff054874b2002bd961feba79": {
          "model_module": "@jupyter-widgets/controls",
          "model_name": "DescriptionStyleModel",
          "model_module_version": "1.5.0",
          "state": {
            "_model_module": "@jupyter-widgets/controls",
            "_model_module_version": "1.5.0",
            "_model_name": "DescriptionStyleModel",
            "_view_count": null,
            "_view_module": "@jupyter-widgets/base",
            "_view_module_version": "1.2.0",
            "_view_name": "StyleView",
            "description_width": ""
          }
        },
        "21e7421b418543b8b341645db5b379c6": {
          "model_module": "@jupyter-widgets/controls",
          "model_name": "HBoxModel",
          "model_module_version": "1.5.0",
          "state": {
            "_dom_classes": [],
            "_model_module": "@jupyter-widgets/controls",
            "_model_module_version": "1.5.0",
            "_model_name": "HBoxModel",
            "_view_count": null,
            "_view_module": "@jupyter-widgets/controls",
            "_view_module_version": "1.5.0",
            "_view_name": "HBoxView",
            "box_style": "",
            "children": [
              "IPY_MODEL_3afaeaf46af84aa886d3bd21e5af5a6c",
              "IPY_MODEL_db8c9cc4bb014f6595ffddfd95c332da",
              "IPY_MODEL_7e63b432d27c441dbf4ae3177b1a3abf"
            ],
            "layout": "IPY_MODEL_1ecde2f9b0874a57a6dba148b48af04b"
          }
        },
        "3afaeaf46af84aa886d3bd21e5af5a6c": {
          "model_module": "@jupyter-widgets/controls",
          "model_name": "HTMLModel",
          "model_module_version": "1.5.0",
          "state": {
            "_dom_classes": [],
            "_model_module": "@jupyter-widgets/controls",
            "_model_module_version": "1.5.0",
            "_model_name": "HTMLModel",
            "_view_count": null,
            "_view_module": "@jupyter-widgets/controls",
            "_view_module_version": "1.5.0",
            "_view_name": "HTMLView",
            "description": "",
            "description_tooltip": null,
            "layout": "IPY_MODEL_da821bd1b02247708f06c52679bc6de7",
            "placeholder": "​",
            "style": "IPY_MODEL_fc67c9c0102040c08b511a72ae6f743e",
            "value": "Generating train split: "
          }
        },
        "db8c9cc4bb014f6595ffddfd95c332da": {
          "model_module": "@jupyter-widgets/controls",
          "model_name": "FloatProgressModel",
          "model_module_version": "1.5.0",
          "state": {
            "_dom_classes": [],
            "_model_module": "@jupyter-widgets/controls",
            "_model_module_version": "1.5.0",
            "_model_name": "FloatProgressModel",
            "_view_count": null,
            "_view_module": "@jupyter-widgets/controls",
            "_view_module_version": "1.5.0",
            "_view_name": "ProgressView",
            "bar_style": "success",
            "description": "",
            "description_tooltip": null,
            "layout": "IPY_MODEL_f89cb7ed997c4f50b266f70aeb13b046",
            "max": 1,
            "min": 0,
            "orientation": "horizontal",
            "style": "IPY_MODEL_3341fd6488b246c1bc04e490b0c99868",
            "value": 1
          }
        },
        "7e63b432d27c441dbf4ae3177b1a3abf": {
          "model_module": "@jupyter-widgets/controls",
          "model_name": "HTMLModel",
          "model_module_version": "1.5.0",
          "state": {
            "_dom_classes": [],
            "_model_module": "@jupyter-widgets/controls",
            "_model_module_version": "1.5.0",
            "_model_name": "HTMLModel",
            "_view_count": null,
            "_view_module": "@jupyter-widgets/controls",
            "_view_module_version": "1.5.0",
            "_view_name": "HTMLView",
            "description": "",
            "description_tooltip": null,
            "layout": "IPY_MODEL_2845c6ca72e54caa803d73f2576febd5",
            "placeholder": "​",
            "style": "IPY_MODEL_8c369457190e4abda2dba3e007caf521",
            "value": " 5018/0 [00:00&lt;00:00, 9467.67 examples/s]"
          }
        },
        "1ecde2f9b0874a57a6dba148b48af04b": {
          "model_module": "@jupyter-widgets/base",
          "model_name": "LayoutModel",
          "model_module_version": "1.2.0",
          "state": {
            "_model_module": "@jupyter-widgets/base",
            "_model_module_version": "1.2.0",
            "_model_name": "LayoutModel",
            "_view_count": null,
            "_view_module": "@jupyter-widgets/base",
            "_view_module_version": "1.2.0",
            "_view_name": "LayoutView",
            "align_content": null,
            "align_items": null,
            "align_self": null,
            "border": null,
            "bottom": null,
            "display": null,
            "flex": null,
            "flex_flow": null,
            "grid_area": null,
            "grid_auto_columns": null,
            "grid_auto_flow": null,
            "grid_auto_rows": null,
            "grid_column": null,
            "grid_gap": null,
            "grid_row": null,
            "grid_template_areas": null,
            "grid_template_columns": null,
            "grid_template_rows": null,
            "height": null,
            "justify_content": null,
            "justify_items": null,
            "left": null,
            "margin": null,
            "max_height": null,
            "max_width": null,
            "min_height": null,
            "min_width": null,
            "object_fit": null,
            "object_position": null,
            "order": null,
            "overflow": null,
            "overflow_x": null,
            "overflow_y": null,
            "padding": null,
            "right": null,
            "top": null,
            "visibility": null,
            "width": null
          }
        },
        "da821bd1b02247708f06c52679bc6de7": {
          "model_module": "@jupyter-widgets/base",
          "model_name": "LayoutModel",
          "model_module_version": "1.2.0",
          "state": {
            "_model_module": "@jupyter-widgets/base",
            "_model_module_version": "1.2.0",
            "_model_name": "LayoutModel",
            "_view_count": null,
            "_view_module": "@jupyter-widgets/base",
            "_view_module_version": "1.2.0",
            "_view_name": "LayoutView",
            "align_content": null,
            "align_items": null,
            "align_self": null,
            "border": null,
            "bottom": null,
            "display": null,
            "flex": null,
            "flex_flow": null,
            "grid_area": null,
            "grid_auto_columns": null,
            "grid_auto_flow": null,
            "grid_auto_rows": null,
            "grid_column": null,
            "grid_gap": null,
            "grid_row": null,
            "grid_template_areas": null,
            "grid_template_columns": null,
            "grid_template_rows": null,
            "height": null,
            "justify_content": null,
            "justify_items": null,
            "left": null,
            "margin": null,
            "max_height": null,
            "max_width": null,
            "min_height": null,
            "min_width": null,
            "object_fit": null,
            "object_position": null,
            "order": null,
            "overflow": null,
            "overflow_x": null,
            "overflow_y": null,
            "padding": null,
            "right": null,
            "top": null,
            "visibility": null,
            "width": null
          }
        },
        "fc67c9c0102040c08b511a72ae6f743e": {
          "model_module": "@jupyter-widgets/controls",
          "model_name": "DescriptionStyleModel",
          "model_module_version": "1.5.0",
          "state": {
            "_model_module": "@jupyter-widgets/controls",
            "_model_module_version": "1.5.0",
            "_model_name": "DescriptionStyleModel",
            "_view_count": null,
            "_view_module": "@jupyter-widgets/base",
            "_view_module_version": "1.2.0",
            "_view_name": "StyleView",
            "description_width": ""
          }
        },
        "f89cb7ed997c4f50b266f70aeb13b046": {
          "model_module": "@jupyter-widgets/base",
          "model_name": "LayoutModel",
          "model_module_version": "1.2.0",
          "state": {
            "_model_module": "@jupyter-widgets/base",
            "_model_module_version": "1.2.0",
            "_model_name": "LayoutModel",
            "_view_count": null,
            "_view_module": "@jupyter-widgets/base",
            "_view_module_version": "1.2.0",
            "_view_name": "LayoutView",
            "align_content": null,
            "align_items": null,
            "align_self": null,
            "border": null,
            "bottom": null,
            "display": null,
            "flex": null,
            "flex_flow": null,
            "grid_area": null,
            "grid_auto_columns": null,
            "grid_auto_flow": null,
            "grid_auto_rows": null,
            "grid_column": null,
            "grid_gap": null,
            "grid_row": null,
            "grid_template_areas": null,
            "grid_template_columns": null,
            "grid_template_rows": null,
            "height": null,
            "justify_content": null,
            "justify_items": null,
            "left": null,
            "margin": null,
            "max_height": null,
            "max_width": null,
            "min_height": null,
            "min_width": null,
            "object_fit": null,
            "object_position": null,
            "order": null,
            "overflow": null,
            "overflow_x": null,
            "overflow_y": null,
            "padding": null,
            "right": null,
            "top": null,
            "visibility": null,
            "width": "20px"
          }
        },
        "3341fd6488b246c1bc04e490b0c99868": {
          "model_module": "@jupyter-widgets/controls",
          "model_name": "ProgressStyleModel",
          "model_module_version": "1.5.0",
          "state": {
            "_model_module": "@jupyter-widgets/controls",
            "_model_module_version": "1.5.0",
            "_model_name": "ProgressStyleModel",
            "_view_count": null,
            "_view_module": "@jupyter-widgets/base",
            "_view_module_version": "1.2.0",
            "_view_name": "StyleView",
            "bar_color": null,
            "description_width": ""
          }
        },
        "2845c6ca72e54caa803d73f2576febd5": {
          "model_module": "@jupyter-widgets/base",
          "model_name": "LayoutModel",
          "model_module_version": "1.2.0",
          "state": {
            "_model_module": "@jupyter-widgets/base",
            "_model_module_version": "1.2.0",
            "_model_name": "LayoutModel",
            "_view_count": null,
            "_view_module": "@jupyter-widgets/base",
            "_view_module_version": "1.2.0",
            "_view_name": "LayoutView",
            "align_content": null,
            "align_items": null,
            "align_self": null,
            "border": null,
            "bottom": null,
            "display": null,
            "flex": null,
            "flex_flow": null,
            "grid_area": null,
            "grid_auto_columns": null,
            "grid_auto_flow": null,
            "grid_auto_rows": null,
            "grid_column": null,
            "grid_gap": null,
            "grid_row": null,
            "grid_template_areas": null,
            "grid_template_columns": null,
            "grid_template_rows": null,
            "height": null,
            "justify_content": null,
            "justify_items": null,
            "left": null,
            "margin": null,
            "max_height": null,
            "max_width": null,
            "min_height": null,
            "min_width": null,
            "object_fit": null,
            "object_position": null,
            "order": null,
            "overflow": null,
            "overflow_x": null,
            "overflow_y": null,
            "padding": null,
            "right": null,
            "top": null,
            "visibility": null,
            "width": null
          }
        },
        "8c369457190e4abda2dba3e007caf521": {
          "model_module": "@jupyter-widgets/controls",
          "model_name": "DescriptionStyleModel",
          "model_module_version": "1.5.0",
          "state": {
            "_model_module": "@jupyter-widgets/controls",
            "_model_module_version": "1.5.0",
            "_model_name": "DescriptionStyleModel",
            "_view_count": null,
            "_view_module": "@jupyter-widgets/base",
            "_view_module_version": "1.2.0",
            "_view_name": "StyleView",
            "description_width": ""
          }
        },
        "1091b7ec5cf54a4b8629f3b95542fbe1": {
          "model_module": "@jupyter-widgets/controls",
          "model_name": "HBoxModel",
          "model_module_version": "1.5.0",
          "state": {
            "_dom_classes": [],
            "_model_module": "@jupyter-widgets/controls",
            "_model_module_version": "1.5.0",
            "_model_name": "HBoxModel",
            "_view_count": null,
            "_view_module": "@jupyter-widgets/controls",
            "_view_module_version": "1.5.0",
            "_view_name": "HBoxView",
            "box_style": "",
            "children": [
              "IPY_MODEL_14ce22809bca4218baccfc7770cad985",
              "IPY_MODEL_45e90046c23a4c85a58f71bf58b42968",
              "IPY_MODEL_434939fc2d8e4fadaccc83ed51889541"
            ],
            "layout": "IPY_MODEL_f5516e2a5bca47e48484058f70c59bb2"
          }
        },
        "14ce22809bca4218baccfc7770cad985": {
          "model_module": "@jupyter-widgets/controls",
          "model_name": "HTMLModel",
          "model_module_version": "1.5.0",
          "state": {
            "_dom_classes": [],
            "_model_module": "@jupyter-widgets/controls",
            "_model_module_version": "1.5.0",
            "_model_name": "HTMLModel",
            "_view_count": null,
            "_view_module": "@jupyter-widgets/controls",
            "_view_module_version": "1.5.0",
            "_view_name": "HTMLView",
            "description": "",
            "description_tooltip": null,
            "layout": "IPY_MODEL_31bd37e909404a4b8158aefcebfc1084",
            "placeholder": "​",
            "style": "IPY_MODEL_502e8c1df55e47b684a6f84e09655497",
            "value": "config.json: 100%"
          }
        },
        "45e90046c23a4c85a58f71bf58b42968": {
          "model_module": "@jupyter-widgets/controls",
          "model_name": "FloatProgressModel",
          "model_module_version": "1.5.0",
          "state": {
            "_dom_classes": [],
            "_model_module": "@jupyter-widgets/controls",
            "_model_module_version": "1.5.0",
            "_model_name": "FloatProgressModel",
            "_view_count": null,
            "_view_module": "@jupyter-widgets/controls",
            "_view_module_version": "1.5.0",
            "_view_name": "ProgressView",
            "bar_style": "success",
            "description": "",
            "description_tooltip": null,
            "layout": "IPY_MODEL_5a69b3ff3548463e80aa1364cd7507b1",
            "max": 665,
            "min": 0,
            "orientation": "horizontal",
            "style": "IPY_MODEL_80f5fc7165014c1088bd9436f8e736cb",
            "value": 665
          }
        },
        "434939fc2d8e4fadaccc83ed51889541": {
          "model_module": "@jupyter-widgets/controls",
          "model_name": "HTMLModel",
          "model_module_version": "1.5.0",
          "state": {
            "_dom_classes": [],
            "_model_module": "@jupyter-widgets/controls",
            "_model_module_version": "1.5.0",
            "_model_name": "HTMLModel",
            "_view_count": null,
            "_view_module": "@jupyter-widgets/controls",
            "_view_module_version": "1.5.0",
            "_view_name": "HTMLView",
            "description": "",
            "description_tooltip": null,
            "layout": "IPY_MODEL_07c83378f6ed4e7392f3c0bbc4325e90",
            "placeholder": "​",
            "style": "IPY_MODEL_d28a72416ac54347a2c00e2031220209",
            "value": " 665/665 [00:00&lt;00:00, 23.3kB/s]"
          }
        },
        "f5516e2a5bca47e48484058f70c59bb2": {
          "model_module": "@jupyter-widgets/base",
          "model_name": "LayoutModel",
          "model_module_version": "1.2.0",
          "state": {
            "_model_module": "@jupyter-widgets/base",
            "_model_module_version": "1.2.0",
            "_model_name": "LayoutModel",
            "_view_count": null,
            "_view_module": "@jupyter-widgets/base",
            "_view_module_version": "1.2.0",
            "_view_name": "LayoutView",
            "align_content": null,
            "align_items": null,
            "align_self": null,
            "border": null,
            "bottom": null,
            "display": null,
            "flex": null,
            "flex_flow": null,
            "grid_area": null,
            "grid_auto_columns": null,
            "grid_auto_flow": null,
            "grid_auto_rows": null,
            "grid_column": null,
            "grid_gap": null,
            "grid_row": null,
            "grid_template_areas": null,
            "grid_template_columns": null,
            "grid_template_rows": null,
            "height": null,
            "justify_content": null,
            "justify_items": null,
            "left": null,
            "margin": null,
            "max_height": null,
            "max_width": null,
            "min_height": null,
            "min_width": null,
            "object_fit": null,
            "object_position": null,
            "order": null,
            "overflow": null,
            "overflow_x": null,
            "overflow_y": null,
            "padding": null,
            "right": null,
            "top": null,
            "visibility": null,
            "width": null
          }
        },
        "31bd37e909404a4b8158aefcebfc1084": {
          "model_module": "@jupyter-widgets/base",
          "model_name": "LayoutModel",
          "model_module_version": "1.2.0",
          "state": {
            "_model_module": "@jupyter-widgets/base",
            "_model_module_version": "1.2.0",
            "_model_name": "LayoutModel",
            "_view_count": null,
            "_view_module": "@jupyter-widgets/base",
            "_view_module_version": "1.2.0",
            "_view_name": "LayoutView",
            "align_content": null,
            "align_items": null,
            "align_self": null,
            "border": null,
            "bottom": null,
            "display": null,
            "flex": null,
            "flex_flow": null,
            "grid_area": null,
            "grid_auto_columns": null,
            "grid_auto_flow": null,
            "grid_auto_rows": null,
            "grid_column": null,
            "grid_gap": null,
            "grid_row": null,
            "grid_template_areas": null,
            "grid_template_columns": null,
            "grid_template_rows": null,
            "height": null,
            "justify_content": null,
            "justify_items": null,
            "left": null,
            "margin": null,
            "max_height": null,
            "max_width": null,
            "min_height": null,
            "min_width": null,
            "object_fit": null,
            "object_position": null,
            "order": null,
            "overflow": null,
            "overflow_x": null,
            "overflow_y": null,
            "padding": null,
            "right": null,
            "top": null,
            "visibility": null,
            "width": null
          }
        },
        "502e8c1df55e47b684a6f84e09655497": {
          "model_module": "@jupyter-widgets/controls",
          "model_name": "DescriptionStyleModel",
          "model_module_version": "1.5.0",
          "state": {
            "_model_module": "@jupyter-widgets/controls",
            "_model_module_version": "1.5.0",
            "_model_name": "DescriptionStyleModel",
            "_view_count": null,
            "_view_module": "@jupyter-widgets/base",
            "_view_module_version": "1.2.0",
            "_view_name": "StyleView",
            "description_width": ""
          }
        },
        "5a69b3ff3548463e80aa1364cd7507b1": {
          "model_module": "@jupyter-widgets/base",
          "model_name": "LayoutModel",
          "model_module_version": "1.2.0",
          "state": {
            "_model_module": "@jupyter-widgets/base",
            "_model_module_version": "1.2.0",
            "_model_name": "LayoutModel",
            "_view_count": null,
            "_view_module": "@jupyter-widgets/base",
            "_view_module_version": "1.2.0",
            "_view_name": "LayoutView",
            "align_content": null,
            "align_items": null,
            "align_self": null,
            "border": null,
            "bottom": null,
            "display": null,
            "flex": null,
            "flex_flow": null,
            "grid_area": null,
            "grid_auto_columns": null,
            "grid_auto_flow": null,
            "grid_auto_rows": null,
            "grid_column": null,
            "grid_gap": null,
            "grid_row": null,
            "grid_template_areas": null,
            "grid_template_columns": null,
            "grid_template_rows": null,
            "height": null,
            "justify_content": null,
            "justify_items": null,
            "left": null,
            "margin": null,
            "max_height": null,
            "max_width": null,
            "min_height": null,
            "min_width": null,
            "object_fit": null,
            "object_position": null,
            "order": null,
            "overflow": null,
            "overflow_x": null,
            "overflow_y": null,
            "padding": null,
            "right": null,
            "top": null,
            "visibility": null,
            "width": null
          }
        },
        "80f5fc7165014c1088bd9436f8e736cb": {
          "model_module": "@jupyter-widgets/controls",
          "model_name": "ProgressStyleModel",
          "model_module_version": "1.5.0",
          "state": {
            "_model_module": "@jupyter-widgets/controls",
            "_model_module_version": "1.5.0",
            "_model_name": "ProgressStyleModel",
            "_view_count": null,
            "_view_module": "@jupyter-widgets/base",
            "_view_module_version": "1.2.0",
            "_view_name": "StyleView",
            "bar_color": null,
            "description_width": ""
          }
        },
        "07c83378f6ed4e7392f3c0bbc4325e90": {
          "model_module": "@jupyter-widgets/base",
          "model_name": "LayoutModel",
          "model_module_version": "1.2.0",
          "state": {
            "_model_module": "@jupyter-widgets/base",
            "_model_module_version": "1.2.0",
            "_model_name": "LayoutModel",
            "_view_count": null,
            "_view_module": "@jupyter-widgets/base",
            "_view_module_version": "1.2.0",
            "_view_name": "LayoutView",
            "align_content": null,
            "align_items": null,
            "align_self": null,
            "border": null,
            "bottom": null,
            "display": null,
            "flex": null,
            "flex_flow": null,
            "grid_area": null,
            "grid_auto_columns": null,
            "grid_auto_flow": null,
            "grid_auto_rows": null,
            "grid_column": null,
            "grid_gap": null,
            "grid_row": null,
            "grid_template_areas": null,
            "grid_template_columns": null,
            "grid_template_rows": null,
            "height": null,
            "justify_content": null,
            "justify_items": null,
            "left": null,
            "margin": null,
            "max_height": null,
            "max_width": null,
            "min_height": null,
            "min_width": null,
            "object_fit": null,
            "object_position": null,
            "order": null,
            "overflow": null,
            "overflow_x": null,
            "overflow_y": null,
            "padding": null,
            "right": null,
            "top": null,
            "visibility": null,
            "width": null
          }
        },
        "d28a72416ac54347a2c00e2031220209": {
          "model_module": "@jupyter-widgets/controls",
          "model_name": "DescriptionStyleModel",
          "model_module_version": "1.5.0",
          "state": {
            "_model_module": "@jupyter-widgets/controls",
            "_model_module_version": "1.5.0",
            "_model_name": "DescriptionStyleModel",
            "_view_count": null,
            "_view_module": "@jupyter-widgets/base",
            "_view_module_version": "1.2.0",
            "_view_name": "StyleView",
            "description_width": ""
          }
        },
        "8a8c53dbee0d421d985c4027547ce686": {
          "model_module": "@jupyter-widgets/controls",
          "model_name": "HBoxModel",
          "model_module_version": "1.5.0",
          "state": {
            "_dom_classes": [],
            "_model_module": "@jupyter-widgets/controls",
            "_model_module_version": "1.5.0",
            "_model_name": "HBoxModel",
            "_view_count": null,
            "_view_module": "@jupyter-widgets/controls",
            "_view_module_version": "1.5.0",
            "_view_name": "HBoxView",
            "box_style": "",
            "children": [
              "IPY_MODEL_03f2a4e37c0a4ad0bb4b5ea9c630a20e",
              "IPY_MODEL_145e483e48b841e2b9c90655f0690142",
              "IPY_MODEL_e2582a44aabe43b5ab17891d947f4651"
            ],
            "layout": "IPY_MODEL_c504e865e84f4e4f857e60d8aaadb4bd"
          }
        },
        "03f2a4e37c0a4ad0bb4b5ea9c630a20e": {
          "model_module": "@jupyter-widgets/controls",
          "model_name": "HTMLModel",
          "model_module_version": "1.5.0",
          "state": {
            "_dom_classes": [],
            "_model_module": "@jupyter-widgets/controls",
            "_model_module_version": "1.5.0",
            "_model_name": "HTMLModel",
            "_view_count": null,
            "_view_module": "@jupyter-widgets/controls",
            "_view_module_version": "1.5.0",
            "_view_name": "HTMLView",
            "description": "",
            "description_tooltip": null,
            "layout": "IPY_MODEL_9c86ad33c02d404e8c97b046e3ef1b5c",
            "placeholder": "​",
            "style": "IPY_MODEL_9547642d2f23415081891861fcb355a3",
            "value": "vocab.json: 100%"
          }
        },
        "145e483e48b841e2b9c90655f0690142": {
          "model_module": "@jupyter-widgets/controls",
          "model_name": "FloatProgressModel",
          "model_module_version": "1.5.0",
          "state": {
            "_dom_classes": [],
            "_model_module": "@jupyter-widgets/controls",
            "_model_module_version": "1.5.0",
            "_model_name": "FloatProgressModel",
            "_view_count": null,
            "_view_module": "@jupyter-widgets/controls",
            "_view_module_version": "1.5.0",
            "_view_name": "ProgressView",
            "bar_style": "success",
            "description": "",
            "description_tooltip": null,
            "layout": "IPY_MODEL_a5a6e778169d479caa8839f1ccd66640",
            "max": 1042301,
            "min": 0,
            "orientation": "horizontal",
            "style": "IPY_MODEL_a33c7cb401b84a3fadb037a3b09edc80",
            "value": 1042301
          }
        },
        "e2582a44aabe43b5ab17891d947f4651": {
          "model_module": "@jupyter-widgets/controls",
          "model_name": "HTMLModel",
          "model_module_version": "1.5.0",
          "state": {
            "_dom_classes": [],
            "_model_module": "@jupyter-widgets/controls",
            "_model_module_version": "1.5.0",
            "_model_name": "HTMLModel",
            "_view_count": null,
            "_view_module": "@jupyter-widgets/controls",
            "_view_module_version": "1.5.0",
            "_view_name": "HTMLView",
            "description": "",
            "description_tooltip": null,
            "layout": "IPY_MODEL_5d41ed16c41a4cf0b1cf982518de742c",
            "placeholder": "​",
            "style": "IPY_MODEL_f6fbe628b0b4470c845691c69aa9fe8f",
            "value": " 1.04M/1.04M [00:00&lt;00:00, 11.7MB/s]"
          }
        },
        "c504e865e84f4e4f857e60d8aaadb4bd": {
          "model_module": "@jupyter-widgets/base",
          "model_name": "LayoutModel",
          "model_module_version": "1.2.0",
          "state": {
            "_model_module": "@jupyter-widgets/base",
            "_model_module_version": "1.2.0",
            "_model_name": "LayoutModel",
            "_view_count": null,
            "_view_module": "@jupyter-widgets/base",
            "_view_module_version": "1.2.0",
            "_view_name": "LayoutView",
            "align_content": null,
            "align_items": null,
            "align_self": null,
            "border": null,
            "bottom": null,
            "display": null,
            "flex": null,
            "flex_flow": null,
            "grid_area": null,
            "grid_auto_columns": null,
            "grid_auto_flow": null,
            "grid_auto_rows": null,
            "grid_column": null,
            "grid_gap": null,
            "grid_row": null,
            "grid_template_areas": null,
            "grid_template_columns": null,
            "grid_template_rows": null,
            "height": null,
            "justify_content": null,
            "justify_items": null,
            "left": null,
            "margin": null,
            "max_height": null,
            "max_width": null,
            "min_height": null,
            "min_width": null,
            "object_fit": null,
            "object_position": null,
            "order": null,
            "overflow": null,
            "overflow_x": null,
            "overflow_y": null,
            "padding": null,
            "right": null,
            "top": null,
            "visibility": null,
            "width": null
          }
        },
        "9c86ad33c02d404e8c97b046e3ef1b5c": {
          "model_module": "@jupyter-widgets/base",
          "model_name": "LayoutModel",
          "model_module_version": "1.2.0",
          "state": {
            "_model_module": "@jupyter-widgets/base",
            "_model_module_version": "1.2.0",
            "_model_name": "LayoutModel",
            "_view_count": null,
            "_view_module": "@jupyter-widgets/base",
            "_view_module_version": "1.2.0",
            "_view_name": "LayoutView",
            "align_content": null,
            "align_items": null,
            "align_self": null,
            "border": null,
            "bottom": null,
            "display": null,
            "flex": null,
            "flex_flow": null,
            "grid_area": null,
            "grid_auto_columns": null,
            "grid_auto_flow": null,
            "grid_auto_rows": null,
            "grid_column": null,
            "grid_gap": null,
            "grid_row": null,
            "grid_template_areas": null,
            "grid_template_columns": null,
            "grid_template_rows": null,
            "height": null,
            "justify_content": null,
            "justify_items": null,
            "left": null,
            "margin": null,
            "max_height": null,
            "max_width": null,
            "min_height": null,
            "min_width": null,
            "object_fit": null,
            "object_position": null,
            "order": null,
            "overflow": null,
            "overflow_x": null,
            "overflow_y": null,
            "padding": null,
            "right": null,
            "top": null,
            "visibility": null,
            "width": null
          }
        },
        "9547642d2f23415081891861fcb355a3": {
          "model_module": "@jupyter-widgets/controls",
          "model_name": "DescriptionStyleModel",
          "model_module_version": "1.5.0",
          "state": {
            "_model_module": "@jupyter-widgets/controls",
            "_model_module_version": "1.5.0",
            "_model_name": "DescriptionStyleModel",
            "_view_count": null,
            "_view_module": "@jupyter-widgets/base",
            "_view_module_version": "1.2.0",
            "_view_name": "StyleView",
            "description_width": ""
          }
        },
        "a5a6e778169d479caa8839f1ccd66640": {
          "model_module": "@jupyter-widgets/base",
          "model_name": "LayoutModel",
          "model_module_version": "1.2.0",
          "state": {
            "_model_module": "@jupyter-widgets/base",
            "_model_module_version": "1.2.0",
            "_model_name": "LayoutModel",
            "_view_count": null,
            "_view_module": "@jupyter-widgets/base",
            "_view_module_version": "1.2.0",
            "_view_name": "LayoutView",
            "align_content": null,
            "align_items": null,
            "align_self": null,
            "border": null,
            "bottom": null,
            "display": null,
            "flex": null,
            "flex_flow": null,
            "grid_area": null,
            "grid_auto_columns": null,
            "grid_auto_flow": null,
            "grid_auto_rows": null,
            "grid_column": null,
            "grid_gap": null,
            "grid_row": null,
            "grid_template_areas": null,
            "grid_template_columns": null,
            "grid_template_rows": null,
            "height": null,
            "justify_content": null,
            "justify_items": null,
            "left": null,
            "margin": null,
            "max_height": null,
            "max_width": null,
            "min_height": null,
            "min_width": null,
            "object_fit": null,
            "object_position": null,
            "order": null,
            "overflow": null,
            "overflow_x": null,
            "overflow_y": null,
            "padding": null,
            "right": null,
            "top": null,
            "visibility": null,
            "width": null
          }
        },
        "a33c7cb401b84a3fadb037a3b09edc80": {
          "model_module": "@jupyter-widgets/controls",
          "model_name": "ProgressStyleModel",
          "model_module_version": "1.5.0",
          "state": {
            "_model_module": "@jupyter-widgets/controls",
            "_model_module_version": "1.5.0",
            "_model_name": "ProgressStyleModel",
            "_view_count": null,
            "_view_module": "@jupyter-widgets/base",
            "_view_module_version": "1.2.0",
            "_view_name": "StyleView",
            "bar_color": null,
            "description_width": ""
          }
        },
        "5d41ed16c41a4cf0b1cf982518de742c": {
          "model_module": "@jupyter-widgets/base",
          "model_name": "LayoutModel",
          "model_module_version": "1.2.0",
          "state": {
            "_model_module": "@jupyter-widgets/base",
            "_model_module_version": "1.2.0",
            "_model_name": "LayoutModel",
            "_view_count": null,
            "_view_module": "@jupyter-widgets/base",
            "_view_module_version": "1.2.0",
            "_view_name": "LayoutView",
            "align_content": null,
            "align_items": null,
            "align_self": null,
            "border": null,
            "bottom": null,
            "display": null,
            "flex": null,
            "flex_flow": null,
            "grid_area": null,
            "grid_auto_columns": null,
            "grid_auto_flow": null,
            "grid_auto_rows": null,
            "grid_column": null,
            "grid_gap": null,
            "grid_row": null,
            "grid_template_areas": null,
            "grid_template_columns": null,
            "grid_template_rows": null,
            "height": null,
            "justify_content": null,
            "justify_items": null,
            "left": null,
            "margin": null,
            "max_height": null,
            "max_width": null,
            "min_height": null,
            "min_width": null,
            "object_fit": null,
            "object_position": null,
            "order": null,
            "overflow": null,
            "overflow_x": null,
            "overflow_y": null,
            "padding": null,
            "right": null,
            "top": null,
            "visibility": null,
            "width": null
          }
        },
        "f6fbe628b0b4470c845691c69aa9fe8f": {
          "model_module": "@jupyter-widgets/controls",
          "model_name": "DescriptionStyleModel",
          "model_module_version": "1.5.0",
          "state": {
            "_model_module": "@jupyter-widgets/controls",
            "_model_module_version": "1.5.0",
            "_model_name": "DescriptionStyleModel",
            "_view_count": null,
            "_view_module": "@jupyter-widgets/base",
            "_view_module_version": "1.2.0",
            "_view_name": "StyleView",
            "description_width": ""
          }
        },
        "1ddf62271e924ab49b00b5356d20701c": {
          "model_module": "@jupyter-widgets/controls",
          "model_name": "HBoxModel",
          "model_module_version": "1.5.0",
          "state": {
            "_dom_classes": [],
            "_model_module": "@jupyter-widgets/controls",
            "_model_module_version": "1.5.0",
            "_model_name": "HBoxModel",
            "_view_count": null,
            "_view_module": "@jupyter-widgets/controls",
            "_view_module_version": "1.5.0",
            "_view_name": "HBoxView",
            "box_style": "",
            "children": [
              "IPY_MODEL_cb4079a45a7a49279092bb002ee775ec",
              "IPY_MODEL_f89bcc19d75f4f96b605dfd7a3932a3c",
              "IPY_MODEL_35231167563f4084a13077f68536b5a6"
            ],
            "layout": "IPY_MODEL_3e3f3f7b6a274c4a92930faea9f5110b"
          }
        },
        "cb4079a45a7a49279092bb002ee775ec": {
          "model_module": "@jupyter-widgets/controls",
          "model_name": "HTMLModel",
          "model_module_version": "1.5.0",
          "state": {
            "_dom_classes": [],
            "_model_module": "@jupyter-widgets/controls",
            "_model_module_version": "1.5.0",
            "_model_name": "HTMLModel",
            "_view_count": null,
            "_view_module": "@jupyter-widgets/controls",
            "_view_module_version": "1.5.0",
            "_view_name": "HTMLView",
            "description": "",
            "description_tooltip": null,
            "layout": "IPY_MODEL_2f657169f6cc4a6eadd5eafabc43b2ad",
            "placeholder": "​",
            "style": "IPY_MODEL_0b7c89bbd289439b9c56cd454beea0f0",
            "value": "merges.txt: 100%"
          }
        },
        "f89bcc19d75f4f96b605dfd7a3932a3c": {
          "model_module": "@jupyter-widgets/controls",
          "model_name": "FloatProgressModel",
          "model_module_version": "1.5.0",
          "state": {
            "_dom_classes": [],
            "_model_module": "@jupyter-widgets/controls",
            "_model_module_version": "1.5.0",
            "_model_name": "FloatProgressModel",
            "_view_count": null,
            "_view_module": "@jupyter-widgets/controls",
            "_view_module_version": "1.5.0",
            "_view_name": "ProgressView",
            "bar_style": "success",
            "description": "",
            "description_tooltip": null,
            "layout": "IPY_MODEL_3dd45cbc2b8645128d084e6de498b413",
            "max": 456318,
            "min": 0,
            "orientation": "horizontal",
            "style": "IPY_MODEL_279049dfb7324e569bf7c2615eb0f4f2",
            "value": 456318
          }
        },
        "35231167563f4084a13077f68536b5a6": {
          "model_module": "@jupyter-widgets/controls",
          "model_name": "HTMLModel",
          "model_module_version": "1.5.0",
          "state": {
            "_dom_classes": [],
            "_model_module": "@jupyter-widgets/controls",
            "_model_module_version": "1.5.0",
            "_model_name": "HTMLModel",
            "_view_count": null,
            "_view_module": "@jupyter-widgets/controls",
            "_view_module_version": "1.5.0",
            "_view_name": "HTMLView",
            "description": "",
            "description_tooltip": null,
            "layout": "IPY_MODEL_5dfac4f5e7564bfc94fd5050f2512e27",
            "placeholder": "​",
            "style": "IPY_MODEL_b193d071717f4376ab12f8b15c4d4449",
            "value": " 456k/456k [00:00&lt;00:00, 11.5MB/s]"
          }
        },
        "3e3f3f7b6a274c4a92930faea9f5110b": {
          "model_module": "@jupyter-widgets/base",
          "model_name": "LayoutModel",
          "model_module_version": "1.2.0",
          "state": {
            "_model_module": "@jupyter-widgets/base",
            "_model_module_version": "1.2.0",
            "_model_name": "LayoutModel",
            "_view_count": null,
            "_view_module": "@jupyter-widgets/base",
            "_view_module_version": "1.2.0",
            "_view_name": "LayoutView",
            "align_content": null,
            "align_items": null,
            "align_self": null,
            "border": null,
            "bottom": null,
            "display": null,
            "flex": null,
            "flex_flow": null,
            "grid_area": null,
            "grid_auto_columns": null,
            "grid_auto_flow": null,
            "grid_auto_rows": null,
            "grid_column": null,
            "grid_gap": null,
            "grid_row": null,
            "grid_template_areas": null,
            "grid_template_columns": null,
            "grid_template_rows": null,
            "height": null,
            "justify_content": null,
            "justify_items": null,
            "left": null,
            "margin": null,
            "max_height": null,
            "max_width": null,
            "min_height": null,
            "min_width": null,
            "object_fit": null,
            "object_position": null,
            "order": null,
            "overflow": null,
            "overflow_x": null,
            "overflow_y": null,
            "padding": null,
            "right": null,
            "top": null,
            "visibility": null,
            "width": null
          }
        },
        "2f657169f6cc4a6eadd5eafabc43b2ad": {
          "model_module": "@jupyter-widgets/base",
          "model_name": "LayoutModel",
          "model_module_version": "1.2.0",
          "state": {
            "_model_module": "@jupyter-widgets/base",
            "_model_module_version": "1.2.0",
            "_model_name": "LayoutModel",
            "_view_count": null,
            "_view_module": "@jupyter-widgets/base",
            "_view_module_version": "1.2.0",
            "_view_name": "LayoutView",
            "align_content": null,
            "align_items": null,
            "align_self": null,
            "border": null,
            "bottom": null,
            "display": null,
            "flex": null,
            "flex_flow": null,
            "grid_area": null,
            "grid_auto_columns": null,
            "grid_auto_flow": null,
            "grid_auto_rows": null,
            "grid_column": null,
            "grid_gap": null,
            "grid_row": null,
            "grid_template_areas": null,
            "grid_template_columns": null,
            "grid_template_rows": null,
            "height": null,
            "justify_content": null,
            "justify_items": null,
            "left": null,
            "margin": null,
            "max_height": null,
            "max_width": null,
            "min_height": null,
            "min_width": null,
            "object_fit": null,
            "object_position": null,
            "order": null,
            "overflow": null,
            "overflow_x": null,
            "overflow_y": null,
            "padding": null,
            "right": null,
            "top": null,
            "visibility": null,
            "width": null
          }
        },
        "0b7c89bbd289439b9c56cd454beea0f0": {
          "model_module": "@jupyter-widgets/controls",
          "model_name": "DescriptionStyleModel",
          "model_module_version": "1.5.0",
          "state": {
            "_model_module": "@jupyter-widgets/controls",
            "_model_module_version": "1.5.0",
            "_model_name": "DescriptionStyleModel",
            "_view_count": null,
            "_view_module": "@jupyter-widgets/base",
            "_view_module_version": "1.2.0",
            "_view_name": "StyleView",
            "description_width": ""
          }
        },
        "3dd45cbc2b8645128d084e6de498b413": {
          "model_module": "@jupyter-widgets/base",
          "model_name": "LayoutModel",
          "model_module_version": "1.2.0",
          "state": {
            "_model_module": "@jupyter-widgets/base",
            "_model_module_version": "1.2.0",
            "_model_name": "LayoutModel",
            "_view_count": null,
            "_view_module": "@jupyter-widgets/base",
            "_view_module_version": "1.2.0",
            "_view_name": "LayoutView",
            "align_content": null,
            "align_items": null,
            "align_self": null,
            "border": null,
            "bottom": null,
            "display": null,
            "flex": null,
            "flex_flow": null,
            "grid_area": null,
            "grid_auto_columns": null,
            "grid_auto_flow": null,
            "grid_auto_rows": null,
            "grid_column": null,
            "grid_gap": null,
            "grid_row": null,
            "grid_template_areas": null,
            "grid_template_columns": null,
            "grid_template_rows": null,
            "height": null,
            "justify_content": null,
            "justify_items": null,
            "left": null,
            "margin": null,
            "max_height": null,
            "max_width": null,
            "min_height": null,
            "min_width": null,
            "object_fit": null,
            "object_position": null,
            "order": null,
            "overflow": null,
            "overflow_x": null,
            "overflow_y": null,
            "padding": null,
            "right": null,
            "top": null,
            "visibility": null,
            "width": null
          }
        },
        "279049dfb7324e569bf7c2615eb0f4f2": {
          "model_module": "@jupyter-widgets/controls",
          "model_name": "ProgressStyleModel",
          "model_module_version": "1.5.0",
          "state": {
            "_model_module": "@jupyter-widgets/controls",
            "_model_module_version": "1.5.0",
            "_model_name": "ProgressStyleModel",
            "_view_count": null,
            "_view_module": "@jupyter-widgets/base",
            "_view_module_version": "1.2.0",
            "_view_name": "StyleView",
            "bar_color": null,
            "description_width": ""
          }
        },
        "5dfac4f5e7564bfc94fd5050f2512e27": {
          "model_module": "@jupyter-widgets/base",
          "model_name": "LayoutModel",
          "model_module_version": "1.2.0",
          "state": {
            "_model_module": "@jupyter-widgets/base",
            "_model_module_version": "1.2.0",
            "_model_name": "LayoutModel",
            "_view_count": null,
            "_view_module": "@jupyter-widgets/base",
            "_view_module_version": "1.2.0",
            "_view_name": "LayoutView",
            "align_content": null,
            "align_items": null,
            "align_self": null,
            "border": null,
            "bottom": null,
            "display": null,
            "flex": null,
            "flex_flow": null,
            "grid_area": null,
            "grid_auto_columns": null,
            "grid_auto_flow": null,
            "grid_auto_rows": null,
            "grid_column": null,
            "grid_gap": null,
            "grid_row": null,
            "grid_template_areas": null,
            "grid_template_columns": null,
            "grid_template_rows": null,
            "height": null,
            "justify_content": null,
            "justify_items": null,
            "left": null,
            "margin": null,
            "max_height": null,
            "max_width": null,
            "min_height": null,
            "min_width": null,
            "object_fit": null,
            "object_position": null,
            "order": null,
            "overflow": null,
            "overflow_x": null,
            "overflow_y": null,
            "padding": null,
            "right": null,
            "top": null,
            "visibility": null,
            "width": null
          }
        },
        "b193d071717f4376ab12f8b15c4d4449": {
          "model_module": "@jupyter-widgets/controls",
          "model_name": "DescriptionStyleModel",
          "model_module_version": "1.5.0",
          "state": {
            "_model_module": "@jupyter-widgets/controls",
            "_model_module_version": "1.5.0",
            "_model_name": "DescriptionStyleModel",
            "_view_count": null,
            "_view_module": "@jupyter-widgets/base",
            "_view_module_version": "1.2.0",
            "_view_name": "StyleView",
            "description_width": ""
          }
        },
        "459cde5a6d044a119789579ba11376f2": {
          "model_module": "@jupyter-widgets/controls",
          "model_name": "HBoxModel",
          "model_module_version": "1.5.0",
          "state": {
            "_dom_classes": [],
            "_model_module": "@jupyter-widgets/controls",
            "_model_module_version": "1.5.0",
            "_model_name": "HBoxModel",
            "_view_count": null,
            "_view_module": "@jupyter-widgets/controls",
            "_view_module_version": "1.5.0",
            "_view_name": "HBoxView",
            "box_style": "",
            "children": [
              "IPY_MODEL_46c4d2233bb7474cbfed9bde31e1240b",
              "IPY_MODEL_e9ae2a2e873c4e49b1855339fa2695bd",
              "IPY_MODEL_b119768b217949a684c4a5d7d1c428cd"
            ],
            "layout": "IPY_MODEL_005cd03fdb2f4b81a7a1e6cff2932171"
          }
        },
        "46c4d2233bb7474cbfed9bde31e1240b": {
          "model_module": "@jupyter-widgets/controls",
          "model_name": "HTMLModel",
          "model_module_version": "1.5.0",
          "state": {
            "_dom_classes": [],
            "_model_module": "@jupyter-widgets/controls",
            "_model_module_version": "1.5.0",
            "_model_name": "HTMLModel",
            "_view_count": null,
            "_view_module": "@jupyter-widgets/controls",
            "_view_module_version": "1.5.0",
            "_view_name": "HTMLView",
            "description": "",
            "description_tooltip": null,
            "layout": "IPY_MODEL_8d22181e504045478fa93ff5e33429bc",
            "placeholder": "​",
            "style": "IPY_MODEL_84c777dea8d7475c8a2eb316eee2d199",
            "value": "tokenizer.json: 100%"
          }
        },
        "e9ae2a2e873c4e49b1855339fa2695bd": {
          "model_module": "@jupyter-widgets/controls",
          "model_name": "FloatProgressModel",
          "model_module_version": "1.5.0",
          "state": {
            "_dom_classes": [],
            "_model_module": "@jupyter-widgets/controls",
            "_model_module_version": "1.5.0",
            "_model_name": "FloatProgressModel",
            "_view_count": null,
            "_view_module": "@jupyter-widgets/controls",
            "_view_module_version": "1.5.0",
            "_view_name": "ProgressView",
            "bar_style": "success",
            "description": "",
            "description_tooltip": null,
            "layout": "IPY_MODEL_e2eda0dc39884146a6ff2345ffb27732",
            "max": 1355256,
            "min": 0,
            "orientation": "horizontal",
            "style": "IPY_MODEL_62842562f9504994a9bfa25d8813fdc4",
            "value": 1355256
          }
        },
        "b119768b217949a684c4a5d7d1c428cd": {
          "model_module": "@jupyter-widgets/controls",
          "model_name": "HTMLModel",
          "model_module_version": "1.5.0",
          "state": {
            "_dom_classes": [],
            "_model_module": "@jupyter-widgets/controls",
            "_model_module_version": "1.5.0",
            "_model_name": "HTMLModel",
            "_view_count": null,
            "_view_module": "@jupyter-widgets/controls",
            "_view_module_version": "1.5.0",
            "_view_name": "HTMLView",
            "description": "",
            "description_tooltip": null,
            "layout": "IPY_MODEL_14e0634d20944645aac16292306c1a4b",
            "placeholder": "​",
            "style": "IPY_MODEL_265fe7632feb4a25ac64c816ba229adc",
            "value": " 1.36M/1.36M [00:00&lt;00:00, 27.4MB/s]"
          }
        },
        "005cd03fdb2f4b81a7a1e6cff2932171": {
          "model_module": "@jupyter-widgets/base",
          "model_name": "LayoutModel",
          "model_module_version": "1.2.0",
          "state": {
            "_model_module": "@jupyter-widgets/base",
            "_model_module_version": "1.2.0",
            "_model_name": "LayoutModel",
            "_view_count": null,
            "_view_module": "@jupyter-widgets/base",
            "_view_module_version": "1.2.0",
            "_view_name": "LayoutView",
            "align_content": null,
            "align_items": null,
            "align_self": null,
            "border": null,
            "bottom": null,
            "display": null,
            "flex": null,
            "flex_flow": null,
            "grid_area": null,
            "grid_auto_columns": null,
            "grid_auto_flow": null,
            "grid_auto_rows": null,
            "grid_column": null,
            "grid_gap": null,
            "grid_row": null,
            "grid_template_areas": null,
            "grid_template_columns": null,
            "grid_template_rows": null,
            "height": null,
            "justify_content": null,
            "justify_items": null,
            "left": null,
            "margin": null,
            "max_height": null,
            "max_width": null,
            "min_height": null,
            "min_width": null,
            "object_fit": null,
            "object_position": null,
            "order": null,
            "overflow": null,
            "overflow_x": null,
            "overflow_y": null,
            "padding": null,
            "right": null,
            "top": null,
            "visibility": null,
            "width": null
          }
        },
        "8d22181e504045478fa93ff5e33429bc": {
          "model_module": "@jupyter-widgets/base",
          "model_name": "LayoutModel",
          "model_module_version": "1.2.0",
          "state": {
            "_model_module": "@jupyter-widgets/base",
            "_model_module_version": "1.2.0",
            "_model_name": "LayoutModel",
            "_view_count": null,
            "_view_module": "@jupyter-widgets/base",
            "_view_module_version": "1.2.0",
            "_view_name": "LayoutView",
            "align_content": null,
            "align_items": null,
            "align_self": null,
            "border": null,
            "bottom": null,
            "display": null,
            "flex": null,
            "flex_flow": null,
            "grid_area": null,
            "grid_auto_columns": null,
            "grid_auto_flow": null,
            "grid_auto_rows": null,
            "grid_column": null,
            "grid_gap": null,
            "grid_row": null,
            "grid_template_areas": null,
            "grid_template_columns": null,
            "grid_template_rows": null,
            "height": null,
            "justify_content": null,
            "justify_items": null,
            "left": null,
            "margin": null,
            "max_height": null,
            "max_width": null,
            "min_height": null,
            "min_width": null,
            "object_fit": null,
            "object_position": null,
            "order": null,
            "overflow": null,
            "overflow_x": null,
            "overflow_y": null,
            "padding": null,
            "right": null,
            "top": null,
            "visibility": null,
            "width": null
          }
        },
        "84c777dea8d7475c8a2eb316eee2d199": {
          "model_module": "@jupyter-widgets/controls",
          "model_name": "DescriptionStyleModel",
          "model_module_version": "1.5.0",
          "state": {
            "_model_module": "@jupyter-widgets/controls",
            "_model_module_version": "1.5.0",
            "_model_name": "DescriptionStyleModel",
            "_view_count": null,
            "_view_module": "@jupyter-widgets/base",
            "_view_module_version": "1.2.0",
            "_view_name": "StyleView",
            "description_width": ""
          }
        },
        "e2eda0dc39884146a6ff2345ffb27732": {
          "model_module": "@jupyter-widgets/base",
          "model_name": "LayoutModel",
          "model_module_version": "1.2.0",
          "state": {
            "_model_module": "@jupyter-widgets/base",
            "_model_module_version": "1.2.0",
            "_model_name": "LayoutModel",
            "_view_count": null,
            "_view_module": "@jupyter-widgets/base",
            "_view_module_version": "1.2.0",
            "_view_name": "LayoutView",
            "align_content": null,
            "align_items": null,
            "align_self": null,
            "border": null,
            "bottom": null,
            "display": null,
            "flex": null,
            "flex_flow": null,
            "grid_area": null,
            "grid_auto_columns": null,
            "grid_auto_flow": null,
            "grid_auto_rows": null,
            "grid_column": null,
            "grid_gap": null,
            "grid_row": null,
            "grid_template_areas": null,
            "grid_template_columns": null,
            "grid_template_rows": null,
            "height": null,
            "justify_content": null,
            "justify_items": null,
            "left": null,
            "margin": null,
            "max_height": null,
            "max_width": null,
            "min_height": null,
            "min_width": null,
            "object_fit": null,
            "object_position": null,
            "order": null,
            "overflow": null,
            "overflow_x": null,
            "overflow_y": null,
            "padding": null,
            "right": null,
            "top": null,
            "visibility": null,
            "width": null
          }
        },
        "62842562f9504994a9bfa25d8813fdc4": {
          "model_module": "@jupyter-widgets/controls",
          "model_name": "ProgressStyleModel",
          "model_module_version": "1.5.0",
          "state": {
            "_model_module": "@jupyter-widgets/controls",
            "_model_module_version": "1.5.0",
            "_model_name": "ProgressStyleModel",
            "_view_count": null,
            "_view_module": "@jupyter-widgets/base",
            "_view_module_version": "1.2.0",
            "_view_name": "StyleView",
            "bar_color": null,
            "description_width": ""
          }
        },
        "14e0634d20944645aac16292306c1a4b": {
          "model_module": "@jupyter-widgets/base",
          "model_name": "LayoutModel",
          "model_module_version": "1.2.0",
          "state": {
            "_model_module": "@jupyter-widgets/base",
            "_model_module_version": "1.2.0",
            "_model_name": "LayoutModel",
            "_view_count": null,
            "_view_module": "@jupyter-widgets/base",
            "_view_module_version": "1.2.0",
            "_view_name": "LayoutView",
            "align_content": null,
            "align_items": null,
            "align_self": null,
            "border": null,
            "bottom": null,
            "display": null,
            "flex": null,
            "flex_flow": null,
            "grid_area": null,
            "grid_auto_columns": null,
            "grid_auto_flow": null,
            "grid_auto_rows": null,
            "grid_column": null,
            "grid_gap": null,
            "grid_row": null,
            "grid_template_areas": null,
            "grid_template_columns": null,
            "grid_template_rows": null,
            "height": null,
            "justify_content": null,
            "justify_items": null,
            "left": null,
            "margin": null,
            "max_height": null,
            "max_width": null,
            "min_height": null,
            "min_width": null,
            "object_fit": null,
            "object_position": null,
            "order": null,
            "overflow": null,
            "overflow_x": null,
            "overflow_y": null,
            "padding": null,
            "right": null,
            "top": null,
            "visibility": null,
            "width": null
          }
        },
        "265fe7632feb4a25ac64c816ba229adc": {
          "model_module": "@jupyter-widgets/controls",
          "model_name": "DescriptionStyleModel",
          "model_module_version": "1.5.0",
          "state": {
            "_model_module": "@jupyter-widgets/controls",
            "_model_module_version": "1.5.0",
            "_model_name": "DescriptionStyleModel",
            "_view_count": null,
            "_view_module": "@jupyter-widgets/base",
            "_view_module_version": "1.2.0",
            "_view_name": "StyleView",
            "description_width": ""
          }
        },
        "f5d58e8620e747dda8e58840c936053a": {
          "model_module": "@jupyter-widgets/controls",
          "model_name": "HBoxModel",
          "model_module_version": "1.5.0",
          "state": {
            "_dom_classes": [],
            "_model_module": "@jupyter-widgets/controls",
            "_model_module_version": "1.5.0",
            "_model_name": "HBoxModel",
            "_view_count": null,
            "_view_module": "@jupyter-widgets/controls",
            "_view_module_version": "1.5.0",
            "_view_name": "HBoxView",
            "box_style": "",
            "children": [
              "IPY_MODEL_eb2ee36c8da3466ca34c26f168969615",
              "IPY_MODEL_ec2657ba6caa4bfdbc39cdb2993f07d6",
              "IPY_MODEL_0f07f6764b8f4715a90a3cd327fc80a4"
            ],
            "layout": "IPY_MODEL_2917cbdce68e4506ab255f1a86e5a1a7"
          }
        },
        "eb2ee36c8da3466ca34c26f168969615": {
          "model_module": "@jupyter-widgets/controls",
          "model_name": "HTMLModel",
          "model_module_version": "1.5.0",
          "state": {
            "_dom_classes": [],
            "_model_module": "@jupyter-widgets/controls",
            "_model_module_version": "1.5.0",
            "_model_name": "HTMLModel",
            "_view_count": null,
            "_view_module": "@jupyter-widgets/controls",
            "_view_module_version": "1.5.0",
            "_view_name": "HTMLView",
            "description": "",
            "description_tooltip": null,
            "layout": "IPY_MODEL_1a7b652a77c148f088b4d70e79cbe1e1",
            "placeholder": "​",
            "style": "IPY_MODEL_78f5a90847234f1da8af885c88f51233",
            "value": "model.safetensors: 100%"
          }
        },
        "ec2657ba6caa4bfdbc39cdb2993f07d6": {
          "model_module": "@jupyter-widgets/controls",
          "model_name": "FloatProgressModel",
          "model_module_version": "1.5.0",
          "state": {
            "_dom_classes": [],
            "_model_module": "@jupyter-widgets/controls",
            "_model_module_version": "1.5.0",
            "_model_name": "FloatProgressModel",
            "_view_count": null,
            "_view_module": "@jupyter-widgets/controls",
            "_view_module_version": "1.5.0",
            "_view_name": "ProgressView",
            "bar_style": "success",
            "description": "",
            "description_tooltip": null,
            "layout": "IPY_MODEL_14920747c09044f587f63df4151f7307",
            "max": 548105171,
            "min": 0,
            "orientation": "horizontal",
            "style": "IPY_MODEL_003b52e140c24aa99e214b5b41a91b1e",
            "value": 548105171
          }
        },
        "0f07f6764b8f4715a90a3cd327fc80a4": {
          "model_module": "@jupyter-widgets/controls",
          "model_name": "HTMLModel",
          "model_module_version": "1.5.0",
          "state": {
            "_dom_classes": [],
            "_model_module": "@jupyter-widgets/controls",
            "_model_module_version": "1.5.0",
            "_model_name": "HTMLModel",
            "_view_count": null,
            "_view_module": "@jupyter-widgets/controls",
            "_view_module_version": "1.5.0",
            "_view_name": "HTMLView",
            "description": "",
            "description_tooltip": null,
            "layout": "IPY_MODEL_f643ed475c6b4c02b7ef44673dd99a29",
            "placeholder": "​",
            "style": "IPY_MODEL_01fd9ed2ac7d4d48ac8232a68c6de15e",
            "value": " 548M/548M [00:05&lt;00:00, 166MB/s]"
          }
        },
        "2917cbdce68e4506ab255f1a86e5a1a7": {
          "model_module": "@jupyter-widgets/base",
          "model_name": "LayoutModel",
          "model_module_version": "1.2.0",
          "state": {
            "_model_module": "@jupyter-widgets/base",
            "_model_module_version": "1.2.0",
            "_model_name": "LayoutModel",
            "_view_count": null,
            "_view_module": "@jupyter-widgets/base",
            "_view_module_version": "1.2.0",
            "_view_name": "LayoutView",
            "align_content": null,
            "align_items": null,
            "align_self": null,
            "border": null,
            "bottom": null,
            "display": null,
            "flex": null,
            "flex_flow": null,
            "grid_area": null,
            "grid_auto_columns": null,
            "grid_auto_flow": null,
            "grid_auto_rows": null,
            "grid_column": null,
            "grid_gap": null,
            "grid_row": null,
            "grid_template_areas": null,
            "grid_template_columns": null,
            "grid_template_rows": null,
            "height": null,
            "justify_content": null,
            "justify_items": null,
            "left": null,
            "margin": null,
            "max_height": null,
            "max_width": null,
            "min_height": null,
            "min_width": null,
            "object_fit": null,
            "object_position": null,
            "order": null,
            "overflow": null,
            "overflow_x": null,
            "overflow_y": null,
            "padding": null,
            "right": null,
            "top": null,
            "visibility": null,
            "width": null
          }
        },
        "1a7b652a77c148f088b4d70e79cbe1e1": {
          "model_module": "@jupyter-widgets/base",
          "model_name": "LayoutModel",
          "model_module_version": "1.2.0",
          "state": {
            "_model_module": "@jupyter-widgets/base",
            "_model_module_version": "1.2.0",
            "_model_name": "LayoutModel",
            "_view_count": null,
            "_view_module": "@jupyter-widgets/base",
            "_view_module_version": "1.2.0",
            "_view_name": "LayoutView",
            "align_content": null,
            "align_items": null,
            "align_self": null,
            "border": null,
            "bottom": null,
            "display": null,
            "flex": null,
            "flex_flow": null,
            "grid_area": null,
            "grid_auto_columns": null,
            "grid_auto_flow": null,
            "grid_auto_rows": null,
            "grid_column": null,
            "grid_gap": null,
            "grid_row": null,
            "grid_template_areas": null,
            "grid_template_columns": null,
            "grid_template_rows": null,
            "height": null,
            "justify_content": null,
            "justify_items": null,
            "left": null,
            "margin": null,
            "max_height": null,
            "max_width": null,
            "min_height": null,
            "min_width": null,
            "object_fit": null,
            "object_position": null,
            "order": null,
            "overflow": null,
            "overflow_x": null,
            "overflow_y": null,
            "padding": null,
            "right": null,
            "top": null,
            "visibility": null,
            "width": null
          }
        },
        "78f5a90847234f1da8af885c88f51233": {
          "model_module": "@jupyter-widgets/controls",
          "model_name": "DescriptionStyleModel",
          "model_module_version": "1.5.0",
          "state": {
            "_model_module": "@jupyter-widgets/controls",
            "_model_module_version": "1.5.0",
            "_model_name": "DescriptionStyleModel",
            "_view_count": null,
            "_view_module": "@jupyter-widgets/base",
            "_view_module_version": "1.2.0",
            "_view_name": "StyleView",
            "description_width": ""
          }
        },
        "14920747c09044f587f63df4151f7307": {
          "model_module": "@jupyter-widgets/base",
          "model_name": "LayoutModel",
          "model_module_version": "1.2.0",
          "state": {
            "_model_module": "@jupyter-widgets/base",
            "_model_module_version": "1.2.0",
            "_model_name": "LayoutModel",
            "_view_count": null,
            "_view_module": "@jupyter-widgets/base",
            "_view_module_version": "1.2.0",
            "_view_name": "LayoutView",
            "align_content": null,
            "align_items": null,
            "align_self": null,
            "border": null,
            "bottom": null,
            "display": null,
            "flex": null,
            "flex_flow": null,
            "grid_area": null,
            "grid_auto_columns": null,
            "grid_auto_flow": null,
            "grid_auto_rows": null,
            "grid_column": null,
            "grid_gap": null,
            "grid_row": null,
            "grid_template_areas": null,
            "grid_template_columns": null,
            "grid_template_rows": null,
            "height": null,
            "justify_content": null,
            "justify_items": null,
            "left": null,
            "margin": null,
            "max_height": null,
            "max_width": null,
            "min_height": null,
            "min_width": null,
            "object_fit": null,
            "object_position": null,
            "order": null,
            "overflow": null,
            "overflow_x": null,
            "overflow_y": null,
            "padding": null,
            "right": null,
            "top": null,
            "visibility": null,
            "width": null
          }
        },
        "003b52e140c24aa99e214b5b41a91b1e": {
          "model_module": "@jupyter-widgets/controls",
          "model_name": "ProgressStyleModel",
          "model_module_version": "1.5.0",
          "state": {
            "_model_module": "@jupyter-widgets/controls",
            "_model_module_version": "1.5.0",
            "_model_name": "ProgressStyleModel",
            "_view_count": null,
            "_view_module": "@jupyter-widgets/base",
            "_view_module_version": "1.2.0",
            "_view_name": "StyleView",
            "bar_color": null,
            "description_width": ""
          }
        },
        "f643ed475c6b4c02b7ef44673dd99a29": {
          "model_module": "@jupyter-widgets/base",
          "model_name": "LayoutModel",
          "model_module_version": "1.2.0",
          "state": {
            "_model_module": "@jupyter-widgets/base",
            "_model_module_version": "1.2.0",
            "_model_name": "LayoutModel",
            "_view_count": null,
            "_view_module": "@jupyter-widgets/base",
            "_view_module_version": "1.2.0",
            "_view_name": "LayoutView",
            "align_content": null,
            "align_items": null,
            "align_self": null,
            "border": null,
            "bottom": null,
            "display": null,
            "flex": null,
            "flex_flow": null,
            "grid_area": null,
            "grid_auto_columns": null,
            "grid_auto_flow": null,
            "grid_auto_rows": null,
            "grid_column": null,
            "grid_gap": null,
            "grid_row": null,
            "grid_template_areas": null,
            "grid_template_columns": null,
            "grid_template_rows": null,
            "height": null,
            "justify_content": null,
            "justify_items": null,
            "left": null,
            "margin": null,
            "max_height": null,
            "max_width": null,
            "min_height": null,
            "min_width": null,
            "object_fit": null,
            "object_position": null,
            "order": null,
            "overflow": null,
            "overflow_x": null,
            "overflow_y": null,
            "padding": null,
            "right": null,
            "top": null,
            "visibility": null,
            "width": null
          }
        },
        "01fd9ed2ac7d4d48ac8232a68c6de15e": {
          "model_module": "@jupyter-widgets/controls",
          "model_name": "DescriptionStyleModel",
          "model_module_version": "1.5.0",
          "state": {
            "_model_module": "@jupyter-widgets/controls",
            "_model_module_version": "1.5.0",
            "_model_name": "DescriptionStyleModel",
            "_view_count": null,
            "_view_module": "@jupyter-widgets/base",
            "_view_module_version": "1.2.0",
            "_view_name": "StyleView",
            "description_width": ""
          }
        },
        "776b6285f92c48729f39a1d4ac02f113": {
          "model_module": "@jupyter-widgets/controls",
          "model_name": "HBoxModel",
          "model_module_version": "1.5.0",
          "state": {
            "_dom_classes": [],
            "_model_module": "@jupyter-widgets/controls",
            "_model_module_version": "1.5.0",
            "_model_name": "HBoxModel",
            "_view_count": null,
            "_view_module": "@jupyter-widgets/controls",
            "_view_module_version": "1.5.0",
            "_view_name": "HBoxView",
            "box_style": "",
            "children": [
              "IPY_MODEL_770d3c15ef1d4d4da056a05640cbc569",
              "IPY_MODEL_a2a76a3f73604df3b55ff258c0f69a7b",
              "IPY_MODEL_1ebc4c04b65b417294e3133bf1408e6d"
            ],
            "layout": "IPY_MODEL_47ea44f6df1f4d53976f55228d6cabfc"
          }
        },
        "770d3c15ef1d4d4da056a05640cbc569": {
          "model_module": "@jupyter-widgets/controls",
          "model_name": "HTMLModel",
          "model_module_version": "1.5.0",
          "state": {
            "_dom_classes": [],
            "_model_module": "@jupyter-widgets/controls",
            "_model_module_version": "1.5.0",
            "_model_name": "HTMLModel",
            "_view_count": null,
            "_view_module": "@jupyter-widgets/controls",
            "_view_module_version": "1.5.0",
            "_view_name": "HTMLView",
            "description": "",
            "description_tooltip": null,
            "layout": "IPY_MODEL_f566f535cf194eb58cda0d48de1c4fb1",
            "placeholder": "​",
            "style": "IPY_MODEL_2e5e162e214e44e39fbca18709332a76",
            "value": "generation_config.json: 100%"
          }
        },
        "a2a76a3f73604df3b55ff258c0f69a7b": {
          "model_module": "@jupyter-widgets/controls",
          "model_name": "FloatProgressModel",
          "model_module_version": "1.5.0",
          "state": {
            "_dom_classes": [],
            "_model_module": "@jupyter-widgets/controls",
            "_model_module_version": "1.5.0",
            "_model_name": "FloatProgressModel",
            "_view_count": null,
            "_view_module": "@jupyter-widgets/controls",
            "_view_module_version": "1.5.0",
            "_view_name": "ProgressView",
            "bar_style": "success",
            "description": "",
            "description_tooltip": null,
            "layout": "IPY_MODEL_d2fcd9b209dc4922a33949601189c920",
            "max": 124,
            "min": 0,
            "orientation": "horizontal",
            "style": "IPY_MODEL_b226620485bc4a31ad6bf2ad23fef330",
            "value": 124
          }
        },
        "1ebc4c04b65b417294e3133bf1408e6d": {
          "model_module": "@jupyter-widgets/controls",
          "model_name": "HTMLModel",
          "model_module_version": "1.5.0",
          "state": {
            "_dom_classes": [],
            "_model_module": "@jupyter-widgets/controls",
            "_model_module_version": "1.5.0",
            "_model_name": "HTMLModel",
            "_view_count": null,
            "_view_module": "@jupyter-widgets/controls",
            "_view_module_version": "1.5.0",
            "_view_name": "HTMLView",
            "description": "",
            "description_tooltip": null,
            "layout": "IPY_MODEL_bba24801fd5143d7a8e68269a946a3e9",
            "placeholder": "​",
            "style": "IPY_MODEL_d543eeee4abf49469c41fc8d2fc50e66",
            "value": " 124/124 [00:00&lt;00:00, 8.75kB/s]"
          }
        },
        "47ea44f6df1f4d53976f55228d6cabfc": {
          "model_module": "@jupyter-widgets/base",
          "model_name": "LayoutModel",
          "model_module_version": "1.2.0",
          "state": {
            "_model_module": "@jupyter-widgets/base",
            "_model_module_version": "1.2.0",
            "_model_name": "LayoutModel",
            "_view_count": null,
            "_view_module": "@jupyter-widgets/base",
            "_view_module_version": "1.2.0",
            "_view_name": "LayoutView",
            "align_content": null,
            "align_items": null,
            "align_self": null,
            "border": null,
            "bottom": null,
            "display": null,
            "flex": null,
            "flex_flow": null,
            "grid_area": null,
            "grid_auto_columns": null,
            "grid_auto_flow": null,
            "grid_auto_rows": null,
            "grid_column": null,
            "grid_gap": null,
            "grid_row": null,
            "grid_template_areas": null,
            "grid_template_columns": null,
            "grid_template_rows": null,
            "height": null,
            "justify_content": null,
            "justify_items": null,
            "left": null,
            "margin": null,
            "max_height": null,
            "max_width": null,
            "min_height": null,
            "min_width": null,
            "object_fit": null,
            "object_position": null,
            "order": null,
            "overflow": null,
            "overflow_x": null,
            "overflow_y": null,
            "padding": null,
            "right": null,
            "top": null,
            "visibility": null,
            "width": null
          }
        },
        "f566f535cf194eb58cda0d48de1c4fb1": {
          "model_module": "@jupyter-widgets/base",
          "model_name": "LayoutModel",
          "model_module_version": "1.2.0",
          "state": {
            "_model_module": "@jupyter-widgets/base",
            "_model_module_version": "1.2.0",
            "_model_name": "LayoutModel",
            "_view_count": null,
            "_view_module": "@jupyter-widgets/base",
            "_view_module_version": "1.2.0",
            "_view_name": "LayoutView",
            "align_content": null,
            "align_items": null,
            "align_self": null,
            "border": null,
            "bottom": null,
            "display": null,
            "flex": null,
            "flex_flow": null,
            "grid_area": null,
            "grid_auto_columns": null,
            "grid_auto_flow": null,
            "grid_auto_rows": null,
            "grid_column": null,
            "grid_gap": null,
            "grid_row": null,
            "grid_template_areas": null,
            "grid_template_columns": null,
            "grid_template_rows": null,
            "height": null,
            "justify_content": null,
            "justify_items": null,
            "left": null,
            "margin": null,
            "max_height": null,
            "max_width": null,
            "min_height": null,
            "min_width": null,
            "object_fit": null,
            "object_position": null,
            "order": null,
            "overflow": null,
            "overflow_x": null,
            "overflow_y": null,
            "padding": null,
            "right": null,
            "top": null,
            "visibility": null,
            "width": null
          }
        },
        "2e5e162e214e44e39fbca18709332a76": {
          "model_module": "@jupyter-widgets/controls",
          "model_name": "DescriptionStyleModel",
          "model_module_version": "1.5.0",
          "state": {
            "_model_module": "@jupyter-widgets/controls",
            "_model_module_version": "1.5.0",
            "_model_name": "DescriptionStyleModel",
            "_view_count": null,
            "_view_module": "@jupyter-widgets/base",
            "_view_module_version": "1.2.0",
            "_view_name": "StyleView",
            "description_width": ""
          }
        },
        "d2fcd9b209dc4922a33949601189c920": {
          "model_module": "@jupyter-widgets/base",
          "model_name": "LayoutModel",
          "model_module_version": "1.2.0",
          "state": {
            "_model_module": "@jupyter-widgets/base",
            "_model_module_version": "1.2.0",
            "_model_name": "LayoutModel",
            "_view_count": null,
            "_view_module": "@jupyter-widgets/base",
            "_view_module_version": "1.2.0",
            "_view_name": "LayoutView",
            "align_content": null,
            "align_items": null,
            "align_self": null,
            "border": null,
            "bottom": null,
            "display": null,
            "flex": null,
            "flex_flow": null,
            "grid_area": null,
            "grid_auto_columns": null,
            "grid_auto_flow": null,
            "grid_auto_rows": null,
            "grid_column": null,
            "grid_gap": null,
            "grid_row": null,
            "grid_template_areas": null,
            "grid_template_columns": null,
            "grid_template_rows": null,
            "height": null,
            "justify_content": null,
            "justify_items": null,
            "left": null,
            "margin": null,
            "max_height": null,
            "max_width": null,
            "min_height": null,
            "min_width": null,
            "object_fit": null,
            "object_position": null,
            "order": null,
            "overflow": null,
            "overflow_x": null,
            "overflow_y": null,
            "padding": null,
            "right": null,
            "top": null,
            "visibility": null,
            "width": null
          }
        },
        "b226620485bc4a31ad6bf2ad23fef330": {
          "model_module": "@jupyter-widgets/controls",
          "model_name": "ProgressStyleModel",
          "model_module_version": "1.5.0",
          "state": {
            "_model_module": "@jupyter-widgets/controls",
            "_model_module_version": "1.5.0",
            "_model_name": "ProgressStyleModel",
            "_view_count": null,
            "_view_module": "@jupyter-widgets/base",
            "_view_module_version": "1.2.0",
            "_view_name": "StyleView",
            "bar_color": null,
            "description_width": ""
          }
        },
        "bba24801fd5143d7a8e68269a946a3e9": {
          "model_module": "@jupyter-widgets/base",
          "model_name": "LayoutModel",
          "model_module_version": "1.2.0",
          "state": {
            "_model_module": "@jupyter-widgets/base",
            "_model_module_version": "1.2.0",
            "_model_name": "LayoutModel",
            "_view_count": null,
            "_view_module": "@jupyter-widgets/base",
            "_view_module_version": "1.2.0",
            "_view_name": "LayoutView",
            "align_content": null,
            "align_items": null,
            "align_self": null,
            "border": null,
            "bottom": null,
            "display": null,
            "flex": null,
            "flex_flow": null,
            "grid_area": null,
            "grid_auto_columns": null,
            "grid_auto_flow": null,
            "grid_auto_rows": null,
            "grid_column": null,
            "grid_gap": null,
            "grid_row": null,
            "grid_template_areas": null,
            "grid_template_columns": null,
            "grid_template_rows": null,
            "height": null,
            "justify_content": null,
            "justify_items": null,
            "left": null,
            "margin": null,
            "max_height": null,
            "max_width": null,
            "min_height": null,
            "min_width": null,
            "object_fit": null,
            "object_position": null,
            "order": null,
            "overflow": null,
            "overflow_x": null,
            "overflow_y": null,
            "padding": null,
            "right": null,
            "top": null,
            "visibility": null,
            "width": null
          }
        },
        "d543eeee4abf49469c41fc8d2fc50e66": {
          "model_module": "@jupyter-widgets/controls",
          "model_name": "DescriptionStyleModel",
          "model_module_version": "1.5.0",
          "state": {
            "_model_module": "@jupyter-widgets/controls",
            "_model_module_version": "1.5.0",
            "_model_name": "DescriptionStyleModel",
            "_view_count": null,
            "_view_module": "@jupyter-widgets/base",
            "_view_module_version": "1.2.0",
            "_view_name": "StyleView",
            "description_width": ""
          }
        }
      }
    }
  },
  "cells": [
    {
      "cell_type": "markdown",
      "metadata": {
        "id": "view-in-github",
        "colab_type": "text"
      },
      "source": [
        "<a href=\"https://colab.research.google.com/github/fatemafaria142/Exploration-of-Different-Prompting-Techniques-for-Automatic-Realistic-Story-Generation/blob/main/story_generation_Automatic_Chain_of_Thought_prompt_using_GPT2.ipynb\" target=\"_parent\"><img src=\"https://colab.research.google.com/assets/colab-badge.svg\" alt=\"Open In Colab\"/></a>"
      ]
    },
    {
      "cell_type": "code",
      "execution_count": 1,
      "metadata": {
        "id": "f6LzHgS_Fkh5"
      },
      "outputs": [],
      "source": [
        "import pandas as pd\n",
        "import numpy as np\n",
        "import os"
      ]
    },
    {
      "cell_type": "code",
      "source": [
        "!pip install datasets"
      ],
      "metadata": {
        "id": "mNz5iKXhFug-",
        "colab": {
          "base_uri": "https://localhost:8080/"
        },
        "outputId": "1b364a1c-268f-436f-f1f8-948e7931c87a"
      },
      "execution_count": 2,
      "outputs": [
        {
          "output_type": "stream",
          "name": "stdout",
          "text": [
            "Collecting datasets\n",
            "  Downloading datasets-2.16.1-py3-none-any.whl (507 kB)\n",
            "\u001b[2K     \u001b[90m━━━━━━━━━━━━━━━━━━━━━━━━━━━━━━━━━━━━━━━━\u001b[0m \u001b[32m507.1/507.1 kB\u001b[0m \u001b[31m3.5 MB/s\u001b[0m eta \u001b[36m0:00:00\u001b[0m\n",
            "\u001b[?25hRequirement already satisfied: filelock in /usr/local/lib/python3.10/dist-packages (from datasets) (3.13.1)\n",
            "Requirement already satisfied: numpy>=1.17 in /usr/local/lib/python3.10/dist-packages (from datasets) (1.23.5)\n",
            "Requirement already satisfied: pyarrow>=8.0.0 in /usr/local/lib/python3.10/dist-packages (from datasets) (10.0.1)\n",
            "Requirement already satisfied: pyarrow-hotfix in /usr/local/lib/python3.10/dist-packages (from datasets) (0.6)\n",
            "Collecting dill<0.3.8,>=0.3.0 (from datasets)\n",
            "  Downloading dill-0.3.7-py3-none-any.whl (115 kB)\n",
            "\u001b[2K     \u001b[90m━━━━━━━━━━━━━━━━━━━━━━━━━━━━━━━━━━━━━━━━\u001b[0m \u001b[32m115.3/115.3 kB\u001b[0m \u001b[31m16.0 MB/s\u001b[0m eta \u001b[36m0:00:00\u001b[0m\n",
            "\u001b[?25hRequirement already satisfied: pandas in /usr/local/lib/python3.10/dist-packages (from datasets) (1.5.3)\n",
            "Requirement already satisfied: requests>=2.19.0 in /usr/local/lib/python3.10/dist-packages (from datasets) (2.31.0)\n",
            "Requirement already satisfied: tqdm>=4.62.1 in /usr/local/lib/python3.10/dist-packages (from datasets) (4.66.1)\n",
            "Requirement already satisfied: xxhash in /usr/local/lib/python3.10/dist-packages (from datasets) (3.4.1)\n",
            "Collecting multiprocess (from datasets)\n",
            "  Downloading multiprocess-0.70.15-py310-none-any.whl (134 kB)\n",
            "\u001b[2K     \u001b[90m━━━━━━━━━━━━━━━━━━━━━━━━━━━━━━━━━━━━━━━━\u001b[0m \u001b[32m134.8/134.8 kB\u001b[0m \u001b[31m17.4 MB/s\u001b[0m eta \u001b[36m0:00:00\u001b[0m\n",
            "\u001b[?25hRequirement already satisfied: fsspec[http]<=2023.10.0,>=2023.1.0 in /usr/local/lib/python3.10/dist-packages (from datasets) (2023.6.0)\n",
            "Requirement already satisfied: aiohttp in /usr/local/lib/python3.10/dist-packages (from datasets) (3.9.1)\n",
            "Requirement already satisfied: huggingface-hub>=0.19.4 in /usr/local/lib/python3.10/dist-packages (from datasets) (0.20.2)\n",
            "Requirement already satisfied: packaging in /usr/local/lib/python3.10/dist-packages (from datasets) (23.2)\n",
            "Requirement already satisfied: pyyaml>=5.1 in /usr/local/lib/python3.10/dist-packages (from datasets) (6.0.1)\n",
            "Requirement already satisfied: attrs>=17.3.0 in /usr/local/lib/python3.10/dist-packages (from aiohttp->datasets) (23.2.0)\n",
            "Requirement already satisfied: multidict<7.0,>=4.5 in /usr/local/lib/python3.10/dist-packages (from aiohttp->datasets) (6.0.4)\n",
            "Requirement already satisfied: yarl<2.0,>=1.0 in /usr/local/lib/python3.10/dist-packages (from aiohttp->datasets) (1.9.4)\n",
            "Requirement already satisfied: frozenlist>=1.1.1 in /usr/local/lib/python3.10/dist-packages (from aiohttp->datasets) (1.4.1)\n",
            "Requirement already satisfied: aiosignal>=1.1.2 in /usr/local/lib/python3.10/dist-packages (from aiohttp->datasets) (1.3.1)\n",
            "Requirement already satisfied: async-timeout<5.0,>=4.0 in /usr/local/lib/python3.10/dist-packages (from aiohttp->datasets) (4.0.3)\n",
            "Requirement already satisfied: typing-extensions>=3.7.4.3 in /usr/local/lib/python3.10/dist-packages (from huggingface-hub>=0.19.4->datasets) (4.5.0)\n",
            "Requirement already satisfied: charset-normalizer<4,>=2 in /usr/local/lib/python3.10/dist-packages (from requests>=2.19.0->datasets) (3.3.2)\n",
            "Requirement already satisfied: idna<4,>=2.5 in /usr/local/lib/python3.10/dist-packages (from requests>=2.19.0->datasets) (3.6)\n",
            "Requirement already satisfied: urllib3<3,>=1.21.1 in /usr/local/lib/python3.10/dist-packages (from requests>=2.19.0->datasets) (2.0.7)\n",
            "Requirement already satisfied: certifi>=2017.4.17 in /usr/local/lib/python3.10/dist-packages (from requests>=2.19.0->datasets) (2023.11.17)\n",
            "Requirement already satisfied: python-dateutil>=2.8.1 in /usr/local/lib/python3.10/dist-packages (from pandas->datasets) (2.8.2)\n",
            "Requirement already satisfied: pytz>=2020.1 in /usr/local/lib/python3.10/dist-packages (from pandas->datasets) (2023.3.post1)\n",
            "Requirement already satisfied: six>=1.5 in /usr/local/lib/python3.10/dist-packages (from python-dateutil>=2.8.1->pandas->datasets) (1.16.0)\n",
            "Installing collected packages: dill, multiprocess, datasets\n",
            "Successfully installed datasets-2.16.1 dill-0.3.7 multiprocess-0.70.15\n"
          ]
        }
      ]
    },
    {
      "cell_type": "code",
      "source": [
        "!pip install --upgrade transformers"
      ],
      "metadata": {
        "id": "ENBd58R5Ft_d",
        "colab": {
          "base_uri": "https://localhost:8080/"
        },
        "outputId": "942f97a1-d8a9-4d13-aec3-ceca6739990c"
      },
      "execution_count": 3,
      "outputs": [
        {
          "output_type": "stream",
          "name": "stdout",
          "text": [
            "Requirement already satisfied: transformers in /usr/local/lib/python3.10/dist-packages (4.35.2)\n",
            "Collecting transformers\n",
            "  Downloading transformers-4.36.2-py3-none-any.whl (8.2 MB)\n",
            "\u001b[2K     \u001b[90m━━━━━━━━━━━━━━━━━━━━━━━━━━━━━━━━━━━━━━━━\u001b[0m \u001b[32m8.2/8.2 MB\u001b[0m \u001b[31m24.3 MB/s\u001b[0m eta \u001b[36m0:00:00\u001b[0m\n",
            "\u001b[?25hRequirement already satisfied: filelock in /usr/local/lib/python3.10/dist-packages (from transformers) (3.13.1)\n",
            "Requirement already satisfied: huggingface-hub<1.0,>=0.19.3 in /usr/local/lib/python3.10/dist-packages (from transformers) (0.20.2)\n",
            "Requirement already satisfied: numpy>=1.17 in /usr/local/lib/python3.10/dist-packages (from transformers) (1.23.5)\n",
            "Requirement already satisfied: packaging>=20.0 in /usr/local/lib/python3.10/dist-packages (from transformers) (23.2)\n",
            "Requirement already satisfied: pyyaml>=5.1 in /usr/local/lib/python3.10/dist-packages (from transformers) (6.0.1)\n",
            "Requirement already satisfied: regex!=2019.12.17 in /usr/local/lib/python3.10/dist-packages (from transformers) (2023.6.3)\n",
            "Requirement already satisfied: requests in /usr/local/lib/python3.10/dist-packages (from transformers) (2.31.0)\n",
            "Requirement already satisfied: tokenizers<0.19,>=0.14 in /usr/local/lib/python3.10/dist-packages (from transformers) (0.15.0)\n",
            "Requirement already satisfied: safetensors>=0.3.1 in /usr/local/lib/python3.10/dist-packages (from transformers) (0.4.1)\n",
            "Requirement already satisfied: tqdm>=4.27 in /usr/local/lib/python3.10/dist-packages (from transformers) (4.66.1)\n",
            "Requirement already satisfied: fsspec>=2023.5.0 in /usr/local/lib/python3.10/dist-packages (from huggingface-hub<1.0,>=0.19.3->transformers) (2023.6.0)\n",
            "Requirement already satisfied: typing-extensions>=3.7.4.3 in /usr/local/lib/python3.10/dist-packages (from huggingface-hub<1.0,>=0.19.3->transformers) (4.5.0)\n",
            "Requirement already satisfied: charset-normalizer<4,>=2 in /usr/local/lib/python3.10/dist-packages (from requests->transformers) (3.3.2)\n",
            "Requirement already satisfied: idna<4,>=2.5 in /usr/local/lib/python3.10/dist-packages (from requests->transformers) (3.6)\n",
            "Requirement already satisfied: urllib3<3,>=1.21.1 in /usr/local/lib/python3.10/dist-packages (from requests->transformers) (2.0.7)\n",
            "Requirement already satisfied: certifi>=2017.4.17 in /usr/local/lib/python3.10/dist-packages (from requests->transformers) (2023.11.17)\n",
            "Installing collected packages: transformers\n",
            "  Attempting uninstall: transformers\n",
            "    Found existing installation: transformers 4.35.2\n",
            "    Uninstalling transformers-4.35.2:\n",
            "      Successfully uninstalled transformers-4.35.2\n",
            "Successfully installed transformers-4.36.2\n"
          ]
        }
      ]
    },
    {
      "cell_type": "code",
      "source": [
        "!pip install transformers[torch]"
      ],
      "metadata": {
        "id": "gXFW8F5HFuEs",
        "colab": {
          "base_uri": "https://localhost:8080/"
        },
        "outputId": "39103189-a721-461e-ab9f-6954e9777f9c"
      },
      "execution_count": 4,
      "outputs": [
        {
          "output_type": "stream",
          "name": "stdout",
          "text": [
            "Requirement already satisfied: transformers[torch] in /usr/local/lib/python3.10/dist-packages (4.36.2)\n",
            "Requirement already satisfied: filelock in /usr/local/lib/python3.10/dist-packages (from transformers[torch]) (3.13.1)\n",
            "Requirement already satisfied: huggingface-hub<1.0,>=0.19.3 in /usr/local/lib/python3.10/dist-packages (from transformers[torch]) (0.20.2)\n",
            "Requirement already satisfied: numpy>=1.17 in /usr/local/lib/python3.10/dist-packages (from transformers[torch]) (1.23.5)\n",
            "Requirement already satisfied: packaging>=20.0 in /usr/local/lib/python3.10/dist-packages (from transformers[torch]) (23.2)\n",
            "Requirement already satisfied: pyyaml>=5.1 in /usr/local/lib/python3.10/dist-packages (from transformers[torch]) (6.0.1)\n",
            "Requirement already satisfied: regex!=2019.12.17 in /usr/local/lib/python3.10/dist-packages (from transformers[torch]) (2023.6.3)\n",
            "Requirement already satisfied: requests in /usr/local/lib/python3.10/dist-packages (from transformers[torch]) (2.31.0)\n",
            "Requirement already satisfied: tokenizers<0.19,>=0.14 in /usr/local/lib/python3.10/dist-packages (from transformers[torch]) (0.15.0)\n",
            "Requirement already satisfied: safetensors>=0.3.1 in /usr/local/lib/python3.10/dist-packages (from transformers[torch]) (0.4.1)\n",
            "Requirement already satisfied: tqdm>=4.27 in /usr/local/lib/python3.10/dist-packages (from transformers[torch]) (4.66.1)\n",
            "Requirement already satisfied: torch!=1.12.0,>=1.10 in /usr/local/lib/python3.10/dist-packages (from transformers[torch]) (2.1.0+cu121)\n",
            "Collecting accelerate>=0.21.0 (from transformers[torch])\n",
            "  Downloading accelerate-0.26.1-py3-none-any.whl (270 kB)\n",
            "\u001b[2K     \u001b[90m━━━━━━━━━━━━━━━━━━━━━━━━━━━━━━━━━━━━━━━━\u001b[0m \u001b[32m270.9/270.9 kB\u001b[0m \u001b[31m2.2 MB/s\u001b[0m eta \u001b[36m0:00:00\u001b[0m\n",
            "\u001b[?25hRequirement already satisfied: psutil in /usr/local/lib/python3.10/dist-packages (from accelerate>=0.21.0->transformers[torch]) (5.9.5)\n",
            "Requirement already satisfied: fsspec>=2023.5.0 in /usr/local/lib/python3.10/dist-packages (from huggingface-hub<1.0,>=0.19.3->transformers[torch]) (2023.6.0)\n",
            "Requirement already satisfied: typing-extensions>=3.7.4.3 in /usr/local/lib/python3.10/dist-packages (from huggingface-hub<1.0,>=0.19.3->transformers[torch]) (4.5.0)\n",
            "Requirement already satisfied: sympy in /usr/local/lib/python3.10/dist-packages (from torch!=1.12.0,>=1.10->transformers[torch]) (1.12)\n",
            "Requirement already satisfied: networkx in /usr/local/lib/python3.10/dist-packages (from torch!=1.12.0,>=1.10->transformers[torch]) (3.2.1)\n",
            "Requirement already satisfied: jinja2 in /usr/local/lib/python3.10/dist-packages (from torch!=1.12.0,>=1.10->transformers[torch]) (3.1.2)\n",
            "Requirement already satisfied: triton==2.1.0 in /usr/local/lib/python3.10/dist-packages (from torch!=1.12.0,>=1.10->transformers[torch]) (2.1.0)\n",
            "Requirement already satisfied: charset-normalizer<4,>=2 in /usr/local/lib/python3.10/dist-packages (from requests->transformers[torch]) (3.3.2)\n",
            "Requirement already satisfied: idna<4,>=2.5 in /usr/local/lib/python3.10/dist-packages (from requests->transformers[torch]) (3.6)\n",
            "Requirement already satisfied: urllib3<3,>=1.21.1 in /usr/local/lib/python3.10/dist-packages (from requests->transformers[torch]) (2.0.7)\n",
            "Requirement already satisfied: certifi>=2017.4.17 in /usr/local/lib/python3.10/dist-packages (from requests->transformers[torch]) (2023.11.17)\n",
            "Requirement already satisfied: MarkupSafe>=2.0 in /usr/local/lib/python3.10/dist-packages (from jinja2->torch!=1.12.0,>=1.10->transformers[torch]) (2.1.3)\n",
            "Requirement already satisfied: mpmath>=0.19 in /usr/local/lib/python3.10/dist-packages (from sympy->torch!=1.12.0,>=1.10->transformers[torch]) (1.3.0)\n",
            "Installing collected packages: accelerate\n",
            "Successfully installed accelerate-0.26.1\n"
          ]
        }
      ]
    },
    {
      "cell_type": "code",
      "source": [
        "!pip install accelerate -U"
      ],
      "metadata": {
        "id": "HZyi2-_mFuJs",
        "colab": {
          "base_uri": "https://localhost:8080/"
        },
        "outputId": "db9ee68a-fcdc-4ba1-c38e-141199f3cda6"
      },
      "execution_count": 5,
      "outputs": [
        {
          "output_type": "stream",
          "name": "stdout",
          "text": [
            "Requirement already satisfied: accelerate in /usr/local/lib/python3.10/dist-packages (0.26.1)\n",
            "Requirement already satisfied: numpy>=1.17 in /usr/local/lib/python3.10/dist-packages (from accelerate) (1.23.5)\n",
            "Requirement already satisfied: packaging>=20.0 in /usr/local/lib/python3.10/dist-packages (from accelerate) (23.2)\n",
            "Requirement already satisfied: psutil in /usr/local/lib/python3.10/dist-packages (from accelerate) (5.9.5)\n",
            "Requirement already satisfied: pyyaml in /usr/local/lib/python3.10/dist-packages (from accelerate) (6.0.1)\n",
            "Requirement already satisfied: torch>=1.10.0 in /usr/local/lib/python3.10/dist-packages (from accelerate) (2.1.0+cu121)\n",
            "Requirement already satisfied: huggingface-hub in /usr/local/lib/python3.10/dist-packages (from accelerate) (0.20.2)\n",
            "Requirement already satisfied: safetensors>=0.3.1 in /usr/local/lib/python3.10/dist-packages (from accelerate) (0.4.1)\n",
            "Requirement already satisfied: filelock in /usr/local/lib/python3.10/dist-packages (from torch>=1.10.0->accelerate) (3.13.1)\n",
            "Requirement already satisfied: typing-extensions in /usr/local/lib/python3.10/dist-packages (from torch>=1.10.0->accelerate) (4.5.0)\n",
            "Requirement already satisfied: sympy in /usr/local/lib/python3.10/dist-packages (from torch>=1.10.0->accelerate) (1.12)\n",
            "Requirement already satisfied: networkx in /usr/local/lib/python3.10/dist-packages (from torch>=1.10.0->accelerate) (3.2.1)\n",
            "Requirement already satisfied: jinja2 in /usr/local/lib/python3.10/dist-packages (from torch>=1.10.0->accelerate) (3.1.2)\n",
            "Requirement already satisfied: fsspec in /usr/local/lib/python3.10/dist-packages (from torch>=1.10.0->accelerate) (2023.6.0)\n",
            "Requirement already satisfied: triton==2.1.0 in /usr/local/lib/python3.10/dist-packages (from torch>=1.10.0->accelerate) (2.1.0)\n",
            "Requirement already satisfied: requests in /usr/local/lib/python3.10/dist-packages (from huggingface-hub->accelerate) (2.31.0)\n",
            "Requirement already satisfied: tqdm>=4.42.1 in /usr/local/lib/python3.10/dist-packages (from huggingface-hub->accelerate) (4.66.1)\n",
            "Requirement already satisfied: MarkupSafe>=2.0 in /usr/local/lib/python3.10/dist-packages (from jinja2->torch>=1.10.0->accelerate) (2.1.3)\n",
            "Requirement already satisfied: charset-normalizer<4,>=2 in /usr/local/lib/python3.10/dist-packages (from requests->huggingface-hub->accelerate) (3.3.2)\n",
            "Requirement already satisfied: idna<4,>=2.5 in /usr/local/lib/python3.10/dist-packages (from requests->huggingface-hub->accelerate) (3.6)\n",
            "Requirement already satisfied: urllib3<3,>=1.21.1 in /usr/local/lib/python3.10/dist-packages (from requests->huggingface-hub->accelerate) (2.0.7)\n",
            "Requirement already satisfied: certifi>=2017.4.17 in /usr/local/lib/python3.10/dist-packages (from requests->huggingface-hub->accelerate) (2023.11.17)\n",
            "Requirement already satisfied: mpmath>=0.19 in /usr/local/lib/python3.10/dist-packages (from sympy->torch>=1.10.0->accelerate) (1.3.0)\n"
          ]
        }
      ]
    },
    {
      "cell_type": "markdown",
      "source": [
        "### **Dataset Link:** https://huggingface.co/datasets/AtlasUnified/atlas-storyteller?row=42"
      ],
      "metadata": {
        "id": "hka_zLJTff6t"
      }
    },
    {
      "cell_type": "code",
      "source": [
        "from datasets import load_dataset\n",
        "\n",
        "dataset = load_dataset(\"AtlasUnified/atlas-storyteller\")"
      ],
      "metadata": {
        "id": "5FVft-5zF_f0",
        "colab": {
          "base_uri": "https://localhost:8080/",
          "height": 205,
          "referenced_widgets": [
            "d589b4aa6d6044ce9d42fd5426ec1c7a",
            "fb8dabcb4c9c4b779b22e45a960a7603",
            "4b0fa8e190484a0c844663b99a9ff61f",
            "842a084d986f4b4ab09ddb27a70b7e1c",
            "a3664294f2ea4ef190f03b626b5ad3d0",
            "b010a1e134184297860b0231fbdcc80f",
            "8f47128e43d6406899de3e2264df7f25",
            "c92c00d1e4d24a3291d8611ab6c208d4",
            "a1aa417e7cf541f7b392fd278fd7f5f4",
            "5454ef4c5216499fa6f9b3300e81b2e5",
            "fb843a79ff054874b2002bd961feba79",
            "21e7421b418543b8b341645db5b379c6",
            "3afaeaf46af84aa886d3bd21e5af5a6c",
            "db8c9cc4bb014f6595ffddfd95c332da",
            "7e63b432d27c441dbf4ae3177b1a3abf",
            "1ecde2f9b0874a57a6dba148b48af04b",
            "da821bd1b02247708f06c52679bc6de7",
            "fc67c9c0102040c08b511a72ae6f743e",
            "f89cb7ed997c4f50b266f70aeb13b046",
            "3341fd6488b246c1bc04e490b0c99868",
            "2845c6ca72e54caa803d73f2576febd5",
            "8c369457190e4abda2dba3e007caf521"
          ]
        },
        "outputId": "d49853c6-17a9-4155-ac8f-674165cb08ac"
      },
      "execution_count": 6,
      "outputs": [
        {
          "output_type": "stream",
          "name": "stderr",
          "text": [
            "/usr/local/lib/python3.10/dist-packages/huggingface_hub/utils/_token.py:88: UserWarning: \n",
            "The secret `HF_TOKEN` does not exist in your Colab secrets.\n",
            "To authenticate with the Hugging Face Hub, create a token in your settings tab (https://huggingface.co/settings/tokens), set it as secret in your Google Colab and restart your session.\n",
            "You will be able to reuse this secret in all of your notebooks.\n",
            "Please note that authentication is recommended but still optional to access public models or datasets.\n",
            "  warnings.warn(\n"
          ]
        },
        {
          "output_type": "display_data",
          "data": {
            "text/plain": [
              "Downloading data:   0%|          | 0.00/21.2M [00:00<?, ?B/s]"
            ],
            "application/vnd.jupyter.widget-view+json": {
              "version_major": 2,
              "version_minor": 0,
              "model_id": "d589b4aa6d6044ce9d42fd5426ec1c7a"
            }
          },
          "metadata": {}
        },
        {
          "output_type": "display_data",
          "data": {
            "text/plain": [
              "Generating train split: 0 examples [00:00, ? examples/s]"
            ],
            "application/vnd.jupyter.widget-view+json": {
              "version_major": 2,
              "version_minor": 0,
              "model_id": "21e7421b418543b8b341645db5b379c6"
            }
          },
          "metadata": {}
        }
      ]
    },
    {
      "cell_type": "code",
      "source": [
        "print(dataset)"
      ],
      "metadata": {
        "id": "5fpMKflMF_i1",
        "colab": {
          "base_uri": "https://localhost:8080/"
        },
        "outputId": "5a14abc0-b820-46a7-d2b6-97f89404571d"
      },
      "execution_count": 7,
      "outputs": [
        {
          "output_type": "stream",
          "name": "stdout",
          "text": [
            "DatasetDict({\n",
            "    train: Dataset({\n",
            "        features: ['id', 'Story'],\n",
            "        num_rows: 5018\n",
            "    })\n",
            "})\n"
          ]
        }
      ]
    },
    {
      "cell_type": "code",
      "source": [
        "from google.colab import drive\n",
        "drive.mount('/content/drive')"
      ],
      "metadata": {
        "id": "nFm7F9YMGFe-",
        "colab": {
          "base_uri": "https://localhost:8080/"
        },
        "outputId": "831b4955-1117-41db-d3e1-9256555625ee"
      },
      "execution_count": 8,
      "outputs": [
        {
          "output_type": "stream",
          "name": "stdout",
          "text": [
            "Mounted at /content/drive\n"
          ]
        }
      ]
    },
    {
      "cell_type": "markdown",
      "source": [
        "# **Get the first 5000 data points**"
      ],
      "metadata": {
        "id": "m2wHOnhdfs_h"
      }
    },
    {
      "cell_type": "code",
      "source": [
        "# Get the first 5000 data points\n",
        "num_samples_to_display = 5000\n",
        "subset_dataset = dataset['train'].select(range(num_samples_to_display))\n",
        "\n",
        "# Display information for 3 data points from the subset\n",
        "num_samples_to_show = 3\n",
        "for i in range(num_samples_to_show):\n",
        "    data = subset_dataset[i]\n",
        "    print(f\"Data Point {i + 1}:\")\n",
        "    print(\"ID:\", data['id'])\n",
        "    print(\"Input:\", data['Story'])\n",
        "    print(\"\\n-----------------------------\\n\")"
      ],
      "metadata": {
        "id": "m5omug3zGRnd",
        "colab": {
          "base_uri": "https://localhost:8080/"
        },
        "outputId": "d9d3465d-c93e-4159-8f3c-0873668bc585"
      },
      "execution_count": 9,
      "outputs": [
        {
          "output_type": "stream",
          "name": "stdout",
          "text": [
            "Data Point 1:\n",
            "ID: seed_task_0\n",
            "Input: In the bustling city of New York, where the neon lights flickered and the sound of traffic reverberated through the streets, lived a man named Ethan Sullivan. With his chiseled jawline, piercing blue eyes, and a physique carved by years of training, Ethan possessed an air of mystery that intrigued those who crossed his path. He lived a solitary life in a modest apartment, spending his days as an accountant, his nights cloaked in shadows and secrecy.  One fateful morning, as the city awoke to the rhythmic beat of its own heartbeat, Ethan received a cryptic message on a burner phone. It simply stated, \"They're coming for you.\" His heart quickened, and a wave of apprehension washed over him. Who were \"they,\" and why were they after him? Ethan's blood ran cold, fueling a surge of adrenaline that urged him to take action.  Without a moment's hesitation, Ethan gathered his meager belongings and made his way to a hidden room beneath his apartment. The room, concealed behind a bookshelf, was a secret sanctuary where he had spent countless hours honing his skills and preparing for the unknown. As he descended the narrow staircase, the walls whispered tales of peril and resilience, fueling his determination.  Days turned into nights, and the hunt for Ethan intensified. He navigated the city's labyrinthine underworld, seeking answers to the questions that shadowed his every step. His pursuit brought him face to face with a network of spies, double agents, and dangerous mercenaries, all entangled in a web of deception. Ethan's resilience was pushed to its limits as he evaded their clutches, relying on his training and instincts to outwit his adversaries.  Amidst the chaos, Ethan discovered a hidden connection between himself and the mysterious organization that sought his demise. Unbeknownst to him, he possessed an uncanny ability to unlock long-dormant memories, memories that held the key to an ancient artifact rumored to possess unimaginable power. This revelation marked a turning point in his quest, as he realized that his actions were not only a matter of personal survival but threatened the delicate balance of the entire world.  With newfound purpose, Ethan embarked on a perilous journey across continents, battling foes and confronting the ghosts of his past. He delved into ancient texts, deciphering cryptic symbols and untangling riddles that led him closer to the artifact's secret location. The world around him trembled, unaware of the cataclysmic power that awaited should the artifact fall into the wrong hands.  In the heart of the Amazon rainforest, amidst lush foliage and echoing wildlife, Ethan reached the sacred temple where the artifact lay hidden. The air crackled with anticipation as he overcame treacherous trials, testing both his physical and mental prowess. With each obstacle conquered, his purpose grew clearer, his resolve unyielding.  Finally, standing on the precipice of destiny, Ethan found himself face to face with his nemesis, the orchestrator of his torment. A battle of wills ensued, each combatant matching the other blow for blow, weaving a deadly dance of strength and strategy. It was a battle that transcended the physical, a clash between opposing ideologies.  In the end, it was Ethan's unwavering determination that prevailed. With a final, decisive strike, he thwarted his enemy's plans and secured the artifact, safeguarding the world from its malevolence. The weight of his actions settled upon him, and as he gazed upon the artifact, he understood the responsibility that came with its power.  With the threat vanquished and the world saved, Ethan's journey drew to a close. He returned to his solitary life in New York, no longer haunted by the phantom of impending danger. Yet, his actions had left an indelible mark upon his soul, a reminder that even in the face of insurmountable odds, one individual could make a difference. And with that knowledge, Ethan Sullivan embraced the path that lay ahead of him, ready to face whatever challenges may come his way.\n",
            "\n",
            "-----------------------------\n",
            "\n",
            "Data Point 2:\n",
            "ID: seed_task_1\n",
            "Input: The sky stretched out before them, an endless expanse of blue pierced only by fluffy white clouds. The air crackled with the anticipation of action as the squadron gathered at the airfield, their sleek fighter jets gleaming under the noon sun. Among the pilots was Captain Joshua Bennett, a seasoned veteran with eyes as sharp as a hawk's, and a heart that beat with the rhythm of war.  Set in the midst of a raging conflict, the story takes place during the height of World War II. Captain Bennett, a fearless and daring leader, had earned his reputation through countless successful missions. He was known for his audacious maneuvers and masterful control of aircraft, traits that instilled confidence in every member of his squadron.  Their current mission was crucial - they were tasked with intercepting and neutralizing a squadron of enemy bombers bound for a nearby heavily fortified city. The stakes were high; failure meant devastation for countless lives on the ground. But failure was not an option for Captain Bennett and his men.  As they climbed into their cockpits, each pilot embraced the danger that lay ahead. The roar of engines filled the air, drowning out all other sounds. The planes taxied onto the runway, lined up with military precision. The countdown began, the moment drawing closer with each passing second.  With a thunderous roar, the planes rocketed into the clear blue sky. Wings unfolded, propellers spun, and the pilots adjusted their throttles to find the perfect balance of speed and maneuverability. The rush of wind whipped their faces as they gained altitude, soaring towards their destiny.  As they closed in on the enemy formation, the first hints of adrenaline coursed through their veins. The lead bomber came into view, its gray monstrosity blotting out the sun. It was a formidable target, bristling with defensive guns and encased in heavy armor.  Captain Bennett's voice broke through the radio static, calm yet tinged with intensity. \"Stick to the plan, gentlemen. Stay in formation, and watch each other's backs.\" The squadron spread their wings and formed a protective wall around their leader. It was time to engage.  In a dazzling display of aerial acrobatics and precision, the dogfight began. Fighter jets darted and weaved through the air, leaving white contrails in their wake. The deafening roar of engines mingled with the staccato bursts of gunfire. Maneuvers honed through countless hours of training were put to the test as the pilots pushed themselves to the limits.  Enemy tracers wove through the sky like deadly ribbons, threatening to tear the squadron apart. Captain Bennett's instincts kicked in, his eyes scanning the chaotic battlefield, searching for weak points. He made split-second decisions, radioing commands to his men as they fought tooth and nail against their adversaries.  Bullets grazed wings, but the pilots pressed on, clinging to that indomitable spirit of victory. They danced with death, their every move calculated and executed with utmost precision. Captain Bennett, like a maestro directing an orchestra, orchestrated the deadly symphony of war, leading his men with unwavering determination.  As the fight raged on, the squadron's efforts began to bear fruit. One enemy bomber after another plummeted from the sky, engulfed in billowing flames. The sky turned into a kaleidoscope of smoke and fire, a testament to their courage and skill. The tide began to turn, the remaining enemy formations faltering under the relentless onslaught.  And then, silence fell upon the battlefield. The enemy bombers lay shattered and defeated, scattered like forlorn chess pieces across the sky. The squadron, weary yet triumphant, regrouped in a display of unity and solidarity.  Captain Bennett's voice broke through the radio once again, this time filled with pride. \"Well done, gentlemen. Another victory for the history books.\" The cheers of his comrades echoed in the air, mingling with the sea breeze.  As the planes headed back to base, engines humming in synchrony, the captain couldn't help but smile. They had prevailed against all odds, proving their mettle in the crucible of combat. He knew that their actions had made a difference, had saved lives, and kept hope alive in the hearts of those on the ground.  Their legacy as warriors in the skies would forever be remembered, etched in the annals of history. And Captain Joshua Bennett, the fearless leader who led his squadron with unwavering resolve, would forever be hailed as a hero, a beacon of courage in the darkest of times.\n",
            "\n",
            "-----------------------------\n",
            "\n",
            "Data Point 3:\n",
            "ID: seed_task_2\n",
            "Input: In the midst of a bustling metropolis teeming with skyscrapers that seemingly touched the heavens, nestled a small and unassuming garage. It belonged to Ethan, a young and brilliant engineer consumed by his insatiable thirst for innovation and adventure. With grease-stained hands and a mind full of ideas, he spent every waking hour tinkering and crafting marvelous inventions that could turn dreams into reality.  One fateful afternoon, while rummaging through a box filled with ancient blueprints, Ethan stumbled upon a peculiar schematic. It depicted a colossal machine, a menacing giant robot with gleaming steel limbs and an aura of unstoppable power. Intrigued and fascinated, he couldn't resist the temptation to bring this mechanical behemoth to life.  Days turned into weeks, and nights melted away as Ethan toiled tirelessly in his secluded workshop, pouring every ounce of his skill and determination into the construction of his masterpiece. Finally, after countless sleepless nights, his creation stood before him in all its majestic glory - a formidable mech equipped with an array of devastating weapons, ready to challenge any foe that dared face it.  News of Ethan's extraordinary creation spread like wildfire across the city, catching the attention of a notorious and power-hungry conglomerate known as IronCorp Industries. Their enigmatic leader, Raymond Blackwood, was a zealous man who sought to dominate the world using an army of unstoppable robots. Enraged by the presence of a potential rival, Blackwood devised a sinister plan to steal Ethan's invention, ensuring his own hegemony remained unchallenged.  As dusk settled over the city, Ethan climbed into the cockpit of his mighty mech, aptly named \"Ironfire,\" and prepared for battle. He had heard whispers of IronCorp's plans and knew that he must act swiftly to protect his creation, and by extension, the very heart of innovation itself.  Engulfed in the shadows, Ethan set out on a perilous journey through the dimly lit streets, radar systems humming softly as he tracked the movements of IronCorp's relentless forces. Every corner of the city seemed to pulsate with danger, each alleyway hiding a potential ambush. But Ethan's resolve burned bright, and with every step, his heart raced with a mix of anticipation and desperation.  Finally, deep within the heart of an abandoned factory, a cacophony of metallic growls echoed ominously. Ironfire stepped forward, ready to face an army of imposing IronCorp robots driven by malice and greed. As the battle raged on, Ethan's instincts and intimate knowledge of his creation guided him. He evaded crushing blows and countered with devastating precision, each strike in perfect harmony with the symphony of danger that surrounded him.  In a climactic clash of metal and might, Ironfire unleashed a powerful surge of energy that coursed through the remnants of IronCorp's defeated robots. Sparks danced and smoke filled the air, the battle leaving nothing but a wake of debris in its path. Ethan stood triumphant, having defended his creation and regained his vision of a world where innovation thrived untethered.  Word of Ethan's heroic victory spread throughout the city, and he became a legend, a symbol of defiance against corporate tyranny. IronCorp, left in shambles, retreated into the shadows, their dreams of domination shattered. From that day forward, the city monumentally shifted, embracing a new era where aspiring inventors and unyielding dreamers were celebrated and cherished.  As the sun set on the horizon, bathing the city in hues of crimson and gold, Ethan surveyed the landscape that had once been plagued by darkness. A smile graced his lips, knowing that he had played a pivotal role in defending the very essence of action and innovation against overwhelming odds. And with newfound hope in his heart, he embarked on a journey to inspire a generation and forge a future where dreams knew no boundaries.\n",
            "\n",
            "-----------------------------\n",
            "\n"
          ]
        }
      ]
    },
    {
      "cell_type": "markdown",
      "source": [
        "# **Automatic Chain of Thought Story Generation Prompt**"
      ],
      "metadata": {
        "id": "4T31f3CMfuzc"
      }
    },
    {
      "cell_type": "code",
      "source": [
        "#Automatic Chain of Thought Story Generation Prompt:\n",
        "def get_automatic_chain_prompt(x):\n",
        "    result = f\"### Instruction:\\nBegin crafting a story inspired by the following prompt. Allow your imagination to guide the narrative naturally.\\n\\n{x['Story']}\"\n",
        "    return result\n"
      ],
      "metadata": {
        "id": "5gC0JXSyHaVZ"
      },
      "execution_count": 13,
      "outputs": []
    },
    {
      "cell_type": "markdown",
      "source": [
        "# **Display prompts for the first 5 data points**"
      ],
      "metadata": {
        "id": "570EBoeugECb"
      }
    },
    {
      "cell_type": "code",
      "source": [
        "# Generate prompts for each data point in the subset dataset\n",
        "prompts = []\n",
        "for i in range(num_samples_to_display):\n",
        "    data = subset_dataset[i]\n",
        "    prompt = get_automatic_chain_prompt(data)\n",
        "    prompts.append(prompt)\n",
        "\n",
        "# Display the generated prompts or use them as needed\n",
        "for idx, prompt in enumerate(prompts[:5]):  # Display prompts for the first 5 data points\n",
        "    print(f\"Prompt for Data Point {idx + 1}:\")\n",
        "    print(prompt)\n",
        "    print(\"\\n-----------------------------\\n\")\n"
      ],
      "metadata": {
        "id": "8deQRMNlJcAg",
        "colab": {
          "base_uri": "https://localhost:8080/"
        },
        "outputId": "6e6f842b-9fa4-45aa-f452-57b8ecddd4e3"
      },
      "execution_count": 14,
      "outputs": [
        {
          "output_type": "stream",
          "name": "stdout",
          "text": [
            "Prompt for Data Point 1:\n",
            "### Instruction:\n",
            "Begin crafting a story inspired by the following prompt. Allow your imagination to guide the narrative naturally.\n",
            "\n",
            "In the bustling city of New York, where the neon lights flickered and the sound of traffic reverberated through the streets, lived a man named Ethan Sullivan. With his chiseled jawline, piercing blue eyes, and a physique carved by years of training, Ethan possessed an air of mystery that intrigued those who crossed his path. He lived a solitary life in a modest apartment, spending his days as an accountant, his nights cloaked in shadows and secrecy.  One fateful morning, as the city awoke to the rhythmic beat of its own heartbeat, Ethan received a cryptic message on a burner phone. It simply stated, \"They're coming for you.\" His heart quickened, and a wave of apprehension washed over him. Who were \"they,\" and why were they after him? Ethan's blood ran cold, fueling a surge of adrenaline that urged him to take action.  Without a moment's hesitation, Ethan gathered his meager belongings and made his way to a hidden room beneath his apartment. The room, concealed behind a bookshelf, was a secret sanctuary where he had spent countless hours honing his skills and preparing for the unknown. As he descended the narrow staircase, the walls whispered tales of peril and resilience, fueling his determination.  Days turned into nights, and the hunt for Ethan intensified. He navigated the city's labyrinthine underworld, seeking answers to the questions that shadowed his every step. His pursuit brought him face to face with a network of spies, double agents, and dangerous mercenaries, all entangled in a web of deception. Ethan's resilience was pushed to its limits as he evaded their clutches, relying on his training and instincts to outwit his adversaries.  Amidst the chaos, Ethan discovered a hidden connection between himself and the mysterious organization that sought his demise. Unbeknownst to him, he possessed an uncanny ability to unlock long-dormant memories, memories that held the key to an ancient artifact rumored to possess unimaginable power. This revelation marked a turning point in his quest, as he realized that his actions were not only a matter of personal survival but threatened the delicate balance of the entire world.  With newfound purpose, Ethan embarked on a perilous journey across continents, battling foes and confronting the ghosts of his past. He delved into ancient texts, deciphering cryptic symbols and untangling riddles that led him closer to the artifact's secret location. The world around him trembled, unaware of the cataclysmic power that awaited should the artifact fall into the wrong hands.  In the heart of the Amazon rainforest, amidst lush foliage and echoing wildlife, Ethan reached the sacred temple where the artifact lay hidden. The air crackled with anticipation as he overcame treacherous trials, testing both his physical and mental prowess. With each obstacle conquered, his purpose grew clearer, his resolve unyielding.  Finally, standing on the precipice of destiny, Ethan found himself face to face with his nemesis, the orchestrator of his torment. A battle of wills ensued, each combatant matching the other blow for blow, weaving a deadly dance of strength and strategy. It was a battle that transcended the physical, a clash between opposing ideologies.  In the end, it was Ethan's unwavering determination that prevailed. With a final, decisive strike, he thwarted his enemy's plans and secured the artifact, safeguarding the world from its malevolence. The weight of his actions settled upon him, and as he gazed upon the artifact, he understood the responsibility that came with its power.  With the threat vanquished and the world saved, Ethan's journey drew to a close. He returned to his solitary life in New York, no longer haunted by the phantom of impending danger. Yet, his actions had left an indelible mark upon his soul, a reminder that even in the face of insurmountable odds, one individual could make a difference. And with that knowledge, Ethan Sullivan embraced the path that lay ahead of him, ready to face whatever challenges may come his way.\n",
            "\n",
            "-----------------------------\n",
            "\n",
            "Prompt for Data Point 2:\n",
            "### Instruction:\n",
            "Begin crafting a story inspired by the following prompt. Allow your imagination to guide the narrative naturally.\n",
            "\n",
            "The sky stretched out before them, an endless expanse of blue pierced only by fluffy white clouds. The air crackled with the anticipation of action as the squadron gathered at the airfield, their sleek fighter jets gleaming under the noon sun. Among the pilots was Captain Joshua Bennett, a seasoned veteran with eyes as sharp as a hawk's, and a heart that beat with the rhythm of war.  Set in the midst of a raging conflict, the story takes place during the height of World War II. Captain Bennett, a fearless and daring leader, had earned his reputation through countless successful missions. He was known for his audacious maneuvers and masterful control of aircraft, traits that instilled confidence in every member of his squadron.  Their current mission was crucial - they were tasked with intercepting and neutralizing a squadron of enemy bombers bound for a nearby heavily fortified city. The stakes were high; failure meant devastation for countless lives on the ground. But failure was not an option for Captain Bennett and his men.  As they climbed into their cockpits, each pilot embraced the danger that lay ahead. The roar of engines filled the air, drowning out all other sounds. The planes taxied onto the runway, lined up with military precision. The countdown began, the moment drawing closer with each passing second.  With a thunderous roar, the planes rocketed into the clear blue sky. Wings unfolded, propellers spun, and the pilots adjusted their throttles to find the perfect balance of speed and maneuverability. The rush of wind whipped their faces as they gained altitude, soaring towards their destiny.  As they closed in on the enemy formation, the first hints of adrenaline coursed through their veins. The lead bomber came into view, its gray monstrosity blotting out the sun. It was a formidable target, bristling with defensive guns and encased in heavy armor.  Captain Bennett's voice broke through the radio static, calm yet tinged with intensity. \"Stick to the plan, gentlemen. Stay in formation, and watch each other's backs.\" The squadron spread their wings and formed a protective wall around their leader. It was time to engage.  In a dazzling display of aerial acrobatics and precision, the dogfight began. Fighter jets darted and weaved through the air, leaving white contrails in their wake. The deafening roar of engines mingled with the staccato bursts of gunfire. Maneuvers honed through countless hours of training were put to the test as the pilots pushed themselves to the limits.  Enemy tracers wove through the sky like deadly ribbons, threatening to tear the squadron apart. Captain Bennett's instincts kicked in, his eyes scanning the chaotic battlefield, searching for weak points. He made split-second decisions, radioing commands to his men as they fought tooth and nail against their adversaries.  Bullets grazed wings, but the pilots pressed on, clinging to that indomitable spirit of victory. They danced with death, their every move calculated and executed with utmost precision. Captain Bennett, like a maestro directing an orchestra, orchestrated the deadly symphony of war, leading his men with unwavering determination.  As the fight raged on, the squadron's efforts began to bear fruit. One enemy bomber after another plummeted from the sky, engulfed in billowing flames. The sky turned into a kaleidoscope of smoke and fire, a testament to their courage and skill. The tide began to turn, the remaining enemy formations faltering under the relentless onslaught.  And then, silence fell upon the battlefield. The enemy bombers lay shattered and defeated, scattered like forlorn chess pieces across the sky. The squadron, weary yet triumphant, regrouped in a display of unity and solidarity.  Captain Bennett's voice broke through the radio once again, this time filled with pride. \"Well done, gentlemen. Another victory for the history books.\" The cheers of his comrades echoed in the air, mingling with the sea breeze.  As the planes headed back to base, engines humming in synchrony, the captain couldn't help but smile. They had prevailed against all odds, proving their mettle in the crucible of combat. He knew that their actions had made a difference, had saved lives, and kept hope alive in the hearts of those on the ground.  Their legacy as warriors in the skies would forever be remembered, etched in the annals of history. And Captain Joshua Bennett, the fearless leader who led his squadron with unwavering resolve, would forever be hailed as a hero, a beacon of courage in the darkest of times.\n",
            "\n",
            "-----------------------------\n",
            "\n",
            "Prompt for Data Point 3:\n",
            "### Instruction:\n",
            "Begin crafting a story inspired by the following prompt. Allow your imagination to guide the narrative naturally.\n",
            "\n",
            "In the midst of a bustling metropolis teeming with skyscrapers that seemingly touched the heavens, nestled a small and unassuming garage. It belonged to Ethan, a young and brilliant engineer consumed by his insatiable thirst for innovation and adventure. With grease-stained hands and a mind full of ideas, he spent every waking hour tinkering and crafting marvelous inventions that could turn dreams into reality.  One fateful afternoon, while rummaging through a box filled with ancient blueprints, Ethan stumbled upon a peculiar schematic. It depicted a colossal machine, a menacing giant robot with gleaming steel limbs and an aura of unstoppable power. Intrigued and fascinated, he couldn't resist the temptation to bring this mechanical behemoth to life.  Days turned into weeks, and nights melted away as Ethan toiled tirelessly in his secluded workshop, pouring every ounce of his skill and determination into the construction of his masterpiece. Finally, after countless sleepless nights, his creation stood before him in all its majestic glory - a formidable mech equipped with an array of devastating weapons, ready to challenge any foe that dared face it.  News of Ethan's extraordinary creation spread like wildfire across the city, catching the attention of a notorious and power-hungry conglomerate known as IronCorp Industries. Their enigmatic leader, Raymond Blackwood, was a zealous man who sought to dominate the world using an army of unstoppable robots. Enraged by the presence of a potential rival, Blackwood devised a sinister plan to steal Ethan's invention, ensuring his own hegemony remained unchallenged.  As dusk settled over the city, Ethan climbed into the cockpit of his mighty mech, aptly named \"Ironfire,\" and prepared for battle. He had heard whispers of IronCorp's plans and knew that he must act swiftly to protect his creation, and by extension, the very heart of innovation itself.  Engulfed in the shadows, Ethan set out on a perilous journey through the dimly lit streets, radar systems humming softly as he tracked the movements of IronCorp's relentless forces. Every corner of the city seemed to pulsate with danger, each alleyway hiding a potential ambush. But Ethan's resolve burned bright, and with every step, his heart raced with a mix of anticipation and desperation.  Finally, deep within the heart of an abandoned factory, a cacophony of metallic growls echoed ominously. Ironfire stepped forward, ready to face an army of imposing IronCorp robots driven by malice and greed. As the battle raged on, Ethan's instincts and intimate knowledge of his creation guided him. He evaded crushing blows and countered with devastating precision, each strike in perfect harmony with the symphony of danger that surrounded him.  In a climactic clash of metal and might, Ironfire unleashed a powerful surge of energy that coursed through the remnants of IronCorp's defeated robots. Sparks danced and smoke filled the air, the battle leaving nothing but a wake of debris in its path. Ethan stood triumphant, having defended his creation and regained his vision of a world where innovation thrived untethered.  Word of Ethan's heroic victory spread throughout the city, and he became a legend, a symbol of defiance against corporate tyranny. IronCorp, left in shambles, retreated into the shadows, their dreams of domination shattered. From that day forward, the city monumentally shifted, embracing a new era where aspiring inventors and unyielding dreamers were celebrated and cherished.  As the sun set on the horizon, bathing the city in hues of crimson and gold, Ethan surveyed the landscape that had once been plagued by darkness. A smile graced his lips, knowing that he had played a pivotal role in defending the very essence of action and innovation against overwhelming odds. And with newfound hope in his heart, he embarked on a journey to inspire a generation and forge a future where dreams knew no boundaries.\n",
            "\n",
            "-----------------------------\n",
            "\n",
            "Prompt for Data Point 4:\n",
            "### Instruction:\n",
            "Begin crafting a story inspired by the following prompt. Allow your imagination to guide the narrative naturally.\n",
            "\n",
            "In the heart of a once-thriving metropolis, now reduced to a desolate wasteland, a lone figure emerged from the shadows. Leather-clad and armed to the teeth, his name was Gabriel. Standing at the precipice of an abandoned street, he surveyed the remnants of what was once a bustling city. Hollowed buildings loomed like guardians of a forgotten time, their broken windows reflecting the glimmers of an apocalyptic twilight.  It had been years since the outbreak, the virus that turned ordinary people into ravenous zombies. Gabriel, a former army officer, had become a symbol of hope in this desolate world. With his unwavering determination and unparalleled combat skills, he had earned the respect of fellow survivors. But there was one mission that haunted his every step – the hunt for Patient Zero, the source of this unspeakable horror.  As Gabriel patrolled the remnants of humanity's domain, a garbled transmission pierced the silence, crackling with static. It was a distress call from a nearby settlement. He hesitated for a moment, torn between his undying pursuit and the plight of innocents in need. His duty prevailed, and he set off towards the desperate cries of his fellow survivors.  Arriving at the settlement, Gabriel found himself face to face with chaos. The once-peaceful refuge had been overrun by hordes of infected. Their guttural moans filled the air as they mindlessly tore through barricades and devoured any living thing in their path. Amidst the bedlam, a young woman named Ava caught Gabriel's eye. Fearlessly armed with her own makeshift weapons, she fought valiantly to protect the last remnants of her community.  Recognizing her grit, Gabriel teamed up with Ava to stem the tide of the infected. Together, they forged a path through the chaos, leaving a trail of fallen zombies in their wake. Their teamwork was seamless, as if forged in the fires of adversity. Gabriel marveled at Ava's resilience and fiery determination as they battled side by side. It was a beacon of light in a world veiled in darkness.  Their efforts culminated in a climactic showdown with a particularly formidable horde. Surrounded, Gabriel and Ava fought with unmatched ferocity. Their weapons whirled through the air, dispatching zombie after zombie. Every strike was executed flawlessly, guided by their shared purpose. In the final moments, Gabriel unleashed a torrent of bullets, decimating the horde.  Exhausted but triumphant, Gabriel and Ava watched as the last of the infected crumpled to the ground. The settlement, once teetering on the edge of destruction, was saved. Gabriel couldn't help but feel a surge of admiration for Ava's indomitable spirit. In her, he discovered a kindred soul - a warrior forged by the unforgiving battleground of a post-apocalyptic world.  With the settlement secured, Gabriel and Ava returned to their never-ending mission - the search for Patient Zero. Fuelled by their recent victory, their resolve grew stronger. They scoured the remnants of civilization, following leads and piecing together clues with dogged determination. And finally, after countless battles and near-death experiences, they unearthed a hidden facility concealing the truth.  Within its sterile walls lay the answer to their questions - the true origin of the virus that had decimated their world. Patient Zero, a shadowy figure named Dr. Emil Reinhardt, had been consumed by the very entity he had created. The duo confronted the fallen scientist, his twisted form bearing evidence of his monstrous experiments. With a final burst of strength, Gabriel and Ava ended the life of the man who had unleashed this plague.  In the aftermath, as Gabriel and Ava surveyed the smoldering ruins of the facility, a sense of bitter victory washed over them. The battle against the infected hordes would continue, but a small semblance of justice had been attained. With renewed purpose and an unbreakable bond, they vowed to push forward, fighting relentlessly until the world they once knew was restored.  United by their resilience and unwavering courage, Gabriel and Ava became legends whispered in the ears of survivors, igniting a dwindling flame of hope in the darkest corners of the earth. In a world ravaged by zombies and despair, their actions spoke louder than words, inspiring others to rise against the encroaching tide of darkness.\n",
            "\n",
            "-----------------------------\n",
            "\n",
            "Prompt for Data Point 5:\n",
            "### Instruction:\n",
            "Begin crafting a story inspired by the following prompt. Allow your imagination to guide the narrative naturally.\n",
            "\n",
            "In the gritty underbelly of a city plagued by crime, Detective John Anderson was a tenacious force to be reckoned with. Tall and lean, with a sharp jawline and piercing blue eyes, he exuded an aura of unwavering determination. The city had become his battleground, and the criminals feared his name.  The whispers on the streets spoke of a notorious criminal mastermind known as \"The Phantom.\" No one had ever seen his face, and his crimes left the police baffled. Like a phantom, he slipped through their fingers, leaving no trace behind. Detective Anderson was obsessed with catching him, a relentless pursuit that consumed his every waking moment.  Late one stormy evening, as the rain poured mercilessly, Detective Anderson received a tip that The Phantom was planning a heist at the city's prestigious art museum. Determined to finally corner his elusive adversary, Anderson made his way to the darkened museum, the faint glow of the moon highlighting his determined gaze.  Inside the museum, the tension thickened as Anderson explored the labyrinthine corridors and galleries. True to his name, The Phantom seemed to be everywhere and nowhere all at once. Paintings were stolen, alarms were triggered, and yet the criminal remained elusive. It was a cat and mouse game, each move meticulously planned, leaving Anderson scrambling to anticipate the next.  Days turned into weeks, and the city grew restless, with each passing moment the grip of fear tightened. The newspapers were filled with headlines screaming of a criminal genius outsmarting the police force at every turn. But Detective Anderson remained undeterred, fueled by a relentless desire for justice.  One fateful night, Anderson received a cryptic message, informing him that The Phantom would strike at the city's grand opera house. Racing against time, he stormed into the opulent theater as the first notes of a symphony filled the air. The tension palpable, Anderson carefully weaved his way through the crowd, his eyes scanning for any suspicious individuals.  As the performance reached its crescendo, a sudden commotion erupted. The lights flickered, and chaos ensued. Anderson instinctively sprinted towards the source of the disturbance. In a darkened corner, he caught a glimpse of a figure he knew all too well. The Phantom.  A chase ensued through the labyrinthine backstage area, their footsteps echoing like thunder. Anderson's heart pounded in his chest as he closed in on his prey. With each twist and turn, he felt the thrum of adrenaline course through his veins, propelling him forward.  Finally, in a moment of sheer determination, Anderson tackled The Phantom to the ground, their bodies colliding with a resounding thud. As they wrestled on the cold floor, Anderson's grip tightened, his fingers digging into the criminal's flesh. The long-awaited arrest was within his grasp.  With the handcuffs securely fastened around The Phantom's wrists, Anderson couldn't help but feel a mix of triumph and relief. The city could finally breathe a sigh of relief, knowing that justice had prevailed. It was a victory hard-fought, a testament to the determination and unwavering resolve of one man.  As the sirens wailed in the distance, Anderson looked down at his defeated adversary, the rain washing away the masquerade of anonymity from The Phantom's face. The eyes staring back at him were filled with a mix of defeat and begrudging respect. An unspoken recognition passed between them, as if they were two sides of the same coin, forever destined to dance this dangerous dance.  And so, as the rain continued to pour, Detective John Anderson stood victorious in the darkness, a testament to the indomitable spirit of those who refuse to falter in the face of evil. The city would remember his name, just as The Phantom would forever be etched in the annals of criminal history. The cat and mouse game had reached its climax, leaving behind a trail of broken illusions and hard-fought triumphs.\n",
            "\n",
            "-----------------------------\n",
            "\n"
          ]
        }
      ]
    },
    {
      "cell_type": "markdown",
      "source": [
        "# **More Examples of Prompts**"
      ],
      "metadata": {
        "id": "wIV0IPUNgIrU"
      }
    },
    {
      "cell_type": "code",
      "source": [
        "# Generate prompts for each data point in the subset dataset\n",
        "prompts = []\n",
        "for i in range(num_samples_to_display):\n",
        "    data = subset_dataset[i]\n",
        "    prompt = get_automatic_chain_prompt(data)\n",
        "    prompts.append(prompt)\n",
        "\n",
        "# Display the generated prompts or use them as needed\n",
        "for idx, prompt in enumerate(prompts[5:10]):  # Display prompts for the first 3 data points\n",
        "    print(f\"Prompt for Data Point {idx + 1}:\")\n",
        "    print(prompt)\n",
        "    print(\"\\n-----------------------------\\n\")\n"
      ],
      "metadata": {
        "id": "jIA4PQZEPjxm",
        "colab": {
          "base_uri": "https://localhost:8080/"
        },
        "outputId": "ce402834-ba0e-427d-a6ee-655bf61a6995"
      },
      "execution_count": 15,
      "outputs": [
        {
          "output_type": "stream",
          "name": "stdout",
          "text": [
            "Prompt for Data Point 1:\n",
            "### Instruction:\n",
            "Begin crafting a story inspired by the following prompt. Allow your imagination to guide the narrative naturally.\n",
            "\n",
            "In the crumbling metropolis of Neo-Arkadia, a city teetering on the brink of chaos, rival gangs waged war for control over scarce resources. Dilapidated skyscrapers stood tall, their shattered windows reflecting the desolation that shrouded the once-thriving urban landscape. Among this dystopian backdrop, two formidable gangs emerged as the most powerful contenders: the Razor Wings and the Shadow Serpents.  The city's unmistakable staleness hung in the air as the sun dipped below the horizon, casting long shadows across the cracked pavement. The Red Sector, a territory claimed by the Shadow Serpents, pulsated with an otherworldly energy. Led by the enigmatic and ruthless Viper, the gang thrived in the darkness, leaving a trail of chaos and blood in their wake.  In stark contrast, the Blue Sector was the bastion of the Razor Wings. Led by the charismatic yet relentless Phoenix, they were the embodiment of unruly rebellion. Their numbers may have been smaller, but their will to fight was unmatched. The graffiti-covered walls of their stronghold echoed with whispered rumors of their plans to overthrow the Shadow Serpents and restore balance to the decaying city.  As tensions heightened, fate trembled upon a solitary moment. On the eve of the city's annual Nightfall Festival, whispers of an all-out confrontation between the two gangs swirled through the dilapidated streets. The Nightfall Festival, a rare celebration in this bleak existence, invited both gangs to a truce for one night. It was an opportunity seeded with the promise of peace, yet primed to ignite a cataclysmic clash.  The streets thrummed with anticipation, every neon sign flickering with a touch of menace. The colorful streamers that adorned the lamp posts seemed out of place, like desperate pleas for hope in a world devoid of it. The festival grounds were a whirlwind of activity, the air filled with the scent of sizzling street food and the symphony of laughter and music, tinged with an undercurrent of tension.  As the clock struck midnight, the stage was set, the city holding its breath. The crowd parted like the Red Sea as Viper, clad in a cloak of shadow, made his grand entrance, flanked by his loyal Serpents. Phoenix, his gaze unwavering, countered with the audacity of youth, leading the Razor Wings forward.  With bated breath, Neo-Arkadia watched as the cacophony of conflict unfolded. Fists flew through the air, creating a symphony of impact. The neon glow illuminated their faces, etching the ferocity in their eyes. The clashes were both fierce and calculated, a ballet of destruction that danced upon the razors' edge.  Amidst the chaos, a glimmer of hope emerged. A young woman, an outsider named Ember, maneuvered through the chaos, a spark of defiance ignited within her. Inspired by the determination of both gangs, she sought to bridge the divide and create a truce that transcended the blood-soaked street.  With her heart pounding in her chest, Ember maneuvered through the battlefield, dodging blows and leaping over obstacles. Her voice reverberated through the shattered cityscape, a beacon of unity in the relentless storm. Her words cascaded like a soothing rain, washing away the deep-rooted animosity that had consumed them.  Slowly, the Razor Wings and the Shadow Serpents began to lower their weapons. Eyes met across the battlefield, once filled with rage, now softened by the ember of shared humanity. Defying the decay that had plagued their lives, they stood united, embracing the possibility of a brighter future.  As dawn broke over the horizon, the city stirred from its slumber, forever transformed. The rival gangs, once locked in a bitter struggle, found a fragile alliance forged in the crucible of battle. Under a new banner, the united factions worked tirelessly to rebuild their crumbling home, turning the ravaged concrete jungle into an oasis of resilience and hope.  And so, Neo-Arkadia dared to dream of a world where the echoes of conflict faded into whispers of the past, where hearts, once entwined by hatred, birthed a harmony that resonated throughout the city's rebirth. In this dystopian future, action had kindled the fire of change, casting aside the chains that had bound them and leading them toward a future rebuilt on the foundations of unity.\n",
            "\n",
            "-----------------------------\n",
            "\n",
            "Prompt for Data Point 2:\n",
            "### Instruction:\n",
            "Begin crafting a story inspired by the following prompt. Allow your imagination to guide the narrative naturally.\n",
            "\n",
            "Amidst the inky blackness of the night, a seamless curtain of shadows unfurled itself over the dense wilderness. In the heart of a war-torn nation, nestled between towering mountains and treacherous valleys, lay a remote enemy stronghold. It was here that the fate of an entire nation teetered on the precipice of destruction. Behind the menacing gates and fortified walls, the nefarious General Viktor Verenov reigned supreme, orchestrating his malevolent plans in secret.  In this harrowing landscape, emerged our indomitable hero, Captain Ethan Reynolds, an elite operative trained in the art of covert warfare. With a lean and chiseled physique, Ethan's eyes burned with a fierce determination, his every muscle honed to perfection. Tasked with a critical mission that could turn the tides of battle, he found himself alone, deep behind enemy lines.  As the moon cast its pale light upon the sprawling compound, Ethan stealthily weaved through the labyrinthine corridors, his senses heightened and alert. Every step was calculated, every breath controlled, as he evaded the vigilant guards patrolling the area. His mission was clear: to retrieve vital intelligence that would expose General Verenov's nefarious plans and bring an end to his reign of terror.  The relentless pursuit of his mission led Ethan deeper into the dark underbelly of the compound. He encountered locked doors, intricate security systems, and laser-tripped alarm systems, but his training had prepared him for such obstacles. With deft precision, he dismantled booby traps and outwitted sophisticated surveillance systems, leaving no trace of his presence.  Unbeknownst to Ethan, General Verenov had caught wind of an intruder within his sacred fortress. His paranoia peaked, and he ordered his troops to scour every inch of the compound. The tension in the air thickened as the noose closed in on Ethan, his heart pounding within the confines of his chest.  As dawn broke, bathing the world in shades of orange and gold, Ethan found himself standing on the precipice of success. With perspiration glistening on his brow, he uncovered the hidden vault containing the secrets of General Verenov's master plan. The room was adorned with maps, charts, and classified documents that revealed a sinister plot to unleash a devastating weapon upon innocent civilians. The weight of a nation's hope rested on Ethan's shoulders as he memorized every detail, ready to relay this critical information to his comrades.  With the evidence concealed beneath the folds of his tactical vest, Ethan made his way towards the extraction point. The compound was now alive with frenzied soldiers, their footsteps echoing like thudding drums. His heart raced as he moved soundlessly, melting into the shadows, staying just one step ahead of the enemy's relentless pursuit.  The final stretch of his escape presented formidable challenges, including an electrified fence and a veritable maze of enemy patrols. Ethan, however, tapped into the reserves of his training and stealthily navigated through the treacherous obstacles. Drawing upon his unwavering resolve, he leaped over the fence, nearly brushing against the charged wires, and merged seamlessly into the wilderness beyond.  As the sun reached its apex in the sky, Ethan finally reached the rendezvous point, a remote clearing nestled deep in the forest. It was here that he would meet his comrades, passing on the information that held the power to cripple General Verenov's insidious plans. Moments later, a helicopter materialized from the heavens, lowering its ladder towards Ethan. His fingers tightly clutching the classified documents, he ascended into the hovering aircraft, leaving the enemy stronghold behind.  Days turned into weeks, and the mission's significance rippled through the nation. Armed with Ethan's intelligence, the allied forces struck with precision, dismantling General Verenov's empire piece by piece. The enemy stronghold crumbled, and the people of the war-torn nation breathed a collective sigh of relief.  For his unparalleled bravery and unwavering dedication to the cause, Captain Ethan Reynolds was honored with the highest accolades. However, true to his nature, he remained humble, knowing that his actions were merely part of a larger tapestry of sacrifices made by countless individuals in the name of freedom.  In the years that followed, Captain Ethan Reynolds continued his role in covert operations, embarking on countless missions behind enemy lines. His actions would forever reverberate through the annals of history, reminding the world of the valor and selflessness required to protect the values held dear.\n",
            "\n",
            "-----------------------------\n",
            "\n",
            "Prompt for Data Point 3:\n",
            "### Instruction:\n",
            "Begin crafting a story inspired by the following prompt. Allow your imagination to guide the narrative naturally.\n",
            "\n",
            "In a sprawling metropolis known as NeoCity, the pulsating heart of technological advancement, a group of elite hackers known as \"The Phantom Shadows\" dwelled in the shadows. Led by their enigmatic leader, Cipher, they navigated the intricate web of cyberspace with unparalleled skill. With their nimble fingers dancing across keyboards and minds ceaselessly calculating algorithms, they were the unseen kings of the digital realm.  As the sun dipped below the horizon, casting an ethereal glow over the glistening skyscrapers, Cipher gathered his team for a secret meeting. In a dimly lit underground hideout, adorned with neon lights and towering stacks of computer servers, they discussed their latest endeavor. A classified government document had come into their possession, revealing a plot by a rogue nation to launch a devastating cyber-attack on NeoCity's infrastructure, sending the entire city into chaos.  This was a battle that extended beyond the virtual realm; lives were at stake, and action needed to be taken. The Phantom Shadows knew that to prevent this catastrophe, they would have to infiltrate the heavily fortified headquarters of their adversaries and acquire the data needed to dismantle their nefarious scheme. Equipped with state-of-the-art hacking tools and with hearts filled with unwavering determination, they prepared themselves for the upcoming mission.  Under the cover of darkness, The Phantom Shadows embarked on their perilous journey. Scaling walls, disabling security systems, and easily bypassing complex firewalls, they were like ghosts weaving through the physical and digital barriers simultaneously. The tension in the air was palpable as they ventured deeper into the enemy's lair.  However, their stealth was not infallible. As Cipher decrypted a crucial file, alarm bells blared, sending the facility into lockdown mode. Armed guards swarmed the corridors, their footsteps growing louder with each passing second. It was a race against time.  With unwavering resolve, The Phantom Shadows split into groups, employing their unparalleled skills to evade capture. Cipher, the master strategist, manipulated the security cameras, causing momentary blind spots, allowing his team to move undetected. Sonic, the agile infiltrator, swiftly made her way through ventilation shafts, dodging laser grids with acrobatic finesse. Meanwhile, Zero, the brilliant codebreaker, hacked into the mainframe, disabling security systems to create an escape route.  Faced with seemingly insurmountable obstacles, The Phantom Shadows relied on their unwavering teamwork and resilience. Even as bullets whizzed past them, they stuck together, utilizing their unique talents to overcome each obstacle with calculated precision. With every keystroke, they got closer to their goal.  Finally, with sweat trickling down their brows and hearts pounding in their chests, they reached the central chamber housing the mastermind behind the cyber-attack. In a climactic confrontation, Cipher engaged in a battle of wits and skill against the formidable enemy. With each stroke of the keyboard, Cipher uncovered the enemy's true identity and motives, exposing their treacherous plot and saving NeoCity from imminent destruction.  As the authorities apprehended the rogue nation's agents and the threat was neutralized, NeoCity rejoiced. The exploits of The Phantom Shadows reverberated through the digital world, earning them legendary status. They had proven that in a world driven by bytes and algorithms, action was a force to be reckoned with.  With their mission accomplished, Cipher and his team vanished back into the depths of cyberspace, their actions leaving an indelible mark on society. The world may never know their true identities, but their legacy as the guardians of justice and masters of cyber warfare would forever be remembered.  And so, in the sprawling metropolis of NeoCity, the invisible warriors fought their battles, protecting the digital realm from those who sought to exploit it. A new era of vigilance had dawned, where the power of action in the face of cyber warfare would forever be heralded as the greatest defense.\n",
            "\n",
            "-----------------------------\n",
            "\n",
            "Prompt for Data Point 4:\n",
            "### Instruction:\n",
            "Begin crafting a story inspired by the following prompt. Allow your imagination to guide the narrative naturally.\n",
            "\n",
            "Amidst the sprawling hills and enchanting groves of the kingdom of Evergreen lay the eminent village of Stonehaven. It was a place known for its tranquil serenity, but little did the villagers know that the fragile peace they held dear was about to be shattered by a consequential series of events. Armand, an honorable and fearless knight, was the talk of the village. Renowned for his skill with a sword, his agile movements, and his tenacity in battle, he was revered by the villagers and feared by anyone foolish enough to challenge him.  One fateful evening, a mysterious stranger arrived in Stonehaven. His name was Lucian, a prodigious swordsman with an air of dark mystery. He was shrouded in black attire, his silver hair cascading down his back, and his eyes emanating an unwavering intensity. Whispers of his formidable talents spread throughout the village, igniting curiosity and trepidation among its inhabitants. It was inevitable that the paths of Armand and Lucian would cross, setting the stage for a duel that would become the stuff of legends.  As the news of Lucian's arrival reached Armand, a glimmer of excitement danced in his steel-blue eyes. His heart yearned for a worthy adversary who could test his mettle, and Lucian appeared to be the perfect challenger. A gathering crowd encircled them as they faced each other in the village square, the atmosphere thick with anticipation. The villagers held their breath, awaiting the clash of the titans.  The duel commenced with a symphony of clashing steel, each sword stroke a testimony to the remarkable skill possessed by both combatants. The sound of their swords reverberated through the village, creating an enchanting melody that captivated all who listened. Armand's movements were precise and calculated, every swing conveying boundless power. Lucian, on the other hand, moved with a graceful elegance, his every strike infused with a touch of unearthly finesse.  Time seemed to stand still as the two warriors engaged in their fierce dance of swords. The villagers watched in awe-struck silence, their eyes darting between the combatants, unable to predict the outcome of the monumental clash. Armand's strength and experience clashed against Lucian's unparalleled technique and speed. It was a battle of contrasts, where every parry and riposte held the weight of destiny.  The duel raged on for what felt like an eternity, each swordsman displaying unwavering determination and an unyielding spirit. The setting sun cast a warm glow over the spectacle, imbuing the final moments with an ethereal beauty. In one swift movement, Lucian's blade found an opening, striking Armand's armor and knocking him to the ground. The crowd gasped in collective disbelief, their admiration for both warriors unyielding.  Glowering down at his wounded opponent, Lucian extended a hand, offering Armand a chance to rise. With a nod of respect, Armand grasped the gesture, accepting his defeat with grace and humility. Though he had fallen in combat, the bond forged between the two swordsmen transcended victory and loss. They had witnessed the embodiment of true skill, and both earned the respect of the villagers.  From that day forward, Stonehaven became a bastion of martial prowess and camaraderie. The villagers turned the duel into a yearly event, celebrating the valor and skill displayed by Armand and Lucian. The profound impact of their duel inspired a generation of aspiring swordsmen, forever etching their names in the annals of the village. Armand and Lucian's story became a timeless legend, a testament to the power of action and the enduring legacy of a duel between skilled swordsmen.\n",
            "\n",
            "-----------------------------\n",
            "\n",
            "Prompt for Data Point 5:\n",
            "### Instruction:\n",
            "Begin crafting a story inspired by the following prompt. Allow your imagination to guide the narrative naturally.\n",
            "\n",
            "In the realm of Vindranth, where emerald green meadows stretched out endlessly, stood the ancient city of Ardentia. Its stone walls boasted the tales of countless generations, and its people were known far and wide for their valor and courage. In the heart of the city, a young knight named Lysander spent his days training in the art of swordsmanship. With a heart enlightened by only the many legends of warrior's past, Lysander yearned for the day when he would embark on his own heroic journey.  News arrived in the city that the neighboring kingdom of Ravenholm was ravaged by a great evil. A ruthless sorcerer, known as Morvath the Terrible, had seized control and terrorized the land. Seeking glory and armed with a razor-sharp blade, Lysander volunteered to venture forth, leaving the safety of Ardentia behind.  As our valiant knight approached the border of Ravenholm, he could see the once vibrant fields drowned in darkness. The eerie silence that hung in the air was only broken by the distant howl of a lone wolf. Gripping the hilt of his sword, Lysander's heart pounded with anticipation as he ventured deeper into the kingdom.  Soon, Lysander found himself traversing a treacherous mountain pass, its jagged peaks clawing at the sky above. A sudden gust of wind carried with it a whispered warning - a tribe of merciless bandits awaited those foolish enough to challenge them. Undeterred, Lysander pressed on, ready to face any foes that crossed his path.  As the sun dipped below the mountains, casting long shadows across the land, Lysander stumbled upon a hidden glade nestled amidst the ancient trees. To his surprise, he found himself face-to-face with a fearsome warrior named Malachi. With a towering stature and a sword as wide as a man's arm, Malachi possessed an unmatched prowess and reputation for his epic swordsmanship.  Recognizing the brotherhood borne from the art of the blade, Malachi agreed to teach Lysander the secret techniques of a true swordsman. For days, Lysander and Malachi sparred under the moonlit sky, their swords clashing in a symphony of steel that echoed through the trees. With each passing day, Lysander's skill grew, and his determination reached new heights.  Empowered by his newfound confidence, Lysander pressed forward, confronting Morvath's minions with righteous fury. Swarms of wicked creatures lunged at him from every corner, but the young knight deflected and parried their attacks with precision. With the legendary swordsmanship of Ardentia coursing through his veins, Lysander defeated every foe that dared cross his path.  Finally, the day of reckoning arrived. In the heart of Ravenholm, upon a desolate battleground, Morvath the Terrible awaited his challenger. Dressed in dark robes and wielding a staff crackling with malevolent energy, the sorcerer exuded an aura of sheer malevolence. Yet, Lysander remained undeterred, his grip on his sword tightening as he faced his greatest adversary.  Their duel was nothing short of extraordinary. Sparks flew as steel clashed against sorcery, the sound reverberating through the barren lands. With every swing of his mighty blade, Lysander's resolve grew, channeling the spirits of the ancient warriors who once defended Vindranth. Slowly but surely, Morvath found himself overwhelmed by the knight's unwavering determination.  In one final strike, Lysander's blade pierced through the sorcerer's defenses, casting Morvath to the ground in defeat. Victory washed over Lysander as the dark forces that clouded Ravenholm dissipated with Morvath's defeat. The land rejoiced, and the people were freed from the grip of tyranny.  Returning to Ardentia as a triumphant hero, Lysander was hailed as a savior, his name forever etched in the annals of legend. However, his greatest reward lay not in the adoration of the masses but in the unwavering knowledge that he had made a difference, that he had answered the call to action, and forged his own epic tale with the sword at his side.  And so, in the realm of Vindranth, where the emerald fields danced in the gentle breeze, Lysander's tale lived on, inspiring generations to come to take up arms and face their own battles. The legacy of his epic sword fights remained eternally etched in the tapestry of history, reminding all who would listen that heroes are made in the crucible of action.\n",
            "\n",
            "-----------------------------\n",
            "\n"
          ]
        }
      ]
    },
    {
      "cell_type": "markdown",
      "source": [
        "# **GPT2 and its tokenizer**\n",
        "* https://huggingface.co/docs/transformers/model_doc/gpt2"
      ],
      "metadata": {
        "id": "ARL-NrpAgSSZ"
      }
    },
    {
      "cell_type": "code",
      "source": [
        "from transformers import AutoTokenizer, AutoModelForCausalLM\n",
        "tokenizer = AutoTokenizer.from_pretrained('gpt2')\n",
        "model = AutoModelForCausalLM.from_pretrained('gpt2')"
      ],
      "metadata": {
        "id": "LaRsH5I-MbGs",
        "colab": {
          "base_uri": "https://localhost:8080/",
          "height": 209,
          "referenced_widgets": [
            "1091b7ec5cf54a4b8629f3b95542fbe1",
            "14ce22809bca4218baccfc7770cad985",
            "45e90046c23a4c85a58f71bf58b42968",
            "434939fc2d8e4fadaccc83ed51889541",
            "f5516e2a5bca47e48484058f70c59bb2",
            "31bd37e909404a4b8158aefcebfc1084",
            "502e8c1df55e47b684a6f84e09655497",
            "5a69b3ff3548463e80aa1364cd7507b1",
            "80f5fc7165014c1088bd9436f8e736cb",
            "07c83378f6ed4e7392f3c0bbc4325e90",
            "d28a72416ac54347a2c00e2031220209",
            "8a8c53dbee0d421d985c4027547ce686",
            "03f2a4e37c0a4ad0bb4b5ea9c630a20e",
            "145e483e48b841e2b9c90655f0690142",
            "e2582a44aabe43b5ab17891d947f4651",
            "c504e865e84f4e4f857e60d8aaadb4bd",
            "9c86ad33c02d404e8c97b046e3ef1b5c",
            "9547642d2f23415081891861fcb355a3",
            "a5a6e778169d479caa8839f1ccd66640",
            "a33c7cb401b84a3fadb037a3b09edc80",
            "5d41ed16c41a4cf0b1cf982518de742c",
            "f6fbe628b0b4470c845691c69aa9fe8f",
            "1ddf62271e924ab49b00b5356d20701c",
            "cb4079a45a7a49279092bb002ee775ec",
            "f89bcc19d75f4f96b605dfd7a3932a3c",
            "35231167563f4084a13077f68536b5a6",
            "3e3f3f7b6a274c4a92930faea9f5110b",
            "2f657169f6cc4a6eadd5eafabc43b2ad",
            "0b7c89bbd289439b9c56cd454beea0f0",
            "3dd45cbc2b8645128d084e6de498b413",
            "279049dfb7324e569bf7c2615eb0f4f2",
            "5dfac4f5e7564bfc94fd5050f2512e27",
            "b193d071717f4376ab12f8b15c4d4449",
            "459cde5a6d044a119789579ba11376f2",
            "46c4d2233bb7474cbfed9bde31e1240b",
            "e9ae2a2e873c4e49b1855339fa2695bd",
            "b119768b217949a684c4a5d7d1c428cd",
            "005cd03fdb2f4b81a7a1e6cff2932171",
            "8d22181e504045478fa93ff5e33429bc",
            "84c777dea8d7475c8a2eb316eee2d199",
            "e2eda0dc39884146a6ff2345ffb27732",
            "62842562f9504994a9bfa25d8813fdc4",
            "14e0634d20944645aac16292306c1a4b",
            "265fe7632feb4a25ac64c816ba229adc",
            "f5d58e8620e747dda8e58840c936053a",
            "eb2ee36c8da3466ca34c26f168969615",
            "ec2657ba6caa4bfdbc39cdb2993f07d6",
            "0f07f6764b8f4715a90a3cd327fc80a4",
            "2917cbdce68e4506ab255f1a86e5a1a7",
            "1a7b652a77c148f088b4d70e79cbe1e1",
            "78f5a90847234f1da8af885c88f51233",
            "14920747c09044f587f63df4151f7307",
            "003b52e140c24aa99e214b5b41a91b1e",
            "f643ed475c6b4c02b7ef44673dd99a29",
            "01fd9ed2ac7d4d48ac8232a68c6de15e",
            "776b6285f92c48729f39a1d4ac02f113",
            "770d3c15ef1d4d4da056a05640cbc569",
            "a2a76a3f73604df3b55ff258c0f69a7b",
            "1ebc4c04b65b417294e3133bf1408e6d",
            "47ea44f6df1f4d53976f55228d6cabfc",
            "f566f535cf194eb58cda0d48de1c4fb1",
            "2e5e162e214e44e39fbca18709332a76",
            "d2fcd9b209dc4922a33949601189c920",
            "b226620485bc4a31ad6bf2ad23fef330",
            "bba24801fd5143d7a8e68269a946a3e9",
            "d543eeee4abf49469c41fc8d2fc50e66"
          ]
        },
        "outputId": "48d81d92-8d6c-4c1e-952a-832ca1680847"
      },
      "execution_count": 16,
      "outputs": [
        {
          "output_type": "display_data",
          "data": {
            "text/plain": [
              "config.json:   0%|          | 0.00/665 [00:00<?, ?B/s]"
            ],
            "application/vnd.jupyter.widget-view+json": {
              "version_major": 2,
              "version_minor": 0,
              "model_id": "1091b7ec5cf54a4b8629f3b95542fbe1"
            }
          },
          "metadata": {}
        },
        {
          "output_type": "display_data",
          "data": {
            "text/plain": [
              "vocab.json:   0%|          | 0.00/1.04M [00:00<?, ?B/s]"
            ],
            "application/vnd.jupyter.widget-view+json": {
              "version_major": 2,
              "version_minor": 0,
              "model_id": "8a8c53dbee0d421d985c4027547ce686"
            }
          },
          "metadata": {}
        },
        {
          "output_type": "display_data",
          "data": {
            "text/plain": [
              "merges.txt:   0%|          | 0.00/456k [00:00<?, ?B/s]"
            ],
            "application/vnd.jupyter.widget-view+json": {
              "version_major": 2,
              "version_minor": 0,
              "model_id": "1ddf62271e924ab49b00b5356d20701c"
            }
          },
          "metadata": {}
        },
        {
          "output_type": "display_data",
          "data": {
            "text/plain": [
              "tokenizer.json:   0%|          | 0.00/1.36M [00:00<?, ?B/s]"
            ],
            "application/vnd.jupyter.widget-view+json": {
              "version_major": 2,
              "version_minor": 0,
              "model_id": "459cde5a6d044a119789579ba11376f2"
            }
          },
          "metadata": {}
        },
        {
          "output_type": "display_data",
          "data": {
            "text/plain": [
              "model.safetensors:   0%|          | 0.00/548M [00:00<?, ?B/s]"
            ],
            "application/vnd.jupyter.widget-view+json": {
              "version_major": 2,
              "version_minor": 0,
              "model_id": "f5d58e8620e747dda8e58840c936053a"
            }
          },
          "metadata": {}
        },
        {
          "output_type": "display_data",
          "data": {
            "text/plain": [
              "generation_config.json:   0%|          | 0.00/124 [00:00<?, ?B/s]"
            ],
            "application/vnd.jupyter.widget-view+json": {
              "version_major": 2,
              "version_minor": 0,
              "model_id": "776b6285f92c48729f39a1d4ac02f113"
            }
          },
          "metadata": {}
        }
      ]
    },
    {
      "cell_type": "code",
      "source": [
        "# Set the padding token for the tokenizer\n",
        "tokenizer.pad_token = tokenizer.eos_token"
      ],
      "metadata": {
        "id": "sqGEsD81CslS"
      },
      "execution_count": 17,
      "outputs": []
    },
    {
      "cell_type": "markdown",
      "source": [
        "# **Dataset Preparation and Tokenization for GPT-2 Training**\n",
        "* This code segment appears to perform the following tasks:\n",
        "\n",
        "* Assumes a dataset with specific keys ('instruction', 'input', 'output', and 'text').\n",
        "* Iterates through the dataset to generate prompts based on the available data points.\n",
        "* Tokenizes the generated prompts and output text using a tokenizer, preparing them as tensors.\n",
        "* Compiles tokenized inputs, labels, and attention masks to be used for GPT-2 model training."
      ],
      "metadata": {
        "id": "YQ_YQmJZg1GH"
      }
    },
    {
      "cell_type": "code",
      "source": [
        "from transformers import Trainer, TrainingArguments\n",
        "import torch\n",
        "# Assuming subset_dataset is your dataset with 'id', 'Story'\n",
        "dataset = subset_dataset\n",
        "\n",
        "# Initialize empty lists to store inputs, targets, and attention masks\n",
        "input_ids = []\n",
        "labels = []\n",
        "attention_masks = []\n",
        "\n",
        "# Tokenize and prepare the dataset\n",
        "for data_point in dataset:\n",
        "    # Generate prompt\n",
        "    prompt = get_automatic_chain_prompt(data_point)\n",
        "\n",
        "    # Tokenize prompt\n",
        "    tokenized_prompts = tokenizer(prompt, return_tensors=\"pt\", truncation=True, padding=\"max_length\", max_length=128)\n",
        "\n",
        "    # Tokenize output text (corrected text)\n",
        "    tokenized_output = tokenizer(data_point['Story'], return_tensors=\"pt\", truncation=True, padding=\"max_length\", max_length=128)\n",
        "\n",
        "    # Append tokenized inputs, labels, and attention masks\n",
        "    input_ids.append(tokenized_prompts['input_ids'])\n",
        "    labels.append(tokenized_output['input_ids'])\n",
        "    attention_masks.append(tokenized_prompts['attention_mask'])\n",
        "\n",
        "# Convert lists to tensors\n",
        "input_ids = torch.stack(input_ids)\n",
        "labels = torch.stack(labels)\n",
        "attention_masks = torch.stack(attention_masks)"
      ],
      "metadata": {
        "id": "sZ3qkj3RQRix"
      },
      "execution_count": 18,
      "outputs": []
    },
    {
      "cell_type": "markdown",
      "source": [
        "### **Printing input_ids, labels, and attention_masks for the first 5 examples**"
      ],
      "metadata": {
        "id": "fV2lLzKngnOi"
      }
    },
    {
      "cell_type": "code",
      "source": [
        "# Assuming the code provided earlier to prepare the dataset is already executed\n",
        "\n",
        "# Printing input_ids, labels, and attention_masks for the first 5 examples\n",
        "for i in range(3):\n",
        "    print(f\"Example {i+1}:\")\n",
        "    print(\"Input IDs:\", input_ids[i])\n",
        "    print(\"Labels:\", labels[i])\n",
        "    print(\"Attention Mask:\", attention_masks[i])\n",
        "    print(\"-----------------------\")\n"
      ],
      "metadata": {
        "id": "K7LmtvNYN2Da",
        "colab": {
          "base_uri": "https://localhost:8080/"
        },
        "outputId": "dc620d28-1d49-4760-d0e3-9371e01b6fe7"
      },
      "execution_count": 19,
      "outputs": [
        {
          "output_type": "stream",
          "name": "stdout",
          "text": [
            "Example 1:\n",
            "Input IDs: tensor([[21017, 46486,    25,   198, 44140, 21671,   257,  1621,  7867,   416,\n",
            "           262,  1708,  6152,    13, 22507,   534, 13843,   284,  5698,   262,\n",
            "          8689,  8752,    13,   198,   198,   818,   262, 46609,  1748,   286,\n",
            "           968,  1971,    11,   810,   262, 25988,  7588,   277,   677, 28970,\n",
            "           290,   262,  2128,   286,  4979, 48134,   515,   832,   262,  6483,\n",
            "            11,  5615,   257,   582,  3706, 28926, 18501,    13,  2080,   465,\n",
            "           442,   271, 18449, 19218,  1370,    11, 30662,  4171,  2951,    11,\n",
            "           290,   257, 48226, 23470,   416,   812,   286,  3047,    11, 28926,\n",
            "         17273,   281,  1633,   286, 10715,   326, 33720,   883,   508, 12606,\n",
            "           465,  3108,    13,   679,  5615,   257, 25565,  1204,   287,   257,\n",
            "         12949,  7962,    11,  4581,   465,  1528,   355,   281, 42627,    11,\n",
            "           465, 12513, 45853,   287, 16187,   290, 22780,    13,   220,  1881,\n",
            "         46873,  3329,    11,   355,   262,  1748, 43363,   284]])\n",
            "Labels: tensor([[  818,   262, 46609,  1748,   286,   968,  1971,    11,   810,   262,\n",
            "         25988,  7588,   277,   677, 28970,   290,   262,  2128,   286,  4979,\n",
            "         48134,   515,   832,   262,  6483,    11,  5615,   257,   582,  3706,\n",
            "         28926, 18501,    13,  2080,   465,   442,   271, 18449, 19218,  1370,\n",
            "            11, 30662,  4171,  2951,    11,   290,   257, 48226, 23470,   416,\n",
            "           812,   286,  3047,    11, 28926, 17273,   281,  1633,   286, 10715,\n",
            "           326, 33720,   883,   508, 12606,   465,  3108,    13,   679,  5615,\n",
            "           257, 25565,  1204,   287,   257, 12949,  7962,    11,  4581,   465,\n",
            "          1528,   355,   281, 42627,    11,   465, 12513, 45853,   287, 16187,\n",
            "           290, 22780,    13,   220,  1881, 46873,  3329,    11,   355,   262,\n",
            "          1748, 43363,   284,   262, 14405,  9383,  4405,   286,   663,   898,\n",
            "         36051,    11, 28926,  2722,   257, 47774,  3275,   319,   257, 46027,\n",
            "          3072,    13,   632,  2391,  5081,    11,   366,  2990]])\n",
            "Attention Mask: tensor([[1, 1, 1, 1, 1, 1, 1, 1, 1, 1, 1, 1, 1, 1, 1, 1, 1, 1, 1, 1, 1, 1, 1, 1,\n",
            "         1, 1, 1, 1, 1, 1, 1, 1, 1, 1, 1, 1, 1, 1, 1, 1, 1, 1, 1, 1, 1, 1, 1, 1,\n",
            "         1, 1, 1, 1, 1, 1, 1, 1, 1, 1, 1, 1, 1, 1, 1, 1, 1, 1, 1, 1, 1, 1, 1, 1,\n",
            "         1, 1, 1, 1, 1, 1, 1, 1, 1, 1, 1, 1, 1, 1, 1, 1, 1, 1, 1, 1, 1, 1, 1, 1,\n",
            "         1, 1, 1, 1, 1, 1, 1, 1, 1, 1, 1, 1, 1, 1, 1, 1, 1, 1, 1, 1, 1, 1, 1, 1,\n",
            "         1, 1, 1, 1, 1, 1, 1, 1]])\n",
            "-----------------------\n",
            "Example 2:\n",
            "Input IDs: tensor([[21017, 46486,    25,   198, 44140, 21671,   257,  1621,  7867,   416,\n",
            "           262,  1708,  6152,    13, 22507,   534, 13843,   284,  5698,   262,\n",
            "          8689,  8752,    13,   198,   198,   464,  6766, 19110,   503,   878,\n",
            "           606,    11,   281, 13079,  1033, 40054,   286,  4171, 41159,   691,\n",
            "           416, 39145,  2330, 15114,    13,   383,  1633,  8469,   992,   351,\n",
            "           262, 24054,   286,  2223,   355,   262, 40733,  9272,   379,   262,\n",
            "          1633,  3245,    11,   511, 33143, 10543, 20792, 26852,  3723,   739,\n",
            "           262, 19613,  4252,    13,  9754,   262, 14982,   373,  8599, 20700,\n",
            "         17468,    11,   257, 29314,  9298,   351,  2951,   355,  7786,   355,\n",
            "           257, 48710,   338,    11,   290,   257,  2612,   326,  4405,   351,\n",
            "           262, 18662,   286,  1175,    13,   220,  5345,   287,   262, 15925,\n",
            "           286,   257, 30082,  5358,    11,   262,  1621,  2753,  1295,  1141,\n",
            "           262,  6001,   286,  2159,  1810,  2873,    13,  8599]])\n",
            "Labels: tensor([[  464,  6766, 19110,   503,   878,   606,    11,   281, 13079,  1033,\n",
            "         40054,   286,  4171, 41159,   691,   416, 39145,  2330, 15114,    13,\n",
            "           383,  1633,  8469,   992,   351,   262, 24054,   286,  2223,   355,\n",
            "           262, 40733,  9272,   379,   262,  1633,  3245,    11,   511, 33143,\n",
            "         10543, 20792, 26852,  3723,   739,   262, 19613,  4252,    13,  9754,\n",
            "           262, 14982,   373,  8599, 20700, 17468,    11,   257, 29314,  9298,\n",
            "           351,  2951,   355,  7786,   355,   257, 48710,   338,    11,   290,\n",
            "           257,  2612,   326,  4405,   351,   262, 18662,   286,  1175,    13,\n",
            "           220,  5345,   287,   262, 15925,   286,   257, 30082,  5358,    11,\n",
            "           262,  1621,  2753,  1295,  1141,   262,  6001,   286,  2159,  1810,\n",
            "          2873,    13,  8599, 17468,    11,   257, 43157,   290, 27939,  3554,\n",
            "            11,   550,  7366,   465,  8507,   832, 12925,  4388, 10566,    13,\n",
            "           679,   373,  1900,   329,   465,  2709, 14209, 38974]])\n",
            "Attention Mask: tensor([[1, 1, 1, 1, 1, 1, 1, 1, 1, 1, 1, 1, 1, 1, 1, 1, 1, 1, 1, 1, 1, 1, 1, 1,\n",
            "         1, 1, 1, 1, 1, 1, 1, 1, 1, 1, 1, 1, 1, 1, 1, 1, 1, 1, 1, 1, 1, 1, 1, 1,\n",
            "         1, 1, 1, 1, 1, 1, 1, 1, 1, 1, 1, 1, 1, 1, 1, 1, 1, 1, 1, 1, 1, 1, 1, 1,\n",
            "         1, 1, 1, 1, 1, 1, 1, 1, 1, 1, 1, 1, 1, 1, 1, 1, 1, 1, 1, 1, 1, 1, 1, 1,\n",
            "         1, 1, 1, 1, 1, 1, 1, 1, 1, 1, 1, 1, 1, 1, 1, 1, 1, 1, 1, 1, 1, 1, 1, 1,\n",
            "         1, 1, 1, 1, 1, 1, 1, 1]])\n",
            "-----------------------\n",
            "Example 3:\n",
            "Input IDs: tensor([[21017, 46486,    25,   198, 44140, 21671,   257,  1621,  7867,   416,\n",
            "           262,  1708,  6152,    13, 22507,   534, 13843,   284,  5698,   262,\n",
            "          8689,  8752,    13,   198,   198,   818,   262, 15925,   286,   257,\n",
            "         46609,  1138, 25986,   573, 46564,   351, 37885,  2416,   364,   326,\n",
            "          9775, 12615,   262, 27636,    11, 16343,   992,   257,  1402,   290,\n",
            "           555, 32935, 15591,    13,   632, 19611,   284, 28926,    11,   257,\n",
            "          1862,   290, 10457, 11949, 13529,   416,   465,  1035,   265,  3379,\n",
            "         24613,   329, 11044,   290,  8855,    13,  2080, 35537,    12, 44279,\n",
            "          2832,   290,   257,  2000,  1336,   286,  4213,    11,   339,  3377,\n",
            "           790, 23137,  1711, 44569,  1586,   290, 21671, 43937, 39405,   326,\n",
            "           714,  1210, 10625,   656,  3950,    13,   220,  1881, 46873,  6672,\n",
            "            11,   981,  7440,    76,  3039,   832,   257,  3091,  5901,   351,\n",
            "          6156,  4171, 17190,    11, 28926, 24241,  2402,   257]])\n",
            "Labels: tensor([[  818,   262, 15925,   286,   257, 46609,  1138, 25986,   573, 46564,\n",
            "           351, 37885,  2416,   364,   326,  9775, 12615,   262, 27636,    11,\n",
            "         16343,   992,   257,  1402,   290,   555, 32935, 15591,    13,   632,\n",
            "         19611,   284, 28926,    11,   257,  1862,   290, 10457, 11949, 13529,\n",
            "           416,   465,  1035,   265,  3379, 24613,   329, 11044,   290,  8855,\n",
            "            13,  2080, 35537,    12, 44279,  2832,   290,   257,  2000,  1336,\n",
            "           286,  4213,    11,   339,  3377,   790, 23137,  1711, 44569,  1586,\n",
            "           290, 21671, 43937, 39405,   326,   714,  1210, 10625,   656,  3950,\n",
            "            13,   220,  1881, 46873,  6672,    11,   981,  7440,    76,  3039,\n",
            "           832,   257,  3091,  5901,   351,  6156,  4171, 17190,    11, 28926,\n",
            "         24241,  2402,   257, 19501, 44566,    13,   632, 18904,   257, 41197,\n",
            "          4572,    11,   257, 39579,  6175,  9379,   351, 26852,  3723,  7771,\n",
            "         21755,   290,   281, 22491,   286, 40181,  1176,    13]])\n",
            "Attention Mask: tensor([[1, 1, 1, 1, 1, 1, 1, 1, 1, 1, 1, 1, 1, 1, 1, 1, 1, 1, 1, 1, 1, 1, 1, 1,\n",
            "         1, 1, 1, 1, 1, 1, 1, 1, 1, 1, 1, 1, 1, 1, 1, 1, 1, 1, 1, 1, 1, 1, 1, 1,\n",
            "         1, 1, 1, 1, 1, 1, 1, 1, 1, 1, 1, 1, 1, 1, 1, 1, 1, 1, 1, 1, 1, 1, 1, 1,\n",
            "         1, 1, 1, 1, 1, 1, 1, 1, 1, 1, 1, 1, 1, 1, 1, 1, 1, 1, 1, 1, 1, 1, 1, 1,\n",
            "         1, 1, 1, 1, 1, 1, 1, 1, 1, 1, 1, 1, 1, 1, 1, 1, 1, 1, 1, 1, 1, 1, 1, 1,\n",
            "         1, 1, 1, 1, 1, 1, 1, 1]])\n",
            "-----------------------\n"
          ]
        }
      ]
    },
    {
      "cell_type": "markdown",
      "source": [
        "# **Dynamic Data Collation for GPT-2 Model Training**\n",
        "* This code segment encompasses a class, GPT2DataCollator, which is designed to handle the collation of input features for GPT-2 model training. It dynamically checks the type of input features (whether they are dictionaries or tuples) and appropriately extracts input IDs, attention masks, and labels for padding and preparing the data to the same length. This data collation process is crucial for ensuring the uniformity and compatibility of the input features during the training of the GPT-2 model."
      ],
      "metadata": {
        "id": "VH8dh2xhhAET"
      }
    },
    {
      "cell_type": "code",
      "source": [
        "from transformers import Trainer, TrainingArguments\n",
        "import torch\n",
        "\n",
        "\n",
        "class GPT2DataCollator:\n",
        "    def __call__(self, features):\n",
        "        # Check if the features are dictionaries or tuples\n",
        "        if isinstance(features[0], dict):\n",
        "            input_ids = [feature['input_ids'] for feature in features]\n",
        "            attention_masks = [feature['attention_mask'] for feature in features]\n",
        "            labels = [feature['labels'] for feature in features]\n",
        "        else:  # Assuming features are tuples\n",
        "            input_ids = [feature[0] for feature in features]\n",
        "            attention_masks = [feature[1] for feature in features]\n",
        "            labels = [feature[2] for feature in features]\n",
        "\n",
        "        # Pad inputs and labels to the same length\n",
        "        input_ids = torch.nn.utils.rnn.pad_sequence(input_ids, batch_first=True, padding_value=tokenizer.pad_token_id)\n",
        "        attention_masks = torch.nn.utils.rnn.pad_sequence(attention_masks, batch_first=True, padding_value=0)\n",
        "        labels = torch.nn.utils.rnn.pad_sequence(labels, batch_first=True, padding_value=tokenizer.pad_token_id)\n",
        "\n",
        "        return {\n",
        "            'input_ids': input_ids,\n",
        "            'attention_mask': attention_masks,\n",
        "            'labels': labels\n",
        "        }\n"
      ],
      "metadata": {
        "id": "iYwb-UutTO1-"
      },
      "execution_count": 20,
      "outputs": []
    },
    {
      "cell_type": "markdown",
      "source": [
        "# **Define the Training Arguments and Trainer**"
      ],
      "metadata": {
        "id": "uSD-pX5nhYmz"
      }
    },
    {
      "cell_type": "code",
      "source": [
        "'''\n",
        "# Define the training arguments\n",
        "training_args = TrainingArguments(\n",
        "    output_dir='./gpt2-finetuned-version',    # Directory to save the model and checkpoints\n",
        "    num_train_epochs=5,               # Number of training epochs\n",
        "    per_device_train_batch_size=4,    # Batch size per device during training\n",
        "    save_steps=5000,                  # Save checkpoint every X steps\n",
        "    logging_dir='./logs',             # Directory for storing logs\n",
        "    logging_steps=500,                # Log training metrics every X steps\n",
        "    evaluation_strategy=\"epoch\",      # Evaluation strategy to adopt during training\n",
        "    report_to=\"none\",                 # Disable evaluation during training\n",
        "    prediction_loss_only=True,        # Compute only the prediction loss\n",
        "    warmup_steps=500# number of warmup steps for learning rate scheduler\n",
        "    # Add any additional arguments as needed\n",
        ")\n",
        "\n",
        "# Initialize the Trainer with the custom data collator\n",
        "trainer = Trainer(\n",
        "    model=model,\n",
        "    args=training_args,\n",
        "    train_dataset=torch.utils.data.TensorDataset(input_ids, attention_masks, labels),\n",
        "    eval_dataset=torch.utils.data.TensorDataset(input_ids, attention_masks, labels),\n",
        "    data_collator=GPT2DataCollator()  # Use the custom data collator\n",
        ")\n",
        "'''"
      ],
      "metadata": {
        "id": "RHMSmJaATStX"
      },
      "execution_count": 21,
      "outputs": []
    },
    {
      "cell_type": "code",
      "source": [
        "'''\n",
        "# Start training\n",
        "trainer.train()\n",
        "'''"
      ],
      "metadata": {
        "id": "JLjHNwryDOJA",
        "colab": {
          "base_uri": "https://localhost:8080/",
          "height": 267
        },
        "outputId": "4309627c-e809-445a-a7cd-927b6b1d1b51"
      },
      "execution_count": 22,
      "outputs": [
        {
          "output_type": "display_data",
          "data": {
            "text/plain": [
              "<IPython.core.display.HTML object>"
            ],
            "text/html": [
              "\n",
              "    <div>\n",
              "      \n",
              "      <progress value='6250' max='6250' style='width:300px; height:20px; vertical-align: middle;'></progress>\n",
              "      [6250/6250 22:36, Epoch 5/5]\n",
              "    </div>\n",
              "    <table border=\"1\" class=\"dataframe\">\n",
              "  <thead>\n",
              " <tr style=\"text-align: left;\">\n",
              "      <th>Epoch</th>\n",
              "      <th>Training Loss</th>\n",
              "      <th>Validation Loss</th>\n",
              "    </tr>\n",
              "  </thead>\n",
              "  <tbody>\n",
              "    <tr>\n",
              "      <td>1</td>\n",
              "      <td>6.486600</td>\n",
              "      <td>6.306336</td>\n",
              "    </tr>\n",
              "    <tr>\n",
              "      <td>2</td>\n",
              "      <td>6.287000</td>\n",
              "      <td>6.172026</td>\n",
              "    </tr>\n",
              "    <tr>\n",
              "      <td>3</td>\n",
              "      <td>6.200700</td>\n",
              "      <td>6.087174</td>\n",
              "    </tr>\n",
              "    <tr>\n",
              "      <td>4</td>\n",
              "      <td>6.129500</td>\n",
              "      <td>6.025240</td>\n",
              "    </tr>\n",
              "    <tr>\n",
              "      <td>5</td>\n",
              "      <td>6.072700</td>\n",
              "      <td>5.998742</td>\n",
              "    </tr>\n",
              "  </tbody>\n",
              "</table><p>"
            ]
          },
          "metadata": {}
        },
        {
          "output_type": "execute_result",
          "data": {
            "text/plain": [
              "TrainOutput(global_step=6250, training_loss=6.286855234375, metrics={'train_runtime': 1358.9957, 'train_samples_per_second': 18.396, 'train_steps_per_second': 4.599, 'total_flos': 1633075200000000.0, 'train_loss': 6.286855234375, 'epoch': 5.0})"
            ]
          },
          "metadata": {},
          "execution_count": 22
        }
      ]
    },
    {
      "cell_type": "code",
      "source": [
        "'''\n",
        "trainer.save_model()\n",
        "'''"
      ],
      "metadata": {
        "id": "RzqCF7I6DOTN"
      },
      "execution_count": 23,
      "outputs": []
    },
    {
      "cell_type": "markdown",
      "source": [
        "# **Load the save model and train it again here...**"
      ],
      "metadata": {
        "id": "pi7ONgjQhifB"
      }
    },
    {
      "cell_type": "code",
      "source": [
        "from transformers import Trainer, TrainingArguments\n",
        "# Load the previously trained model\n",
        "model_path = './gpt2-finetuned-version'  # Replace this with the path to your saved model\n",
        "model = AutoModelForCausalLM.from_pretrained(model_path)\n",
        "\n",
        "# Define the training arguments\n",
        "training_args = TrainingArguments(\n",
        "    output_dir='./gpt2-final-version',    # Directory to save the model and checkpoints\n",
        "    num_train_epochs=10,               # Number of training epochs\n",
        "    per_device_train_batch_size=4,    # Batch size per device during training\n",
        "    save_steps=1000,                  # Save checkpoint every X steps\n",
        "    logging_dir='./logs',             # Directory for storing logs\n",
        "    logging_steps=500,                # Log training metrics every X steps\n",
        "    evaluation_strategy=\"epoch\",      # Evaluation strategy to adopt during training\n",
        "    report_to=\"none\",                 # Disable evaluation during training\n",
        "    prediction_loss_only=True,        # Compute only the prediction loss\n",
        "    warmup_steps=500# number of warmup steps for learning rate scheduler\n",
        "    # Add any additional arguments as needed\n",
        ")\n",
        "\n",
        "# Initialize the Trainer with the custom data collator\n",
        "trainer = Trainer(\n",
        "    model=model,\n",
        "    args=training_args,\n",
        "    train_dataset=torch.utils.data.TensorDataset(input_ids, attention_masks, labels),\n",
        "    eval_dataset=torch.utils.data.TensorDataset(input_ids, attention_masks, labels),\n",
        "    data_collator=GPT2DataCollator()  # Use the custom data collator\n",
        ")"
      ],
      "metadata": {
        "id": "IX4xjo1OTUTB"
      },
      "execution_count": 24,
      "outputs": []
    },
    {
      "cell_type": "code",
      "source": [
        "# Start training\n",
        "trainer.train()"
      ],
      "metadata": {
        "id": "DFK04cXTUG_W",
        "colab": {
          "base_uri": "https://localhost:8080/",
          "height": 423
        },
        "outputId": "febeefe2-d601-4a09-e3b7-82ef2c8e4e82"
      },
      "execution_count": 25,
      "outputs": [
        {
          "output_type": "display_data",
          "data": {
            "text/plain": [
              "<IPython.core.display.HTML object>"
            ],
            "text/html": [
              "\n",
              "    <div>\n",
              "      \n",
              "      <progress value='12500' max='12500' style='width:300px; height:20px; vertical-align: middle;'></progress>\n",
              "      [12500/12500 46:42, Epoch 10/10]\n",
              "    </div>\n",
              "    <table border=\"1\" class=\"dataframe\">\n",
              "  <thead>\n",
              " <tr style=\"text-align: left;\">\n",
              "      <th>Epoch</th>\n",
              "      <th>Training Loss</th>\n",
              "      <th>Validation Loss</th>\n",
              "    </tr>\n",
              "  </thead>\n",
              "  <tbody>\n",
              "    <tr>\n",
              "      <td>1</td>\n",
              "      <td>6.109000</td>\n",
              "      <td>5.982254</td>\n",
              "    </tr>\n",
              "    <tr>\n",
              "      <td>2</td>\n",
              "      <td>5.996300</td>\n",
              "      <td>5.851223</td>\n",
              "    </tr>\n",
              "    <tr>\n",
              "      <td>3</td>\n",
              "      <td>5.900300</td>\n",
              "      <td>5.735077</td>\n",
              "    </tr>\n",
              "    <tr>\n",
              "      <td>4</td>\n",
              "      <td>5.843900</td>\n",
              "      <td>5.634243</td>\n",
              "    </tr>\n",
              "    <tr>\n",
              "      <td>5</td>\n",
              "      <td>5.763800</td>\n",
              "      <td>5.540386</td>\n",
              "    </tr>\n",
              "    <tr>\n",
              "      <td>6</td>\n",
              "      <td>5.707200</td>\n",
              "      <td>5.457786</td>\n",
              "    </tr>\n",
              "    <tr>\n",
              "      <td>7</td>\n",
              "      <td>5.645300</td>\n",
              "      <td>5.385233</td>\n",
              "    </tr>\n",
              "    <tr>\n",
              "      <td>8</td>\n",
              "      <td>5.578400</td>\n",
              "      <td>5.333374</td>\n",
              "    </tr>\n",
              "    <tr>\n",
              "      <td>9</td>\n",
              "      <td>5.534100</td>\n",
              "      <td>5.294148</td>\n",
              "    </tr>\n",
              "    <tr>\n",
              "      <td>10</td>\n",
              "      <td>5.499300</td>\n",
              "      <td>5.277131</td>\n",
              "    </tr>\n",
              "  </tbody>\n",
              "</table><p>"
            ]
          },
          "metadata": {}
        },
        {
          "output_type": "execute_result",
          "data": {
            "text/plain": [
              "TrainOutput(global_step=12500, training_loss=5.75045728515625, metrics={'train_runtime': 2802.8919, 'train_samples_per_second': 17.839, 'train_steps_per_second': 4.46, 'total_flos': 3266150400000000.0, 'train_loss': 5.75045728515625, 'epoch': 10.0})"
            ]
          },
          "metadata": {},
          "execution_count": 25
        }
      ]
    },
    {
      "cell_type": "code",
      "source": [
        "#Save the fine-tuned model here\n",
        "trainer.save_model()"
      ],
      "metadata": {
        "id": "vYtiotAQaTNW"
      },
      "execution_count": 26,
      "outputs": []
    },
    {
      "cell_type": "code",
      "source": [
        "# Evaluate perplexity on the test dataset\n",
        "eval_result = trainer.evaluate(eval_dataset=torch.utils.data.TensorDataset(input_ids, attention_masks, labels))\n",
        "print(\"Perplexity:\", eval_result['eval_loss'])"
      ],
      "metadata": {
        "id": "nvjjPxfAjU7y",
        "colab": {
          "base_uri": "https://localhost:8080/",
          "height": 54
        },
        "outputId": "0baaa05f-ed3f-46d9-b2a8-8a77122e64ea"
      },
      "execution_count": 27,
      "outputs": [
        {
          "output_type": "display_data",
          "data": {
            "text/plain": [
              "<IPython.core.display.HTML object>"
            ],
            "text/html": [
              "\n",
              "    <div>\n",
              "      \n",
              "      <progress value='625' max='625' style='width:300px; height:20px; vertical-align: middle;'></progress>\n",
              "      [625/625 00:56]\n",
              "    </div>\n",
              "    "
            ]
          },
          "metadata": {}
        },
        {
          "output_type": "stream",
          "name": "stdout",
          "text": [
            "Perplexity: 5.277131080627441\n"
          ]
        }
      ]
    },
    {
      "cell_type": "markdown",
      "source": [
        "# **Text Generation Using Fine-Tuned GPT-2 Model Pipeline**"
      ],
      "metadata": {
        "id": "-rcFwCmQhurf"
      }
    },
    {
      "cell_type": "code",
      "source": [
        "from transformers import pipeline\n",
        "\n",
        "# Define the generator pipeline using the fine-tuned GPT-2 model and tokenizer\n",
        "generator = pipeline('text-generation', model='./gpt2-final-version', tokenizer='gpt2', pad_token_id=tokenizer.pad_token_id)\n",
        "\n",
        "# Test prompt for generating text\n",
        "test_prompt = (\n",
        "    f\"### Instruction:\\nGenerate a story based on the following prompt:\\n\\nAmidst the inky blackness of the night \"\n",
        ")\n",
        "\n",
        "# Generate text based on the test prompt using the generator pipeline\n",
        "generated_test_text = generator(test_prompt, max_length=128, num_return_sequences=1)\n",
        "\n",
        "# Print the generated text for the test prompt\n",
        "print(generated_test_text[0]['generated_text'])\n",
        "\n"
      ],
      "metadata": {
        "id": "BVC4UIKUYw7v",
        "colab": {
          "base_uri": "https://localhost:8080/"
        },
        "outputId": "c1ee4304-942c-4997-de1f-a9e4b7ba0fb5"
      },
      "execution_count": 28,
      "outputs": [
        {
          "output_type": "stream",
          "name": "stdout",
          "text": [
            "### Instruction:\n",
            "Generate a story based on the following prompt:\n",
            "\n",
            "Amidst the inky blackness of the night  lo the nest,,, in, of a desolate. of nest the, desolate, des its with its its. The and a an over by a with, as and. through thick streets aomed, as in this a to, their their with was despair by.., their a Amid in was, a of,, by, an together woman emerged akered inhabitantsenance to from lived of She. eyes,'s She She emerged a, waskered with, and the. of a\n"
          ]
        }
      ]
    },
    {
      "cell_type": "markdown",
      "source": [
        "# **More Text Generation Examples**"
      ],
      "metadata": {
        "id": "2xegPLZi1cwY"
      }
    },
    {
      "cell_type": "code",
      "source": [
        "from datasets import load_dataset\n",
        "\n",
        "dataset = load_dataset(\"AtlasUnified/atlas-storyteller\")"
      ],
      "metadata": {
        "id": "cSY8ypFD0_O9"
      },
      "execution_count": 29,
      "outputs": []
    },
    {
      "cell_type": "code",
      "source": [
        "# Get the first 10 data points\n",
        "num_samples_to_display = 10\n",
        "subset_dataset = dataset['train'].select(range(num_samples_to_display))\n",
        "\n",
        "# List to store 'Story' values\n",
        "story_list = []\n",
        "\n",
        "# Display information for 10 data points from the subset and save 'Story' values\n",
        "num_samples_to_show = 10\n",
        "for i in range(num_samples_to_show):\n",
        "    data = subset_dataset[i]\n",
        "\n",
        "    # Save 'Story' into the list\n",
        "    story_list.append(data['Story'])\n",
        "\n",
        "    print(f\"Data Point {i + 1}:\")\n",
        "    print(\"ID:\", data['id'])\n",
        "    print(\"Story:\", data['Story'])\n",
        "    print(\"\\n-----------------------------\\n\")"
      ],
      "metadata": {
        "id": "azJOi1Pd1E3Y",
        "colab": {
          "base_uri": "https://localhost:8080/"
        },
        "outputId": "9d57cc59-76a9-4ae7-9cef-ccb5dfd2b1b7"
      },
      "execution_count": 30,
      "outputs": [
        {
          "output_type": "stream",
          "name": "stdout",
          "text": [
            "Data Point 1:\n",
            "ID: seed_task_0\n",
            "Story: In the bustling city of New York, where the neon lights flickered and the sound of traffic reverberated through the streets, lived a man named Ethan Sullivan. With his chiseled jawline, piercing blue eyes, and a physique carved by years of training, Ethan possessed an air of mystery that intrigued those who crossed his path. He lived a solitary life in a modest apartment, spending his days as an accountant, his nights cloaked in shadows and secrecy.  One fateful morning, as the city awoke to the rhythmic beat of its own heartbeat, Ethan received a cryptic message on a burner phone. It simply stated, \"They're coming for you.\" His heart quickened, and a wave of apprehension washed over him. Who were \"they,\" and why were they after him? Ethan's blood ran cold, fueling a surge of adrenaline that urged him to take action.  Without a moment's hesitation, Ethan gathered his meager belongings and made his way to a hidden room beneath his apartment. The room, concealed behind a bookshelf, was a secret sanctuary where he had spent countless hours honing his skills and preparing for the unknown. As he descended the narrow staircase, the walls whispered tales of peril and resilience, fueling his determination.  Days turned into nights, and the hunt for Ethan intensified. He navigated the city's labyrinthine underworld, seeking answers to the questions that shadowed his every step. His pursuit brought him face to face with a network of spies, double agents, and dangerous mercenaries, all entangled in a web of deception. Ethan's resilience was pushed to its limits as he evaded their clutches, relying on his training and instincts to outwit his adversaries.  Amidst the chaos, Ethan discovered a hidden connection between himself and the mysterious organization that sought his demise. Unbeknownst to him, he possessed an uncanny ability to unlock long-dormant memories, memories that held the key to an ancient artifact rumored to possess unimaginable power. This revelation marked a turning point in his quest, as he realized that his actions were not only a matter of personal survival but threatened the delicate balance of the entire world.  With newfound purpose, Ethan embarked on a perilous journey across continents, battling foes and confronting the ghosts of his past. He delved into ancient texts, deciphering cryptic symbols and untangling riddles that led him closer to the artifact's secret location. The world around him trembled, unaware of the cataclysmic power that awaited should the artifact fall into the wrong hands.  In the heart of the Amazon rainforest, amidst lush foliage and echoing wildlife, Ethan reached the sacred temple where the artifact lay hidden. The air crackled with anticipation as he overcame treacherous trials, testing both his physical and mental prowess. With each obstacle conquered, his purpose grew clearer, his resolve unyielding.  Finally, standing on the precipice of destiny, Ethan found himself face to face with his nemesis, the orchestrator of his torment. A battle of wills ensued, each combatant matching the other blow for blow, weaving a deadly dance of strength and strategy. It was a battle that transcended the physical, a clash between opposing ideologies.  In the end, it was Ethan's unwavering determination that prevailed. With a final, decisive strike, he thwarted his enemy's plans and secured the artifact, safeguarding the world from its malevolence. The weight of his actions settled upon him, and as he gazed upon the artifact, he understood the responsibility that came with its power.  With the threat vanquished and the world saved, Ethan's journey drew to a close. He returned to his solitary life in New York, no longer haunted by the phantom of impending danger. Yet, his actions had left an indelible mark upon his soul, a reminder that even in the face of insurmountable odds, one individual could make a difference. And with that knowledge, Ethan Sullivan embraced the path that lay ahead of him, ready to face whatever challenges may come his way.\n",
            "\n",
            "-----------------------------\n",
            "\n",
            "Data Point 2:\n",
            "ID: seed_task_1\n",
            "Story: The sky stretched out before them, an endless expanse of blue pierced only by fluffy white clouds. The air crackled with the anticipation of action as the squadron gathered at the airfield, their sleek fighter jets gleaming under the noon sun. Among the pilots was Captain Joshua Bennett, a seasoned veteran with eyes as sharp as a hawk's, and a heart that beat with the rhythm of war.  Set in the midst of a raging conflict, the story takes place during the height of World War II. Captain Bennett, a fearless and daring leader, had earned his reputation through countless successful missions. He was known for his audacious maneuvers and masterful control of aircraft, traits that instilled confidence in every member of his squadron.  Their current mission was crucial - they were tasked with intercepting and neutralizing a squadron of enemy bombers bound for a nearby heavily fortified city. The stakes were high; failure meant devastation for countless lives on the ground. But failure was not an option for Captain Bennett and his men.  As they climbed into their cockpits, each pilot embraced the danger that lay ahead. The roar of engines filled the air, drowning out all other sounds. The planes taxied onto the runway, lined up with military precision. The countdown began, the moment drawing closer with each passing second.  With a thunderous roar, the planes rocketed into the clear blue sky. Wings unfolded, propellers spun, and the pilots adjusted their throttles to find the perfect balance of speed and maneuverability. The rush of wind whipped their faces as they gained altitude, soaring towards their destiny.  As they closed in on the enemy formation, the first hints of adrenaline coursed through their veins. The lead bomber came into view, its gray monstrosity blotting out the sun. It was a formidable target, bristling with defensive guns and encased in heavy armor.  Captain Bennett's voice broke through the radio static, calm yet tinged with intensity. \"Stick to the plan, gentlemen. Stay in formation, and watch each other's backs.\" The squadron spread their wings and formed a protective wall around their leader. It was time to engage.  In a dazzling display of aerial acrobatics and precision, the dogfight began. Fighter jets darted and weaved through the air, leaving white contrails in their wake. The deafening roar of engines mingled with the staccato bursts of gunfire. Maneuvers honed through countless hours of training were put to the test as the pilots pushed themselves to the limits.  Enemy tracers wove through the sky like deadly ribbons, threatening to tear the squadron apart. Captain Bennett's instincts kicked in, his eyes scanning the chaotic battlefield, searching for weak points. He made split-second decisions, radioing commands to his men as they fought tooth and nail against their adversaries.  Bullets grazed wings, but the pilots pressed on, clinging to that indomitable spirit of victory. They danced with death, their every move calculated and executed with utmost precision. Captain Bennett, like a maestro directing an orchestra, orchestrated the deadly symphony of war, leading his men with unwavering determination.  As the fight raged on, the squadron's efforts began to bear fruit. One enemy bomber after another plummeted from the sky, engulfed in billowing flames. The sky turned into a kaleidoscope of smoke and fire, a testament to their courage and skill. The tide began to turn, the remaining enemy formations faltering under the relentless onslaught.  And then, silence fell upon the battlefield. The enemy bombers lay shattered and defeated, scattered like forlorn chess pieces across the sky. The squadron, weary yet triumphant, regrouped in a display of unity and solidarity.  Captain Bennett's voice broke through the radio once again, this time filled with pride. \"Well done, gentlemen. Another victory for the history books.\" The cheers of his comrades echoed in the air, mingling with the sea breeze.  As the planes headed back to base, engines humming in synchrony, the captain couldn't help but smile. They had prevailed against all odds, proving their mettle in the crucible of combat. He knew that their actions had made a difference, had saved lives, and kept hope alive in the hearts of those on the ground.  Their legacy as warriors in the skies would forever be remembered, etched in the annals of history. And Captain Joshua Bennett, the fearless leader who led his squadron with unwavering resolve, would forever be hailed as a hero, a beacon of courage in the darkest of times.\n",
            "\n",
            "-----------------------------\n",
            "\n",
            "Data Point 3:\n",
            "ID: seed_task_2\n",
            "Story: In the midst of a bustling metropolis teeming with skyscrapers that seemingly touched the heavens, nestled a small and unassuming garage. It belonged to Ethan, a young and brilliant engineer consumed by his insatiable thirst for innovation and adventure. With grease-stained hands and a mind full of ideas, he spent every waking hour tinkering and crafting marvelous inventions that could turn dreams into reality.  One fateful afternoon, while rummaging through a box filled with ancient blueprints, Ethan stumbled upon a peculiar schematic. It depicted a colossal machine, a menacing giant robot with gleaming steel limbs and an aura of unstoppable power. Intrigued and fascinated, he couldn't resist the temptation to bring this mechanical behemoth to life.  Days turned into weeks, and nights melted away as Ethan toiled tirelessly in his secluded workshop, pouring every ounce of his skill and determination into the construction of his masterpiece. Finally, after countless sleepless nights, his creation stood before him in all its majestic glory - a formidable mech equipped with an array of devastating weapons, ready to challenge any foe that dared face it.  News of Ethan's extraordinary creation spread like wildfire across the city, catching the attention of a notorious and power-hungry conglomerate known as IronCorp Industries. Their enigmatic leader, Raymond Blackwood, was a zealous man who sought to dominate the world using an army of unstoppable robots. Enraged by the presence of a potential rival, Blackwood devised a sinister plan to steal Ethan's invention, ensuring his own hegemony remained unchallenged.  As dusk settled over the city, Ethan climbed into the cockpit of his mighty mech, aptly named \"Ironfire,\" and prepared for battle. He had heard whispers of IronCorp's plans and knew that he must act swiftly to protect his creation, and by extension, the very heart of innovation itself.  Engulfed in the shadows, Ethan set out on a perilous journey through the dimly lit streets, radar systems humming softly as he tracked the movements of IronCorp's relentless forces. Every corner of the city seemed to pulsate with danger, each alleyway hiding a potential ambush. But Ethan's resolve burned bright, and with every step, his heart raced with a mix of anticipation and desperation.  Finally, deep within the heart of an abandoned factory, a cacophony of metallic growls echoed ominously. Ironfire stepped forward, ready to face an army of imposing IronCorp robots driven by malice and greed. As the battle raged on, Ethan's instincts and intimate knowledge of his creation guided him. He evaded crushing blows and countered with devastating precision, each strike in perfect harmony with the symphony of danger that surrounded him.  In a climactic clash of metal and might, Ironfire unleashed a powerful surge of energy that coursed through the remnants of IronCorp's defeated robots. Sparks danced and smoke filled the air, the battle leaving nothing but a wake of debris in its path. Ethan stood triumphant, having defended his creation and regained his vision of a world where innovation thrived untethered.  Word of Ethan's heroic victory spread throughout the city, and he became a legend, a symbol of defiance against corporate tyranny. IronCorp, left in shambles, retreated into the shadows, their dreams of domination shattered. From that day forward, the city monumentally shifted, embracing a new era where aspiring inventors and unyielding dreamers were celebrated and cherished.  As the sun set on the horizon, bathing the city in hues of crimson and gold, Ethan surveyed the landscape that had once been plagued by darkness. A smile graced his lips, knowing that he had played a pivotal role in defending the very essence of action and innovation against overwhelming odds. And with newfound hope in his heart, he embarked on a journey to inspire a generation and forge a future where dreams knew no boundaries.\n",
            "\n",
            "-----------------------------\n",
            "\n",
            "Data Point 4:\n",
            "ID: seed_task_3\n",
            "Story: In the heart of a once-thriving metropolis, now reduced to a desolate wasteland, a lone figure emerged from the shadows. Leather-clad and armed to the teeth, his name was Gabriel. Standing at the precipice of an abandoned street, he surveyed the remnants of what was once a bustling city. Hollowed buildings loomed like guardians of a forgotten time, their broken windows reflecting the glimmers of an apocalyptic twilight.  It had been years since the outbreak, the virus that turned ordinary people into ravenous zombies. Gabriel, a former army officer, had become a symbol of hope in this desolate world. With his unwavering determination and unparalleled combat skills, he had earned the respect of fellow survivors. But there was one mission that haunted his every step – the hunt for Patient Zero, the source of this unspeakable horror.  As Gabriel patrolled the remnants of humanity's domain, a garbled transmission pierced the silence, crackling with static. It was a distress call from a nearby settlement. He hesitated for a moment, torn between his undying pursuit and the plight of innocents in need. His duty prevailed, and he set off towards the desperate cries of his fellow survivors.  Arriving at the settlement, Gabriel found himself face to face with chaos. The once-peaceful refuge had been overrun by hordes of infected. Their guttural moans filled the air as they mindlessly tore through barricades and devoured any living thing in their path. Amidst the bedlam, a young woman named Ava caught Gabriel's eye. Fearlessly armed with her own makeshift weapons, she fought valiantly to protect the last remnants of her community.  Recognizing her grit, Gabriel teamed up with Ava to stem the tide of the infected. Together, they forged a path through the chaos, leaving a trail of fallen zombies in their wake. Their teamwork was seamless, as if forged in the fires of adversity. Gabriel marveled at Ava's resilience and fiery determination as they battled side by side. It was a beacon of light in a world veiled in darkness.  Their efforts culminated in a climactic showdown with a particularly formidable horde. Surrounded, Gabriel and Ava fought with unmatched ferocity. Their weapons whirled through the air, dispatching zombie after zombie. Every strike was executed flawlessly, guided by their shared purpose. In the final moments, Gabriel unleashed a torrent of bullets, decimating the horde.  Exhausted but triumphant, Gabriel and Ava watched as the last of the infected crumpled to the ground. The settlement, once teetering on the edge of destruction, was saved. Gabriel couldn't help but feel a surge of admiration for Ava's indomitable spirit. In her, he discovered a kindred soul - a warrior forged by the unforgiving battleground of a post-apocalyptic world.  With the settlement secured, Gabriel and Ava returned to their never-ending mission - the search for Patient Zero. Fuelled by their recent victory, their resolve grew stronger. They scoured the remnants of civilization, following leads and piecing together clues with dogged determination. And finally, after countless battles and near-death experiences, they unearthed a hidden facility concealing the truth.  Within its sterile walls lay the answer to their questions - the true origin of the virus that had decimated their world. Patient Zero, a shadowy figure named Dr. Emil Reinhardt, had been consumed by the very entity he had created. The duo confronted the fallen scientist, his twisted form bearing evidence of his monstrous experiments. With a final burst of strength, Gabriel and Ava ended the life of the man who had unleashed this plague.  In the aftermath, as Gabriel and Ava surveyed the smoldering ruins of the facility, a sense of bitter victory washed over them. The battle against the infected hordes would continue, but a small semblance of justice had been attained. With renewed purpose and an unbreakable bond, they vowed to push forward, fighting relentlessly until the world they once knew was restored.  United by their resilience and unwavering courage, Gabriel and Ava became legends whispered in the ears of survivors, igniting a dwindling flame of hope in the darkest corners of the earth. In a world ravaged by zombies and despair, their actions spoke louder than words, inspiring others to rise against the encroaching tide of darkness.\n",
            "\n",
            "-----------------------------\n",
            "\n",
            "Data Point 5:\n",
            "ID: seed_task_4\n",
            "Story: In the gritty underbelly of a city plagued by crime, Detective John Anderson was a tenacious force to be reckoned with. Tall and lean, with a sharp jawline and piercing blue eyes, he exuded an aura of unwavering determination. The city had become his battleground, and the criminals feared his name.  The whispers on the streets spoke of a notorious criminal mastermind known as \"The Phantom.\" No one had ever seen his face, and his crimes left the police baffled. Like a phantom, he slipped through their fingers, leaving no trace behind. Detective Anderson was obsessed with catching him, a relentless pursuit that consumed his every waking moment.  Late one stormy evening, as the rain poured mercilessly, Detective Anderson received a tip that The Phantom was planning a heist at the city's prestigious art museum. Determined to finally corner his elusive adversary, Anderson made his way to the darkened museum, the faint glow of the moon highlighting his determined gaze.  Inside the museum, the tension thickened as Anderson explored the labyrinthine corridors and galleries. True to his name, The Phantom seemed to be everywhere and nowhere all at once. Paintings were stolen, alarms were triggered, and yet the criminal remained elusive. It was a cat and mouse game, each move meticulously planned, leaving Anderson scrambling to anticipate the next.  Days turned into weeks, and the city grew restless, with each passing moment the grip of fear tightened. The newspapers were filled with headlines screaming of a criminal genius outsmarting the police force at every turn. But Detective Anderson remained undeterred, fueled by a relentless desire for justice.  One fateful night, Anderson received a cryptic message, informing him that The Phantom would strike at the city's grand opera house. Racing against time, he stormed into the opulent theater as the first notes of a symphony filled the air. The tension palpable, Anderson carefully weaved his way through the crowd, his eyes scanning for any suspicious individuals.  As the performance reached its crescendo, a sudden commotion erupted. The lights flickered, and chaos ensued. Anderson instinctively sprinted towards the source of the disturbance. In a darkened corner, he caught a glimpse of a figure he knew all too well. The Phantom.  A chase ensued through the labyrinthine backstage area, their footsteps echoing like thunder. Anderson's heart pounded in his chest as he closed in on his prey. With each twist and turn, he felt the thrum of adrenaline course through his veins, propelling him forward.  Finally, in a moment of sheer determination, Anderson tackled The Phantom to the ground, their bodies colliding with a resounding thud. As they wrestled on the cold floor, Anderson's grip tightened, his fingers digging into the criminal's flesh. The long-awaited arrest was within his grasp.  With the handcuffs securely fastened around The Phantom's wrists, Anderson couldn't help but feel a mix of triumph and relief. The city could finally breathe a sigh of relief, knowing that justice had prevailed. It was a victory hard-fought, a testament to the determination and unwavering resolve of one man.  As the sirens wailed in the distance, Anderson looked down at his defeated adversary, the rain washing away the masquerade of anonymity from The Phantom's face. The eyes staring back at him were filled with a mix of defeat and begrudging respect. An unspoken recognition passed between them, as if they were two sides of the same coin, forever destined to dance this dangerous dance.  And so, as the rain continued to pour, Detective John Anderson stood victorious in the darkness, a testament to the indomitable spirit of those who refuse to falter in the face of evil. The city would remember his name, just as The Phantom would forever be etched in the annals of criminal history. The cat and mouse game had reached its climax, leaving behind a trail of broken illusions and hard-fought triumphs.\n",
            "\n",
            "-----------------------------\n",
            "\n",
            "Data Point 6:\n",
            "ID: seed_task_5\n",
            "Story: In the crumbling metropolis of Neo-Arkadia, a city teetering on the brink of chaos, rival gangs waged war for control over scarce resources. Dilapidated skyscrapers stood tall, their shattered windows reflecting the desolation that shrouded the once-thriving urban landscape. Among this dystopian backdrop, two formidable gangs emerged as the most powerful contenders: the Razor Wings and the Shadow Serpents.  The city's unmistakable staleness hung in the air as the sun dipped below the horizon, casting long shadows across the cracked pavement. The Red Sector, a territory claimed by the Shadow Serpents, pulsated with an otherworldly energy. Led by the enigmatic and ruthless Viper, the gang thrived in the darkness, leaving a trail of chaos and blood in their wake.  In stark contrast, the Blue Sector was the bastion of the Razor Wings. Led by the charismatic yet relentless Phoenix, they were the embodiment of unruly rebellion. Their numbers may have been smaller, but their will to fight was unmatched. The graffiti-covered walls of their stronghold echoed with whispered rumors of their plans to overthrow the Shadow Serpents and restore balance to the decaying city.  As tensions heightened, fate trembled upon a solitary moment. On the eve of the city's annual Nightfall Festival, whispers of an all-out confrontation between the two gangs swirled through the dilapidated streets. The Nightfall Festival, a rare celebration in this bleak existence, invited both gangs to a truce for one night. It was an opportunity seeded with the promise of peace, yet primed to ignite a cataclysmic clash.  The streets thrummed with anticipation, every neon sign flickering with a touch of menace. The colorful streamers that adorned the lamp posts seemed out of place, like desperate pleas for hope in a world devoid of it. The festival grounds were a whirlwind of activity, the air filled with the scent of sizzling street food and the symphony of laughter and music, tinged with an undercurrent of tension.  As the clock struck midnight, the stage was set, the city holding its breath. The crowd parted like the Red Sea as Viper, clad in a cloak of shadow, made his grand entrance, flanked by his loyal Serpents. Phoenix, his gaze unwavering, countered with the audacity of youth, leading the Razor Wings forward.  With bated breath, Neo-Arkadia watched as the cacophony of conflict unfolded. Fists flew through the air, creating a symphony of impact. The neon glow illuminated their faces, etching the ferocity in their eyes. The clashes were both fierce and calculated, a ballet of destruction that danced upon the razors' edge.  Amidst the chaos, a glimmer of hope emerged. A young woman, an outsider named Ember, maneuvered through the chaos, a spark of defiance ignited within her. Inspired by the determination of both gangs, she sought to bridge the divide and create a truce that transcended the blood-soaked street.  With her heart pounding in her chest, Ember maneuvered through the battlefield, dodging blows and leaping over obstacles. Her voice reverberated through the shattered cityscape, a beacon of unity in the relentless storm. Her words cascaded like a soothing rain, washing away the deep-rooted animosity that had consumed them.  Slowly, the Razor Wings and the Shadow Serpents began to lower their weapons. Eyes met across the battlefield, once filled with rage, now softened by the ember of shared humanity. Defying the decay that had plagued their lives, they stood united, embracing the possibility of a brighter future.  As dawn broke over the horizon, the city stirred from its slumber, forever transformed. The rival gangs, once locked in a bitter struggle, found a fragile alliance forged in the crucible of battle. Under a new banner, the united factions worked tirelessly to rebuild their crumbling home, turning the ravaged concrete jungle into an oasis of resilience and hope.  And so, Neo-Arkadia dared to dream of a world where the echoes of conflict faded into whispers of the past, where hearts, once entwined by hatred, birthed a harmony that resonated throughout the city's rebirth. In this dystopian future, action had kindled the fire of change, casting aside the chains that had bound them and leading them toward a future rebuilt on the foundations of unity.\n",
            "\n",
            "-----------------------------\n",
            "\n",
            "Data Point 7:\n",
            "ID: seed_task_6\n",
            "Story: Amidst the inky blackness of the night, a seamless curtain of shadows unfurled itself over the dense wilderness. In the heart of a war-torn nation, nestled between towering mountains and treacherous valleys, lay a remote enemy stronghold. It was here that the fate of an entire nation teetered on the precipice of destruction. Behind the menacing gates and fortified walls, the nefarious General Viktor Verenov reigned supreme, orchestrating his malevolent plans in secret.  In this harrowing landscape, emerged our indomitable hero, Captain Ethan Reynolds, an elite operative trained in the art of covert warfare. With a lean and chiseled physique, Ethan's eyes burned with a fierce determination, his every muscle honed to perfection. Tasked with a critical mission that could turn the tides of battle, he found himself alone, deep behind enemy lines.  As the moon cast its pale light upon the sprawling compound, Ethan stealthily weaved through the labyrinthine corridors, his senses heightened and alert. Every step was calculated, every breath controlled, as he evaded the vigilant guards patrolling the area. His mission was clear: to retrieve vital intelligence that would expose General Verenov's nefarious plans and bring an end to his reign of terror.  The relentless pursuit of his mission led Ethan deeper into the dark underbelly of the compound. He encountered locked doors, intricate security systems, and laser-tripped alarm systems, but his training had prepared him for such obstacles. With deft precision, he dismantled booby traps and outwitted sophisticated surveillance systems, leaving no trace of his presence.  Unbeknownst to Ethan, General Verenov had caught wind of an intruder within his sacred fortress. His paranoia peaked, and he ordered his troops to scour every inch of the compound. The tension in the air thickened as the noose closed in on Ethan, his heart pounding within the confines of his chest.  As dawn broke, bathing the world in shades of orange and gold, Ethan found himself standing on the precipice of success. With perspiration glistening on his brow, he uncovered the hidden vault containing the secrets of General Verenov's master plan. The room was adorned with maps, charts, and classified documents that revealed a sinister plot to unleash a devastating weapon upon innocent civilians. The weight of a nation's hope rested on Ethan's shoulders as he memorized every detail, ready to relay this critical information to his comrades.  With the evidence concealed beneath the folds of his tactical vest, Ethan made his way towards the extraction point. The compound was now alive with frenzied soldiers, their footsteps echoing like thudding drums. His heart raced as he moved soundlessly, melting into the shadows, staying just one step ahead of the enemy's relentless pursuit.  The final stretch of his escape presented formidable challenges, including an electrified fence and a veritable maze of enemy patrols. Ethan, however, tapped into the reserves of his training and stealthily navigated through the treacherous obstacles. Drawing upon his unwavering resolve, he leaped over the fence, nearly brushing against the charged wires, and merged seamlessly into the wilderness beyond.  As the sun reached its apex in the sky, Ethan finally reached the rendezvous point, a remote clearing nestled deep in the forest. It was here that he would meet his comrades, passing on the information that held the power to cripple General Verenov's insidious plans. Moments later, a helicopter materialized from the heavens, lowering its ladder towards Ethan. His fingers tightly clutching the classified documents, he ascended into the hovering aircraft, leaving the enemy stronghold behind.  Days turned into weeks, and the mission's significance rippled through the nation. Armed with Ethan's intelligence, the allied forces struck with precision, dismantling General Verenov's empire piece by piece. The enemy stronghold crumbled, and the people of the war-torn nation breathed a collective sigh of relief.  For his unparalleled bravery and unwavering dedication to the cause, Captain Ethan Reynolds was honored with the highest accolades. However, true to his nature, he remained humble, knowing that his actions were merely part of a larger tapestry of sacrifices made by countless individuals in the name of freedom.  In the years that followed, Captain Ethan Reynolds continued his role in covert operations, embarking on countless missions behind enemy lines. His actions would forever reverberate through the annals of history, reminding the world of the valor and selflessness required to protect the values held dear.\n",
            "\n",
            "-----------------------------\n",
            "\n",
            "Data Point 8:\n",
            "ID: seed_task_7\n",
            "Story: In a sprawling metropolis known as NeoCity, the pulsating heart of technological advancement, a group of elite hackers known as \"The Phantom Shadows\" dwelled in the shadows. Led by their enigmatic leader, Cipher, they navigated the intricate web of cyberspace with unparalleled skill. With their nimble fingers dancing across keyboards and minds ceaselessly calculating algorithms, they were the unseen kings of the digital realm.  As the sun dipped below the horizon, casting an ethereal glow over the glistening skyscrapers, Cipher gathered his team for a secret meeting. In a dimly lit underground hideout, adorned with neon lights and towering stacks of computer servers, they discussed their latest endeavor. A classified government document had come into their possession, revealing a plot by a rogue nation to launch a devastating cyber-attack on NeoCity's infrastructure, sending the entire city into chaos.  This was a battle that extended beyond the virtual realm; lives were at stake, and action needed to be taken. The Phantom Shadows knew that to prevent this catastrophe, they would have to infiltrate the heavily fortified headquarters of their adversaries and acquire the data needed to dismantle their nefarious scheme. Equipped with state-of-the-art hacking tools and with hearts filled with unwavering determination, they prepared themselves for the upcoming mission.  Under the cover of darkness, The Phantom Shadows embarked on their perilous journey. Scaling walls, disabling security systems, and easily bypassing complex firewalls, they were like ghosts weaving through the physical and digital barriers simultaneously. The tension in the air was palpable as they ventured deeper into the enemy's lair.  However, their stealth was not infallible. As Cipher decrypted a crucial file, alarm bells blared, sending the facility into lockdown mode. Armed guards swarmed the corridors, their footsteps growing louder with each passing second. It was a race against time.  With unwavering resolve, The Phantom Shadows split into groups, employing their unparalleled skills to evade capture. Cipher, the master strategist, manipulated the security cameras, causing momentary blind spots, allowing his team to move undetected. Sonic, the agile infiltrator, swiftly made her way through ventilation shafts, dodging laser grids with acrobatic finesse. Meanwhile, Zero, the brilliant codebreaker, hacked into the mainframe, disabling security systems to create an escape route.  Faced with seemingly insurmountable obstacles, The Phantom Shadows relied on their unwavering teamwork and resilience. Even as bullets whizzed past them, they stuck together, utilizing their unique talents to overcome each obstacle with calculated precision. With every keystroke, they got closer to their goal.  Finally, with sweat trickling down their brows and hearts pounding in their chests, they reached the central chamber housing the mastermind behind the cyber-attack. In a climactic confrontation, Cipher engaged in a battle of wits and skill against the formidable enemy. With each stroke of the keyboard, Cipher uncovered the enemy's true identity and motives, exposing their treacherous plot and saving NeoCity from imminent destruction.  As the authorities apprehended the rogue nation's agents and the threat was neutralized, NeoCity rejoiced. The exploits of The Phantom Shadows reverberated through the digital world, earning them legendary status. They had proven that in a world driven by bytes and algorithms, action was a force to be reckoned with.  With their mission accomplished, Cipher and his team vanished back into the depths of cyberspace, their actions leaving an indelible mark on society. The world may never know their true identities, but their legacy as the guardians of justice and masters of cyber warfare would forever be remembered.  And so, in the sprawling metropolis of NeoCity, the invisible warriors fought their battles, protecting the digital realm from those who sought to exploit it. A new era of vigilance had dawned, where the power of action in the face of cyber warfare would forever be heralded as the greatest defense.\n",
            "\n",
            "-----------------------------\n",
            "\n",
            "Data Point 9:\n",
            "ID: seed_task_8\n",
            "Story: Amidst the sprawling hills and enchanting groves of the kingdom of Evergreen lay the eminent village of Stonehaven. It was a place known for its tranquil serenity, but little did the villagers know that the fragile peace they held dear was about to be shattered by a consequential series of events. Armand, an honorable and fearless knight, was the talk of the village. Renowned for his skill with a sword, his agile movements, and his tenacity in battle, he was revered by the villagers and feared by anyone foolish enough to challenge him.  One fateful evening, a mysterious stranger arrived in Stonehaven. His name was Lucian, a prodigious swordsman with an air of dark mystery. He was shrouded in black attire, his silver hair cascading down his back, and his eyes emanating an unwavering intensity. Whispers of his formidable talents spread throughout the village, igniting curiosity and trepidation among its inhabitants. It was inevitable that the paths of Armand and Lucian would cross, setting the stage for a duel that would become the stuff of legends.  As the news of Lucian's arrival reached Armand, a glimmer of excitement danced in his steel-blue eyes. His heart yearned for a worthy adversary who could test his mettle, and Lucian appeared to be the perfect challenger. A gathering crowd encircled them as they faced each other in the village square, the atmosphere thick with anticipation. The villagers held their breath, awaiting the clash of the titans.  The duel commenced with a symphony of clashing steel, each sword stroke a testimony to the remarkable skill possessed by both combatants. The sound of their swords reverberated through the village, creating an enchanting melody that captivated all who listened. Armand's movements were precise and calculated, every swing conveying boundless power. Lucian, on the other hand, moved with a graceful elegance, his every strike infused with a touch of unearthly finesse.  Time seemed to stand still as the two warriors engaged in their fierce dance of swords. The villagers watched in awe-struck silence, their eyes darting between the combatants, unable to predict the outcome of the monumental clash. Armand's strength and experience clashed against Lucian's unparalleled technique and speed. It was a battle of contrasts, where every parry and riposte held the weight of destiny.  The duel raged on for what felt like an eternity, each swordsman displaying unwavering determination and an unyielding spirit. The setting sun cast a warm glow over the spectacle, imbuing the final moments with an ethereal beauty. In one swift movement, Lucian's blade found an opening, striking Armand's armor and knocking him to the ground. The crowd gasped in collective disbelief, their admiration for both warriors unyielding.  Glowering down at his wounded opponent, Lucian extended a hand, offering Armand a chance to rise. With a nod of respect, Armand grasped the gesture, accepting his defeat with grace and humility. Though he had fallen in combat, the bond forged between the two swordsmen transcended victory and loss. They had witnessed the embodiment of true skill, and both earned the respect of the villagers.  From that day forward, Stonehaven became a bastion of martial prowess and camaraderie. The villagers turned the duel into a yearly event, celebrating the valor and skill displayed by Armand and Lucian. The profound impact of their duel inspired a generation of aspiring swordsmen, forever etching their names in the annals of the village. Armand and Lucian's story became a timeless legend, a testament to the power of action and the enduring legacy of a duel between skilled swordsmen.\n",
            "\n",
            "-----------------------------\n",
            "\n",
            "Data Point 10:\n",
            "ID: seed_task_9\n",
            "Story: In the realm of Vindranth, where emerald green meadows stretched out endlessly, stood the ancient city of Ardentia. Its stone walls boasted the tales of countless generations, and its people were known far and wide for their valor and courage. In the heart of the city, a young knight named Lysander spent his days training in the art of swordsmanship. With a heart enlightened by only the many legends of warrior's past, Lysander yearned for the day when he would embark on his own heroic journey.  News arrived in the city that the neighboring kingdom of Ravenholm was ravaged by a great evil. A ruthless sorcerer, known as Morvath the Terrible, had seized control and terrorized the land. Seeking glory and armed with a razor-sharp blade, Lysander volunteered to venture forth, leaving the safety of Ardentia behind.  As our valiant knight approached the border of Ravenholm, he could see the once vibrant fields drowned in darkness. The eerie silence that hung in the air was only broken by the distant howl of a lone wolf. Gripping the hilt of his sword, Lysander's heart pounded with anticipation as he ventured deeper into the kingdom.  Soon, Lysander found himself traversing a treacherous mountain pass, its jagged peaks clawing at the sky above. A sudden gust of wind carried with it a whispered warning - a tribe of merciless bandits awaited those foolish enough to challenge them. Undeterred, Lysander pressed on, ready to face any foes that crossed his path.  As the sun dipped below the mountains, casting long shadows across the land, Lysander stumbled upon a hidden glade nestled amidst the ancient trees. To his surprise, he found himself face-to-face with a fearsome warrior named Malachi. With a towering stature and a sword as wide as a man's arm, Malachi possessed an unmatched prowess and reputation for his epic swordsmanship.  Recognizing the brotherhood borne from the art of the blade, Malachi agreed to teach Lysander the secret techniques of a true swordsman. For days, Lysander and Malachi sparred under the moonlit sky, their swords clashing in a symphony of steel that echoed through the trees. With each passing day, Lysander's skill grew, and his determination reached new heights.  Empowered by his newfound confidence, Lysander pressed forward, confronting Morvath's minions with righteous fury. Swarms of wicked creatures lunged at him from every corner, but the young knight deflected and parried their attacks with precision. With the legendary swordsmanship of Ardentia coursing through his veins, Lysander defeated every foe that dared cross his path.  Finally, the day of reckoning arrived. In the heart of Ravenholm, upon a desolate battleground, Morvath the Terrible awaited his challenger. Dressed in dark robes and wielding a staff crackling with malevolent energy, the sorcerer exuded an aura of sheer malevolence. Yet, Lysander remained undeterred, his grip on his sword tightening as he faced his greatest adversary.  Their duel was nothing short of extraordinary. Sparks flew as steel clashed against sorcery, the sound reverberating through the barren lands. With every swing of his mighty blade, Lysander's resolve grew, channeling the spirits of the ancient warriors who once defended Vindranth. Slowly but surely, Morvath found himself overwhelmed by the knight's unwavering determination.  In one final strike, Lysander's blade pierced through the sorcerer's defenses, casting Morvath to the ground in defeat. Victory washed over Lysander as the dark forces that clouded Ravenholm dissipated with Morvath's defeat. The land rejoiced, and the people were freed from the grip of tyranny.  Returning to Ardentia as a triumphant hero, Lysander was hailed as a savior, his name forever etched in the annals of legend. However, his greatest reward lay not in the adoration of the masses but in the unwavering knowledge that he had made a difference, that he had answered the call to action, and forged his own epic tale with the sword at his side.  And so, in the realm of Vindranth, where the emerald fields danced in the gentle breeze, Lysander's tale lived on, inspiring generations to come to take up arms and face their own battles. The legacy of his epic sword fights remained eternally etched in the tapestry of history, reminding all who would listen that heroes are made in the crucible of action.\n",
            "\n",
            "-----------------------------\n",
            "\n"
          ]
        }
      ]
    },
    {
      "cell_type": "code",
      "source": [
        "from transformers import pipeline\n",
        "\n",
        "\n",
        "# Define the generator pipeline using the fine-tuned GPT-2 model and tokenizer\n",
        "generator = pipeline('text-generation', model='./gpt2-final-version', tokenizer='gpt2', pad_token_id=tokenizer.pad_token_id)\n",
        "\n",
        "# List to store generated stories\n",
        "generated_stories = []\n",
        "\n",
        "# Generate text based on the subset of the training dataset\n",
        "for example in subset_dataset:\n",
        "    # Extract the first 7 words from example['Story']\n",
        "    first_7_words = \" \".join(example['Story'].split()[:7])\n",
        "\n",
        "    # Create the test prompt using the extracted words\n",
        "    test_prompt = (\n",
        "        f\"### Instruction:\\nGenerate a story based on the following prompt:\\n\\n{first_7_words} \"\n",
        "    )\n",
        "\n",
        "    # Generate text based on the test prompt using the generator pipeline\n",
        "    generated_text = generator(test_prompt, max_length=128, num_return_sequences=1)\n",
        "\n",
        "    # Extract and store only the generated story\n",
        "    generated_story = generated_text[0]['generated_text'].split(\"### Instruction:\\nGenerate a story based on the following prompt:\\n\\n\")[1].strip()\n",
        "    generated_stories.append(generated_story)\n",
        "\n",
        "# Print or use the list of generated stories\n",
        "for idx, story in enumerate(generated_stories):\n",
        "    print(f\"Generated Story {idx + 1}:\\n{story}\")\n",
        "    print(\"------------------------------------------\")\n"
      ],
      "metadata": {
        "id": "uoXcxIUw3pmb",
        "colab": {
          "base_uri": "https://localhost:8080/"
        },
        "outputId": "f0aae74e-1676-4a4b-de2c-e99392b6413d"
      },
      "execution_count": 31,
      "outputs": [
        {
          "output_type": "stream",
          "name": "stdout",
          "text": [
            "Generated Story 1:\n",
            "In the bustling city of New York, , young. of,, was for career an, and for city and and, would, determination had on and She to. always life She found love with was career and of morning, life and day she  her dreams. she heart pursue her financial a and ambition and she no of, day a for the determination to despair's., dreams, to would. financial a, within, herself determination, Seeking financial life to confidence of her she.,, in a her With She, the found the\n",
            "------------------------------------------\n",
            "Generated Story 2:\n",
            "The sky stretched out before them, an  the the skysc its, The neon below casting the of and air a was. a shadows of in place below, a,ways, city of. This heart. place in had named where, its this city, to, young to, and the known streets. blue eyes this had,, of her of that  always the, the. the of that shadowsed the, his inked year that eyes that  him. and,, him, the, Their, of and their the his. the the\n",
            "------------------------------------------\n",
            "Generated Story 3:\n",
            "In the midst of a bustling metropolis  his was a the the and a with for. a had for for himselfigma, city, aigma a- the that on determination piercing the eyes a in for, enigmatic and, him eyes always the. he of the was, life he... were of the to  he for a, the., that a had leaving the. night in leaving. life life enigmatic., of, facade he, the of lur. with, the within who of an facade in the As the sol streets life\n",
            "------------------------------------------\n",
            "Generated Story 4:\n",
            "In the heart of a once-thriving metropolis,  air where its Nest The. an.. of the towering this,,, The, reflecting below with its glow the streets a andways a as streets and, lived streets landscape vibrant in of an lived of the. and a At labyrinth., its lur a, a Detective, foring eyes to with his. of, His  a years to a. a The, that as with as a,. to of the. in countless their that on that Theyed with of,\n",
            "------------------------------------------\n",
            "Generated Story 5:\n",
            "In the gritty underbelly of a city  wasb. and, citizens the relentless of law emerged the to were a the Amidine for were and,leys. the this in, of. cityavering his the the. eyes determination was of and in. seen a under a his under the man, one officer the. of a the  his the his justice his his in officer, of one, city his vigilante The. With, on, his the streets left in  in his a to crimes a to fear people they of, fear\n",
            "------------------------------------------\n",
            "Generated Story 6:\n",
            "In the crumbling metropolis of Neo-Arkadia, a rap, skysc had, the by of-.rap where ofrap and neon streets therap air lived of streets the inhabitantsnetic the holographic In holog of this of the hernetic her who the always a a had possessed of hair Amelia the depths her the her the her world's the a thenetic was with her to her world with Her her  enigmatic and., displays holog enhancements an enhance life and.. that she a to thenetic,, holog navigs life, life,\n",
            "------------------------------------------\n",
            "Generated Story 7:\n",
            "Amidst the inky blackness of the night,  as place of, with, the, stood casting seemed in air. and as grip and a, chaos stood by from chaos heavy where thick despair a of Among the this by by of that Thest hearts walls despair emerged young desolate eyes as her. by. the. their for ench the of. into in,kered by hope their burning, and the from waskered the despair the and the with thekered for of the  that the the as, from once their burned. a of\n",
            "------------------------------------------\n",
            "Generated Story 8:\n",
            "In a sprawling metropolis known as NeoCity,  her hair a haz, her,, the for and the a futuristic in in bustling the skysc the she her, holog an people she human. through was her like, where,, the the, seamlessly to artificial, the, her of and and It. the her world a the her was the was holog vibrant the her of part holog. the, of She that of. a bustling a, Neo streets, that vibrant part streets were with of of, the a named. kale the were marvel The\n",
            "------------------------------------------\n",
            "Generated Story 9:\n",
            "Amidst the sprawling hills and enchanting groves  by curls aald the emer aald young her and for possessed a and a, forests, was the with and the animals her forameding for to wildamed with as, for sheamed ro,..amed for and the with named deep. wereleded the and named named eyes chest had a the eyes a, named and as... wings heart chest his., in named for through was the withamed ofled forest by an wild aled She village named village and the bro\n",
            "------------------------------------------\n",
            "Generated Story 10:\n",
            "In the realm of Vindranth, where emerald  into with of wide named the to ruled as, ancient been where prosperity passed prosperity, to, their their and a prosperity prosperity of a wide The a a their,., held prosperity and was that At to a the dest was prosperous Sel with prosperity was the named and to held, the. with  of grand had a were, prosperity by the and prosperous their to, their prosperity its hearts Sel wide prosperity their. prosperity was prosperity of Sel thened, their their their wealth a. prosperous\n",
            "------------------------------------------\n"
          ]
        }
      ]
    },
    {
      "cell_type": "markdown",
      "source": [
        "# **BERTScore**\n",
        "* https://huggingface.co/spaces/evaluate-metric/bertscore"
      ],
      "metadata": {
        "id": "9a110rNUN-Hq"
      }
    },
    {
      "cell_type": "code",
      "source": [
        "!pip install evaluate"
      ],
      "metadata": {
        "id": "HVj06YmpWdQf",
        "colab": {
          "base_uri": "https://localhost:8080/"
        },
        "outputId": "3a635e6f-d105-430e-cc83-e1952606ce5f"
      },
      "execution_count": 32,
      "outputs": [
        {
          "output_type": "stream",
          "name": "stdout",
          "text": [
            "Collecting evaluate\n",
            "  Downloading evaluate-0.4.1-py3-none-any.whl (84 kB)\n",
            "\u001b[2K     \u001b[90m━━━━━━━━━━━━━━━━━━━━━━━━━━━━━━━━━━━━━━━━\u001b[0m \u001b[32m84.1/84.1 kB\u001b[0m \u001b[31m1.2 MB/s\u001b[0m eta \u001b[36m0:00:00\u001b[0m\n",
            "\u001b[?25hRequirement already satisfied: datasets>=2.0.0 in /usr/local/lib/python3.10/dist-packages (from evaluate) (2.16.1)\n",
            "Requirement already satisfied: numpy>=1.17 in /usr/local/lib/python3.10/dist-packages (from evaluate) (1.23.5)\n",
            "Requirement already satisfied: dill in /usr/local/lib/python3.10/dist-packages (from evaluate) (0.3.7)\n",
            "Requirement already satisfied: pandas in /usr/local/lib/python3.10/dist-packages (from evaluate) (1.5.3)\n",
            "Requirement already satisfied: requests>=2.19.0 in /usr/local/lib/python3.10/dist-packages (from evaluate) (2.31.0)\n",
            "Requirement already satisfied: tqdm>=4.62.1 in /usr/local/lib/python3.10/dist-packages (from evaluate) (4.66.1)\n",
            "Requirement already satisfied: xxhash in /usr/local/lib/python3.10/dist-packages (from evaluate) (3.4.1)\n",
            "Requirement already satisfied: multiprocess in /usr/local/lib/python3.10/dist-packages (from evaluate) (0.70.15)\n",
            "Requirement already satisfied: fsspec[http]>=2021.05.0 in /usr/local/lib/python3.10/dist-packages (from evaluate) (2023.6.0)\n",
            "Requirement already satisfied: huggingface-hub>=0.7.0 in /usr/local/lib/python3.10/dist-packages (from evaluate) (0.20.2)\n",
            "Requirement already satisfied: packaging in /usr/local/lib/python3.10/dist-packages (from evaluate) (23.2)\n",
            "Collecting responses<0.19 (from evaluate)\n",
            "  Downloading responses-0.18.0-py3-none-any.whl (38 kB)\n",
            "Requirement already satisfied: filelock in /usr/local/lib/python3.10/dist-packages (from datasets>=2.0.0->evaluate) (3.13.1)\n",
            "Requirement already satisfied: pyarrow>=8.0.0 in /usr/local/lib/python3.10/dist-packages (from datasets>=2.0.0->evaluate) (10.0.1)\n",
            "Requirement already satisfied: pyarrow-hotfix in /usr/local/lib/python3.10/dist-packages (from datasets>=2.0.0->evaluate) (0.6)\n",
            "Requirement already satisfied: aiohttp in /usr/local/lib/python3.10/dist-packages (from datasets>=2.0.0->evaluate) (3.9.1)\n",
            "Requirement already satisfied: pyyaml>=5.1 in /usr/local/lib/python3.10/dist-packages (from datasets>=2.0.0->evaluate) (6.0.1)\n",
            "Requirement already satisfied: typing-extensions>=3.7.4.3 in /usr/local/lib/python3.10/dist-packages (from huggingface-hub>=0.7.0->evaluate) (4.5.0)\n",
            "Requirement already satisfied: charset-normalizer<4,>=2 in /usr/local/lib/python3.10/dist-packages (from requests>=2.19.0->evaluate) (3.3.2)\n",
            "Requirement already satisfied: idna<4,>=2.5 in /usr/local/lib/python3.10/dist-packages (from requests>=2.19.0->evaluate) (3.6)\n",
            "Requirement already satisfied: urllib3<3,>=1.21.1 in /usr/local/lib/python3.10/dist-packages (from requests>=2.19.0->evaluate) (2.0.7)\n",
            "Requirement already satisfied: certifi>=2017.4.17 in /usr/local/lib/python3.10/dist-packages (from requests>=2.19.0->evaluate) (2023.11.17)\n",
            "Requirement already satisfied: python-dateutil>=2.8.1 in /usr/local/lib/python3.10/dist-packages (from pandas->evaluate) (2.8.2)\n",
            "Requirement already satisfied: pytz>=2020.1 in /usr/local/lib/python3.10/dist-packages (from pandas->evaluate) (2023.3.post1)\n",
            "Requirement already satisfied: attrs>=17.3.0 in /usr/local/lib/python3.10/dist-packages (from aiohttp->datasets>=2.0.0->evaluate) (23.2.0)\n",
            "Requirement already satisfied: multidict<7.0,>=4.5 in /usr/local/lib/python3.10/dist-packages (from aiohttp->datasets>=2.0.0->evaluate) (6.0.4)\n",
            "Requirement already satisfied: yarl<2.0,>=1.0 in /usr/local/lib/python3.10/dist-packages (from aiohttp->datasets>=2.0.0->evaluate) (1.9.4)\n",
            "Requirement already satisfied: frozenlist>=1.1.1 in /usr/local/lib/python3.10/dist-packages (from aiohttp->datasets>=2.0.0->evaluate) (1.4.1)\n",
            "Requirement already satisfied: aiosignal>=1.1.2 in /usr/local/lib/python3.10/dist-packages (from aiohttp->datasets>=2.0.0->evaluate) (1.3.1)\n",
            "Requirement already satisfied: async-timeout<5.0,>=4.0 in /usr/local/lib/python3.10/dist-packages (from aiohttp->datasets>=2.0.0->evaluate) (4.0.3)\n",
            "Requirement already satisfied: six>=1.5 in /usr/local/lib/python3.10/dist-packages (from python-dateutil>=2.8.1->pandas->evaluate) (1.16.0)\n",
            "Installing collected packages: responses, evaluate\n",
            "Successfully installed evaluate-0.4.1 responses-0.18.0\n"
          ]
        }
      ]
    },
    {
      "cell_type": "code",
      "source": [
        "!pip install bert_score"
      ],
      "metadata": {
        "id": "h11J_xJjWnmi",
        "colab": {
          "base_uri": "https://localhost:8080/"
        },
        "outputId": "49d2b9be-5b3c-4ed2-abaf-5b03ef90fea9"
      },
      "execution_count": 33,
      "outputs": [
        {
          "output_type": "stream",
          "name": "stdout",
          "text": [
            "Collecting bert_score\n",
            "  Downloading bert_score-0.3.13-py3-none-any.whl (61 kB)\n",
            "\u001b[2K     \u001b[90m━━━━━━━━━━━━━━━━━━━━━━━━━━━━━━━━━━━━━━━━\u001b[0m \u001b[32m61.1/61.1 kB\u001b[0m \u001b[31m827.5 kB/s\u001b[0m eta \u001b[36m0:00:00\u001b[0m\n",
            "\u001b[?25hRequirement already satisfied: torch>=1.0.0 in /usr/local/lib/python3.10/dist-packages (from bert_score) (2.1.0+cu121)\n",
            "Requirement already satisfied: pandas>=1.0.1 in /usr/local/lib/python3.10/dist-packages (from bert_score) (1.5.3)\n",
            "Requirement already satisfied: transformers>=3.0.0 in /usr/local/lib/python3.10/dist-packages (from bert_score) (4.36.2)\n",
            "Requirement already satisfied: numpy in /usr/local/lib/python3.10/dist-packages (from bert_score) (1.23.5)\n",
            "Requirement already satisfied: requests in /usr/local/lib/python3.10/dist-packages (from bert_score) (2.31.0)\n",
            "Requirement already satisfied: tqdm>=4.31.1 in /usr/local/lib/python3.10/dist-packages (from bert_score) (4.66.1)\n",
            "Requirement already satisfied: matplotlib in /usr/local/lib/python3.10/dist-packages (from bert_score) (3.7.1)\n",
            "Requirement already satisfied: packaging>=20.9 in /usr/local/lib/python3.10/dist-packages (from bert_score) (23.2)\n",
            "Requirement already satisfied: python-dateutil>=2.8.1 in /usr/local/lib/python3.10/dist-packages (from pandas>=1.0.1->bert_score) (2.8.2)\n",
            "Requirement already satisfied: pytz>=2020.1 in /usr/local/lib/python3.10/dist-packages (from pandas>=1.0.1->bert_score) (2023.3.post1)\n",
            "Requirement already satisfied: filelock in /usr/local/lib/python3.10/dist-packages (from torch>=1.0.0->bert_score) (3.13.1)\n",
            "Requirement already satisfied: typing-extensions in /usr/local/lib/python3.10/dist-packages (from torch>=1.0.0->bert_score) (4.5.0)\n",
            "Requirement already satisfied: sympy in /usr/local/lib/python3.10/dist-packages (from torch>=1.0.0->bert_score) (1.12)\n",
            "Requirement already satisfied: networkx in /usr/local/lib/python3.10/dist-packages (from torch>=1.0.0->bert_score) (3.2.1)\n",
            "Requirement already satisfied: jinja2 in /usr/local/lib/python3.10/dist-packages (from torch>=1.0.0->bert_score) (3.1.2)\n",
            "Requirement already satisfied: fsspec in /usr/local/lib/python3.10/dist-packages (from torch>=1.0.0->bert_score) (2023.6.0)\n",
            "Requirement already satisfied: triton==2.1.0 in /usr/local/lib/python3.10/dist-packages (from torch>=1.0.0->bert_score) (2.1.0)\n",
            "Requirement already satisfied: huggingface-hub<1.0,>=0.19.3 in /usr/local/lib/python3.10/dist-packages (from transformers>=3.0.0->bert_score) (0.20.2)\n",
            "Requirement already satisfied: pyyaml>=5.1 in /usr/local/lib/python3.10/dist-packages (from transformers>=3.0.0->bert_score) (6.0.1)\n",
            "Requirement already satisfied: regex!=2019.12.17 in /usr/local/lib/python3.10/dist-packages (from transformers>=3.0.0->bert_score) (2023.6.3)\n",
            "Requirement already satisfied: tokenizers<0.19,>=0.14 in /usr/local/lib/python3.10/dist-packages (from transformers>=3.0.0->bert_score) (0.15.0)\n",
            "Requirement already satisfied: safetensors>=0.3.1 in /usr/local/lib/python3.10/dist-packages (from transformers>=3.0.0->bert_score) (0.4.1)\n",
            "Requirement already satisfied: contourpy>=1.0.1 in /usr/local/lib/python3.10/dist-packages (from matplotlib->bert_score) (1.2.0)\n",
            "Requirement already satisfied: cycler>=0.10 in /usr/local/lib/python3.10/dist-packages (from matplotlib->bert_score) (0.12.1)\n",
            "Requirement already satisfied: fonttools>=4.22.0 in /usr/local/lib/python3.10/dist-packages (from matplotlib->bert_score) (4.47.0)\n",
            "Requirement already satisfied: kiwisolver>=1.0.1 in /usr/local/lib/python3.10/dist-packages (from matplotlib->bert_score) (1.4.5)\n",
            "Requirement already satisfied: pillow>=6.2.0 in /usr/local/lib/python3.10/dist-packages (from matplotlib->bert_score) (9.4.0)\n",
            "Requirement already satisfied: pyparsing>=2.3.1 in /usr/local/lib/python3.10/dist-packages (from matplotlib->bert_score) (3.1.1)\n",
            "Requirement already satisfied: charset-normalizer<4,>=2 in /usr/local/lib/python3.10/dist-packages (from requests->bert_score) (3.3.2)\n",
            "Requirement already satisfied: idna<4,>=2.5 in /usr/local/lib/python3.10/dist-packages (from requests->bert_score) (3.6)\n",
            "Requirement already satisfied: urllib3<3,>=1.21.1 in /usr/local/lib/python3.10/dist-packages (from requests->bert_score) (2.0.7)\n",
            "Requirement already satisfied: certifi>=2017.4.17 in /usr/local/lib/python3.10/dist-packages (from requests->bert_score) (2023.11.17)\n",
            "Requirement already satisfied: six>=1.5 in /usr/local/lib/python3.10/dist-packages (from python-dateutil>=2.8.1->pandas>=1.0.1->bert_score) (1.16.0)\n",
            "Requirement already satisfied: MarkupSafe>=2.0 in /usr/local/lib/python3.10/dist-packages (from jinja2->torch>=1.0.0->bert_score) (2.1.3)\n",
            "Requirement already satisfied: mpmath>=0.19 in /usr/local/lib/python3.10/dist-packages (from sympy->torch>=1.0.0->bert_score) (1.3.0)\n",
            "Installing collected packages: bert_score\n",
            "Successfully installed bert_score-0.3.13\n"
          ]
        }
      ]
    },
    {
      "cell_type": "code",
      "source": [
        "!pip install sacrebleu"
      ],
      "metadata": {
        "id": "QnAgvC9Eam6Z",
        "colab": {
          "base_uri": "https://localhost:8080/"
        },
        "outputId": "13a82472-16b5-4a37-d87d-21846754588b"
      },
      "execution_count": 34,
      "outputs": [
        {
          "output_type": "stream",
          "name": "stdout",
          "text": [
            "Collecting sacrebleu\n",
            "  Downloading sacrebleu-2.4.0-py3-none-any.whl (106 kB)\n",
            "\u001b[?25l     \u001b[90m━━━━━━━━━━━━━━━━━━━━━━━━━━━━━━━━━━━━━━━━\u001b[0m \u001b[32m0.0/106.3 kB\u001b[0m \u001b[31m?\u001b[0m eta \u001b[36m-:--:--\u001b[0m\r\u001b[2K     \u001b[91m━━━━━━━━━━━\u001b[0m\u001b[91m╸\u001b[0m\u001b[90m━━━━━━━━━━━━━━━━━━━━━━━━━━━━\u001b[0m \u001b[32m30.7/106.3 kB\u001b[0m \u001b[31m1.2 MB/s\u001b[0m eta \u001b[36m0:00:01\u001b[0m\r\u001b[2K     \u001b[90m━━━━━━━━━━━━━━━━━━━━━━━━━━━━━━━━━━━━━━━━\u001b[0m \u001b[32m106.3/106.3 kB\u001b[0m \u001b[31m1.4 MB/s\u001b[0m eta \u001b[36m0:00:00\u001b[0m\n",
            "\u001b[?25hCollecting portalocker (from sacrebleu)\n",
            "  Downloading portalocker-2.8.2-py3-none-any.whl (17 kB)\n",
            "Requirement already satisfied: regex in /usr/local/lib/python3.10/dist-packages (from sacrebleu) (2023.6.3)\n",
            "Requirement already satisfied: tabulate>=0.8.9 in /usr/local/lib/python3.10/dist-packages (from sacrebleu) (0.9.0)\n",
            "Requirement already satisfied: numpy>=1.17 in /usr/local/lib/python3.10/dist-packages (from sacrebleu) (1.23.5)\n",
            "Collecting colorama (from sacrebleu)\n",
            "  Downloading colorama-0.4.6-py2.py3-none-any.whl (25 kB)\n",
            "Requirement already satisfied: lxml in /usr/local/lib/python3.10/dist-packages (from sacrebleu) (4.9.4)\n",
            "Installing collected packages: portalocker, colorama, sacrebleu\n",
            "Successfully installed colorama-0.4.6 portalocker-2.8.2 sacrebleu-2.4.0\n"
          ]
        }
      ]
    },
    {
      "cell_type": "code",
      "source": [
        "print(story_list)"
      ],
      "metadata": {
        "id": "MkGgt3ghXezZ",
        "colab": {
          "base_uri": "https://localhost:8080/"
        },
        "outputId": "5c93c422-299f-4121-ae42-9daf3fb8cb01"
      },
      "execution_count": 35,
      "outputs": [
        {
          "output_type": "stream",
          "name": "stdout",
          "text": [
            "['In the bustling city of New York, where the neon lights flickered and the sound of traffic reverberated through the streets, lived a man named Ethan Sullivan. With his chiseled jawline, piercing blue eyes, and a physique carved by years of training, Ethan possessed an air of mystery that intrigued those who crossed his path. He lived a solitary life in a modest apartment, spending his days as an accountant, his nights cloaked in shadows and secrecy.  One fateful morning, as the city awoke to the rhythmic beat of its own heartbeat, Ethan received a cryptic message on a burner phone. It simply stated, \"They\\'re coming for you.\" His heart quickened, and a wave of apprehension washed over him. Who were \"they,\" and why were they after him? Ethan\\'s blood ran cold, fueling a surge of adrenaline that urged him to take action.  Without a moment\\'s hesitation, Ethan gathered his meager belongings and made his way to a hidden room beneath his apartment. The room, concealed behind a bookshelf, was a secret sanctuary where he had spent countless hours honing his skills and preparing for the unknown. As he descended the narrow staircase, the walls whispered tales of peril and resilience, fueling his determination.  Days turned into nights, and the hunt for Ethan intensified. He navigated the city\\'s labyrinthine underworld, seeking answers to the questions that shadowed his every step. His pursuit brought him face to face with a network of spies, double agents, and dangerous mercenaries, all entangled in a web of deception. Ethan\\'s resilience was pushed to its limits as he evaded their clutches, relying on his training and instincts to outwit his adversaries.  Amidst the chaos, Ethan discovered a hidden connection between himself and the mysterious organization that sought his demise. Unbeknownst to him, he possessed an uncanny ability to unlock long-dormant memories, memories that held the key to an ancient artifact rumored to possess unimaginable power. This revelation marked a turning point in his quest, as he realized that his actions were not only a matter of personal survival but threatened the delicate balance of the entire world.  With newfound purpose, Ethan embarked on a perilous journey across continents, battling foes and confronting the ghosts of his past. He delved into ancient texts, deciphering cryptic symbols and untangling riddles that led him closer to the artifact\\'s secret location. The world around him trembled, unaware of the cataclysmic power that awaited should the artifact fall into the wrong hands.  In the heart of the Amazon rainforest, amidst lush foliage and echoing wildlife, Ethan reached the sacred temple where the artifact lay hidden. The air crackled with anticipation as he overcame treacherous trials, testing both his physical and mental prowess. With each obstacle conquered, his purpose grew clearer, his resolve unyielding.  Finally, standing on the precipice of destiny, Ethan found himself face to face with his nemesis, the orchestrator of his torment. A battle of wills ensued, each combatant matching the other blow for blow, weaving a deadly dance of strength and strategy. It was a battle that transcended the physical, a clash between opposing ideologies.  In the end, it was Ethan\\'s unwavering determination that prevailed. With a final, decisive strike, he thwarted his enemy\\'s plans and secured the artifact, safeguarding the world from its malevolence. The weight of his actions settled upon him, and as he gazed upon the artifact, he understood the responsibility that came with its power.  With the threat vanquished and the world saved, Ethan\\'s journey drew to a close. He returned to his solitary life in New York, no longer haunted by the phantom of impending danger. Yet, his actions had left an indelible mark upon his soul, a reminder that even in the face of insurmountable odds, one individual could make a difference. And with that knowledge, Ethan Sullivan embraced the path that lay ahead of him, ready to face whatever challenges may come his way.', 'The sky stretched out before them, an endless expanse of blue pierced only by fluffy white clouds. The air crackled with the anticipation of action as the squadron gathered at the airfield, their sleek fighter jets gleaming under the noon sun. Among the pilots was Captain Joshua Bennett, a seasoned veteran with eyes as sharp as a hawk\\'s, and a heart that beat with the rhythm of war.  Set in the midst of a raging conflict, the story takes place during the height of World War II. Captain Bennett, a fearless and daring leader, had earned his reputation through countless successful missions. He was known for his audacious maneuvers and masterful control of aircraft, traits that instilled confidence in every member of his squadron.  Their current mission was crucial - they were tasked with intercepting and neutralizing a squadron of enemy bombers bound for a nearby heavily fortified city. The stakes were high; failure meant devastation for countless lives on the ground. But failure was not an option for Captain Bennett and his men.  As they climbed into their cockpits, each pilot embraced the danger that lay ahead. The roar of engines filled the air, drowning out all other sounds. The planes taxied onto the runway, lined up with military precision. The countdown began, the moment drawing closer with each passing second.  With a thunderous roar, the planes rocketed into the clear blue sky. Wings unfolded, propellers spun, and the pilots adjusted their throttles to find the perfect balance of speed and maneuverability. The rush of wind whipped their faces as they gained altitude, soaring towards their destiny.  As they closed in on the enemy formation, the first hints of adrenaline coursed through their veins. The lead bomber came into view, its gray monstrosity blotting out the sun. It was a formidable target, bristling with defensive guns and encased in heavy armor.  Captain Bennett\\'s voice broke through the radio static, calm yet tinged with intensity. \"Stick to the plan, gentlemen. Stay in formation, and watch each other\\'s backs.\" The squadron spread their wings and formed a protective wall around their leader. It was time to engage.  In a dazzling display of aerial acrobatics and precision, the dogfight began. Fighter jets darted and weaved through the air, leaving white contrails in their wake. The deafening roar of engines mingled with the staccato bursts of gunfire. Maneuvers honed through countless hours of training were put to the test as the pilots pushed themselves to the limits.  Enemy tracers wove through the sky like deadly ribbons, threatening to tear the squadron apart. Captain Bennett\\'s instincts kicked in, his eyes scanning the chaotic battlefield, searching for weak points. He made split-second decisions, radioing commands to his men as they fought tooth and nail against their adversaries.  Bullets grazed wings, but the pilots pressed on, clinging to that indomitable spirit of victory. They danced with death, their every move calculated and executed with utmost precision. Captain Bennett, like a maestro directing an orchestra, orchestrated the deadly symphony of war, leading his men with unwavering determination.  As the fight raged on, the squadron\\'s efforts began to bear fruit. One enemy bomber after another plummeted from the sky, engulfed in billowing flames. The sky turned into a kaleidoscope of smoke and fire, a testament to their courage and skill. The tide began to turn, the remaining enemy formations faltering under the relentless onslaught.  And then, silence fell upon the battlefield. The enemy bombers lay shattered and defeated, scattered like forlorn chess pieces across the sky. The squadron, weary yet triumphant, regrouped in a display of unity and solidarity.  Captain Bennett\\'s voice broke through the radio once again, this time filled with pride. \"Well done, gentlemen. Another victory for the history books.\" The cheers of his comrades echoed in the air, mingling with the sea breeze.  As the planes headed back to base, engines humming in synchrony, the captain couldn\\'t help but smile. They had prevailed against all odds, proving their mettle in the crucible of combat. He knew that their actions had made a difference, had saved lives, and kept hope alive in the hearts of those on the ground.  Their legacy as warriors in the skies would forever be remembered, etched in the annals of history. And Captain Joshua Bennett, the fearless leader who led his squadron with unwavering resolve, would forever be hailed as a hero, a beacon of courage in the darkest of times.', 'In the midst of a bustling metropolis teeming with skyscrapers that seemingly touched the heavens, nestled a small and unassuming garage. It belonged to Ethan, a young and brilliant engineer consumed by his insatiable thirst for innovation and adventure. With grease-stained hands and a mind full of ideas, he spent every waking hour tinkering and crafting marvelous inventions that could turn dreams into reality.  One fateful afternoon, while rummaging through a box filled with ancient blueprints, Ethan stumbled upon a peculiar schematic. It depicted a colossal machine, a menacing giant robot with gleaming steel limbs and an aura of unstoppable power. Intrigued and fascinated, he couldn\\'t resist the temptation to bring this mechanical behemoth to life.  Days turned into weeks, and nights melted away as Ethan toiled tirelessly in his secluded workshop, pouring every ounce of his skill and determination into the construction of his masterpiece. Finally, after countless sleepless nights, his creation stood before him in all its majestic glory - a formidable mech equipped with an array of devastating weapons, ready to challenge any foe that dared face it.  News of Ethan\\'s extraordinary creation spread like wildfire across the city, catching the attention of a notorious and power-hungry conglomerate known as IronCorp Industries. Their enigmatic leader, Raymond Blackwood, was a zealous man who sought to dominate the world using an army of unstoppable robots. Enraged by the presence of a potential rival, Blackwood devised a sinister plan to steal Ethan\\'s invention, ensuring his own hegemony remained unchallenged.  As dusk settled over the city, Ethan climbed into the cockpit of his mighty mech, aptly named \"Ironfire,\" and prepared for battle. He had heard whispers of IronCorp\\'s plans and knew that he must act swiftly to protect his creation, and by extension, the very heart of innovation itself.  Engulfed in the shadows, Ethan set out on a perilous journey through the dimly lit streets, radar systems humming softly as he tracked the movements of IronCorp\\'s relentless forces. Every corner of the city seemed to pulsate with danger, each alleyway hiding a potential ambush. But Ethan\\'s resolve burned bright, and with every step, his heart raced with a mix of anticipation and desperation.  Finally, deep within the heart of an abandoned factory, a cacophony of metallic growls echoed ominously. Ironfire stepped forward, ready to face an army of imposing IronCorp robots driven by malice and greed. As the battle raged on, Ethan\\'s instincts and intimate knowledge of his creation guided him. He evaded crushing blows and countered with devastating precision, each strike in perfect harmony with the symphony of danger that surrounded him.  In a climactic clash of metal and might, Ironfire unleashed a powerful surge of energy that coursed through the remnants of IronCorp\\'s defeated robots. Sparks danced and smoke filled the air, the battle leaving nothing but a wake of debris in its path. Ethan stood triumphant, having defended his creation and regained his vision of a world where innovation thrived untethered.  Word of Ethan\\'s heroic victory spread throughout the city, and he became a legend, a symbol of defiance against corporate tyranny. IronCorp, left in shambles, retreated into the shadows, their dreams of domination shattered. From that day forward, the city monumentally shifted, embracing a new era where aspiring inventors and unyielding dreamers were celebrated and cherished.  As the sun set on the horizon, bathing the city in hues of crimson and gold, Ethan surveyed the landscape that had once been plagued by darkness. A smile graced his lips, knowing that he had played a pivotal role in defending the very essence of action and innovation against overwhelming odds. And with newfound hope in his heart, he embarked on a journey to inspire a generation and forge a future where dreams knew no boundaries.', \"In the heart of a once-thriving metropolis, now reduced to a desolate wasteland, a lone figure emerged from the shadows. Leather-clad and armed to the teeth, his name was Gabriel. Standing at the precipice of an abandoned street, he surveyed the remnants of what was once a bustling city. Hollowed buildings loomed like guardians of a forgotten time, their broken windows reflecting the glimmers of an apocalyptic twilight.  It had been years since the outbreak, the virus that turned ordinary people into ravenous zombies. Gabriel, a former army officer, had become a symbol of hope in this desolate world. With his unwavering determination and unparalleled combat skills, he had earned the respect of fellow survivors. But there was one mission that haunted his every step – the hunt for Patient Zero, the source of this unspeakable horror.  As Gabriel patrolled the remnants of humanity's domain, a garbled transmission pierced the silence, crackling with static. It was a distress call from a nearby settlement. He hesitated for a moment, torn between his undying pursuit and the plight of innocents in need. His duty prevailed, and he set off towards the desperate cries of his fellow survivors.  Arriving at the settlement, Gabriel found himself face to face with chaos. The once-peaceful refuge had been overrun by hordes of infected. Their guttural moans filled the air as they mindlessly tore through barricades and devoured any living thing in their path. Amidst the bedlam, a young woman named Ava caught Gabriel's eye. Fearlessly armed with her own makeshift weapons, she fought valiantly to protect the last remnants of her community.  Recognizing her grit, Gabriel teamed up with Ava to stem the tide of the infected. Together, they forged a path through the chaos, leaving a trail of fallen zombies in their wake. Their teamwork was seamless, as if forged in the fires of adversity. Gabriel marveled at Ava's resilience and fiery determination as they battled side by side. It was a beacon of light in a world veiled in darkness.  Their efforts culminated in a climactic showdown with a particularly formidable horde. Surrounded, Gabriel and Ava fought with unmatched ferocity. Their weapons whirled through the air, dispatching zombie after zombie. Every strike was executed flawlessly, guided by their shared purpose. In the final moments, Gabriel unleashed a torrent of bullets, decimating the horde.  Exhausted but triumphant, Gabriel and Ava watched as the last of the infected crumpled to the ground. The settlement, once teetering on the edge of destruction, was saved. Gabriel couldn't help but feel a surge of admiration for Ava's indomitable spirit. In her, he discovered a kindred soul - a warrior forged by the unforgiving battleground of a post-apocalyptic world.  With the settlement secured, Gabriel and Ava returned to their never-ending mission - the search for Patient Zero. Fuelled by their recent victory, their resolve grew stronger. They scoured the remnants of civilization, following leads and piecing together clues with dogged determination. And finally, after countless battles and near-death experiences, they unearthed a hidden facility concealing the truth.  Within its sterile walls lay the answer to their questions - the true origin of the virus that had decimated their world. Patient Zero, a shadowy figure named Dr. Emil Reinhardt, had been consumed by the very entity he had created. The duo confronted the fallen scientist, his twisted form bearing evidence of his monstrous experiments. With a final burst of strength, Gabriel and Ava ended the life of the man who had unleashed this plague.  In the aftermath, as Gabriel and Ava surveyed the smoldering ruins of the facility, a sense of bitter victory washed over them. The battle against the infected hordes would continue, but a small semblance of justice had been attained. With renewed purpose and an unbreakable bond, they vowed to push forward, fighting relentlessly until the world they once knew was restored.  United by their resilience and unwavering courage, Gabriel and Ava became legends whispered in the ears of survivors, igniting a dwindling flame of hope in the darkest corners of the earth. In a world ravaged by zombies and despair, their actions spoke louder than words, inspiring others to rise against the encroaching tide of darkness.\", 'In the gritty underbelly of a city plagued by crime, Detective John Anderson was a tenacious force to be reckoned with. Tall and lean, with a sharp jawline and piercing blue eyes, he exuded an aura of unwavering determination. The city had become his battleground, and the criminals feared his name.  The whispers on the streets spoke of a notorious criminal mastermind known as \"The Phantom.\" No one had ever seen his face, and his crimes left the police baffled. Like a phantom, he slipped through their fingers, leaving no trace behind. Detective Anderson was obsessed with catching him, a relentless pursuit that consumed his every waking moment.  Late one stormy evening, as the rain poured mercilessly, Detective Anderson received a tip that The Phantom was planning a heist at the city\\'s prestigious art museum. Determined to finally corner his elusive adversary, Anderson made his way to the darkened museum, the faint glow of the moon highlighting his determined gaze.  Inside the museum, the tension thickened as Anderson explored the labyrinthine corridors and galleries. True to his name, The Phantom seemed to be everywhere and nowhere all at once. Paintings were stolen, alarms were triggered, and yet the criminal remained elusive. It was a cat and mouse game, each move meticulously planned, leaving Anderson scrambling to anticipate the next.  Days turned into weeks, and the city grew restless, with each passing moment the grip of fear tightened. The newspapers were filled with headlines screaming of a criminal genius outsmarting the police force at every turn. But Detective Anderson remained undeterred, fueled by a relentless desire for justice.  One fateful night, Anderson received a cryptic message, informing him that The Phantom would strike at the city\\'s grand opera house. Racing against time, he stormed into the opulent theater as the first notes of a symphony filled the air. The tension palpable, Anderson carefully weaved his way through the crowd, his eyes scanning for any suspicious individuals.  As the performance reached its crescendo, a sudden commotion erupted. The lights flickered, and chaos ensued. Anderson instinctively sprinted towards the source of the disturbance. In a darkened corner, he caught a glimpse of a figure he knew all too well. The Phantom.  A chase ensued through the labyrinthine backstage area, their footsteps echoing like thunder. Anderson\\'s heart pounded in his chest as he closed in on his prey. With each twist and turn, he felt the thrum of adrenaline course through his veins, propelling him forward.  Finally, in a moment of sheer determination, Anderson tackled The Phantom to the ground, their bodies colliding with a resounding thud. As they wrestled on the cold floor, Anderson\\'s grip tightened, his fingers digging into the criminal\\'s flesh. The long-awaited arrest was within his grasp.  With the handcuffs securely fastened around The Phantom\\'s wrists, Anderson couldn\\'t help but feel a mix of triumph and relief. The city could finally breathe a sigh of relief, knowing that justice had prevailed. It was a victory hard-fought, a testament to the determination and unwavering resolve of one man.  As the sirens wailed in the distance, Anderson looked down at his defeated adversary, the rain washing away the masquerade of anonymity from The Phantom\\'s face. The eyes staring back at him were filled with a mix of defeat and begrudging respect. An unspoken recognition passed between them, as if they were two sides of the same coin, forever destined to dance this dangerous dance.  And so, as the rain continued to pour, Detective John Anderson stood victorious in the darkness, a testament to the indomitable spirit of those who refuse to falter in the face of evil. The city would remember his name, just as The Phantom would forever be etched in the annals of criminal history. The cat and mouse game had reached its climax, leaving behind a trail of broken illusions and hard-fought triumphs.', \"In the crumbling metropolis of Neo-Arkadia, a city teetering on the brink of chaos, rival gangs waged war for control over scarce resources. Dilapidated skyscrapers stood tall, their shattered windows reflecting the desolation that shrouded the once-thriving urban landscape. Among this dystopian backdrop, two formidable gangs emerged as the most powerful contenders: the Razor Wings and the Shadow Serpents.  The city's unmistakable staleness hung in the air as the sun dipped below the horizon, casting long shadows across the cracked pavement. The Red Sector, a territory claimed by the Shadow Serpents, pulsated with an otherworldly energy. Led by the enigmatic and ruthless Viper, the gang thrived in the darkness, leaving a trail of chaos and blood in their wake.  In stark contrast, the Blue Sector was the bastion of the Razor Wings. Led by the charismatic yet relentless Phoenix, they were the embodiment of unruly rebellion. Their numbers may have been smaller, but their will to fight was unmatched. The graffiti-covered walls of their stronghold echoed with whispered rumors of their plans to overthrow the Shadow Serpents and restore balance to the decaying city.  As tensions heightened, fate trembled upon a solitary moment. On the eve of the city's annual Nightfall Festival, whispers of an all-out confrontation between the two gangs swirled through the dilapidated streets. The Nightfall Festival, a rare celebration in this bleak existence, invited both gangs to a truce for one night. It was an opportunity seeded with the promise of peace, yet primed to ignite a cataclysmic clash.  The streets thrummed with anticipation, every neon sign flickering with a touch of menace. The colorful streamers that adorned the lamp posts seemed out of place, like desperate pleas for hope in a world devoid of it. The festival grounds were a whirlwind of activity, the air filled with the scent of sizzling street food and the symphony of laughter and music, tinged with an undercurrent of tension.  As the clock struck midnight, the stage was set, the city holding its breath. The crowd parted like the Red Sea as Viper, clad in a cloak of shadow, made his grand entrance, flanked by his loyal Serpents. Phoenix, his gaze unwavering, countered with the audacity of youth, leading the Razor Wings forward.  With bated breath, Neo-Arkadia watched as the cacophony of conflict unfolded. Fists flew through the air, creating a symphony of impact. The neon glow illuminated their faces, etching the ferocity in their eyes. The clashes were both fierce and calculated, a ballet of destruction that danced upon the razors' edge.  Amidst the chaos, a glimmer of hope emerged. A young woman, an outsider named Ember, maneuvered through the chaos, a spark of defiance ignited within her. Inspired by the determination of both gangs, she sought to bridge the divide and create a truce that transcended the blood-soaked street.  With her heart pounding in her chest, Ember maneuvered through the battlefield, dodging blows and leaping over obstacles. Her voice reverberated through the shattered cityscape, a beacon of unity in the relentless storm. Her words cascaded like a soothing rain, washing away the deep-rooted animosity that had consumed them.  Slowly, the Razor Wings and the Shadow Serpents began to lower their weapons. Eyes met across the battlefield, once filled with rage, now softened by the ember of shared humanity. Defying the decay that had plagued their lives, they stood united, embracing the possibility of a brighter future.  As dawn broke over the horizon, the city stirred from its slumber, forever transformed. The rival gangs, once locked in a bitter struggle, found a fragile alliance forged in the crucible of battle. Under a new banner, the united factions worked tirelessly to rebuild their crumbling home, turning the ravaged concrete jungle into an oasis of resilience and hope.  And so, Neo-Arkadia dared to dream of a world where the echoes of conflict faded into whispers of the past, where hearts, once entwined by hatred, birthed a harmony that resonated throughout the city's rebirth. In this dystopian future, action had kindled the fire of change, casting aside the chains that had bound them and leading them toward a future rebuilt on the foundations of unity.\", \"Amidst the inky blackness of the night, a seamless curtain of shadows unfurled itself over the dense wilderness. In the heart of a war-torn nation, nestled between towering mountains and treacherous valleys, lay a remote enemy stronghold. It was here that the fate of an entire nation teetered on the precipice of destruction. Behind the menacing gates and fortified walls, the nefarious General Viktor Verenov reigned supreme, orchestrating his malevolent plans in secret.  In this harrowing landscape, emerged our indomitable hero, Captain Ethan Reynolds, an elite operative trained in the art of covert warfare. With a lean and chiseled physique, Ethan's eyes burned with a fierce determination, his every muscle honed to perfection. Tasked with a critical mission that could turn the tides of battle, he found himself alone, deep behind enemy lines.  As the moon cast its pale light upon the sprawling compound, Ethan stealthily weaved through the labyrinthine corridors, his senses heightened and alert. Every step was calculated, every breath controlled, as he evaded the vigilant guards patrolling the area. His mission was clear: to retrieve vital intelligence that would expose General Verenov's nefarious plans and bring an end to his reign of terror.  The relentless pursuit of his mission led Ethan deeper into the dark underbelly of the compound. He encountered locked doors, intricate security systems, and laser-tripped alarm systems, but his training had prepared him for such obstacles. With deft precision, he dismantled booby traps and outwitted sophisticated surveillance systems, leaving no trace of his presence.  Unbeknownst to Ethan, General Verenov had caught wind of an intruder within his sacred fortress. His paranoia peaked, and he ordered his troops to scour every inch of the compound. The tension in the air thickened as the noose closed in on Ethan, his heart pounding within the confines of his chest.  As dawn broke, bathing the world in shades of orange and gold, Ethan found himself standing on the precipice of success. With perspiration glistening on his brow, he uncovered the hidden vault containing the secrets of General Verenov's master plan. The room was adorned with maps, charts, and classified documents that revealed a sinister plot to unleash a devastating weapon upon innocent civilians. The weight of a nation's hope rested on Ethan's shoulders as he memorized every detail, ready to relay this critical information to his comrades.  With the evidence concealed beneath the folds of his tactical vest, Ethan made his way towards the extraction point. The compound was now alive with frenzied soldiers, their footsteps echoing like thudding drums. His heart raced as he moved soundlessly, melting into the shadows, staying just one step ahead of the enemy's relentless pursuit.  The final stretch of his escape presented formidable challenges, including an electrified fence and a veritable maze of enemy patrols. Ethan, however, tapped into the reserves of his training and stealthily navigated through the treacherous obstacles. Drawing upon his unwavering resolve, he leaped over the fence, nearly brushing against the charged wires, and merged seamlessly into the wilderness beyond.  As the sun reached its apex in the sky, Ethan finally reached the rendezvous point, a remote clearing nestled deep in the forest. It was here that he would meet his comrades, passing on the information that held the power to cripple General Verenov's insidious plans. Moments later, a helicopter materialized from the heavens, lowering its ladder towards Ethan. His fingers tightly clutching the classified documents, he ascended into the hovering aircraft, leaving the enemy stronghold behind.  Days turned into weeks, and the mission's significance rippled through the nation. Armed with Ethan's intelligence, the allied forces struck with precision, dismantling General Verenov's empire piece by piece. The enemy stronghold crumbled, and the people of the war-torn nation breathed a collective sigh of relief.  For his unparalleled bravery and unwavering dedication to the cause, Captain Ethan Reynolds was honored with the highest accolades. However, true to his nature, he remained humble, knowing that his actions were merely part of a larger tapestry of sacrifices made by countless individuals in the name of freedom.  In the years that followed, Captain Ethan Reynolds continued his role in covert operations, embarking on countless missions behind enemy lines. His actions would forever reverberate through the annals of history, reminding the world of the valor and selflessness required to protect the values held dear.\", 'In a sprawling metropolis known as NeoCity, the pulsating heart of technological advancement, a group of elite hackers known as \"The Phantom Shadows\" dwelled in the shadows. Led by their enigmatic leader, Cipher, they navigated the intricate web of cyberspace with unparalleled skill. With their nimble fingers dancing across keyboards and minds ceaselessly calculating algorithms, they were the unseen kings of the digital realm.  As the sun dipped below the horizon, casting an ethereal glow over the glistening skyscrapers, Cipher gathered his team for a secret meeting. In a dimly lit underground hideout, adorned with neon lights and towering stacks of computer servers, they discussed their latest endeavor. A classified government document had come into their possession, revealing a plot by a rogue nation to launch a devastating cyber-attack on NeoCity\\'s infrastructure, sending the entire city into chaos.  This was a battle that extended beyond the virtual realm; lives were at stake, and action needed to be taken. The Phantom Shadows knew that to prevent this catastrophe, they would have to infiltrate the heavily fortified headquarters of their adversaries and acquire the data needed to dismantle their nefarious scheme. Equipped with state-of-the-art hacking tools and with hearts filled with unwavering determination, they prepared themselves for the upcoming mission.  Under the cover of darkness, The Phantom Shadows embarked on their perilous journey. Scaling walls, disabling security systems, and easily bypassing complex firewalls, they were like ghosts weaving through the physical and digital barriers simultaneously. The tension in the air was palpable as they ventured deeper into the enemy\\'s lair.  However, their stealth was not infallible. As Cipher decrypted a crucial file, alarm bells blared, sending the facility into lockdown mode. Armed guards swarmed the corridors, their footsteps growing louder with each passing second. It was a race against time.  With unwavering resolve, The Phantom Shadows split into groups, employing their unparalleled skills to evade capture. Cipher, the master strategist, manipulated the security cameras, causing momentary blind spots, allowing his team to move undetected. Sonic, the agile infiltrator, swiftly made her way through ventilation shafts, dodging laser grids with acrobatic finesse. Meanwhile, Zero, the brilliant codebreaker, hacked into the mainframe, disabling security systems to create an escape route.  Faced with seemingly insurmountable obstacles, The Phantom Shadows relied on their unwavering teamwork and resilience. Even as bullets whizzed past them, they stuck together, utilizing their unique talents to overcome each obstacle with calculated precision. With every keystroke, they got closer to their goal.  Finally, with sweat trickling down their brows and hearts pounding in their chests, they reached the central chamber housing the mastermind behind the cyber-attack. In a climactic confrontation, Cipher engaged in a battle of wits and skill against the formidable enemy. With each stroke of the keyboard, Cipher uncovered the enemy\\'s true identity and motives, exposing their treacherous plot and saving NeoCity from imminent destruction.  As the authorities apprehended the rogue nation\\'s agents and the threat was neutralized, NeoCity rejoiced. The exploits of The Phantom Shadows reverberated through the digital world, earning them legendary status. They had proven that in a world driven by bytes and algorithms, action was a force to be reckoned with.  With their mission accomplished, Cipher and his team vanished back into the depths of cyberspace, their actions leaving an indelible mark on society. The world may never know their true identities, but their legacy as the guardians of justice and masters of cyber warfare would forever be remembered.  And so, in the sprawling metropolis of NeoCity, the invisible warriors fought their battles, protecting the digital realm from those who sought to exploit it. A new era of vigilance had dawned, where the power of action in the face of cyber warfare would forever be heralded as the greatest defense.', \"Amidst the sprawling hills and enchanting groves of the kingdom of Evergreen lay the eminent village of Stonehaven. It was a place known for its tranquil serenity, but little did the villagers know that the fragile peace they held dear was about to be shattered by a consequential series of events. Armand, an honorable and fearless knight, was the talk of the village. Renowned for his skill with a sword, his agile movements, and his tenacity in battle, he was revered by the villagers and feared by anyone foolish enough to challenge him.  One fateful evening, a mysterious stranger arrived in Stonehaven. His name was Lucian, a prodigious swordsman with an air of dark mystery. He was shrouded in black attire, his silver hair cascading down his back, and his eyes emanating an unwavering intensity. Whispers of his formidable talents spread throughout the village, igniting curiosity and trepidation among its inhabitants. It was inevitable that the paths of Armand and Lucian would cross, setting the stage for a duel that would become the stuff of legends.  As the news of Lucian's arrival reached Armand, a glimmer of excitement danced in his steel-blue eyes. His heart yearned for a worthy adversary who could test his mettle, and Lucian appeared to be the perfect challenger. A gathering crowd encircled them as they faced each other in the village square, the atmosphere thick with anticipation. The villagers held their breath, awaiting the clash of the titans.  The duel commenced with a symphony of clashing steel, each sword stroke a testimony to the remarkable skill possessed by both combatants. The sound of their swords reverberated through the village, creating an enchanting melody that captivated all who listened. Armand's movements were precise and calculated, every swing conveying boundless power. Lucian, on the other hand, moved with a graceful elegance, his every strike infused with a touch of unearthly finesse.  Time seemed to stand still as the two warriors engaged in their fierce dance of swords. The villagers watched in awe-struck silence, their eyes darting between the combatants, unable to predict the outcome of the monumental clash. Armand's strength and experience clashed against Lucian's unparalleled technique and speed. It was a battle of contrasts, where every parry and riposte held the weight of destiny.  The duel raged on for what felt like an eternity, each swordsman displaying unwavering determination and an unyielding spirit. The setting sun cast a warm glow over the spectacle, imbuing the final moments with an ethereal beauty. In one swift movement, Lucian's blade found an opening, striking Armand's armor and knocking him to the ground. The crowd gasped in collective disbelief, their admiration for both warriors unyielding.  Glowering down at his wounded opponent, Lucian extended a hand, offering Armand a chance to rise. With a nod of respect, Armand grasped the gesture, accepting his defeat with grace and humility. Though he had fallen in combat, the bond forged between the two swordsmen transcended victory and loss. They had witnessed the embodiment of true skill, and both earned the respect of the villagers.  From that day forward, Stonehaven became a bastion of martial prowess and camaraderie. The villagers turned the duel into a yearly event, celebrating the valor and skill displayed by Armand and Lucian. The profound impact of their duel inspired a generation of aspiring swordsmen, forever etching their names in the annals of the village. Armand and Lucian's story became a timeless legend, a testament to the power of action and the enduring legacy of a duel between skilled swordsmen.\", \"In the realm of Vindranth, where emerald green meadows stretched out endlessly, stood the ancient city of Ardentia. Its stone walls boasted the tales of countless generations, and its people were known far and wide for their valor and courage. In the heart of the city, a young knight named Lysander spent his days training in the art of swordsmanship. With a heart enlightened by only the many legends of warrior's past, Lysander yearned for the day when he would embark on his own heroic journey.  News arrived in the city that the neighboring kingdom of Ravenholm was ravaged by a great evil. A ruthless sorcerer, known as Morvath the Terrible, had seized control and terrorized the land. Seeking glory and armed with a razor-sharp blade, Lysander volunteered to venture forth, leaving the safety of Ardentia behind.  As our valiant knight approached the border of Ravenholm, he could see the once vibrant fields drowned in darkness. The eerie silence that hung in the air was only broken by the distant howl of a lone wolf. Gripping the hilt of his sword, Lysander's heart pounded with anticipation as he ventured deeper into the kingdom.  Soon, Lysander found himself traversing a treacherous mountain pass, its jagged peaks clawing at the sky above. A sudden gust of wind carried with it a whispered warning - a tribe of merciless bandits awaited those foolish enough to challenge them. Undeterred, Lysander pressed on, ready to face any foes that crossed his path.  As the sun dipped below the mountains, casting long shadows across the land, Lysander stumbled upon a hidden glade nestled amidst the ancient trees. To his surprise, he found himself face-to-face with a fearsome warrior named Malachi. With a towering stature and a sword as wide as a man's arm, Malachi possessed an unmatched prowess and reputation for his epic swordsmanship.  Recognizing the brotherhood borne from the art of the blade, Malachi agreed to teach Lysander the secret techniques of a true swordsman. For days, Lysander and Malachi sparred under the moonlit sky, their swords clashing in a symphony of steel that echoed through the trees. With each passing day, Lysander's skill grew, and his determination reached new heights.  Empowered by his newfound confidence, Lysander pressed forward, confronting Morvath's minions with righteous fury. Swarms of wicked creatures lunged at him from every corner, but the young knight deflected and parried their attacks with precision. With the legendary swordsmanship of Ardentia coursing through his veins, Lysander defeated every foe that dared cross his path.  Finally, the day of reckoning arrived. In the heart of Ravenholm, upon a desolate battleground, Morvath the Terrible awaited his challenger. Dressed in dark robes and wielding a staff crackling with malevolent energy, the sorcerer exuded an aura of sheer malevolence. Yet, Lysander remained undeterred, his grip on his sword tightening as he faced his greatest adversary.  Their duel was nothing short of extraordinary. Sparks flew as steel clashed against sorcery, the sound reverberating through the barren lands. With every swing of his mighty blade, Lysander's resolve grew, channeling the spirits of the ancient warriors who once defended Vindranth. Slowly but surely, Morvath found himself overwhelmed by the knight's unwavering determination.  In one final strike, Lysander's blade pierced through the sorcerer's defenses, casting Morvath to the ground in defeat. Victory washed over Lysander as the dark forces that clouded Ravenholm dissipated with Morvath's defeat. The land rejoiced, and the people were freed from the grip of tyranny.  Returning to Ardentia as a triumphant hero, Lysander was hailed as a savior, his name forever etched in the annals of legend. However, his greatest reward lay not in the adoration of the masses but in the unwavering knowledge that he had made a difference, that he had answered the call to action, and forged his own epic tale with the sword at his side.  And so, in the realm of Vindranth, where the emerald fields danced in the gentle breeze, Lysander's tale lived on, inspiring generations to come to take up arms and face their own battles. The legacy of his epic sword fights remained eternally etched in the tapestry of history, reminding all who would listen that heroes are made in the crucible of action.\"]\n"
          ]
        }
      ]
    },
    {
      "cell_type": "code",
      "source": [
        "print(generated_stories)"
      ],
      "metadata": {
        "id": "yE_dsvJOXhhx",
        "colab": {
          "base_uri": "https://localhost:8080/"
        },
        "outputId": "c99506cc-7001-4b14-e87e-ff4dc479c81d"
      },
      "execution_count": 36,
      "outputs": [
        {
          "output_type": "stream",
          "name": "stdout",
          "text": [
            "[\"In the bustling city of New York, , young. of,, was for career an, and for city and and, would, determination had on and She to. always life She found love with was career and of morning, life and day she  her dreams. she heart pursue her financial a and ambition and she no of, day a for the determination to despair's., dreams, to would. financial a, within, herself determination, Seeking financial life to confidence of her she.,, in a her With She, the found the\", 'The sky stretched out before them, an  the the skysc its, The neon below casting the of and air a was. a shadows of in place below, a,ways, city of. This heart. place in had named where, its this city, to, young to, and the known streets. blue eyes this had,, of her of that  always the, the. the of that shadowsed the, his inked year that eyes that  him. and,, him, the, Their, of and their the his. the the', 'In the midst of a bustling metropolis  his was a the the and a with for. a had for for himselfigma, city, aigma a- the that on determination piercing the eyes a in for, enigmatic and, him eyes always the. he of the was, life he... were of the to  he for a, the., that a had leaving the. night in leaving. life life enigmatic., of, facade he, the of lur. with, the within who of an facade in the As the sol streets life', 'In the heart of a once-thriving metropolis,  air where its Nest The. an.. of the towering this,,, The, reflecting below with its glow the streets a andways a as streets and, lived streets landscape vibrant in of an lived of the. and a At labyrinth., its lur a, a Detective, foring eyes to with his. of, His  a years to a. a The, that as with as a,. to of the. in countless their that on that Theyed with of,', 'In the gritty underbelly of a city  wasb. and, citizens the relentless of law emerged the to were a the Amidine for were and,leys. the this in, of. cityavering his the the. eyes determination was of and in. seen a under a his under the man, one officer the. of a the  his the his justice his his in officer, of one, city his vigilante The. With, on, his the streets left in  in his a to crimes a to fear people they of, fear', \"In the crumbling metropolis of Neo-Arkadia, a rap, skysc had, the by of-.rap where ofrap and neon streets therap air lived of streets the inhabitantsnetic the holographic In holog of this of the hernetic her who the always a a had possessed of hair Amelia the depths her the her the her world's the a thenetic was with her to her world with Her her  enigmatic and., displays holog enhancements an enhance life and.. that she a to thenetic,, holog navigs life, life,\", 'Amidst the inky blackness of the night,  as place of, with, the, stood casting seemed in air. and as grip and a, chaos stood by from chaos heavy where thick despair a of Among the this by by of that Thest hearts walls despair emerged young desolate eyes as her. by. the. their for ench the of. into in,kered by hope their burning, and the from waskered the despair the and the with thekered for of the  that the the as, from once their burned. a of', 'In a sprawling metropolis known as NeoCity,  her hair a haz, her,, the for and the a futuristic in in bustling the skysc the she her, holog an people she human. through was her like, where,, the the, seamlessly to artificial, the, her of and and It. the her world a the her was the was holog vibrant the her of part holog. the, of She that of. a bustling a, Neo streets, that vibrant part streets were with of of, the a named. kale the were marvel The', 'Amidst the sprawling hills and enchanting groves  by curls aald the emer aald young her and for possessed a and a, forests, was the with and the animals her forameding for to wildamed with as, for sheamed ro,..amed for and the with named deep. wereleded the and named named eyes chest had a the eyes a, named and as... wings heart chest his., in named for through was the withamed ofled forest by an wild aled She village named village and the bro', 'In the realm of Vindranth, where emerald  into with of wide named the to ruled as, ancient been where prosperity passed prosperity, to, their their and a prosperity prosperity of a wide The a a their,., held prosperity and was that At to a the dest was prosperous Sel with prosperity was the named and to held, the. with  of grand had a were, prosperity by the and prosperous their to, their prosperity its hearts Sel wide prosperity their. prosperity was prosperity of Sel thened, their their their wealth a. prosperous']\n"
          ]
        }
      ]
    },
    {
      "cell_type": "markdown",
      "source": [
        "# **Partial match with the distilbert-base-uncased model:**"
      ],
      "metadata": {
        "id": "QN6ElEnxZicl"
      }
    },
    {
      "cell_type": "code",
      "source": [
        "from evaluate import load\n",
        "from bert_score import score as bert_score\n",
        "from sacrebleu import corpus_bleu\n",
        "\n",
        "# Load BERTScore model\n",
        "bertscore = load(\"bertscore\")\n",
        "\n",
        "# Prepare data\n",
        "predictions = generated_stories\n",
        "references = story_list\n",
        "\n",
        "# Calculate BERTScore\n",
        "bert_results = bertscore.compute(predictions=predictions, references=story_list, model_type=\"distilbert-base-uncased\")\n",
        "\n",
        "# Print BERTScore results\n",
        "print(\"BERTScore Results:\")\n",
        "print(bert_results)\n",
        "\n",
        "# Load BLEU metrics\n",
        "bleu_metric = load(\"bleu\")\n",
        "\n",
        "# Calculate Bilingual Evaluation Understudy (BLEU)\n",
        "results_bleu = bleu_metric.compute(predictions=generated_stories, references=story_list)\n",
        "print(f\"\\nBLEU Score: {results_bleu }\\n\")"
      ],
      "metadata": {
        "id": "4UdvIJw3aTSz",
        "colab": {
          "base_uri": "https://localhost:8080/"
        },
        "outputId": "d93c4a80-f1dc-48b0-f95a-d8e07c107c5f"
      },
      "execution_count": 38,
      "outputs": [
        {
          "output_type": "stream",
          "name": "stdout",
          "text": [
            "BERTScore Results:\n",
            "{'precision': [0.7245259284973145, 0.7301825284957886, 0.7164788246154785, 0.7216475009918213, 0.7228580713272095, 0.7087258696556091, 0.7153539657592773, 0.7110533118247986, 0.7094230651855469, 0.7038896083831787], 'recall': [0.6624541282653809, 0.6659435629844666, 0.6660059690475464, 0.6661515235900879, 0.6610664129257202, 0.6853857040405273, 0.6650274991989136, 0.6717941761016846, 0.6573667526245117, 0.6445004343986511], 'f1': [0.6921010613441467, 0.6965851783752441, 0.6903210282325745, 0.6927899122238159, 0.6905827522277832, 0.6968603730201721, 0.6892732977867126, 0.6908664703369141, 0.6824036240577698, 0.6728870868682861], 'hashcode': 'distilbert-base-uncased_L5_no-idf_version=0.3.12(hug_trans=4.36.2)'}\n",
            "\n",
            "BLEU Score: {'bleu': 0.00021944815560133947, 'precisions': [0.7282398452611218, 0.1240234375, 0.05917159763313609, 0.046812749003984064], 'brevity_penalty': 0.0017448898827027882, 'length_ratio': 0.13603473227206947, 'translation_length': 1034, 'reference_length': 7601}\n",
            "\n"
          ]
        }
      ]
    }
  ]
}