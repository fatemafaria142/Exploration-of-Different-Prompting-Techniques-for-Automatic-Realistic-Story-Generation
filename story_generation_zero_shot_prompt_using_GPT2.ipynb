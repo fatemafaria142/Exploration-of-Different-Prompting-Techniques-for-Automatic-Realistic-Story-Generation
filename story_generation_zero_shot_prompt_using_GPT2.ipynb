{
  "nbformat": 4,
  "nbformat_minor": 0,
  "metadata": {
    "colab": {
      "provenance": [],
      "gpuType": "T4",
      "authorship_tag": "ABX9TyNUZMWIReP+QpBHh3pnJWQ2",
      "include_colab_link": true
    },
    "kernelspec": {
      "name": "python3",
      "display_name": "Python 3"
    },
    "language_info": {
      "name": "python"
    },
    "accelerator": "GPU",
    "widgets": {
      "application/vnd.jupyter.widget-state+json": {
        "a994d0eeee4d41e299c51f65e5212283": {
          "model_module": "@jupyter-widgets/controls",
          "model_name": "HBoxModel",
          "model_module_version": "1.5.0",
          "state": {
            "_dom_classes": [],
            "_model_module": "@jupyter-widgets/controls",
            "_model_module_version": "1.5.0",
            "_model_name": "HBoxModel",
            "_view_count": null,
            "_view_module": "@jupyter-widgets/controls",
            "_view_module_version": "1.5.0",
            "_view_name": "HBoxView",
            "box_style": "",
            "children": [
              "IPY_MODEL_520ad9b798b2443b87a813caf3d46f30",
              "IPY_MODEL_f269c6dce7604baa8978a5fdc7d1f569",
              "IPY_MODEL_d84c78312e684d66b570b4e763c9a18f"
            ],
            "layout": "IPY_MODEL_9a7d0de226084234ad1d8e35298a63a3"
          }
        },
        "520ad9b798b2443b87a813caf3d46f30": {
          "model_module": "@jupyter-widgets/controls",
          "model_name": "HTMLModel",
          "model_module_version": "1.5.0",
          "state": {
            "_dom_classes": [],
            "_model_module": "@jupyter-widgets/controls",
            "_model_module_version": "1.5.0",
            "_model_name": "HTMLModel",
            "_view_count": null,
            "_view_module": "@jupyter-widgets/controls",
            "_view_module_version": "1.5.0",
            "_view_name": "HTMLView",
            "description": "",
            "description_tooltip": null,
            "layout": "IPY_MODEL_6cd628b5bfaf4138959d6f0dc0fa297b",
            "placeholder": "​",
            "style": "IPY_MODEL_724b6097c04148f7852fa9d59d60af99",
            "value": "Downloading data: 100%"
          }
        },
        "f269c6dce7604baa8978a5fdc7d1f569": {
          "model_module": "@jupyter-widgets/controls",
          "model_name": "FloatProgressModel",
          "model_module_version": "1.5.0",
          "state": {
            "_dom_classes": [],
            "_model_module": "@jupyter-widgets/controls",
            "_model_module_version": "1.5.0",
            "_model_name": "FloatProgressModel",
            "_view_count": null,
            "_view_module": "@jupyter-widgets/controls",
            "_view_module_version": "1.5.0",
            "_view_name": "ProgressView",
            "bar_style": "success",
            "description": "",
            "description_tooltip": null,
            "layout": "IPY_MODEL_6b117137940342f7832575dd5b0028ae",
            "max": 21195548,
            "min": 0,
            "orientation": "horizontal",
            "style": "IPY_MODEL_a0c1036c964540e2818f31da1608cd84",
            "value": 21195548
          }
        },
        "d84c78312e684d66b570b4e763c9a18f": {
          "model_module": "@jupyter-widgets/controls",
          "model_name": "HTMLModel",
          "model_module_version": "1.5.0",
          "state": {
            "_dom_classes": [],
            "_model_module": "@jupyter-widgets/controls",
            "_model_module_version": "1.5.0",
            "_model_name": "HTMLModel",
            "_view_count": null,
            "_view_module": "@jupyter-widgets/controls",
            "_view_module_version": "1.5.0",
            "_view_name": "HTMLView",
            "description": "",
            "description_tooltip": null,
            "layout": "IPY_MODEL_a1e7882e1a6c47839664267246047826",
            "placeholder": "​",
            "style": "IPY_MODEL_87413f17babf4d7ab6058f512b5a0959",
            "value": " 21.2M/21.2M [00:01&lt;00:00, 20.5MB/s]"
          }
        },
        "9a7d0de226084234ad1d8e35298a63a3": {
          "model_module": "@jupyter-widgets/base",
          "model_name": "LayoutModel",
          "model_module_version": "1.2.0",
          "state": {
            "_model_module": "@jupyter-widgets/base",
            "_model_module_version": "1.2.0",
            "_model_name": "LayoutModel",
            "_view_count": null,
            "_view_module": "@jupyter-widgets/base",
            "_view_module_version": "1.2.0",
            "_view_name": "LayoutView",
            "align_content": null,
            "align_items": null,
            "align_self": null,
            "border": null,
            "bottom": null,
            "display": null,
            "flex": null,
            "flex_flow": null,
            "grid_area": null,
            "grid_auto_columns": null,
            "grid_auto_flow": null,
            "grid_auto_rows": null,
            "grid_column": null,
            "grid_gap": null,
            "grid_row": null,
            "grid_template_areas": null,
            "grid_template_columns": null,
            "grid_template_rows": null,
            "height": null,
            "justify_content": null,
            "justify_items": null,
            "left": null,
            "margin": null,
            "max_height": null,
            "max_width": null,
            "min_height": null,
            "min_width": null,
            "object_fit": null,
            "object_position": null,
            "order": null,
            "overflow": null,
            "overflow_x": null,
            "overflow_y": null,
            "padding": null,
            "right": null,
            "top": null,
            "visibility": null,
            "width": null
          }
        },
        "6cd628b5bfaf4138959d6f0dc0fa297b": {
          "model_module": "@jupyter-widgets/base",
          "model_name": "LayoutModel",
          "model_module_version": "1.2.0",
          "state": {
            "_model_module": "@jupyter-widgets/base",
            "_model_module_version": "1.2.0",
            "_model_name": "LayoutModel",
            "_view_count": null,
            "_view_module": "@jupyter-widgets/base",
            "_view_module_version": "1.2.0",
            "_view_name": "LayoutView",
            "align_content": null,
            "align_items": null,
            "align_self": null,
            "border": null,
            "bottom": null,
            "display": null,
            "flex": null,
            "flex_flow": null,
            "grid_area": null,
            "grid_auto_columns": null,
            "grid_auto_flow": null,
            "grid_auto_rows": null,
            "grid_column": null,
            "grid_gap": null,
            "grid_row": null,
            "grid_template_areas": null,
            "grid_template_columns": null,
            "grid_template_rows": null,
            "height": null,
            "justify_content": null,
            "justify_items": null,
            "left": null,
            "margin": null,
            "max_height": null,
            "max_width": null,
            "min_height": null,
            "min_width": null,
            "object_fit": null,
            "object_position": null,
            "order": null,
            "overflow": null,
            "overflow_x": null,
            "overflow_y": null,
            "padding": null,
            "right": null,
            "top": null,
            "visibility": null,
            "width": null
          }
        },
        "724b6097c04148f7852fa9d59d60af99": {
          "model_module": "@jupyter-widgets/controls",
          "model_name": "DescriptionStyleModel",
          "model_module_version": "1.5.0",
          "state": {
            "_model_module": "@jupyter-widgets/controls",
            "_model_module_version": "1.5.0",
            "_model_name": "DescriptionStyleModel",
            "_view_count": null,
            "_view_module": "@jupyter-widgets/base",
            "_view_module_version": "1.2.0",
            "_view_name": "StyleView",
            "description_width": ""
          }
        },
        "6b117137940342f7832575dd5b0028ae": {
          "model_module": "@jupyter-widgets/base",
          "model_name": "LayoutModel",
          "model_module_version": "1.2.0",
          "state": {
            "_model_module": "@jupyter-widgets/base",
            "_model_module_version": "1.2.0",
            "_model_name": "LayoutModel",
            "_view_count": null,
            "_view_module": "@jupyter-widgets/base",
            "_view_module_version": "1.2.0",
            "_view_name": "LayoutView",
            "align_content": null,
            "align_items": null,
            "align_self": null,
            "border": null,
            "bottom": null,
            "display": null,
            "flex": null,
            "flex_flow": null,
            "grid_area": null,
            "grid_auto_columns": null,
            "grid_auto_flow": null,
            "grid_auto_rows": null,
            "grid_column": null,
            "grid_gap": null,
            "grid_row": null,
            "grid_template_areas": null,
            "grid_template_columns": null,
            "grid_template_rows": null,
            "height": null,
            "justify_content": null,
            "justify_items": null,
            "left": null,
            "margin": null,
            "max_height": null,
            "max_width": null,
            "min_height": null,
            "min_width": null,
            "object_fit": null,
            "object_position": null,
            "order": null,
            "overflow": null,
            "overflow_x": null,
            "overflow_y": null,
            "padding": null,
            "right": null,
            "top": null,
            "visibility": null,
            "width": null
          }
        },
        "a0c1036c964540e2818f31da1608cd84": {
          "model_module": "@jupyter-widgets/controls",
          "model_name": "ProgressStyleModel",
          "model_module_version": "1.5.0",
          "state": {
            "_model_module": "@jupyter-widgets/controls",
            "_model_module_version": "1.5.0",
            "_model_name": "ProgressStyleModel",
            "_view_count": null,
            "_view_module": "@jupyter-widgets/base",
            "_view_module_version": "1.2.0",
            "_view_name": "StyleView",
            "bar_color": null,
            "description_width": ""
          }
        },
        "a1e7882e1a6c47839664267246047826": {
          "model_module": "@jupyter-widgets/base",
          "model_name": "LayoutModel",
          "model_module_version": "1.2.0",
          "state": {
            "_model_module": "@jupyter-widgets/base",
            "_model_module_version": "1.2.0",
            "_model_name": "LayoutModel",
            "_view_count": null,
            "_view_module": "@jupyter-widgets/base",
            "_view_module_version": "1.2.0",
            "_view_name": "LayoutView",
            "align_content": null,
            "align_items": null,
            "align_self": null,
            "border": null,
            "bottom": null,
            "display": null,
            "flex": null,
            "flex_flow": null,
            "grid_area": null,
            "grid_auto_columns": null,
            "grid_auto_flow": null,
            "grid_auto_rows": null,
            "grid_column": null,
            "grid_gap": null,
            "grid_row": null,
            "grid_template_areas": null,
            "grid_template_columns": null,
            "grid_template_rows": null,
            "height": null,
            "justify_content": null,
            "justify_items": null,
            "left": null,
            "margin": null,
            "max_height": null,
            "max_width": null,
            "min_height": null,
            "min_width": null,
            "object_fit": null,
            "object_position": null,
            "order": null,
            "overflow": null,
            "overflow_x": null,
            "overflow_y": null,
            "padding": null,
            "right": null,
            "top": null,
            "visibility": null,
            "width": null
          }
        },
        "87413f17babf4d7ab6058f512b5a0959": {
          "model_module": "@jupyter-widgets/controls",
          "model_name": "DescriptionStyleModel",
          "model_module_version": "1.5.0",
          "state": {
            "_model_module": "@jupyter-widgets/controls",
            "_model_module_version": "1.5.0",
            "_model_name": "DescriptionStyleModel",
            "_view_count": null,
            "_view_module": "@jupyter-widgets/base",
            "_view_module_version": "1.2.0",
            "_view_name": "StyleView",
            "description_width": ""
          }
        },
        "454729abdf204d22b1914983b7f6cdea": {
          "model_module": "@jupyter-widgets/controls",
          "model_name": "HBoxModel",
          "model_module_version": "1.5.0",
          "state": {
            "_dom_classes": [],
            "_model_module": "@jupyter-widgets/controls",
            "_model_module_version": "1.5.0",
            "_model_name": "HBoxModel",
            "_view_count": null,
            "_view_module": "@jupyter-widgets/controls",
            "_view_module_version": "1.5.0",
            "_view_name": "HBoxView",
            "box_style": "",
            "children": [
              "IPY_MODEL_d8ae9c4516b641b3ad54ca5b40c40491",
              "IPY_MODEL_b725da6e1dcb49cea0b9380067660209",
              "IPY_MODEL_06e74179b2984f3cae9ebb2632f7cea4"
            ],
            "layout": "IPY_MODEL_82bbb70d66eb44448f1c8e00ce0d47ae"
          }
        },
        "d8ae9c4516b641b3ad54ca5b40c40491": {
          "model_module": "@jupyter-widgets/controls",
          "model_name": "HTMLModel",
          "model_module_version": "1.5.0",
          "state": {
            "_dom_classes": [],
            "_model_module": "@jupyter-widgets/controls",
            "_model_module_version": "1.5.0",
            "_model_name": "HTMLModel",
            "_view_count": null,
            "_view_module": "@jupyter-widgets/controls",
            "_view_module_version": "1.5.0",
            "_view_name": "HTMLView",
            "description": "",
            "description_tooltip": null,
            "layout": "IPY_MODEL_db0cb6ffcbaf41508b478c8c698970b0",
            "placeholder": "​",
            "style": "IPY_MODEL_af28adc69a064d5e8c91d0a3fc70a5fe",
            "value": "Generating train split: "
          }
        },
        "b725da6e1dcb49cea0b9380067660209": {
          "model_module": "@jupyter-widgets/controls",
          "model_name": "FloatProgressModel",
          "model_module_version": "1.5.0",
          "state": {
            "_dom_classes": [],
            "_model_module": "@jupyter-widgets/controls",
            "_model_module_version": "1.5.0",
            "_model_name": "FloatProgressModel",
            "_view_count": null,
            "_view_module": "@jupyter-widgets/controls",
            "_view_module_version": "1.5.0",
            "_view_name": "ProgressView",
            "bar_style": "success",
            "description": "",
            "description_tooltip": null,
            "layout": "IPY_MODEL_201aca6000d64ce3b84506caf57afb4e",
            "max": 1,
            "min": 0,
            "orientation": "horizontal",
            "style": "IPY_MODEL_0191ee9a75e14e4caba3cb7f84e02585",
            "value": 1
          }
        },
        "06e74179b2984f3cae9ebb2632f7cea4": {
          "model_module": "@jupyter-widgets/controls",
          "model_name": "HTMLModel",
          "model_module_version": "1.5.0",
          "state": {
            "_dom_classes": [],
            "_model_module": "@jupyter-widgets/controls",
            "_model_module_version": "1.5.0",
            "_model_name": "HTMLModel",
            "_view_count": null,
            "_view_module": "@jupyter-widgets/controls",
            "_view_module_version": "1.5.0",
            "_view_name": "HTMLView",
            "description": "",
            "description_tooltip": null,
            "layout": "IPY_MODEL_80eaf84d245f42cc9f0b3ca8ad02d7dd",
            "placeholder": "​",
            "style": "IPY_MODEL_5952f963d51d488f8fcd18863a949b6c",
            "value": " 5018/0 [00:00&lt;00:00, 15609.44 examples/s]"
          }
        },
        "82bbb70d66eb44448f1c8e00ce0d47ae": {
          "model_module": "@jupyter-widgets/base",
          "model_name": "LayoutModel",
          "model_module_version": "1.2.0",
          "state": {
            "_model_module": "@jupyter-widgets/base",
            "_model_module_version": "1.2.0",
            "_model_name": "LayoutModel",
            "_view_count": null,
            "_view_module": "@jupyter-widgets/base",
            "_view_module_version": "1.2.0",
            "_view_name": "LayoutView",
            "align_content": null,
            "align_items": null,
            "align_self": null,
            "border": null,
            "bottom": null,
            "display": null,
            "flex": null,
            "flex_flow": null,
            "grid_area": null,
            "grid_auto_columns": null,
            "grid_auto_flow": null,
            "grid_auto_rows": null,
            "grid_column": null,
            "grid_gap": null,
            "grid_row": null,
            "grid_template_areas": null,
            "grid_template_columns": null,
            "grid_template_rows": null,
            "height": null,
            "justify_content": null,
            "justify_items": null,
            "left": null,
            "margin": null,
            "max_height": null,
            "max_width": null,
            "min_height": null,
            "min_width": null,
            "object_fit": null,
            "object_position": null,
            "order": null,
            "overflow": null,
            "overflow_x": null,
            "overflow_y": null,
            "padding": null,
            "right": null,
            "top": null,
            "visibility": null,
            "width": null
          }
        },
        "db0cb6ffcbaf41508b478c8c698970b0": {
          "model_module": "@jupyter-widgets/base",
          "model_name": "LayoutModel",
          "model_module_version": "1.2.0",
          "state": {
            "_model_module": "@jupyter-widgets/base",
            "_model_module_version": "1.2.0",
            "_model_name": "LayoutModel",
            "_view_count": null,
            "_view_module": "@jupyter-widgets/base",
            "_view_module_version": "1.2.0",
            "_view_name": "LayoutView",
            "align_content": null,
            "align_items": null,
            "align_self": null,
            "border": null,
            "bottom": null,
            "display": null,
            "flex": null,
            "flex_flow": null,
            "grid_area": null,
            "grid_auto_columns": null,
            "grid_auto_flow": null,
            "grid_auto_rows": null,
            "grid_column": null,
            "grid_gap": null,
            "grid_row": null,
            "grid_template_areas": null,
            "grid_template_columns": null,
            "grid_template_rows": null,
            "height": null,
            "justify_content": null,
            "justify_items": null,
            "left": null,
            "margin": null,
            "max_height": null,
            "max_width": null,
            "min_height": null,
            "min_width": null,
            "object_fit": null,
            "object_position": null,
            "order": null,
            "overflow": null,
            "overflow_x": null,
            "overflow_y": null,
            "padding": null,
            "right": null,
            "top": null,
            "visibility": null,
            "width": null
          }
        },
        "af28adc69a064d5e8c91d0a3fc70a5fe": {
          "model_module": "@jupyter-widgets/controls",
          "model_name": "DescriptionStyleModel",
          "model_module_version": "1.5.0",
          "state": {
            "_model_module": "@jupyter-widgets/controls",
            "_model_module_version": "1.5.0",
            "_model_name": "DescriptionStyleModel",
            "_view_count": null,
            "_view_module": "@jupyter-widgets/base",
            "_view_module_version": "1.2.0",
            "_view_name": "StyleView",
            "description_width": ""
          }
        },
        "201aca6000d64ce3b84506caf57afb4e": {
          "model_module": "@jupyter-widgets/base",
          "model_name": "LayoutModel",
          "model_module_version": "1.2.0",
          "state": {
            "_model_module": "@jupyter-widgets/base",
            "_model_module_version": "1.2.0",
            "_model_name": "LayoutModel",
            "_view_count": null,
            "_view_module": "@jupyter-widgets/base",
            "_view_module_version": "1.2.0",
            "_view_name": "LayoutView",
            "align_content": null,
            "align_items": null,
            "align_self": null,
            "border": null,
            "bottom": null,
            "display": null,
            "flex": null,
            "flex_flow": null,
            "grid_area": null,
            "grid_auto_columns": null,
            "grid_auto_flow": null,
            "grid_auto_rows": null,
            "grid_column": null,
            "grid_gap": null,
            "grid_row": null,
            "grid_template_areas": null,
            "grid_template_columns": null,
            "grid_template_rows": null,
            "height": null,
            "justify_content": null,
            "justify_items": null,
            "left": null,
            "margin": null,
            "max_height": null,
            "max_width": null,
            "min_height": null,
            "min_width": null,
            "object_fit": null,
            "object_position": null,
            "order": null,
            "overflow": null,
            "overflow_x": null,
            "overflow_y": null,
            "padding": null,
            "right": null,
            "top": null,
            "visibility": null,
            "width": "20px"
          }
        },
        "0191ee9a75e14e4caba3cb7f84e02585": {
          "model_module": "@jupyter-widgets/controls",
          "model_name": "ProgressStyleModel",
          "model_module_version": "1.5.0",
          "state": {
            "_model_module": "@jupyter-widgets/controls",
            "_model_module_version": "1.5.0",
            "_model_name": "ProgressStyleModel",
            "_view_count": null,
            "_view_module": "@jupyter-widgets/base",
            "_view_module_version": "1.2.0",
            "_view_name": "StyleView",
            "bar_color": null,
            "description_width": ""
          }
        },
        "80eaf84d245f42cc9f0b3ca8ad02d7dd": {
          "model_module": "@jupyter-widgets/base",
          "model_name": "LayoutModel",
          "model_module_version": "1.2.0",
          "state": {
            "_model_module": "@jupyter-widgets/base",
            "_model_module_version": "1.2.0",
            "_model_name": "LayoutModel",
            "_view_count": null,
            "_view_module": "@jupyter-widgets/base",
            "_view_module_version": "1.2.0",
            "_view_name": "LayoutView",
            "align_content": null,
            "align_items": null,
            "align_self": null,
            "border": null,
            "bottom": null,
            "display": null,
            "flex": null,
            "flex_flow": null,
            "grid_area": null,
            "grid_auto_columns": null,
            "grid_auto_flow": null,
            "grid_auto_rows": null,
            "grid_column": null,
            "grid_gap": null,
            "grid_row": null,
            "grid_template_areas": null,
            "grid_template_columns": null,
            "grid_template_rows": null,
            "height": null,
            "justify_content": null,
            "justify_items": null,
            "left": null,
            "margin": null,
            "max_height": null,
            "max_width": null,
            "min_height": null,
            "min_width": null,
            "object_fit": null,
            "object_position": null,
            "order": null,
            "overflow": null,
            "overflow_x": null,
            "overflow_y": null,
            "padding": null,
            "right": null,
            "top": null,
            "visibility": null,
            "width": null
          }
        },
        "5952f963d51d488f8fcd18863a949b6c": {
          "model_module": "@jupyter-widgets/controls",
          "model_name": "DescriptionStyleModel",
          "model_module_version": "1.5.0",
          "state": {
            "_model_module": "@jupyter-widgets/controls",
            "_model_module_version": "1.5.0",
            "_model_name": "DescriptionStyleModel",
            "_view_count": null,
            "_view_module": "@jupyter-widgets/base",
            "_view_module_version": "1.2.0",
            "_view_name": "StyleView",
            "description_width": ""
          }
        },
        "7af5b4dcb1294aad9fe85472241fa741": {
          "model_module": "@jupyter-widgets/controls",
          "model_name": "HBoxModel",
          "model_module_version": "1.5.0",
          "state": {
            "_dom_classes": [],
            "_model_module": "@jupyter-widgets/controls",
            "_model_module_version": "1.5.0",
            "_model_name": "HBoxModel",
            "_view_count": null,
            "_view_module": "@jupyter-widgets/controls",
            "_view_module_version": "1.5.0",
            "_view_name": "HBoxView",
            "box_style": "",
            "children": [
              "IPY_MODEL_f1f6c75af3224b809c7d5df9ce3c6ef6",
              "IPY_MODEL_29273d1cbc5349dba6b807704016843b",
              "IPY_MODEL_8d1c0c460c074c87b8e0187660c2364b"
            ],
            "layout": "IPY_MODEL_374405bf308447a1904192c8bc571e33"
          }
        },
        "f1f6c75af3224b809c7d5df9ce3c6ef6": {
          "model_module": "@jupyter-widgets/controls",
          "model_name": "HTMLModel",
          "model_module_version": "1.5.0",
          "state": {
            "_dom_classes": [],
            "_model_module": "@jupyter-widgets/controls",
            "_model_module_version": "1.5.0",
            "_model_name": "HTMLModel",
            "_view_count": null,
            "_view_module": "@jupyter-widgets/controls",
            "_view_module_version": "1.5.0",
            "_view_name": "HTMLView",
            "description": "",
            "description_tooltip": null,
            "layout": "IPY_MODEL_15e2d43125ac4264bf4696c513dfa803",
            "placeholder": "​",
            "style": "IPY_MODEL_17ce7983d52c4de7a9d5906abe6cebc5",
            "value": "config.json: 100%"
          }
        },
        "29273d1cbc5349dba6b807704016843b": {
          "model_module": "@jupyter-widgets/controls",
          "model_name": "FloatProgressModel",
          "model_module_version": "1.5.0",
          "state": {
            "_dom_classes": [],
            "_model_module": "@jupyter-widgets/controls",
            "_model_module_version": "1.5.0",
            "_model_name": "FloatProgressModel",
            "_view_count": null,
            "_view_module": "@jupyter-widgets/controls",
            "_view_module_version": "1.5.0",
            "_view_name": "ProgressView",
            "bar_style": "success",
            "description": "",
            "description_tooltip": null,
            "layout": "IPY_MODEL_85afaee75f9843f0b9e3025cfcd39a39",
            "max": 665,
            "min": 0,
            "orientation": "horizontal",
            "style": "IPY_MODEL_841af220ad0e4b42b24e5ce541188f1f",
            "value": 665
          }
        },
        "8d1c0c460c074c87b8e0187660c2364b": {
          "model_module": "@jupyter-widgets/controls",
          "model_name": "HTMLModel",
          "model_module_version": "1.5.0",
          "state": {
            "_dom_classes": [],
            "_model_module": "@jupyter-widgets/controls",
            "_model_module_version": "1.5.0",
            "_model_name": "HTMLModel",
            "_view_count": null,
            "_view_module": "@jupyter-widgets/controls",
            "_view_module_version": "1.5.0",
            "_view_name": "HTMLView",
            "description": "",
            "description_tooltip": null,
            "layout": "IPY_MODEL_12b1597a11914376910637335e6674e4",
            "placeholder": "​",
            "style": "IPY_MODEL_3851acafccdf4580a38ea7ac831c5a3b",
            "value": " 665/665 [00:00&lt;00:00, 11.6kB/s]"
          }
        },
        "374405bf308447a1904192c8bc571e33": {
          "model_module": "@jupyter-widgets/base",
          "model_name": "LayoutModel",
          "model_module_version": "1.2.0",
          "state": {
            "_model_module": "@jupyter-widgets/base",
            "_model_module_version": "1.2.0",
            "_model_name": "LayoutModel",
            "_view_count": null,
            "_view_module": "@jupyter-widgets/base",
            "_view_module_version": "1.2.0",
            "_view_name": "LayoutView",
            "align_content": null,
            "align_items": null,
            "align_self": null,
            "border": null,
            "bottom": null,
            "display": null,
            "flex": null,
            "flex_flow": null,
            "grid_area": null,
            "grid_auto_columns": null,
            "grid_auto_flow": null,
            "grid_auto_rows": null,
            "grid_column": null,
            "grid_gap": null,
            "grid_row": null,
            "grid_template_areas": null,
            "grid_template_columns": null,
            "grid_template_rows": null,
            "height": null,
            "justify_content": null,
            "justify_items": null,
            "left": null,
            "margin": null,
            "max_height": null,
            "max_width": null,
            "min_height": null,
            "min_width": null,
            "object_fit": null,
            "object_position": null,
            "order": null,
            "overflow": null,
            "overflow_x": null,
            "overflow_y": null,
            "padding": null,
            "right": null,
            "top": null,
            "visibility": null,
            "width": null
          }
        },
        "15e2d43125ac4264bf4696c513dfa803": {
          "model_module": "@jupyter-widgets/base",
          "model_name": "LayoutModel",
          "model_module_version": "1.2.0",
          "state": {
            "_model_module": "@jupyter-widgets/base",
            "_model_module_version": "1.2.0",
            "_model_name": "LayoutModel",
            "_view_count": null,
            "_view_module": "@jupyter-widgets/base",
            "_view_module_version": "1.2.0",
            "_view_name": "LayoutView",
            "align_content": null,
            "align_items": null,
            "align_self": null,
            "border": null,
            "bottom": null,
            "display": null,
            "flex": null,
            "flex_flow": null,
            "grid_area": null,
            "grid_auto_columns": null,
            "grid_auto_flow": null,
            "grid_auto_rows": null,
            "grid_column": null,
            "grid_gap": null,
            "grid_row": null,
            "grid_template_areas": null,
            "grid_template_columns": null,
            "grid_template_rows": null,
            "height": null,
            "justify_content": null,
            "justify_items": null,
            "left": null,
            "margin": null,
            "max_height": null,
            "max_width": null,
            "min_height": null,
            "min_width": null,
            "object_fit": null,
            "object_position": null,
            "order": null,
            "overflow": null,
            "overflow_x": null,
            "overflow_y": null,
            "padding": null,
            "right": null,
            "top": null,
            "visibility": null,
            "width": null
          }
        },
        "17ce7983d52c4de7a9d5906abe6cebc5": {
          "model_module": "@jupyter-widgets/controls",
          "model_name": "DescriptionStyleModel",
          "model_module_version": "1.5.0",
          "state": {
            "_model_module": "@jupyter-widgets/controls",
            "_model_module_version": "1.5.0",
            "_model_name": "DescriptionStyleModel",
            "_view_count": null,
            "_view_module": "@jupyter-widgets/base",
            "_view_module_version": "1.2.0",
            "_view_name": "StyleView",
            "description_width": ""
          }
        },
        "85afaee75f9843f0b9e3025cfcd39a39": {
          "model_module": "@jupyter-widgets/base",
          "model_name": "LayoutModel",
          "model_module_version": "1.2.0",
          "state": {
            "_model_module": "@jupyter-widgets/base",
            "_model_module_version": "1.2.0",
            "_model_name": "LayoutModel",
            "_view_count": null,
            "_view_module": "@jupyter-widgets/base",
            "_view_module_version": "1.2.0",
            "_view_name": "LayoutView",
            "align_content": null,
            "align_items": null,
            "align_self": null,
            "border": null,
            "bottom": null,
            "display": null,
            "flex": null,
            "flex_flow": null,
            "grid_area": null,
            "grid_auto_columns": null,
            "grid_auto_flow": null,
            "grid_auto_rows": null,
            "grid_column": null,
            "grid_gap": null,
            "grid_row": null,
            "grid_template_areas": null,
            "grid_template_columns": null,
            "grid_template_rows": null,
            "height": null,
            "justify_content": null,
            "justify_items": null,
            "left": null,
            "margin": null,
            "max_height": null,
            "max_width": null,
            "min_height": null,
            "min_width": null,
            "object_fit": null,
            "object_position": null,
            "order": null,
            "overflow": null,
            "overflow_x": null,
            "overflow_y": null,
            "padding": null,
            "right": null,
            "top": null,
            "visibility": null,
            "width": null
          }
        },
        "841af220ad0e4b42b24e5ce541188f1f": {
          "model_module": "@jupyter-widgets/controls",
          "model_name": "ProgressStyleModel",
          "model_module_version": "1.5.0",
          "state": {
            "_model_module": "@jupyter-widgets/controls",
            "_model_module_version": "1.5.0",
            "_model_name": "ProgressStyleModel",
            "_view_count": null,
            "_view_module": "@jupyter-widgets/base",
            "_view_module_version": "1.2.0",
            "_view_name": "StyleView",
            "bar_color": null,
            "description_width": ""
          }
        },
        "12b1597a11914376910637335e6674e4": {
          "model_module": "@jupyter-widgets/base",
          "model_name": "LayoutModel",
          "model_module_version": "1.2.0",
          "state": {
            "_model_module": "@jupyter-widgets/base",
            "_model_module_version": "1.2.0",
            "_model_name": "LayoutModel",
            "_view_count": null,
            "_view_module": "@jupyter-widgets/base",
            "_view_module_version": "1.2.0",
            "_view_name": "LayoutView",
            "align_content": null,
            "align_items": null,
            "align_self": null,
            "border": null,
            "bottom": null,
            "display": null,
            "flex": null,
            "flex_flow": null,
            "grid_area": null,
            "grid_auto_columns": null,
            "grid_auto_flow": null,
            "grid_auto_rows": null,
            "grid_column": null,
            "grid_gap": null,
            "grid_row": null,
            "grid_template_areas": null,
            "grid_template_columns": null,
            "grid_template_rows": null,
            "height": null,
            "justify_content": null,
            "justify_items": null,
            "left": null,
            "margin": null,
            "max_height": null,
            "max_width": null,
            "min_height": null,
            "min_width": null,
            "object_fit": null,
            "object_position": null,
            "order": null,
            "overflow": null,
            "overflow_x": null,
            "overflow_y": null,
            "padding": null,
            "right": null,
            "top": null,
            "visibility": null,
            "width": null
          }
        },
        "3851acafccdf4580a38ea7ac831c5a3b": {
          "model_module": "@jupyter-widgets/controls",
          "model_name": "DescriptionStyleModel",
          "model_module_version": "1.5.0",
          "state": {
            "_model_module": "@jupyter-widgets/controls",
            "_model_module_version": "1.5.0",
            "_model_name": "DescriptionStyleModel",
            "_view_count": null,
            "_view_module": "@jupyter-widgets/base",
            "_view_module_version": "1.2.0",
            "_view_name": "StyleView",
            "description_width": ""
          }
        },
        "7e62a97ba32b49138571dd60ce65a68f": {
          "model_module": "@jupyter-widgets/controls",
          "model_name": "HBoxModel",
          "model_module_version": "1.5.0",
          "state": {
            "_dom_classes": [],
            "_model_module": "@jupyter-widgets/controls",
            "_model_module_version": "1.5.0",
            "_model_name": "HBoxModel",
            "_view_count": null,
            "_view_module": "@jupyter-widgets/controls",
            "_view_module_version": "1.5.0",
            "_view_name": "HBoxView",
            "box_style": "",
            "children": [
              "IPY_MODEL_d91eaf7c03734cb4bffce17dd9bbc859",
              "IPY_MODEL_bdb102030849481f8a46ed6baa0bbebf",
              "IPY_MODEL_ee5534c2d94f4dd1aeb4183ce6540372"
            ],
            "layout": "IPY_MODEL_5d1689d033244f1b83018a8890cbef46"
          }
        },
        "d91eaf7c03734cb4bffce17dd9bbc859": {
          "model_module": "@jupyter-widgets/controls",
          "model_name": "HTMLModel",
          "model_module_version": "1.5.0",
          "state": {
            "_dom_classes": [],
            "_model_module": "@jupyter-widgets/controls",
            "_model_module_version": "1.5.0",
            "_model_name": "HTMLModel",
            "_view_count": null,
            "_view_module": "@jupyter-widgets/controls",
            "_view_module_version": "1.5.0",
            "_view_name": "HTMLView",
            "description": "",
            "description_tooltip": null,
            "layout": "IPY_MODEL_fd71c18dfb4e4239a081ed32ad403c03",
            "placeholder": "​",
            "style": "IPY_MODEL_207411cd99f34d4e8dce12463922fd41",
            "value": "vocab.json: 100%"
          }
        },
        "bdb102030849481f8a46ed6baa0bbebf": {
          "model_module": "@jupyter-widgets/controls",
          "model_name": "FloatProgressModel",
          "model_module_version": "1.5.0",
          "state": {
            "_dom_classes": [],
            "_model_module": "@jupyter-widgets/controls",
            "_model_module_version": "1.5.0",
            "_model_name": "FloatProgressModel",
            "_view_count": null,
            "_view_module": "@jupyter-widgets/controls",
            "_view_module_version": "1.5.0",
            "_view_name": "ProgressView",
            "bar_style": "success",
            "description": "",
            "description_tooltip": null,
            "layout": "IPY_MODEL_b6b22f0a3d244cf5b718bea7e7746f10",
            "max": 1042301,
            "min": 0,
            "orientation": "horizontal",
            "style": "IPY_MODEL_0ecb97d9158348fb88b91972af697029",
            "value": 1042301
          }
        },
        "ee5534c2d94f4dd1aeb4183ce6540372": {
          "model_module": "@jupyter-widgets/controls",
          "model_name": "HTMLModel",
          "model_module_version": "1.5.0",
          "state": {
            "_dom_classes": [],
            "_model_module": "@jupyter-widgets/controls",
            "_model_module_version": "1.5.0",
            "_model_name": "HTMLModel",
            "_view_count": null,
            "_view_module": "@jupyter-widgets/controls",
            "_view_module_version": "1.5.0",
            "_view_name": "HTMLView",
            "description": "",
            "description_tooltip": null,
            "layout": "IPY_MODEL_2a00a7ef96614d4c8c53f64c591c0dc8",
            "placeholder": "​",
            "style": "IPY_MODEL_403eeaba01cb439f822e9eb99bef3710",
            "value": " 1.04M/1.04M [00:00&lt;00:00, 4.40MB/s]"
          }
        },
        "5d1689d033244f1b83018a8890cbef46": {
          "model_module": "@jupyter-widgets/base",
          "model_name": "LayoutModel",
          "model_module_version": "1.2.0",
          "state": {
            "_model_module": "@jupyter-widgets/base",
            "_model_module_version": "1.2.0",
            "_model_name": "LayoutModel",
            "_view_count": null,
            "_view_module": "@jupyter-widgets/base",
            "_view_module_version": "1.2.0",
            "_view_name": "LayoutView",
            "align_content": null,
            "align_items": null,
            "align_self": null,
            "border": null,
            "bottom": null,
            "display": null,
            "flex": null,
            "flex_flow": null,
            "grid_area": null,
            "grid_auto_columns": null,
            "grid_auto_flow": null,
            "grid_auto_rows": null,
            "grid_column": null,
            "grid_gap": null,
            "grid_row": null,
            "grid_template_areas": null,
            "grid_template_columns": null,
            "grid_template_rows": null,
            "height": null,
            "justify_content": null,
            "justify_items": null,
            "left": null,
            "margin": null,
            "max_height": null,
            "max_width": null,
            "min_height": null,
            "min_width": null,
            "object_fit": null,
            "object_position": null,
            "order": null,
            "overflow": null,
            "overflow_x": null,
            "overflow_y": null,
            "padding": null,
            "right": null,
            "top": null,
            "visibility": null,
            "width": null
          }
        },
        "fd71c18dfb4e4239a081ed32ad403c03": {
          "model_module": "@jupyter-widgets/base",
          "model_name": "LayoutModel",
          "model_module_version": "1.2.0",
          "state": {
            "_model_module": "@jupyter-widgets/base",
            "_model_module_version": "1.2.0",
            "_model_name": "LayoutModel",
            "_view_count": null,
            "_view_module": "@jupyter-widgets/base",
            "_view_module_version": "1.2.0",
            "_view_name": "LayoutView",
            "align_content": null,
            "align_items": null,
            "align_self": null,
            "border": null,
            "bottom": null,
            "display": null,
            "flex": null,
            "flex_flow": null,
            "grid_area": null,
            "grid_auto_columns": null,
            "grid_auto_flow": null,
            "grid_auto_rows": null,
            "grid_column": null,
            "grid_gap": null,
            "grid_row": null,
            "grid_template_areas": null,
            "grid_template_columns": null,
            "grid_template_rows": null,
            "height": null,
            "justify_content": null,
            "justify_items": null,
            "left": null,
            "margin": null,
            "max_height": null,
            "max_width": null,
            "min_height": null,
            "min_width": null,
            "object_fit": null,
            "object_position": null,
            "order": null,
            "overflow": null,
            "overflow_x": null,
            "overflow_y": null,
            "padding": null,
            "right": null,
            "top": null,
            "visibility": null,
            "width": null
          }
        },
        "207411cd99f34d4e8dce12463922fd41": {
          "model_module": "@jupyter-widgets/controls",
          "model_name": "DescriptionStyleModel",
          "model_module_version": "1.5.0",
          "state": {
            "_model_module": "@jupyter-widgets/controls",
            "_model_module_version": "1.5.0",
            "_model_name": "DescriptionStyleModel",
            "_view_count": null,
            "_view_module": "@jupyter-widgets/base",
            "_view_module_version": "1.2.0",
            "_view_name": "StyleView",
            "description_width": ""
          }
        },
        "b6b22f0a3d244cf5b718bea7e7746f10": {
          "model_module": "@jupyter-widgets/base",
          "model_name": "LayoutModel",
          "model_module_version": "1.2.0",
          "state": {
            "_model_module": "@jupyter-widgets/base",
            "_model_module_version": "1.2.0",
            "_model_name": "LayoutModel",
            "_view_count": null,
            "_view_module": "@jupyter-widgets/base",
            "_view_module_version": "1.2.0",
            "_view_name": "LayoutView",
            "align_content": null,
            "align_items": null,
            "align_self": null,
            "border": null,
            "bottom": null,
            "display": null,
            "flex": null,
            "flex_flow": null,
            "grid_area": null,
            "grid_auto_columns": null,
            "grid_auto_flow": null,
            "grid_auto_rows": null,
            "grid_column": null,
            "grid_gap": null,
            "grid_row": null,
            "grid_template_areas": null,
            "grid_template_columns": null,
            "grid_template_rows": null,
            "height": null,
            "justify_content": null,
            "justify_items": null,
            "left": null,
            "margin": null,
            "max_height": null,
            "max_width": null,
            "min_height": null,
            "min_width": null,
            "object_fit": null,
            "object_position": null,
            "order": null,
            "overflow": null,
            "overflow_x": null,
            "overflow_y": null,
            "padding": null,
            "right": null,
            "top": null,
            "visibility": null,
            "width": null
          }
        },
        "0ecb97d9158348fb88b91972af697029": {
          "model_module": "@jupyter-widgets/controls",
          "model_name": "ProgressStyleModel",
          "model_module_version": "1.5.0",
          "state": {
            "_model_module": "@jupyter-widgets/controls",
            "_model_module_version": "1.5.0",
            "_model_name": "ProgressStyleModel",
            "_view_count": null,
            "_view_module": "@jupyter-widgets/base",
            "_view_module_version": "1.2.0",
            "_view_name": "StyleView",
            "bar_color": null,
            "description_width": ""
          }
        },
        "2a00a7ef96614d4c8c53f64c591c0dc8": {
          "model_module": "@jupyter-widgets/base",
          "model_name": "LayoutModel",
          "model_module_version": "1.2.0",
          "state": {
            "_model_module": "@jupyter-widgets/base",
            "_model_module_version": "1.2.0",
            "_model_name": "LayoutModel",
            "_view_count": null,
            "_view_module": "@jupyter-widgets/base",
            "_view_module_version": "1.2.0",
            "_view_name": "LayoutView",
            "align_content": null,
            "align_items": null,
            "align_self": null,
            "border": null,
            "bottom": null,
            "display": null,
            "flex": null,
            "flex_flow": null,
            "grid_area": null,
            "grid_auto_columns": null,
            "grid_auto_flow": null,
            "grid_auto_rows": null,
            "grid_column": null,
            "grid_gap": null,
            "grid_row": null,
            "grid_template_areas": null,
            "grid_template_columns": null,
            "grid_template_rows": null,
            "height": null,
            "justify_content": null,
            "justify_items": null,
            "left": null,
            "margin": null,
            "max_height": null,
            "max_width": null,
            "min_height": null,
            "min_width": null,
            "object_fit": null,
            "object_position": null,
            "order": null,
            "overflow": null,
            "overflow_x": null,
            "overflow_y": null,
            "padding": null,
            "right": null,
            "top": null,
            "visibility": null,
            "width": null
          }
        },
        "403eeaba01cb439f822e9eb99bef3710": {
          "model_module": "@jupyter-widgets/controls",
          "model_name": "DescriptionStyleModel",
          "model_module_version": "1.5.0",
          "state": {
            "_model_module": "@jupyter-widgets/controls",
            "_model_module_version": "1.5.0",
            "_model_name": "DescriptionStyleModel",
            "_view_count": null,
            "_view_module": "@jupyter-widgets/base",
            "_view_module_version": "1.2.0",
            "_view_name": "StyleView",
            "description_width": ""
          }
        },
        "cb40146cd74646b2979b6f7a5e841201": {
          "model_module": "@jupyter-widgets/controls",
          "model_name": "HBoxModel",
          "model_module_version": "1.5.0",
          "state": {
            "_dom_classes": [],
            "_model_module": "@jupyter-widgets/controls",
            "_model_module_version": "1.5.0",
            "_model_name": "HBoxModel",
            "_view_count": null,
            "_view_module": "@jupyter-widgets/controls",
            "_view_module_version": "1.5.0",
            "_view_name": "HBoxView",
            "box_style": "",
            "children": [
              "IPY_MODEL_1d384e97f2664bd4b2c397cc6a1c18f6",
              "IPY_MODEL_3bffb485f9cd4fd2bada3cb81941323f",
              "IPY_MODEL_f5b1d048ae5940f09ae1f2f867224c7a"
            ],
            "layout": "IPY_MODEL_beb71bfaed7b4883b2e526eb35a0e959"
          }
        },
        "1d384e97f2664bd4b2c397cc6a1c18f6": {
          "model_module": "@jupyter-widgets/controls",
          "model_name": "HTMLModel",
          "model_module_version": "1.5.0",
          "state": {
            "_dom_classes": [],
            "_model_module": "@jupyter-widgets/controls",
            "_model_module_version": "1.5.0",
            "_model_name": "HTMLModel",
            "_view_count": null,
            "_view_module": "@jupyter-widgets/controls",
            "_view_module_version": "1.5.0",
            "_view_name": "HTMLView",
            "description": "",
            "description_tooltip": null,
            "layout": "IPY_MODEL_f2ea1c96554d485d89a427e6b83d0a91",
            "placeholder": "​",
            "style": "IPY_MODEL_752d7bcbce4d4bdfa3be20b0e8cf2cab",
            "value": "merges.txt: 100%"
          }
        },
        "3bffb485f9cd4fd2bada3cb81941323f": {
          "model_module": "@jupyter-widgets/controls",
          "model_name": "FloatProgressModel",
          "model_module_version": "1.5.0",
          "state": {
            "_dom_classes": [],
            "_model_module": "@jupyter-widgets/controls",
            "_model_module_version": "1.5.0",
            "_model_name": "FloatProgressModel",
            "_view_count": null,
            "_view_module": "@jupyter-widgets/controls",
            "_view_module_version": "1.5.0",
            "_view_name": "ProgressView",
            "bar_style": "success",
            "description": "",
            "description_tooltip": null,
            "layout": "IPY_MODEL_b9d6971fd6084b7c8d98f7c07fecf6c1",
            "max": 456318,
            "min": 0,
            "orientation": "horizontal",
            "style": "IPY_MODEL_b7835156ef7e44fabb32f9be7d0f0427",
            "value": 456318
          }
        },
        "f5b1d048ae5940f09ae1f2f867224c7a": {
          "model_module": "@jupyter-widgets/controls",
          "model_name": "HTMLModel",
          "model_module_version": "1.5.0",
          "state": {
            "_dom_classes": [],
            "_model_module": "@jupyter-widgets/controls",
            "_model_module_version": "1.5.0",
            "_model_name": "HTMLModel",
            "_view_count": null,
            "_view_module": "@jupyter-widgets/controls",
            "_view_module_version": "1.5.0",
            "_view_name": "HTMLView",
            "description": "",
            "description_tooltip": null,
            "layout": "IPY_MODEL_ff69dfdf14514d7caf58d4252c9937b9",
            "placeholder": "​",
            "style": "IPY_MODEL_0aa84abc0cd847f59d9c98985d1696f1",
            "value": " 456k/456k [00:00&lt;00:00, 23.1MB/s]"
          }
        },
        "beb71bfaed7b4883b2e526eb35a0e959": {
          "model_module": "@jupyter-widgets/base",
          "model_name": "LayoutModel",
          "model_module_version": "1.2.0",
          "state": {
            "_model_module": "@jupyter-widgets/base",
            "_model_module_version": "1.2.0",
            "_model_name": "LayoutModel",
            "_view_count": null,
            "_view_module": "@jupyter-widgets/base",
            "_view_module_version": "1.2.0",
            "_view_name": "LayoutView",
            "align_content": null,
            "align_items": null,
            "align_self": null,
            "border": null,
            "bottom": null,
            "display": null,
            "flex": null,
            "flex_flow": null,
            "grid_area": null,
            "grid_auto_columns": null,
            "grid_auto_flow": null,
            "grid_auto_rows": null,
            "grid_column": null,
            "grid_gap": null,
            "grid_row": null,
            "grid_template_areas": null,
            "grid_template_columns": null,
            "grid_template_rows": null,
            "height": null,
            "justify_content": null,
            "justify_items": null,
            "left": null,
            "margin": null,
            "max_height": null,
            "max_width": null,
            "min_height": null,
            "min_width": null,
            "object_fit": null,
            "object_position": null,
            "order": null,
            "overflow": null,
            "overflow_x": null,
            "overflow_y": null,
            "padding": null,
            "right": null,
            "top": null,
            "visibility": null,
            "width": null
          }
        },
        "f2ea1c96554d485d89a427e6b83d0a91": {
          "model_module": "@jupyter-widgets/base",
          "model_name": "LayoutModel",
          "model_module_version": "1.2.0",
          "state": {
            "_model_module": "@jupyter-widgets/base",
            "_model_module_version": "1.2.0",
            "_model_name": "LayoutModel",
            "_view_count": null,
            "_view_module": "@jupyter-widgets/base",
            "_view_module_version": "1.2.0",
            "_view_name": "LayoutView",
            "align_content": null,
            "align_items": null,
            "align_self": null,
            "border": null,
            "bottom": null,
            "display": null,
            "flex": null,
            "flex_flow": null,
            "grid_area": null,
            "grid_auto_columns": null,
            "grid_auto_flow": null,
            "grid_auto_rows": null,
            "grid_column": null,
            "grid_gap": null,
            "grid_row": null,
            "grid_template_areas": null,
            "grid_template_columns": null,
            "grid_template_rows": null,
            "height": null,
            "justify_content": null,
            "justify_items": null,
            "left": null,
            "margin": null,
            "max_height": null,
            "max_width": null,
            "min_height": null,
            "min_width": null,
            "object_fit": null,
            "object_position": null,
            "order": null,
            "overflow": null,
            "overflow_x": null,
            "overflow_y": null,
            "padding": null,
            "right": null,
            "top": null,
            "visibility": null,
            "width": null
          }
        },
        "752d7bcbce4d4bdfa3be20b0e8cf2cab": {
          "model_module": "@jupyter-widgets/controls",
          "model_name": "DescriptionStyleModel",
          "model_module_version": "1.5.0",
          "state": {
            "_model_module": "@jupyter-widgets/controls",
            "_model_module_version": "1.5.0",
            "_model_name": "DescriptionStyleModel",
            "_view_count": null,
            "_view_module": "@jupyter-widgets/base",
            "_view_module_version": "1.2.0",
            "_view_name": "StyleView",
            "description_width": ""
          }
        },
        "b9d6971fd6084b7c8d98f7c07fecf6c1": {
          "model_module": "@jupyter-widgets/base",
          "model_name": "LayoutModel",
          "model_module_version": "1.2.0",
          "state": {
            "_model_module": "@jupyter-widgets/base",
            "_model_module_version": "1.2.0",
            "_model_name": "LayoutModel",
            "_view_count": null,
            "_view_module": "@jupyter-widgets/base",
            "_view_module_version": "1.2.0",
            "_view_name": "LayoutView",
            "align_content": null,
            "align_items": null,
            "align_self": null,
            "border": null,
            "bottom": null,
            "display": null,
            "flex": null,
            "flex_flow": null,
            "grid_area": null,
            "grid_auto_columns": null,
            "grid_auto_flow": null,
            "grid_auto_rows": null,
            "grid_column": null,
            "grid_gap": null,
            "grid_row": null,
            "grid_template_areas": null,
            "grid_template_columns": null,
            "grid_template_rows": null,
            "height": null,
            "justify_content": null,
            "justify_items": null,
            "left": null,
            "margin": null,
            "max_height": null,
            "max_width": null,
            "min_height": null,
            "min_width": null,
            "object_fit": null,
            "object_position": null,
            "order": null,
            "overflow": null,
            "overflow_x": null,
            "overflow_y": null,
            "padding": null,
            "right": null,
            "top": null,
            "visibility": null,
            "width": null
          }
        },
        "b7835156ef7e44fabb32f9be7d0f0427": {
          "model_module": "@jupyter-widgets/controls",
          "model_name": "ProgressStyleModel",
          "model_module_version": "1.5.0",
          "state": {
            "_model_module": "@jupyter-widgets/controls",
            "_model_module_version": "1.5.0",
            "_model_name": "ProgressStyleModel",
            "_view_count": null,
            "_view_module": "@jupyter-widgets/base",
            "_view_module_version": "1.2.0",
            "_view_name": "StyleView",
            "bar_color": null,
            "description_width": ""
          }
        },
        "ff69dfdf14514d7caf58d4252c9937b9": {
          "model_module": "@jupyter-widgets/base",
          "model_name": "LayoutModel",
          "model_module_version": "1.2.0",
          "state": {
            "_model_module": "@jupyter-widgets/base",
            "_model_module_version": "1.2.0",
            "_model_name": "LayoutModel",
            "_view_count": null,
            "_view_module": "@jupyter-widgets/base",
            "_view_module_version": "1.2.0",
            "_view_name": "LayoutView",
            "align_content": null,
            "align_items": null,
            "align_self": null,
            "border": null,
            "bottom": null,
            "display": null,
            "flex": null,
            "flex_flow": null,
            "grid_area": null,
            "grid_auto_columns": null,
            "grid_auto_flow": null,
            "grid_auto_rows": null,
            "grid_column": null,
            "grid_gap": null,
            "grid_row": null,
            "grid_template_areas": null,
            "grid_template_columns": null,
            "grid_template_rows": null,
            "height": null,
            "justify_content": null,
            "justify_items": null,
            "left": null,
            "margin": null,
            "max_height": null,
            "max_width": null,
            "min_height": null,
            "min_width": null,
            "object_fit": null,
            "object_position": null,
            "order": null,
            "overflow": null,
            "overflow_x": null,
            "overflow_y": null,
            "padding": null,
            "right": null,
            "top": null,
            "visibility": null,
            "width": null
          }
        },
        "0aa84abc0cd847f59d9c98985d1696f1": {
          "model_module": "@jupyter-widgets/controls",
          "model_name": "DescriptionStyleModel",
          "model_module_version": "1.5.0",
          "state": {
            "_model_module": "@jupyter-widgets/controls",
            "_model_module_version": "1.5.0",
            "_model_name": "DescriptionStyleModel",
            "_view_count": null,
            "_view_module": "@jupyter-widgets/base",
            "_view_module_version": "1.2.0",
            "_view_name": "StyleView",
            "description_width": ""
          }
        },
        "c0f7155eb4074d3a9834178138496659": {
          "model_module": "@jupyter-widgets/controls",
          "model_name": "HBoxModel",
          "model_module_version": "1.5.0",
          "state": {
            "_dom_classes": [],
            "_model_module": "@jupyter-widgets/controls",
            "_model_module_version": "1.5.0",
            "_model_name": "HBoxModel",
            "_view_count": null,
            "_view_module": "@jupyter-widgets/controls",
            "_view_module_version": "1.5.0",
            "_view_name": "HBoxView",
            "box_style": "",
            "children": [
              "IPY_MODEL_4a8901643f19489f88dc115901b84a58",
              "IPY_MODEL_b090391f585b4331b1aba343129f5b11",
              "IPY_MODEL_544f8717996846bbac1ef26bf3f09b8f"
            ],
            "layout": "IPY_MODEL_5c790743ccfc4f0093e677c474a6bdf8"
          }
        },
        "4a8901643f19489f88dc115901b84a58": {
          "model_module": "@jupyter-widgets/controls",
          "model_name": "HTMLModel",
          "model_module_version": "1.5.0",
          "state": {
            "_dom_classes": [],
            "_model_module": "@jupyter-widgets/controls",
            "_model_module_version": "1.5.0",
            "_model_name": "HTMLModel",
            "_view_count": null,
            "_view_module": "@jupyter-widgets/controls",
            "_view_module_version": "1.5.0",
            "_view_name": "HTMLView",
            "description": "",
            "description_tooltip": null,
            "layout": "IPY_MODEL_14a1942e806a4752951f82ef45aa474b",
            "placeholder": "​",
            "style": "IPY_MODEL_afd606477e7c42d787440a6073c58e08",
            "value": "tokenizer.json: 100%"
          }
        },
        "b090391f585b4331b1aba343129f5b11": {
          "model_module": "@jupyter-widgets/controls",
          "model_name": "FloatProgressModel",
          "model_module_version": "1.5.0",
          "state": {
            "_dom_classes": [],
            "_model_module": "@jupyter-widgets/controls",
            "_model_module_version": "1.5.0",
            "_model_name": "FloatProgressModel",
            "_view_count": null,
            "_view_module": "@jupyter-widgets/controls",
            "_view_module_version": "1.5.0",
            "_view_name": "ProgressView",
            "bar_style": "success",
            "description": "",
            "description_tooltip": null,
            "layout": "IPY_MODEL_cdbba931946241ef9995fd42749f3d58",
            "max": 1355256,
            "min": 0,
            "orientation": "horizontal",
            "style": "IPY_MODEL_a8f71295d0644f3db500e768e7f559fa",
            "value": 1355256
          }
        },
        "544f8717996846bbac1ef26bf3f09b8f": {
          "model_module": "@jupyter-widgets/controls",
          "model_name": "HTMLModel",
          "model_module_version": "1.5.0",
          "state": {
            "_dom_classes": [],
            "_model_module": "@jupyter-widgets/controls",
            "_model_module_version": "1.5.0",
            "_model_name": "HTMLModel",
            "_view_count": null,
            "_view_module": "@jupyter-widgets/controls",
            "_view_module_version": "1.5.0",
            "_view_name": "HTMLView",
            "description": "",
            "description_tooltip": null,
            "layout": "IPY_MODEL_b67973ae82ec4c28a12c44d9c9dc07e8",
            "placeholder": "​",
            "style": "IPY_MODEL_6fae59050b9846eabdfdbd62a12e6b54",
            "value": " 1.36M/1.36M [00:00&lt;00:00, 4.46MB/s]"
          }
        },
        "5c790743ccfc4f0093e677c474a6bdf8": {
          "model_module": "@jupyter-widgets/base",
          "model_name": "LayoutModel",
          "model_module_version": "1.2.0",
          "state": {
            "_model_module": "@jupyter-widgets/base",
            "_model_module_version": "1.2.0",
            "_model_name": "LayoutModel",
            "_view_count": null,
            "_view_module": "@jupyter-widgets/base",
            "_view_module_version": "1.2.0",
            "_view_name": "LayoutView",
            "align_content": null,
            "align_items": null,
            "align_self": null,
            "border": null,
            "bottom": null,
            "display": null,
            "flex": null,
            "flex_flow": null,
            "grid_area": null,
            "grid_auto_columns": null,
            "grid_auto_flow": null,
            "grid_auto_rows": null,
            "grid_column": null,
            "grid_gap": null,
            "grid_row": null,
            "grid_template_areas": null,
            "grid_template_columns": null,
            "grid_template_rows": null,
            "height": null,
            "justify_content": null,
            "justify_items": null,
            "left": null,
            "margin": null,
            "max_height": null,
            "max_width": null,
            "min_height": null,
            "min_width": null,
            "object_fit": null,
            "object_position": null,
            "order": null,
            "overflow": null,
            "overflow_x": null,
            "overflow_y": null,
            "padding": null,
            "right": null,
            "top": null,
            "visibility": null,
            "width": null
          }
        },
        "14a1942e806a4752951f82ef45aa474b": {
          "model_module": "@jupyter-widgets/base",
          "model_name": "LayoutModel",
          "model_module_version": "1.2.0",
          "state": {
            "_model_module": "@jupyter-widgets/base",
            "_model_module_version": "1.2.0",
            "_model_name": "LayoutModel",
            "_view_count": null,
            "_view_module": "@jupyter-widgets/base",
            "_view_module_version": "1.2.0",
            "_view_name": "LayoutView",
            "align_content": null,
            "align_items": null,
            "align_self": null,
            "border": null,
            "bottom": null,
            "display": null,
            "flex": null,
            "flex_flow": null,
            "grid_area": null,
            "grid_auto_columns": null,
            "grid_auto_flow": null,
            "grid_auto_rows": null,
            "grid_column": null,
            "grid_gap": null,
            "grid_row": null,
            "grid_template_areas": null,
            "grid_template_columns": null,
            "grid_template_rows": null,
            "height": null,
            "justify_content": null,
            "justify_items": null,
            "left": null,
            "margin": null,
            "max_height": null,
            "max_width": null,
            "min_height": null,
            "min_width": null,
            "object_fit": null,
            "object_position": null,
            "order": null,
            "overflow": null,
            "overflow_x": null,
            "overflow_y": null,
            "padding": null,
            "right": null,
            "top": null,
            "visibility": null,
            "width": null
          }
        },
        "afd606477e7c42d787440a6073c58e08": {
          "model_module": "@jupyter-widgets/controls",
          "model_name": "DescriptionStyleModel",
          "model_module_version": "1.5.0",
          "state": {
            "_model_module": "@jupyter-widgets/controls",
            "_model_module_version": "1.5.0",
            "_model_name": "DescriptionStyleModel",
            "_view_count": null,
            "_view_module": "@jupyter-widgets/base",
            "_view_module_version": "1.2.0",
            "_view_name": "StyleView",
            "description_width": ""
          }
        },
        "cdbba931946241ef9995fd42749f3d58": {
          "model_module": "@jupyter-widgets/base",
          "model_name": "LayoutModel",
          "model_module_version": "1.2.0",
          "state": {
            "_model_module": "@jupyter-widgets/base",
            "_model_module_version": "1.2.0",
            "_model_name": "LayoutModel",
            "_view_count": null,
            "_view_module": "@jupyter-widgets/base",
            "_view_module_version": "1.2.0",
            "_view_name": "LayoutView",
            "align_content": null,
            "align_items": null,
            "align_self": null,
            "border": null,
            "bottom": null,
            "display": null,
            "flex": null,
            "flex_flow": null,
            "grid_area": null,
            "grid_auto_columns": null,
            "grid_auto_flow": null,
            "grid_auto_rows": null,
            "grid_column": null,
            "grid_gap": null,
            "grid_row": null,
            "grid_template_areas": null,
            "grid_template_columns": null,
            "grid_template_rows": null,
            "height": null,
            "justify_content": null,
            "justify_items": null,
            "left": null,
            "margin": null,
            "max_height": null,
            "max_width": null,
            "min_height": null,
            "min_width": null,
            "object_fit": null,
            "object_position": null,
            "order": null,
            "overflow": null,
            "overflow_x": null,
            "overflow_y": null,
            "padding": null,
            "right": null,
            "top": null,
            "visibility": null,
            "width": null
          }
        },
        "a8f71295d0644f3db500e768e7f559fa": {
          "model_module": "@jupyter-widgets/controls",
          "model_name": "ProgressStyleModel",
          "model_module_version": "1.5.0",
          "state": {
            "_model_module": "@jupyter-widgets/controls",
            "_model_module_version": "1.5.0",
            "_model_name": "ProgressStyleModel",
            "_view_count": null,
            "_view_module": "@jupyter-widgets/base",
            "_view_module_version": "1.2.0",
            "_view_name": "StyleView",
            "bar_color": null,
            "description_width": ""
          }
        },
        "b67973ae82ec4c28a12c44d9c9dc07e8": {
          "model_module": "@jupyter-widgets/base",
          "model_name": "LayoutModel",
          "model_module_version": "1.2.0",
          "state": {
            "_model_module": "@jupyter-widgets/base",
            "_model_module_version": "1.2.0",
            "_model_name": "LayoutModel",
            "_view_count": null,
            "_view_module": "@jupyter-widgets/base",
            "_view_module_version": "1.2.0",
            "_view_name": "LayoutView",
            "align_content": null,
            "align_items": null,
            "align_self": null,
            "border": null,
            "bottom": null,
            "display": null,
            "flex": null,
            "flex_flow": null,
            "grid_area": null,
            "grid_auto_columns": null,
            "grid_auto_flow": null,
            "grid_auto_rows": null,
            "grid_column": null,
            "grid_gap": null,
            "grid_row": null,
            "grid_template_areas": null,
            "grid_template_columns": null,
            "grid_template_rows": null,
            "height": null,
            "justify_content": null,
            "justify_items": null,
            "left": null,
            "margin": null,
            "max_height": null,
            "max_width": null,
            "min_height": null,
            "min_width": null,
            "object_fit": null,
            "object_position": null,
            "order": null,
            "overflow": null,
            "overflow_x": null,
            "overflow_y": null,
            "padding": null,
            "right": null,
            "top": null,
            "visibility": null,
            "width": null
          }
        },
        "6fae59050b9846eabdfdbd62a12e6b54": {
          "model_module": "@jupyter-widgets/controls",
          "model_name": "DescriptionStyleModel",
          "model_module_version": "1.5.0",
          "state": {
            "_model_module": "@jupyter-widgets/controls",
            "_model_module_version": "1.5.0",
            "_model_name": "DescriptionStyleModel",
            "_view_count": null,
            "_view_module": "@jupyter-widgets/base",
            "_view_module_version": "1.2.0",
            "_view_name": "StyleView",
            "description_width": ""
          }
        },
        "b19c776988514f74882f44db9679b40b": {
          "model_module": "@jupyter-widgets/controls",
          "model_name": "HBoxModel",
          "model_module_version": "1.5.0",
          "state": {
            "_dom_classes": [],
            "_model_module": "@jupyter-widgets/controls",
            "_model_module_version": "1.5.0",
            "_model_name": "HBoxModel",
            "_view_count": null,
            "_view_module": "@jupyter-widgets/controls",
            "_view_module_version": "1.5.0",
            "_view_name": "HBoxView",
            "box_style": "",
            "children": [
              "IPY_MODEL_9b4a291cb86d46a9bce430ded395c341",
              "IPY_MODEL_a709bedd36764a27a6909ab4b5ea13ca",
              "IPY_MODEL_e09369942ea6434cba935e6c918ec605"
            ],
            "layout": "IPY_MODEL_6c8f3916d7fe49538a2d6d7dc6d7e174"
          }
        },
        "9b4a291cb86d46a9bce430ded395c341": {
          "model_module": "@jupyter-widgets/controls",
          "model_name": "HTMLModel",
          "model_module_version": "1.5.0",
          "state": {
            "_dom_classes": [],
            "_model_module": "@jupyter-widgets/controls",
            "_model_module_version": "1.5.0",
            "_model_name": "HTMLModel",
            "_view_count": null,
            "_view_module": "@jupyter-widgets/controls",
            "_view_module_version": "1.5.0",
            "_view_name": "HTMLView",
            "description": "",
            "description_tooltip": null,
            "layout": "IPY_MODEL_5ad9ab890c494d88a1f32f77a0858954",
            "placeholder": "​",
            "style": "IPY_MODEL_2fb423c6055c4c378e4306d08b564765",
            "value": "model.safetensors: 100%"
          }
        },
        "a709bedd36764a27a6909ab4b5ea13ca": {
          "model_module": "@jupyter-widgets/controls",
          "model_name": "FloatProgressModel",
          "model_module_version": "1.5.0",
          "state": {
            "_dom_classes": [],
            "_model_module": "@jupyter-widgets/controls",
            "_model_module_version": "1.5.0",
            "_model_name": "FloatProgressModel",
            "_view_count": null,
            "_view_module": "@jupyter-widgets/controls",
            "_view_module_version": "1.5.0",
            "_view_name": "ProgressView",
            "bar_style": "success",
            "description": "",
            "description_tooltip": null,
            "layout": "IPY_MODEL_10b752bdffa3467ba4804ebd4fec4da9",
            "max": 548105171,
            "min": 0,
            "orientation": "horizontal",
            "style": "IPY_MODEL_ca0ee8a28aca4e499977a4bcd1110667",
            "value": 548105171
          }
        },
        "e09369942ea6434cba935e6c918ec605": {
          "model_module": "@jupyter-widgets/controls",
          "model_name": "HTMLModel",
          "model_module_version": "1.5.0",
          "state": {
            "_dom_classes": [],
            "_model_module": "@jupyter-widgets/controls",
            "_model_module_version": "1.5.0",
            "_model_name": "HTMLModel",
            "_view_count": null,
            "_view_module": "@jupyter-widgets/controls",
            "_view_module_version": "1.5.0",
            "_view_name": "HTMLView",
            "description": "",
            "description_tooltip": null,
            "layout": "IPY_MODEL_ae6529703c7e4251808babe5003893c0",
            "placeholder": "​",
            "style": "IPY_MODEL_c59514831b274460a8fcb1c2796fb3de",
            "value": " 548M/548M [00:02&lt;00:00, 201MB/s]"
          }
        },
        "6c8f3916d7fe49538a2d6d7dc6d7e174": {
          "model_module": "@jupyter-widgets/base",
          "model_name": "LayoutModel",
          "model_module_version": "1.2.0",
          "state": {
            "_model_module": "@jupyter-widgets/base",
            "_model_module_version": "1.2.0",
            "_model_name": "LayoutModel",
            "_view_count": null,
            "_view_module": "@jupyter-widgets/base",
            "_view_module_version": "1.2.0",
            "_view_name": "LayoutView",
            "align_content": null,
            "align_items": null,
            "align_self": null,
            "border": null,
            "bottom": null,
            "display": null,
            "flex": null,
            "flex_flow": null,
            "grid_area": null,
            "grid_auto_columns": null,
            "grid_auto_flow": null,
            "grid_auto_rows": null,
            "grid_column": null,
            "grid_gap": null,
            "grid_row": null,
            "grid_template_areas": null,
            "grid_template_columns": null,
            "grid_template_rows": null,
            "height": null,
            "justify_content": null,
            "justify_items": null,
            "left": null,
            "margin": null,
            "max_height": null,
            "max_width": null,
            "min_height": null,
            "min_width": null,
            "object_fit": null,
            "object_position": null,
            "order": null,
            "overflow": null,
            "overflow_x": null,
            "overflow_y": null,
            "padding": null,
            "right": null,
            "top": null,
            "visibility": null,
            "width": null
          }
        },
        "5ad9ab890c494d88a1f32f77a0858954": {
          "model_module": "@jupyter-widgets/base",
          "model_name": "LayoutModel",
          "model_module_version": "1.2.0",
          "state": {
            "_model_module": "@jupyter-widgets/base",
            "_model_module_version": "1.2.0",
            "_model_name": "LayoutModel",
            "_view_count": null,
            "_view_module": "@jupyter-widgets/base",
            "_view_module_version": "1.2.0",
            "_view_name": "LayoutView",
            "align_content": null,
            "align_items": null,
            "align_self": null,
            "border": null,
            "bottom": null,
            "display": null,
            "flex": null,
            "flex_flow": null,
            "grid_area": null,
            "grid_auto_columns": null,
            "grid_auto_flow": null,
            "grid_auto_rows": null,
            "grid_column": null,
            "grid_gap": null,
            "grid_row": null,
            "grid_template_areas": null,
            "grid_template_columns": null,
            "grid_template_rows": null,
            "height": null,
            "justify_content": null,
            "justify_items": null,
            "left": null,
            "margin": null,
            "max_height": null,
            "max_width": null,
            "min_height": null,
            "min_width": null,
            "object_fit": null,
            "object_position": null,
            "order": null,
            "overflow": null,
            "overflow_x": null,
            "overflow_y": null,
            "padding": null,
            "right": null,
            "top": null,
            "visibility": null,
            "width": null
          }
        },
        "2fb423c6055c4c378e4306d08b564765": {
          "model_module": "@jupyter-widgets/controls",
          "model_name": "DescriptionStyleModel",
          "model_module_version": "1.5.0",
          "state": {
            "_model_module": "@jupyter-widgets/controls",
            "_model_module_version": "1.5.0",
            "_model_name": "DescriptionStyleModel",
            "_view_count": null,
            "_view_module": "@jupyter-widgets/base",
            "_view_module_version": "1.2.0",
            "_view_name": "StyleView",
            "description_width": ""
          }
        },
        "10b752bdffa3467ba4804ebd4fec4da9": {
          "model_module": "@jupyter-widgets/base",
          "model_name": "LayoutModel",
          "model_module_version": "1.2.0",
          "state": {
            "_model_module": "@jupyter-widgets/base",
            "_model_module_version": "1.2.0",
            "_model_name": "LayoutModel",
            "_view_count": null,
            "_view_module": "@jupyter-widgets/base",
            "_view_module_version": "1.2.0",
            "_view_name": "LayoutView",
            "align_content": null,
            "align_items": null,
            "align_self": null,
            "border": null,
            "bottom": null,
            "display": null,
            "flex": null,
            "flex_flow": null,
            "grid_area": null,
            "grid_auto_columns": null,
            "grid_auto_flow": null,
            "grid_auto_rows": null,
            "grid_column": null,
            "grid_gap": null,
            "grid_row": null,
            "grid_template_areas": null,
            "grid_template_columns": null,
            "grid_template_rows": null,
            "height": null,
            "justify_content": null,
            "justify_items": null,
            "left": null,
            "margin": null,
            "max_height": null,
            "max_width": null,
            "min_height": null,
            "min_width": null,
            "object_fit": null,
            "object_position": null,
            "order": null,
            "overflow": null,
            "overflow_x": null,
            "overflow_y": null,
            "padding": null,
            "right": null,
            "top": null,
            "visibility": null,
            "width": null
          }
        },
        "ca0ee8a28aca4e499977a4bcd1110667": {
          "model_module": "@jupyter-widgets/controls",
          "model_name": "ProgressStyleModel",
          "model_module_version": "1.5.0",
          "state": {
            "_model_module": "@jupyter-widgets/controls",
            "_model_module_version": "1.5.0",
            "_model_name": "ProgressStyleModel",
            "_view_count": null,
            "_view_module": "@jupyter-widgets/base",
            "_view_module_version": "1.2.0",
            "_view_name": "StyleView",
            "bar_color": null,
            "description_width": ""
          }
        },
        "ae6529703c7e4251808babe5003893c0": {
          "model_module": "@jupyter-widgets/base",
          "model_name": "LayoutModel",
          "model_module_version": "1.2.0",
          "state": {
            "_model_module": "@jupyter-widgets/base",
            "_model_module_version": "1.2.0",
            "_model_name": "LayoutModel",
            "_view_count": null,
            "_view_module": "@jupyter-widgets/base",
            "_view_module_version": "1.2.0",
            "_view_name": "LayoutView",
            "align_content": null,
            "align_items": null,
            "align_self": null,
            "border": null,
            "bottom": null,
            "display": null,
            "flex": null,
            "flex_flow": null,
            "grid_area": null,
            "grid_auto_columns": null,
            "grid_auto_flow": null,
            "grid_auto_rows": null,
            "grid_column": null,
            "grid_gap": null,
            "grid_row": null,
            "grid_template_areas": null,
            "grid_template_columns": null,
            "grid_template_rows": null,
            "height": null,
            "justify_content": null,
            "justify_items": null,
            "left": null,
            "margin": null,
            "max_height": null,
            "max_width": null,
            "min_height": null,
            "min_width": null,
            "object_fit": null,
            "object_position": null,
            "order": null,
            "overflow": null,
            "overflow_x": null,
            "overflow_y": null,
            "padding": null,
            "right": null,
            "top": null,
            "visibility": null,
            "width": null
          }
        },
        "c59514831b274460a8fcb1c2796fb3de": {
          "model_module": "@jupyter-widgets/controls",
          "model_name": "DescriptionStyleModel",
          "model_module_version": "1.5.0",
          "state": {
            "_model_module": "@jupyter-widgets/controls",
            "_model_module_version": "1.5.0",
            "_model_name": "DescriptionStyleModel",
            "_view_count": null,
            "_view_module": "@jupyter-widgets/base",
            "_view_module_version": "1.2.0",
            "_view_name": "StyleView",
            "description_width": ""
          }
        },
        "62ba2f6bf61340958c95a6c8a4e2beed": {
          "model_module": "@jupyter-widgets/controls",
          "model_name": "HBoxModel",
          "model_module_version": "1.5.0",
          "state": {
            "_dom_classes": [],
            "_model_module": "@jupyter-widgets/controls",
            "_model_module_version": "1.5.0",
            "_model_name": "HBoxModel",
            "_view_count": null,
            "_view_module": "@jupyter-widgets/controls",
            "_view_module_version": "1.5.0",
            "_view_name": "HBoxView",
            "box_style": "",
            "children": [
              "IPY_MODEL_9b634d422f23481f874d9a2e39b80481",
              "IPY_MODEL_4c7792a8e4a542bea00a38cf0abe7630",
              "IPY_MODEL_4cf67454f8054854a5101ad946eacdd9"
            ],
            "layout": "IPY_MODEL_c9dc83e98b174225b8235c2ac32c696d"
          }
        },
        "9b634d422f23481f874d9a2e39b80481": {
          "model_module": "@jupyter-widgets/controls",
          "model_name": "HTMLModel",
          "model_module_version": "1.5.0",
          "state": {
            "_dom_classes": [],
            "_model_module": "@jupyter-widgets/controls",
            "_model_module_version": "1.5.0",
            "_model_name": "HTMLModel",
            "_view_count": null,
            "_view_module": "@jupyter-widgets/controls",
            "_view_module_version": "1.5.0",
            "_view_name": "HTMLView",
            "description": "",
            "description_tooltip": null,
            "layout": "IPY_MODEL_41d4cd35664143feb1194307c0050fb3",
            "placeholder": "​",
            "style": "IPY_MODEL_27b3188ee8f84a89be29e0ddc9e845d7",
            "value": "generation_config.json: 100%"
          }
        },
        "4c7792a8e4a542bea00a38cf0abe7630": {
          "model_module": "@jupyter-widgets/controls",
          "model_name": "FloatProgressModel",
          "model_module_version": "1.5.0",
          "state": {
            "_dom_classes": [],
            "_model_module": "@jupyter-widgets/controls",
            "_model_module_version": "1.5.0",
            "_model_name": "FloatProgressModel",
            "_view_count": null,
            "_view_module": "@jupyter-widgets/controls",
            "_view_module_version": "1.5.0",
            "_view_name": "ProgressView",
            "bar_style": "success",
            "description": "",
            "description_tooltip": null,
            "layout": "IPY_MODEL_63eda9b3a12d4e239cbcc49e56113200",
            "max": 124,
            "min": 0,
            "orientation": "horizontal",
            "style": "IPY_MODEL_0f5de9f9345745469d3d73cf5a64e3ab",
            "value": 124
          }
        },
        "4cf67454f8054854a5101ad946eacdd9": {
          "model_module": "@jupyter-widgets/controls",
          "model_name": "HTMLModel",
          "model_module_version": "1.5.0",
          "state": {
            "_dom_classes": [],
            "_model_module": "@jupyter-widgets/controls",
            "_model_module_version": "1.5.0",
            "_model_name": "HTMLModel",
            "_view_count": null,
            "_view_module": "@jupyter-widgets/controls",
            "_view_module_version": "1.5.0",
            "_view_name": "HTMLView",
            "description": "",
            "description_tooltip": null,
            "layout": "IPY_MODEL_ca44e040af064d90a4e28e96ab67bbc8",
            "placeholder": "​",
            "style": "IPY_MODEL_b8fbabc3ed4e4739bfae209dc705c85b",
            "value": " 124/124 [00:00&lt;00:00, 6.66kB/s]"
          }
        },
        "c9dc83e98b174225b8235c2ac32c696d": {
          "model_module": "@jupyter-widgets/base",
          "model_name": "LayoutModel",
          "model_module_version": "1.2.0",
          "state": {
            "_model_module": "@jupyter-widgets/base",
            "_model_module_version": "1.2.0",
            "_model_name": "LayoutModel",
            "_view_count": null,
            "_view_module": "@jupyter-widgets/base",
            "_view_module_version": "1.2.0",
            "_view_name": "LayoutView",
            "align_content": null,
            "align_items": null,
            "align_self": null,
            "border": null,
            "bottom": null,
            "display": null,
            "flex": null,
            "flex_flow": null,
            "grid_area": null,
            "grid_auto_columns": null,
            "grid_auto_flow": null,
            "grid_auto_rows": null,
            "grid_column": null,
            "grid_gap": null,
            "grid_row": null,
            "grid_template_areas": null,
            "grid_template_columns": null,
            "grid_template_rows": null,
            "height": null,
            "justify_content": null,
            "justify_items": null,
            "left": null,
            "margin": null,
            "max_height": null,
            "max_width": null,
            "min_height": null,
            "min_width": null,
            "object_fit": null,
            "object_position": null,
            "order": null,
            "overflow": null,
            "overflow_x": null,
            "overflow_y": null,
            "padding": null,
            "right": null,
            "top": null,
            "visibility": null,
            "width": null
          }
        },
        "41d4cd35664143feb1194307c0050fb3": {
          "model_module": "@jupyter-widgets/base",
          "model_name": "LayoutModel",
          "model_module_version": "1.2.0",
          "state": {
            "_model_module": "@jupyter-widgets/base",
            "_model_module_version": "1.2.0",
            "_model_name": "LayoutModel",
            "_view_count": null,
            "_view_module": "@jupyter-widgets/base",
            "_view_module_version": "1.2.0",
            "_view_name": "LayoutView",
            "align_content": null,
            "align_items": null,
            "align_self": null,
            "border": null,
            "bottom": null,
            "display": null,
            "flex": null,
            "flex_flow": null,
            "grid_area": null,
            "grid_auto_columns": null,
            "grid_auto_flow": null,
            "grid_auto_rows": null,
            "grid_column": null,
            "grid_gap": null,
            "grid_row": null,
            "grid_template_areas": null,
            "grid_template_columns": null,
            "grid_template_rows": null,
            "height": null,
            "justify_content": null,
            "justify_items": null,
            "left": null,
            "margin": null,
            "max_height": null,
            "max_width": null,
            "min_height": null,
            "min_width": null,
            "object_fit": null,
            "object_position": null,
            "order": null,
            "overflow": null,
            "overflow_x": null,
            "overflow_y": null,
            "padding": null,
            "right": null,
            "top": null,
            "visibility": null,
            "width": null
          }
        },
        "27b3188ee8f84a89be29e0ddc9e845d7": {
          "model_module": "@jupyter-widgets/controls",
          "model_name": "DescriptionStyleModel",
          "model_module_version": "1.5.0",
          "state": {
            "_model_module": "@jupyter-widgets/controls",
            "_model_module_version": "1.5.0",
            "_model_name": "DescriptionStyleModel",
            "_view_count": null,
            "_view_module": "@jupyter-widgets/base",
            "_view_module_version": "1.2.0",
            "_view_name": "StyleView",
            "description_width": ""
          }
        },
        "63eda9b3a12d4e239cbcc49e56113200": {
          "model_module": "@jupyter-widgets/base",
          "model_name": "LayoutModel",
          "model_module_version": "1.2.0",
          "state": {
            "_model_module": "@jupyter-widgets/base",
            "_model_module_version": "1.2.0",
            "_model_name": "LayoutModel",
            "_view_count": null,
            "_view_module": "@jupyter-widgets/base",
            "_view_module_version": "1.2.0",
            "_view_name": "LayoutView",
            "align_content": null,
            "align_items": null,
            "align_self": null,
            "border": null,
            "bottom": null,
            "display": null,
            "flex": null,
            "flex_flow": null,
            "grid_area": null,
            "grid_auto_columns": null,
            "grid_auto_flow": null,
            "grid_auto_rows": null,
            "grid_column": null,
            "grid_gap": null,
            "grid_row": null,
            "grid_template_areas": null,
            "grid_template_columns": null,
            "grid_template_rows": null,
            "height": null,
            "justify_content": null,
            "justify_items": null,
            "left": null,
            "margin": null,
            "max_height": null,
            "max_width": null,
            "min_height": null,
            "min_width": null,
            "object_fit": null,
            "object_position": null,
            "order": null,
            "overflow": null,
            "overflow_x": null,
            "overflow_y": null,
            "padding": null,
            "right": null,
            "top": null,
            "visibility": null,
            "width": null
          }
        },
        "0f5de9f9345745469d3d73cf5a64e3ab": {
          "model_module": "@jupyter-widgets/controls",
          "model_name": "ProgressStyleModel",
          "model_module_version": "1.5.0",
          "state": {
            "_model_module": "@jupyter-widgets/controls",
            "_model_module_version": "1.5.0",
            "_model_name": "ProgressStyleModel",
            "_view_count": null,
            "_view_module": "@jupyter-widgets/base",
            "_view_module_version": "1.2.0",
            "_view_name": "StyleView",
            "bar_color": null,
            "description_width": ""
          }
        },
        "ca44e040af064d90a4e28e96ab67bbc8": {
          "model_module": "@jupyter-widgets/base",
          "model_name": "LayoutModel",
          "model_module_version": "1.2.0",
          "state": {
            "_model_module": "@jupyter-widgets/base",
            "_model_module_version": "1.2.0",
            "_model_name": "LayoutModel",
            "_view_count": null,
            "_view_module": "@jupyter-widgets/base",
            "_view_module_version": "1.2.0",
            "_view_name": "LayoutView",
            "align_content": null,
            "align_items": null,
            "align_self": null,
            "border": null,
            "bottom": null,
            "display": null,
            "flex": null,
            "flex_flow": null,
            "grid_area": null,
            "grid_auto_columns": null,
            "grid_auto_flow": null,
            "grid_auto_rows": null,
            "grid_column": null,
            "grid_gap": null,
            "grid_row": null,
            "grid_template_areas": null,
            "grid_template_columns": null,
            "grid_template_rows": null,
            "height": null,
            "justify_content": null,
            "justify_items": null,
            "left": null,
            "margin": null,
            "max_height": null,
            "max_width": null,
            "min_height": null,
            "min_width": null,
            "object_fit": null,
            "object_position": null,
            "order": null,
            "overflow": null,
            "overflow_x": null,
            "overflow_y": null,
            "padding": null,
            "right": null,
            "top": null,
            "visibility": null,
            "width": null
          }
        },
        "b8fbabc3ed4e4739bfae209dc705c85b": {
          "model_module": "@jupyter-widgets/controls",
          "model_name": "DescriptionStyleModel",
          "model_module_version": "1.5.0",
          "state": {
            "_model_module": "@jupyter-widgets/controls",
            "_model_module_version": "1.5.0",
            "_model_name": "DescriptionStyleModel",
            "_view_count": null,
            "_view_module": "@jupyter-widgets/base",
            "_view_module_version": "1.2.0",
            "_view_name": "StyleView",
            "description_width": ""
          }
        }
      }
    }
  },
  "cells": [
    {
      "cell_type": "markdown",
      "metadata": {
        "id": "view-in-github",
        "colab_type": "text"
      },
      "source": [
        "<a href=\"https://colab.research.google.com/github/fatemafaria142/Exploration-of-Different-Prompting-Techniques-for-Automatic-Realistic-Story-Generation/blob/main/story_generation_zero_shot_prompt_using_GPT2.ipynb\" target=\"_parent\"><img src=\"https://colab.research.google.com/assets/colab-badge.svg\" alt=\"Open In Colab\"/></a>"
      ]
    },
    {
      "cell_type": "code",
      "execution_count": 1,
      "metadata": {
        "id": "f6LzHgS_Fkh5"
      },
      "outputs": [],
      "source": [
        "import pandas as pd\n",
        "import numpy as np\n",
        "import os"
      ]
    },
    {
      "cell_type": "code",
      "source": [
        "!pip install datasets"
      ],
      "metadata": {
        "colab": {
          "base_uri": "https://localhost:8080/"
        },
        "id": "mNz5iKXhFug-",
        "outputId": "a33dbf4b-c05b-41e0-bb72-0bf1c8db9c58"
      },
      "execution_count": 2,
      "outputs": [
        {
          "output_type": "stream",
          "name": "stdout",
          "text": [
            "Collecting datasets\n",
            "  Downloading datasets-2.16.1-py3-none-any.whl (507 kB)\n",
            "\u001b[2K     \u001b[90m━━━━━━━━━━━━━━━━━━━━━━━━━━━━━━━━━━━━━━━━\u001b[0m \u001b[32m507.1/507.1 kB\u001b[0m \u001b[31m5.7 MB/s\u001b[0m eta \u001b[36m0:00:00\u001b[0m\n",
            "\u001b[?25hRequirement already satisfied: filelock in /usr/local/lib/python3.10/dist-packages (from datasets) (3.13.1)\n",
            "Requirement already satisfied: numpy>=1.17 in /usr/local/lib/python3.10/dist-packages (from datasets) (1.23.5)\n",
            "Requirement already satisfied: pyarrow>=8.0.0 in /usr/local/lib/python3.10/dist-packages (from datasets) (10.0.1)\n",
            "Requirement already satisfied: pyarrow-hotfix in /usr/local/lib/python3.10/dist-packages (from datasets) (0.6)\n",
            "Collecting dill<0.3.8,>=0.3.0 (from datasets)\n",
            "  Downloading dill-0.3.7-py3-none-any.whl (115 kB)\n",
            "\u001b[2K     \u001b[90m━━━━━━━━━━━━━━━━━━━━━━━━━━━━━━━━━━━━━━━━\u001b[0m \u001b[32m115.3/115.3 kB\u001b[0m \u001b[31m7.6 MB/s\u001b[0m eta \u001b[36m0:00:00\u001b[0m\n",
            "\u001b[?25hRequirement already satisfied: pandas in /usr/local/lib/python3.10/dist-packages (from datasets) (1.5.3)\n",
            "Requirement already satisfied: requests>=2.19.0 in /usr/local/lib/python3.10/dist-packages (from datasets) (2.31.0)\n",
            "Requirement already satisfied: tqdm>=4.62.1 in /usr/local/lib/python3.10/dist-packages (from datasets) (4.66.1)\n",
            "Requirement already satisfied: xxhash in /usr/local/lib/python3.10/dist-packages (from datasets) (3.4.1)\n",
            "Collecting multiprocess (from datasets)\n",
            "  Downloading multiprocess-0.70.15-py310-none-any.whl (134 kB)\n",
            "\u001b[2K     \u001b[90m━━━━━━━━━━━━━━━━━━━━━━━━━━━━━━━━━━━━━━━━\u001b[0m \u001b[32m134.8/134.8 kB\u001b[0m \u001b[31m9.1 MB/s\u001b[0m eta \u001b[36m0:00:00\u001b[0m\n",
            "\u001b[?25hRequirement already satisfied: fsspec[http]<=2023.10.0,>=2023.1.0 in /usr/local/lib/python3.10/dist-packages (from datasets) (2023.6.0)\n",
            "Requirement already satisfied: aiohttp in /usr/local/lib/python3.10/dist-packages (from datasets) (3.9.1)\n",
            "Requirement already satisfied: huggingface-hub>=0.19.4 in /usr/local/lib/python3.10/dist-packages (from datasets) (0.20.2)\n",
            "Requirement already satisfied: packaging in /usr/local/lib/python3.10/dist-packages (from datasets) (23.2)\n",
            "Requirement already satisfied: pyyaml>=5.1 in /usr/local/lib/python3.10/dist-packages (from datasets) (6.0.1)\n",
            "Requirement already satisfied: attrs>=17.3.0 in /usr/local/lib/python3.10/dist-packages (from aiohttp->datasets) (23.2.0)\n",
            "Requirement already satisfied: multidict<7.0,>=4.5 in /usr/local/lib/python3.10/dist-packages (from aiohttp->datasets) (6.0.4)\n",
            "Requirement already satisfied: yarl<2.0,>=1.0 in /usr/local/lib/python3.10/dist-packages (from aiohttp->datasets) (1.9.4)\n",
            "Requirement already satisfied: frozenlist>=1.1.1 in /usr/local/lib/python3.10/dist-packages (from aiohttp->datasets) (1.4.1)\n",
            "Requirement already satisfied: aiosignal>=1.1.2 in /usr/local/lib/python3.10/dist-packages (from aiohttp->datasets) (1.3.1)\n",
            "Requirement already satisfied: async-timeout<5.0,>=4.0 in /usr/local/lib/python3.10/dist-packages (from aiohttp->datasets) (4.0.3)\n",
            "Requirement already satisfied: typing-extensions>=3.7.4.3 in /usr/local/lib/python3.10/dist-packages (from huggingface-hub>=0.19.4->datasets) (4.5.0)\n",
            "Requirement already satisfied: charset-normalizer<4,>=2 in /usr/local/lib/python3.10/dist-packages (from requests>=2.19.0->datasets) (3.3.2)\n",
            "Requirement already satisfied: idna<4,>=2.5 in /usr/local/lib/python3.10/dist-packages (from requests>=2.19.0->datasets) (3.6)\n",
            "Requirement already satisfied: urllib3<3,>=1.21.1 in /usr/local/lib/python3.10/dist-packages (from requests>=2.19.0->datasets) (2.0.7)\n",
            "Requirement already satisfied: certifi>=2017.4.17 in /usr/local/lib/python3.10/dist-packages (from requests>=2.19.0->datasets) (2023.11.17)\n",
            "Requirement already satisfied: python-dateutil>=2.8.1 in /usr/local/lib/python3.10/dist-packages (from pandas->datasets) (2.8.2)\n",
            "Requirement already satisfied: pytz>=2020.1 in /usr/local/lib/python3.10/dist-packages (from pandas->datasets) (2023.3.post1)\n",
            "Requirement already satisfied: six>=1.5 in /usr/local/lib/python3.10/dist-packages (from python-dateutil>=2.8.1->pandas->datasets) (1.16.0)\n",
            "Installing collected packages: dill, multiprocess, datasets\n",
            "Successfully installed datasets-2.16.1 dill-0.3.7 multiprocess-0.70.15\n"
          ]
        }
      ]
    },
    {
      "cell_type": "code",
      "source": [
        "!pip install --upgrade transformers"
      ],
      "metadata": {
        "colab": {
          "base_uri": "https://localhost:8080/"
        },
        "id": "ENBd58R5Ft_d",
        "outputId": "03d40d8a-1c4b-432d-ccef-cd5502352310"
      },
      "execution_count": 3,
      "outputs": [
        {
          "output_type": "stream",
          "name": "stdout",
          "text": [
            "Requirement already satisfied: transformers in /usr/local/lib/python3.10/dist-packages (4.35.2)\n",
            "Collecting transformers\n",
            "  Downloading transformers-4.36.2-py3-none-any.whl (8.2 MB)\n",
            "\u001b[2K     \u001b[90m━━━━━━━━━━━━━━━━━━━━━━━━━━━━━━━━━━━━━━━━\u001b[0m \u001b[32m8.2/8.2 MB\u001b[0m \u001b[31m24.3 MB/s\u001b[0m eta \u001b[36m0:00:00\u001b[0m\n",
            "\u001b[?25hRequirement already satisfied: filelock in /usr/local/lib/python3.10/dist-packages (from transformers) (3.13.1)\n",
            "Requirement already satisfied: huggingface-hub<1.0,>=0.19.3 in /usr/local/lib/python3.10/dist-packages (from transformers) (0.20.2)\n",
            "Requirement already satisfied: numpy>=1.17 in /usr/local/lib/python3.10/dist-packages (from transformers) (1.23.5)\n",
            "Requirement already satisfied: packaging>=20.0 in /usr/local/lib/python3.10/dist-packages (from transformers) (23.2)\n",
            "Requirement already satisfied: pyyaml>=5.1 in /usr/local/lib/python3.10/dist-packages (from transformers) (6.0.1)\n",
            "Requirement already satisfied: regex!=2019.12.17 in /usr/local/lib/python3.10/dist-packages (from transformers) (2023.6.3)\n",
            "Requirement already satisfied: requests in /usr/local/lib/python3.10/dist-packages (from transformers) (2.31.0)\n",
            "Requirement already satisfied: tokenizers<0.19,>=0.14 in /usr/local/lib/python3.10/dist-packages (from transformers) (0.15.0)\n",
            "Requirement already satisfied: safetensors>=0.3.1 in /usr/local/lib/python3.10/dist-packages (from transformers) (0.4.1)\n",
            "Requirement already satisfied: tqdm>=4.27 in /usr/local/lib/python3.10/dist-packages (from transformers) (4.66.1)\n",
            "Requirement already satisfied: fsspec>=2023.5.0 in /usr/local/lib/python3.10/dist-packages (from huggingface-hub<1.0,>=0.19.3->transformers) (2023.6.0)\n",
            "Requirement already satisfied: typing-extensions>=3.7.4.3 in /usr/local/lib/python3.10/dist-packages (from huggingface-hub<1.0,>=0.19.3->transformers) (4.5.0)\n",
            "Requirement already satisfied: charset-normalizer<4,>=2 in /usr/local/lib/python3.10/dist-packages (from requests->transformers) (3.3.2)\n",
            "Requirement already satisfied: idna<4,>=2.5 in /usr/local/lib/python3.10/dist-packages (from requests->transformers) (3.6)\n",
            "Requirement already satisfied: urllib3<3,>=1.21.1 in /usr/local/lib/python3.10/dist-packages (from requests->transformers) (2.0.7)\n",
            "Requirement already satisfied: certifi>=2017.4.17 in /usr/local/lib/python3.10/dist-packages (from requests->transformers) (2023.11.17)\n",
            "Installing collected packages: transformers\n",
            "  Attempting uninstall: transformers\n",
            "    Found existing installation: transformers 4.35.2\n",
            "    Uninstalling transformers-4.35.2:\n",
            "      Successfully uninstalled transformers-4.35.2\n",
            "Successfully installed transformers-4.36.2\n"
          ]
        }
      ]
    },
    {
      "cell_type": "code",
      "source": [
        "!pip install transformers[torch]"
      ],
      "metadata": {
        "colab": {
          "base_uri": "https://localhost:8080/"
        },
        "id": "gXFW8F5HFuEs",
        "outputId": "5c907445-b2f0-408c-9fe7-d26a6f521301"
      },
      "execution_count": 4,
      "outputs": [
        {
          "output_type": "stream",
          "name": "stdout",
          "text": [
            "Requirement already satisfied: transformers[torch] in /usr/local/lib/python3.10/dist-packages (4.36.2)\n",
            "Requirement already satisfied: filelock in /usr/local/lib/python3.10/dist-packages (from transformers[torch]) (3.13.1)\n",
            "Requirement already satisfied: huggingface-hub<1.0,>=0.19.3 in /usr/local/lib/python3.10/dist-packages (from transformers[torch]) (0.20.2)\n",
            "Requirement already satisfied: numpy>=1.17 in /usr/local/lib/python3.10/dist-packages (from transformers[torch]) (1.23.5)\n",
            "Requirement already satisfied: packaging>=20.0 in /usr/local/lib/python3.10/dist-packages (from transformers[torch]) (23.2)\n",
            "Requirement already satisfied: pyyaml>=5.1 in /usr/local/lib/python3.10/dist-packages (from transformers[torch]) (6.0.1)\n",
            "Requirement already satisfied: regex!=2019.12.17 in /usr/local/lib/python3.10/dist-packages (from transformers[torch]) (2023.6.3)\n",
            "Requirement already satisfied: requests in /usr/local/lib/python3.10/dist-packages (from transformers[torch]) (2.31.0)\n",
            "Requirement already satisfied: tokenizers<0.19,>=0.14 in /usr/local/lib/python3.10/dist-packages (from transformers[torch]) (0.15.0)\n",
            "Requirement already satisfied: safetensors>=0.3.1 in /usr/local/lib/python3.10/dist-packages (from transformers[torch]) (0.4.1)\n",
            "Requirement already satisfied: tqdm>=4.27 in /usr/local/lib/python3.10/dist-packages (from transformers[torch]) (4.66.1)\n",
            "Requirement already satisfied: torch!=1.12.0,>=1.10 in /usr/local/lib/python3.10/dist-packages (from transformers[torch]) (2.1.0+cu121)\n",
            "Collecting accelerate>=0.21.0 (from transformers[torch])\n",
            "  Downloading accelerate-0.26.0-py3-none-any.whl (270 kB)\n",
            "\u001b[2K     \u001b[90m━━━━━━━━━━━━━━━━━━━━━━━━━━━━━━━━━━━━━━━━\u001b[0m \u001b[32m270.7/270.7 kB\u001b[0m \u001b[31m4.9 MB/s\u001b[0m eta \u001b[36m0:00:00\u001b[0m\n",
            "\u001b[?25hRequirement already satisfied: psutil in /usr/local/lib/python3.10/dist-packages (from accelerate>=0.21.0->transformers[torch]) (5.9.5)\n",
            "Requirement already satisfied: fsspec>=2023.5.0 in /usr/local/lib/python3.10/dist-packages (from huggingface-hub<1.0,>=0.19.3->transformers[torch]) (2023.6.0)\n",
            "Requirement already satisfied: typing-extensions>=3.7.4.3 in /usr/local/lib/python3.10/dist-packages (from huggingface-hub<1.0,>=0.19.3->transformers[torch]) (4.5.0)\n",
            "Requirement already satisfied: sympy in /usr/local/lib/python3.10/dist-packages (from torch!=1.12.0,>=1.10->transformers[torch]) (1.12)\n",
            "Requirement already satisfied: networkx in /usr/local/lib/python3.10/dist-packages (from torch!=1.12.0,>=1.10->transformers[torch]) (3.2.1)\n",
            "Requirement already satisfied: jinja2 in /usr/local/lib/python3.10/dist-packages (from torch!=1.12.0,>=1.10->transformers[torch]) (3.1.2)\n",
            "Requirement already satisfied: triton==2.1.0 in /usr/local/lib/python3.10/dist-packages (from torch!=1.12.0,>=1.10->transformers[torch]) (2.1.0)\n",
            "Requirement already satisfied: charset-normalizer<4,>=2 in /usr/local/lib/python3.10/dist-packages (from requests->transformers[torch]) (3.3.2)\n",
            "Requirement already satisfied: idna<4,>=2.5 in /usr/local/lib/python3.10/dist-packages (from requests->transformers[torch]) (3.6)\n",
            "Requirement already satisfied: urllib3<3,>=1.21.1 in /usr/local/lib/python3.10/dist-packages (from requests->transformers[torch]) (2.0.7)\n",
            "Requirement already satisfied: certifi>=2017.4.17 in /usr/local/lib/python3.10/dist-packages (from requests->transformers[torch]) (2023.11.17)\n",
            "Requirement already satisfied: MarkupSafe>=2.0 in /usr/local/lib/python3.10/dist-packages (from jinja2->torch!=1.12.0,>=1.10->transformers[torch]) (2.1.3)\n",
            "Requirement already satisfied: mpmath>=0.19 in /usr/local/lib/python3.10/dist-packages (from sympy->torch!=1.12.0,>=1.10->transformers[torch]) (1.3.0)\n",
            "Installing collected packages: accelerate\n",
            "Successfully installed accelerate-0.26.0\n"
          ]
        }
      ]
    },
    {
      "cell_type": "code",
      "source": [
        "!pip install accelerate -U"
      ],
      "metadata": {
        "colab": {
          "base_uri": "https://localhost:8080/"
        },
        "id": "HZyi2-_mFuJs",
        "outputId": "bc97cc7a-f8ce-40cb-e045-0aeb2ba8e93a"
      },
      "execution_count": 5,
      "outputs": [
        {
          "output_type": "stream",
          "name": "stdout",
          "text": [
            "Requirement already satisfied: accelerate in /usr/local/lib/python3.10/dist-packages (0.26.0)\n",
            "Requirement already satisfied: numpy>=1.17 in /usr/local/lib/python3.10/dist-packages (from accelerate) (1.23.5)\n",
            "Requirement already satisfied: packaging>=20.0 in /usr/local/lib/python3.10/dist-packages (from accelerate) (23.2)\n",
            "Requirement already satisfied: psutil in /usr/local/lib/python3.10/dist-packages (from accelerate) (5.9.5)\n",
            "Requirement already satisfied: pyyaml in /usr/local/lib/python3.10/dist-packages (from accelerate) (6.0.1)\n",
            "Requirement already satisfied: torch>=1.10.0 in /usr/local/lib/python3.10/dist-packages (from accelerate) (2.1.0+cu121)\n",
            "Requirement already satisfied: huggingface-hub in /usr/local/lib/python3.10/dist-packages (from accelerate) (0.20.2)\n",
            "Requirement already satisfied: safetensors>=0.3.1 in /usr/local/lib/python3.10/dist-packages (from accelerate) (0.4.1)\n",
            "Requirement already satisfied: filelock in /usr/local/lib/python3.10/dist-packages (from torch>=1.10.0->accelerate) (3.13.1)\n",
            "Requirement already satisfied: typing-extensions in /usr/local/lib/python3.10/dist-packages (from torch>=1.10.0->accelerate) (4.5.0)\n",
            "Requirement already satisfied: sympy in /usr/local/lib/python3.10/dist-packages (from torch>=1.10.0->accelerate) (1.12)\n",
            "Requirement already satisfied: networkx in /usr/local/lib/python3.10/dist-packages (from torch>=1.10.0->accelerate) (3.2.1)\n",
            "Requirement already satisfied: jinja2 in /usr/local/lib/python3.10/dist-packages (from torch>=1.10.0->accelerate) (3.1.2)\n",
            "Requirement already satisfied: fsspec in /usr/local/lib/python3.10/dist-packages (from torch>=1.10.0->accelerate) (2023.6.0)\n",
            "Requirement already satisfied: triton==2.1.0 in /usr/local/lib/python3.10/dist-packages (from torch>=1.10.0->accelerate) (2.1.0)\n",
            "Requirement already satisfied: requests in /usr/local/lib/python3.10/dist-packages (from huggingface-hub->accelerate) (2.31.0)\n",
            "Requirement already satisfied: tqdm>=4.42.1 in /usr/local/lib/python3.10/dist-packages (from huggingface-hub->accelerate) (4.66.1)\n",
            "Requirement already satisfied: MarkupSafe>=2.0 in /usr/local/lib/python3.10/dist-packages (from jinja2->torch>=1.10.0->accelerate) (2.1.3)\n",
            "Requirement already satisfied: charset-normalizer<4,>=2 in /usr/local/lib/python3.10/dist-packages (from requests->huggingface-hub->accelerate) (3.3.2)\n",
            "Requirement already satisfied: idna<4,>=2.5 in /usr/local/lib/python3.10/dist-packages (from requests->huggingface-hub->accelerate) (3.6)\n",
            "Requirement already satisfied: urllib3<3,>=1.21.1 in /usr/local/lib/python3.10/dist-packages (from requests->huggingface-hub->accelerate) (2.0.7)\n",
            "Requirement already satisfied: certifi>=2017.4.17 in /usr/local/lib/python3.10/dist-packages (from requests->huggingface-hub->accelerate) (2023.11.17)\n",
            "Requirement already satisfied: mpmath>=0.19 in /usr/local/lib/python3.10/dist-packages (from sympy->torch>=1.10.0->accelerate) (1.3.0)\n"
          ]
        }
      ]
    },
    {
      "cell_type": "markdown",
      "source": [
        "# **Dataset Link:** https://huggingface.co/datasets/AtlasUnified/atlas-storyteller?row=42"
      ],
      "metadata": {
        "id": "hka_zLJTff6t"
      }
    },
    {
      "cell_type": "code",
      "source": [
        "from datasets import load_dataset\n",
        "\n",
        "dataset = load_dataset(\"AtlasUnified/atlas-storyteller\")"
      ],
      "metadata": {
        "colab": {
          "base_uri": "https://localhost:8080/",
          "height": 205,
          "referenced_widgets": [
            "a994d0eeee4d41e299c51f65e5212283",
            "520ad9b798b2443b87a813caf3d46f30",
            "f269c6dce7604baa8978a5fdc7d1f569",
            "d84c78312e684d66b570b4e763c9a18f",
            "9a7d0de226084234ad1d8e35298a63a3",
            "6cd628b5bfaf4138959d6f0dc0fa297b",
            "724b6097c04148f7852fa9d59d60af99",
            "6b117137940342f7832575dd5b0028ae",
            "a0c1036c964540e2818f31da1608cd84",
            "a1e7882e1a6c47839664267246047826",
            "87413f17babf4d7ab6058f512b5a0959",
            "454729abdf204d22b1914983b7f6cdea",
            "d8ae9c4516b641b3ad54ca5b40c40491",
            "b725da6e1dcb49cea0b9380067660209",
            "06e74179b2984f3cae9ebb2632f7cea4",
            "82bbb70d66eb44448f1c8e00ce0d47ae",
            "db0cb6ffcbaf41508b478c8c698970b0",
            "af28adc69a064d5e8c91d0a3fc70a5fe",
            "201aca6000d64ce3b84506caf57afb4e",
            "0191ee9a75e14e4caba3cb7f84e02585",
            "80eaf84d245f42cc9f0b3ca8ad02d7dd",
            "5952f963d51d488f8fcd18863a949b6c"
          ]
        },
        "id": "5FVft-5zF_f0",
        "outputId": "d9f52949-a51c-4f63-803d-628e3fab794b"
      },
      "execution_count": 6,
      "outputs": [
        {
          "output_type": "stream",
          "name": "stderr",
          "text": [
            "/usr/local/lib/python3.10/dist-packages/huggingface_hub/utils/_token.py:88: UserWarning: \n",
            "The secret `HF_TOKEN` does not exist in your Colab secrets.\n",
            "To authenticate with the Hugging Face Hub, create a token in your settings tab (https://huggingface.co/settings/tokens), set it as secret in your Google Colab and restart your session.\n",
            "You will be able to reuse this secret in all of your notebooks.\n",
            "Please note that authentication is recommended but still optional to access public models or datasets.\n",
            "  warnings.warn(\n"
          ]
        },
        {
          "output_type": "display_data",
          "data": {
            "text/plain": [
              "Downloading data:   0%|          | 0.00/21.2M [00:00<?, ?B/s]"
            ],
            "application/vnd.jupyter.widget-view+json": {
              "version_major": 2,
              "version_minor": 0,
              "model_id": "a994d0eeee4d41e299c51f65e5212283"
            }
          },
          "metadata": {}
        },
        {
          "output_type": "display_data",
          "data": {
            "text/plain": [
              "Generating train split: 0 examples [00:00, ? examples/s]"
            ],
            "application/vnd.jupyter.widget-view+json": {
              "version_major": 2,
              "version_minor": 0,
              "model_id": "454729abdf204d22b1914983b7f6cdea"
            }
          },
          "metadata": {}
        }
      ]
    },
    {
      "cell_type": "code",
      "source": [
        "print(dataset)"
      ],
      "metadata": {
        "colab": {
          "base_uri": "https://localhost:8080/"
        },
        "id": "5fpMKflMF_i1",
        "outputId": "2b932ab7-7093-434e-f977-daff2b1954b6"
      },
      "execution_count": 7,
      "outputs": [
        {
          "output_type": "stream",
          "name": "stdout",
          "text": [
            "DatasetDict({\n",
            "    train: Dataset({\n",
            "        features: ['id', 'Story'],\n",
            "        num_rows: 5018\n",
            "    })\n",
            "})\n"
          ]
        }
      ]
    },
    {
      "cell_type": "code",
      "source": [
        "from google.colab import drive\n",
        "drive.mount('/content/drive')"
      ],
      "metadata": {
        "colab": {
          "base_uri": "https://localhost:8080/"
        },
        "id": "nFm7F9YMGFe-",
        "outputId": "ff49fa66-69f0-4bd0-ed87-6b51156f8234"
      },
      "execution_count": 8,
      "outputs": [
        {
          "output_type": "stream",
          "name": "stdout",
          "text": [
            "Mounted at /content/drive\n"
          ]
        }
      ]
    },
    {
      "cell_type": "markdown",
      "source": [
        "# **Get the first 5000 data points**"
      ],
      "metadata": {
        "id": "m2wHOnhdfs_h"
      }
    },
    {
      "cell_type": "code",
      "source": [
        "# Get the first 5000 data points\n",
        "num_samples_to_display = 5000\n",
        "subset_dataset = dataset['train'].select(range(num_samples_to_display))\n",
        "\n",
        "# Display information for 3 data points from the subset\n",
        "num_samples_to_show = 3\n",
        "for i in range(num_samples_to_show):\n",
        "    data = subset_dataset[i]\n",
        "    print(f\"Data Point {i + 1}:\")\n",
        "    print(\"ID:\", data['id'])\n",
        "    print(\"Input:\", data['Story'])\n",
        "    print(\"\\n-----------------------------\\n\")"
      ],
      "metadata": {
        "colab": {
          "base_uri": "https://localhost:8080/"
        },
        "id": "m5omug3zGRnd",
        "outputId": "c3e0e88a-fb5d-4fb3-9afe-cf6629b5df46"
      },
      "execution_count": 10,
      "outputs": [
        {
          "output_type": "stream",
          "name": "stdout",
          "text": [
            "Data Point 1:\n",
            "ID: seed_task_0\n",
            "Input: In the bustling city of New York, where the neon lights flickered and the sound of traffic reverberated through the streets, lived a man named Ethan Sullivan. With his chiseled jawline, piercing blue eyes, and a physique carved by years of training, Ethan possessed an air of mystery that intrigued those who crossed his path. He lived a solitary life in a modest apartment, spending his days as an accountant, his nights cloaked in shadows and secrecy.  One fateful morning, as the city awoke to the rhythmic beat of its own heartbeat, Ethan received a cryptic message on a burner phone. It simply stated, \"They're coming for you.\" His heart quickened, and a wave of apprehension washed over him. Who were \"they,\" and why were they after him? Ethan's blood ran cold, fueling a surge of adrenaline that urged him to take action.  Without a moment's hesitation, Ethan gathered his meager belongings and made his way to a hidden room beneath his apartment. The room, concealed behind a bookshelf, was a secret sanctuary where he had spent countless hours honing his skills and preparing for the unknown. As he descended the narrow staircase, the walls whispered tales of peril and resilience, fueling his determination.  Days turned into nights, and the hunt for Ethan intensified. He navigated the city's labyrinthine underworld, seeking answers to the questions that shadowed his every step. His pursuit brought him face to face with a network of spies, double agents, and dangerous mercenaries, all entangled in a web of deception. Ethan's resilience was pushed to its limits as he evaded their clutches, relying on his training and instincts to outwit his adversaries.  Amidst the chaos, Ethan discovered a hidden connection between himself and the mysterious organization that sought his demise. Unbeknownst to him, he possessed an uncanny ability to unlock long-dormant memories, memories that held the key to an ancient artifact rumored to possess unimaginable power. This revelation marked a turning point in his quest, as he realized that his actions were not only a matter of personal survival but threatened the delicate balance of the entire world.  With newfound purpose, Ethan embarked on a perilous journey across continents, battling foes and confronting the ghosts of his past. He delved into ancient texts, deciphering cryptic symbols and untangling riddles that led him closer to the artifact's secret location. The world around him trembled, unaware of the cataclysmic power that awaited should the artifact fall into the wrong hands.  In the heart of the Amazon rainforest, amidst lush foliage and echoing wildlife, Ethan reached the sacred temple where the artifact lay hidden. The air crackled with anticipation as he overcame treacherous trials, testing both his physical and mental prowess. With each obstacle conquered, his purpose grew clearer, his resolve unyielding.  Finally, standing on the precipice of destiny, Ethan found himself face to face with his nemesis, the orchestrator of his torment. A battle of wills ensued, each combatant matching the other blow for blow, weaving a deadly dance of strength and strategy. It was a battle that transcended the physical, a clash between opposing ideologies.  In the end, it was Ethan's unwavering determination that prevailed. With a final, decisive strike, he thwarted his enemy's plans and secured the artifact, safeguarding the world from its malevolence. The weight of his actions settled upon him, and as he gazed upon the artifact, he understood the responsibility that came with its power.  With the threat vanquished and the world saved, Ethan's journey drew to a close. He returned to his solitary life in New York, no longer haunted by the phantom of impending danger. Yet, his actions had left an indelible mark upon his soul, a reminder that even in the face of insurmountable odds, one individual could make a difference. And with that knowledge, Ethan Sullivan embraced the path that lay ahead of him, ready to face whatever challenges may come his way.\n",
            "\n",
            "-----------------------------\n",
            "\n",
            "Data Point 2:\n",
            "ID: seed_task_1\n",
            "Input: The sky stretched out before them, an endless expanse of blue pierced only by fluffy white clouds. The air crackled with the anticipation of action as the squadron gathered at the airfield, their sleek fighter jets gleaming under the noon sun. Among the pilots was Captain Joshua Bennett, a seasoned veteran with eyes as sharp as a hawk's, and a heart that beat with the rhythm of war.  Set in the midst of a raging conflict, the story takes place during the height of World War II. Captain Bennett, a fearless and daring leader, had earned his reputation through countless successful missions. He was known for his audacious maneuvers and masterful control of aircraft, traits that instilled confidence in every member of his squadron.  Their current mission was crucial - they were tasked with intercepting and neutralizing a squadron of enemy bombers bound for a nearby heavily fortified city. The stakes were high; failure meant devastation for countless lives on the ground. But failure was not an option for Captain Bennett and his men.  As they climbed into their cockpits, each pilot embraced the danger that lay ahead. The roar of engines filled the air, drowning out all other sounds. The planes taxied onto the runway, lined up with military precision. The countdown began, the moment drawing closer with each passing second.  With a thunderous roar, the planes rocketed into the clear blue sky. Wings unfolded, propellers spun, and the pilots adjusted their throttles to find the perfect balance of speed and maneuverability. The rush of wind whipped their faces as they gained altitude, soaring towards their destiny.  As they closed in on the enemy formation, the first hints of adrenaline coursed through their veins. The lead bomber came into view, its gray monstrosity blotting out the sun. It was a formidable target, bristling with defensive guns and encased in heavy armor.  Captain Bennett's voice broke through the radio static, calm yet tinged with intensity. \"Stick to the plan, gentlemen. Stay in formation, and watch each other's backs.\" The squadron spread their wings and formed a protective wall around their leader. It was time to engage.  In a dazzling display of aerial acrobatics and precision, the dogfight began. Fighter jets darted and weaved through the air, leaving white contrails in their wake. The deafening roar of engines mingled with the staccato bursts of gunfire. Maneuvers honed through countless hours of training were put to the test as the pilots pushed themselves to the limits.  Enemy tracers wove through the sky like deadly ribbons, threatening to tear the squadron apart. Captain Bennett's instincts kicked in, his eyes scanning the chaotic battlefield, searching for weak points. He made split-second decisions, radioing commands to his men as they fought tooth and nail against their adversaries.  Bullets grazed wings, but the pilots pressed on, clinging to that indomitable spirit of victory. They danced with death, their every move calculated and executed with utmost precision. Captain Bennett, like a maestro directing an orchestra, orchestrated the deadly symphony of war, leading his men with unwavering determination.  As the fight raged on, the squadron's efforts began to bear fruit. One enemy bomber after another plummeted from the sky, engulfed in billowing flames. The sky turned into a kaleidoscope of smoke and fire, a testament to their courage and skill. The tide began to turn, the remaining enemy formations faltering under the relentless onslaught.  And then, silence fell upon the battlefield. The enemy bombers lay shattered and defeated, scattered like forlorn chess pieces across the sky. The squadron, weary yet triumphant, regrouped in a display of unity and solidarity.  Captain Bennett's voice broke through the radio once again, this time filled with pride. \"Well done, gentlemen. Another victory for the history books.\" The cheers of his comrades echoed in the air, mingling with the sea breeze.  As the planes headed back to base, engines humming in synchrony, the captain couldn't help but smile. They had prevailed against all odds, proving their mettle in the crucible of combat. He knew that their actions had made a difference, had saved lives, and kept hope alive in the hearts of those on the ground.  Their legacy as warriors in the skies would forever be remembered, etched in the annals of history. And Captain Joshua Bennett, the fearless leader who led his squadron with unwavering resolve, would forever be hailed as a hero, a beacon of courage in the darkest of times.\n",
            "\n",
            "-----------------------------\n",
            "\n",
            "Data Point 3:\n",
            "ID: seed_task_2\n",
            "Input: In the midst of a bustling metropolis teeming with skyscrapers that seemingly touched the heavens, nestled a small and unassuming garage. It belonged to Ethan, a young and brilliant engineer consumed by his insatiable thirst for innovation and adventure. With grease-stained hands and a mind full of ideas, he spent every waking hour tinkering and crafting marvelous inventions that could turn dreams into reality.  One fateful afternoon, while rummaging through a box filled with ancient blueprints, Ethan stumbled upon a peculiar schematic. It depicted a colossal machine, a menacing giant robot with gleaming steel limbs and an aura of unstoppable power. Intrigued and fascinated, he couldn't resist the temptation to bring this mechanical behemoth to life.  Days turned into weeks, and nights melted away as Ethan toiled tirelessly in his secluded workshop, pouring every ounce of his skill and determination into the construction of his masterpiece. Finally, after countless sleepless nights, his creation stood before him in all its majestic glory - a formidable mech equipped with an array of devastating weapons, ready to challenge any foe that dared face it.  News of Ethan's extraordinary creation spread like wildfire across the city, catching the attention of a notorious and power-hungry conglomerate known as IronCorp Industries. Their enigmatic leader, Raymond Blackwood, was a zealous man who sought to dominate the world using an army of unstoppable robots. Enraged by the presence of a potential rival, Blackwood devised a sinister plan to steal Ethan's invention, ensuring his own hegemony remained unchallenged.  As dusk settled over the city, Ethan climbed into the cockpit of his mighty mech, aptly named \"Ironfire,\" and prepared for battle. He had heard whispers of IronCorp's plans and knew that he must act swiftly to protect his creation, and by extension, the very heart of innovation itself.  Engulfed in the shadows, Ethan set out on a perilous journey through the dimly lit streets, radar systems humming softly as he tracked the movements of IronCorp's relentless forces. Every corner of the city seemed to pulsate with danger, each alleyway hiding a potential ambush. But Ethan's resolve burned bright, and with every step, his heart raced with a mix of anticipation and desperation.  Finally, deep within the heart of an abandoned factory, a cacophony of metallic growls echoed ominously. Ironfire stepped forward, ready to face an army of imposing IronCorp robots driven by malice and greed. As the battle raged on, Ethan's instincts and intimate knowledge of his creation guided him. He evaded crushing blows and countered with devastating precision, each strike in perfect harmony with the symphony of danger that surrounded him.  In a climactic clash of metal and might, Ironfire unleashed a powerful surge of energy that coursed through the remnants of IronCorp's defeated robots. Sparks danced and smoke filled the air, the battle leaving nothing but a wake of debris in its path. Ethan stood triumphant, having defended his creation and regained his vision of a world where innovation thrived untethered.  Word of Ethan's heroic victory spread throughout the city, and he became a legend, a symbol of defiance against corporate tyranny. IronCorp, left in shambles, retreated into the shadows, their dreams of domination shattered. From that day forward, the city monumentally shifted, embracing a new era where aspiring inventors and unyielding dreamers were celebrated and cherished.  As the sun set on the horizon, bathing the city in hues of crimson and gold, Ethan surveyed the landscape that had once been plagued by darkness. A smile graced his lips, knowing that he had played a pivotal role in defending the very essence of action and innovation against overwhelming odds. And with newfound hope in his heart, he embarked on a journey to inspire a generation and forge a future where dreams knew no boundaries.\n",
            "\n",
            "-----------------------------\n",
            "\n"
          ]
        }
      ]
    },
    {
      "cell_type": "markdown",
      "source": [
        "# **Zero-Shot Story Generation Prompt**"
      ],
      "metadata": {
        "id": "4T31f3CMfuzc"
      }
    },
    {
      "cell_type": "code",
      "source": [
        "def get_zero_shot_prompt(x):\n",
        "    result = f\"### Instruction:\\nGenerate a story based on the following prompt:\\n\\n{x['Story']}\"\n",
        "    return result"
      ],
      "metadata": {
        "id": "5gC0JXSyHaVZ"
      },
      "execution_count": 13,
      "outputs": []
    },
    {
      "cell_type": "markdown",
      "source": [
        "# **Display prompts for the first 5 data points**"
      ],
      "metadata": {
        "id": "570EBoeugECb"
      }
    },
    {
      "cell_type": "code",
      "source": [
        "# Generate prompts for each data point in the subset dataset\n",
        "prompts = []\n",
        "for i in range(num_samples_to_display):\n",
        "    data = subset_dataset[i]\n",
        "    prompt = get_zero_shot_prompt(data)\n",
        "    prompts.append(prompt)\n",
        "\n",
        "# Display the generated prompts or use them as needed\n",
        "for idx, prompt in enumerate(prompts[:5]):  # Display prompts for the first 5 data points\n",
        "    print(f\"Prompt for Data Point {idx + 1}:\")\n",
        "    print(prompt)\n",
        "    print(\"\\n-----------------------------\\n\")\n"
      ],
      "metadata": {
        "colab": {
          "base_uri": "https://localhost:8080/"
        },
        "id": "8deQRMNlJcAg",
        "outputId": "82af26ec-6e95-49ee-984f-d5cf4a2b2170"
      },
      "execution_count": 14,
      "outputs": [
        {
          "output_type": "stream",
          "name": "stdout",
          "text": [
            "Prompt for Data Point 1:\n",
            "### Instruction:\n",
            "Generate a story based on the following prompt:\n",
            "\n",
            "In the bustling city of New York, where the neon lights flickered and the sound of traffic reverberated through the streets, lived a man named Ethan Sullivan. With his chiseled jawline, piercing blue eyes, and a physique carved by years of training, Ethan possessed an air of mystery that intrigued those who crossed his path. He lived a solitary life in a modest apartment, spending his days as an accountant, his nights cloaked in shadows and secrecy.  One fateful morning, as the city awoke to the rhythmic beat of its own heartbeat, Ethan received a cryptic message on a burner phone. It simply stated, \"They're coming for you.\" His heart quickened, and a wave of apprehension washed over him. Who were \"they,\" and why were they after him? Ethan's blood ran cold, fueling a surge of adrenaline that urged him to take action.  Without a moment's hesitation, Ethan gathered his meager belongings and made his way to a hidden room beneath his apartment. The room, concealed behind a bookshelf, was a secret sanctuary where he had spent countless hours honing his skills and preparing for the unknown. As he descended the narrow staircase, the walls whispered tales of peril and resilience, fueling his determination.  Days turned into nights, and the hunt for Ethan intensified. He navigated the city's labyrinthine underworld, seeking answers to the questions that shadowed his every step. His pursuit brought him face to face with a network of spies, double agents, and dangerous mercenaries, all entangled in a web of deception. Ethan's resilience was pushed to its limits as he evaded their clutches, relying on his training and instincts to outwit his adversaries.  Amidst the chaos, Ethan discovered a hidden connection between himself and the mysterious organization that sought his demise. Unbeknownst to him, he possessed an uncanny ability to unlock long-dormant memories, memories that held the key to an ancient artifact rumored to possess unimaginable power. This revelation marked a turning point in his quest, as he realized that his actions were not only a matter of personal survival but threatened the delicate balance of the entire world.  With newfound purpose, Ethan embarked on a perilous journey across continents, battling foes and confronting the ghosts of his past. He delved into ancient texts, deciphering cryptic symbols and untangling riddles that led him closer to the artifact's secret location. The world around him trembled, unaware of the cataclysmic power that awaited should the artifact fall into the wrong hands.  In the heart of the Amazon rainforest, amidst lush foliage and echoing wildlife, Ethan reached the sacred temple where the artifact lay hidden. The air crackled with anticipation as he overcame treacherous trials, testing both his physical and mental prowess. With each obstacle conquered, his purpose grew clearer, his resolve unyielding.  Finally, standing on the precipice of destiny, Ethan found himself face to face with his nemesis, the orchestrator of his torment. A battle of wills ensued, each combatant matching the other blow for blow, weaving a deadly dance of strength and strategy. It was a battle that transcended the physical, a clash between opposing ideologies.  In the end, it was Ethan's unwavering determination that prevailed. With a final, decisive strike, he thwarted his enemy's plans and secured the artifact, safeguarding the world from its malevolence. The weight of his actions settled upon him, and as he gazed upon the artifact, he understood the responsibility that came with its power.  With the threat vanquished and the world saved, Ethan's journey drew to a close. He returned to his solitary life in New York, no longer haunted by the phantom of impending danger. Yet, his actions had left an indelible mark upon his soul, a reminder that even in the face of insurmountable odds, one individual could make a difference. And with that knowledge, Ethan Sullivan embraced the path that lay ahead of him, ready to face whatever challenges may come his way.\n",
            "\n",
            "-----------------------------\n",
            "\n",
            "Prompt for Data Point 2:\n",
            "### Instruction:\n",
            "Generate a story based on the following prompt:\n",
            "\n",
            "The sky stretched out before them, an endless expanse of blue pierced only by fluffy white clouds. The air crackled with the anticipation of action as the squadron gathered at the airfield, their sleek fighter jets gleaming under the noon sun. Among the pilots was Captain Joshua Bennett, a seasoned veteran with eyes as sharp as a hawk's, and a heart that beat with the rhythm of war.  Set in the midst of a raging conflict, the story takes place during the height of World War II. Captain Bennett, a fearless and daring leader, had earned his reputation through countless successful missions. He was known for his audacious maneuvers and masterful control of aircraft, traits that instilled confidence in every member of his squadron.  Their current mission was crucial - they were tasked with intercepting and neutralizing a squadron of enemy bombers bound for a nearby heavily fortified city. The stakes were high; failure meant devastation for countless lives on the ground. But failure was not an option for Captain Bennett and his men.  As they climbed into their cockpits, each pilot embraced the danger that lay ahead. The roar of engines filled the air, drowning out all other sounds. The planes taxied onto the runway, lined up with military precision. The countdown began, the moment drawing closer with each passing second.  With a thunderous roar, the planes rocketed into the clear blue sky. Wings unfolded, propellers spun, and the pilots adjusted their throttles to find the perfect balance of speed and maneuverability. The rush of wind whipped their faces as they gained altitude, soaring towards their destiny.  As they closed in on the enemy formation, the first hints of adrenaline coursed through their veins. The lead bomber came into view, its gray monstrosity blotting out the sun. It was a formidable target, bristling with defensive guns and encased in heavy armor.  Captain Bennett's voice broke through the radio static, calm yet tinged with intensity. \"Stick to the plan, gentlemen. Stay in formation, and watch each other's backs.\" The squadron spread their wings and formed a protective wall around their leader. It was time to engage.  In a dazzling display of aerial acrobatics and precision, the dogfight began. Fighter jets darted and weaved through the air, leaving white contrails in their wake. The deafening roar of engines mingled with the staccato bursts of gunfire. Maneuvers honed through countless hours of training were put to the test as the pilots pushed themselves to the limits.  Enemy tracers wove through the sky like deadly ribbons, threatening to tear the squadron apart. Captain Bennett's instincts kicked in, his eyes scanning the chaotic battlefield, searching for weak points. He made split-second decisions, radioing commands to his men as they fought tooth and nail against their adversaries.  Bullets grazed wings, but the pilots pressed on, clinging to that indomitable spirit of victory. They danced with death, their every move calculated and executed with utmost precision. Captain Bennett, like a maestro directing an orchestra, orchestrated the deadly symphony of war, leading his men with unwavering determination.  As the fight raged on, the squadron's efforts began to bear fruit. One enemy bomber after another plummeted from the sky, engulfed in billowing flames. The sky turned into a kaleidoscope of smoke and fire, a testament to their courage and skill. The tide began to turn, the remaining enemy formations faltering under the relentless onslaught.  And then, silence fell upon the battlefield. The enemy bombers lay shattered and defeated, scattered like forlorn chess pieces across the sky. The squadron, weary yet triumphant, regrouped in a display of unity and solidarity.  Captain Bennett's voice broke through the radio once again, this time filled with pride. \"Well done, gentlemen. Another victory for the history books.\" The cheers of his comrades echoed in the air, mingling with the sea breeze.  As the planes headed back to base, engines humming in synchrony, the captain couldn't help but smile. They had prevailed against all odds, proving their mettle in the crucible of combat. He knew that their actions had made a difference, had saved lives, and kept hope alive in the hearts of those on the ground.  Their legacy as warriors in the skies would forever be remembered, etched in the annals of history. And Captain Joshua Bennett, the fearless leader who led his squadron with unwavering resolve, would forever be hailed as a hero, a beacon of courage in the darkest of times.\n",
            "\n",
            "-----------------------------\n",
            "\n",
            "Prompt for Data Point 3:\n",
            "### Instruction:\n",
            "Generate a story based on the following prompt:\n",
            "\n",
            "In the midst of a bustling metropolis teeming with skyscrapers that seemingly touched the heavens, nestled a small and unassuming garage. It belonged to Ethan, a young and brilliant engineer consumed by his insatiable thirst for innovation and adventure. With grease-stained hands and a mind full of ideas, he spent every waking hour tinkering and crafting marvelous inventions that could turn dreams into reality.  One fateful afternoon, while rummaging through a box filled with ancient blueprints, Ethan stumbled upon a peculiar schematic. It depicted a colossal machine, a menacing giant robot with gleaming steel limbs and an aura of unstoppable power. Intrigued and fascinated, he couldn't resist the temptation to bring this mechanical behemoth to life.  Days turned into weeks, and nights melted away as Ethan toiled tirelessly in his secluded workshop, pouring every ounce of his skill and determination into the construction of his masterpiece. Finally, after countless sleepless nights, his creation stood before him in all its majestic glory - a formidable mech equipped with an array of devastating weapons, ready to challenge any foe that dared face it.  News of Ethan's extraordinary creation spread like wildfire across the city, catching the attention of a notorious and power-hungry conglomerate known as IronCorp Industries. Their enigmatic leader, Raymond Blackwood, was a zealous man who sought to dominate the world using an army of unstoppable robots. Enraged by the presence of a potential rival, Blackwood devised a sinister plan to steal Ethan's invention, ensuring his own hegemony remained unchallenged.  As dusk settled over the city, Ethan climbed into the cockpit of his mighty mech, aptly named \"Ironfire,\" and prepared for battle. He had heard whispers of IronCorp's plans and knew that he must act swiftly to protect his creation, and by extension, the very heart of innovation itself.  Engulfed in the shadows, Ethan set out on a perilous journey through the dimly lit streets, radar systems humming softly as he tracked the movements of IronCorp's relentless forces. Every corner of the city seemed to pulsate with danger, each alleyway hiding a potential ambush. But Ethan's resolve burned bright, and with every step, his heart raced with a mix of anticipation and desperation.  Finally, deep within the heart of an abandoned factory, a cacophony of metallic growls echoed ominously. Ironfire stepped forward, ready to face an army of imposing IronCorp robots driven by malice and greed. As the battle raged on, Ethan's instincts and intimate knowledge of his creation guided him. He evaded crushing blows and countered with devastating precision, each strike in perfect harmony with the symphony of danger that surrounded him.  In a climactic clash of metal and might, Ironfire unleashed a powerful surge of energy that coursed through the remnants of IronCorp's defeated robots. Sparks danced and smoke filled the air, the battle leaving nothing but a wake of debris in its path. Ethan stood triumphant, having defended his creation and regained his vision of a world where innovation thrived untethered.  Word of Ethan's heroic victory spread throughout the city, and he became a legend, a symbol of defiance against corporate tyranny. IronCorp, left in shambles, retreated into the shadows, their dreams of domination shattered. From that day forward, the city monumentally shifted, embracing a new era where aspiring inventors and unyielding dreamers were celebrated and cherished.  As the sun set on the horizon, bathing the city in hues of crimson and gold, Ethan surveyed the landscape that had once been plagued by darkness. A smile graced his lips, knowing that he had played a pivotal role in defending the very essence of action and innovation against overwhelming odds. And with newfound hope in his heart, he embarked on a journey to inspire a generation and forge a future where dreams knew no boundaries.\n",
            "\n",
            "-----------------------------\n",
            "\n",
            "Prompt for Data Point 4:\n",
            "### Instruction:\n",
            "Generate a story based on the following prompt:\n",
            "\n",
            "In the heart of a once-thriving metropolis, now reduced to a desolate wasteland, a lone figure emerged from the shadows. Leather-clad and armed to the teeth, his name was Gabriel. Standing at the precipice of an abandoned street, he surveyed the remnants of what was once a bustling city. Hollowed buildings loomed like guardians of a forgotten time, their broken windows reflecting the glimmers of an apocalyptic twilight.  It had been years since the outbreak, the virus that turned ordinary people into ravenous zombies. Gabriel, a former army officer, had become a symbol of hope in this desolate world. With his unwavering determination and unparalleled combat skills, he had earned the respect of fellow survivors. But there was one mission that haunted his every step – the hunt for Patient Zero, the source of this unspeakable horror.  As Gabriel patrolled the remnants of humanity's domain, a garbled transmission pierced the silence, crackling with static. It was a distress call from a nearby settlement. He hesitated for a moment, torn between his undying pursuit and the plight of innocents in need. His duty prevailed, and he set off towards the desperate cries of his fellow survivors.  Arriving at the settlement, Gabriel found himself face to face with chaos. The once-peaceful refuge had been overrun by hordes of infected. Their guttural moans filled the air as they mindlessly tore through barricades and devoured any living thing in their path. Amidst the bedlam, a young woman named Ava caught Gabriel's eye. Fearlessly armed with her own makeshift weapons, she fought valiantly to protect the last remnants of her community.  Recognizing her grit, Gabriel teamed up with Ava to stem the tide of the infected. Together, they forged a path through the chaos, leaving a trail of fallen zombies in their wake. Their teamwork was seamless, as if forged in the fires of adversity. Gabriel marveled at Ava's resilience and fiery determination as they battled side by side. It was a beacon of light in a world veiled in darkness.  Their efforts culminated in a climactic showdown with a particularly formidable horde. Surrounded, Gabriel and Ava fought with unmatched ferocity. Their weapons whirled through the air, dispatching zombie after zombie. Every strike was executed flawlessly, guided by their shared purpose. In the final moments, Gabriel unleashed a torrent of bullets, decimating the horde.  Exhausted but triumphant, Gabriel and Ava watched as the last of the infected crumpled to the ground. The settlement, once teetering on the edge of destruction, was saved. Gabriel couldn't help but feel a surge of admiration for Ava's indomitable spirit. In her, he discovered a kindred soul - a warrior forged by the unforgiving battleground of a post-apocalyptic world.  With the settlement secured, Gabriel and Ava returned to their never-ending mission - the search for Patient Zero. Fuelled by their recent victory, their resolve grew stronger. They scoured the remnants of civilization, following leads and piecing together clues with dogged determination. And finally, after countless battles and near-death experiences, they unearthed a hidden facility concealing the truth.  Within its sterile walls lay the answer to their questions - the true origin of the virus that had decimated their world. Patient Zero, a shadowy figure named Dr. Emil Reinhardt, had been consumed by the very entity he had created. The duo confronted the fallen scientist, his twisted form bearing evidence of his monstrous experiments. With a final burst of strength, Gabriel and Ava ended the life of the man who had unleashed this plague.  In the aftermath, as Gabriel and Ava surveyed the smoldering ruins of the facility, a sense of bitter victory washed over them. The battle against the infected hordes would continue, but a small semblance of justice had been attained. With renewed purpose and an unbreakable bond, they vowed to push forward, fighting relentlessly until the world they once knew was restored.  United by their resilience and unwavering courage, Gabriel and Ava became legends whispered in the ears of survivors, igniting a dwindling flame of hope in the darkest corners of the earth. In a world ravaged by zombies and despair, their actions spoke louder than words, inspiring others to rise against the encroaching tide of darkness.\n",
            "\n",
            "-----------------------------\n",
            "\n",
            "Prompt for Data Point 5:\n",
            "### Instruction:\n",
            "Generate a story based on the following prompt:\n",
            "\n",
            "In the gritty underbelly of a city plagued by crime, Detective John Anderson was a tenacious force to be reckoned with. Tall and lean, with a sharp jawline and piercing blue eyes, he exuded an aura of unwavering determination. The city had become his battleground, and the criminals feared his name.  The whispers on the streets spoke of a notorious criminal mastermind known as \"The Phantom.\" No one had ever seen his face, and his crimes left the police baffled. Like a phantom, he slipped through their fingers, leaving no trace behind. Detective Anderson was obsessed with catching him, a relentless pursuit that consumed his every waking moment.  Late one stormy evening, as the rain poured mercilessly, Detective Anderson received a tip that The Phantom was planning a heist at the city's prestigious art museum. Determined to finally corner his elusive adversary, Anderson made his way to the darkened museum, the faint glow of the moon highlighting his determined gaze.  Inside the museum, the tension thickened as Anderson explored the labyrinthine corridors and galleries. True to his name, The Phantom seemed to be everywhere and nowhere all at once. Paintings were stolen, alarms were triggered, and yet the criminal remained elusive. It was a cat and mouse game, each move meticulously planned, leaving Anderson scrambling to anticipate the next.  Days turned into weeks, and the city grew restless, with each passing moment the grip of fear tightened. The newspapers were filled with headlines screaming of a criminal genius outsmarting the police force at every turn. But Detective Anderson remained undeterred, fueled by a relentless desire for justice.  One fateful night, Anderson received a cryptic message, informing him that The Phantom would strike at the city's grand opera house. Racing against time, he stormed into the opulent theater as the first notes of a symphony filled the air. The tension palpable, Anderson carefully weaved his way through the crowd, his eyes scanning for any suspicious individuals.  As the performance reached its crescendo, a sudden commotion erupted. The lights flickered, and chaos ensued. Anderson instinctively sprinted towards the source of the disturbance. In a darkened corner, he caught a glimpse of a figure he knew all too well. The Phantom.  A chase ensued through the labyrinthine backstage area, their footsteps echoing like thunder. Anderson's heart pounded in his chest as he closed in on his prey. With each twist and turn, he felt the thrum of adrenaline course through his veins, propelling him forward.  Finally, in a moment of sheer determination, Anderson tackled The Phantom to the ground, their bodies colliding with a resounding thud. As they wrestled on the cold floor, Anderson's grip tightened, his fingers digging into the criminal's flesh. The long-awaited arrest was within his grasp.  With the handcuffs securely fastened around The Phantom's wrists, Anderson couldn't help but feel a mix of triumph and relief. The city could finally breathe a sigh of relief, knowing that justice had prevailed. It was a victory hard-fought, a testament to the determination and unwavering resolve of one man.  As the sirens wailed in the distance, Anderson looked down at his defeated adversary, the rain washing away the masquerade of anonymity from The Phantom's face. The eyes staring back at him were filled with a mix of defeat and begrudging respect. An unspoken recognition passed between them, as if they were two sides of the same coin, forever destined to dance this dangerous dance.  And so, as the rain continued to pour, Detective John Anderson stood victorious in the darkness, a testament to the indomitable spirit of those who refuse to falter in the face of evil. The city would remember his name, just as The Phantom would forever be etched in the annals of criminal history. The cat and mouse game had reached its climax, leaving behind a trail of broken illusions and hard-fought triumphs.\n",
            "\n",
            "-----------------------------\n",
            "\n"
          ]
        }
      ]
    },
    {
      "cell_type": "markdown",
      "source": [
        "# **More Examples of Prompts**"
      ],
      "metadata": {
        "id": "wIV0IPUNgIrU"
      }
    },
    {
      "cell_type": "code",
      "source": [
        "# Generate prompts for each data point in the subset dataset\n",
        "prompts = []\n",
        "for i in range(num_samples_to_display):\n",
        "    data = subset_dataset[i]\n",
        "    prompt = get_zero_shot_prompt(data)\n",
        "    prompts.append(prompt)\n",
        "\n",
        "# Display the generated prompts or use them as needed\n",
        "for idx, prompt in enumerate(prompts[5:10]):  # Display prompts for the first 3 data points\n",
        "    print(f\"Prompt for Data Point {idx + 1}:\")\n",
        "    print(prompt)\n",
        "    print(\"\\n-----------------------------\\n\")\n"
      ],
      "metadata": {
        "colab": {
          "base_uri": "https://localhost:8080/"
        },
        "id": "jIA4PQZEPjxm",
        "outputId": "0c2abe07-168b-4578-c302-998a4faf7624"
      },
      "execution_count": 15,
      "outputs": [
        {
          "output_type": "stream",
          "name": "stdout",
          "text": [
            "Prompt for Data Point 1:\n",
            "### Instruction:\n",
            "Generate a story based on the following prompt:\n",
            "\n",
            "In the crumbling metropolis of Neo-Arkadia, a city teetering on the brink of chaos, rival gangs waged war for control over scarce resources. Dilapidated skyscrapers stood tall, their shattered windows reflecting the desolation that shrouded the once-thriving urban landscape. Among this dystopian backdrop, two formidable gangs emerged as the most powerful contenders: the Razor Wings and the Shadow Serpents.  The city's unmistakable staleness hung in the air as the sun dipped below the horizon, casting long shadows across the cracked pavement. The Red Sector, a territory claimed by the Shadow Serpents, pulsated with an otherworldly energy. Led by the enigmatic and ruthless Viper, the gang thrived in the darkness, leaving a trail of chaos and blood in their wake.  In stark contrast, the Blue Sector was the bastion of the Razor Wings. Led by the charismatic yet relentless Phoenix, they were the embodiment of unruly rebellion. Their numbers may have been smaller, but their will to fight was unmatched. The graffiti-covered walls of their stronghold echoed with whispered rumors of their plans to overthrow the Shadow Serpents and restore balance to the decaying city.  As tensions heightened, fate trembled upon a solitary moment. On the eve of the city's annual Nightfall Festival, whispers of an all-out confrontation between the two gangs swirled through the dilapidated streets. The Nightfall Festival, a rare celebration in this bleak existence, invited both gangs to a truce for one night. It was an opportunity seeded with the promise of peace, yet primed to ignite a cataclysmic clash.  The streets thrummed with anticipation, every neon sign flickering with a touch of menace. The colorful streamers that adorned the lamp posts seemed out of place, like desperate pleas for hope in a world devoid of it. The festival grounds were a whirlwind of activity, the air filled with the scent of sizzling street food and the symphony of laughter and music, tinged with an undercurrent of tension.  As the clock struck midnight, the stage was set, the city holding its breath. The crowd parted like the Red Sea as Viper, clad in a cloak of shadow, made his grand entrance, flanked by his loyal Serpents. Phoenix, his gaze unwavering, countered with the audacity of youth, leading the Razor Wings forward.  With bated breath, Neo-Arkadia watched as the cacophony of conflict unfolded. Fists flew through the air, creating a symphony of impact. The neon glow illuminated their faces, etching the ferocity in their eyes. The clashes were both fierce and calculated, a ballet of destruction that danced upon the razors' edge.  Amidst the chaos, a glimmer of hope emerged. A young woman, an outsider named Ember, maneuvered through the chaos, a spark of defiance ignited within her. Inspired by the determination of both gangs, she sought to bridge the divide and create a truce that transcended the blood-soaked street.  With her heart pounding in her chest, Ember maneuvered through the battlefield, dodging blows and leaping over obstacles. Her voice reverberated through the shattered cityscape, a beacon of unity in the relentless storm. Her words cascaded like a soothing rain, washing away the deep-rooted animosity that had consumed them.  Slowly, the Razor Wings and the Shadow Serpents began to lower their weapons. Eyes met across the battlefield, once filled with rage, now softened by the ember of shared humanity. Defying the decay that had plagued their lives, they stood united, embracing the possibility of a brighter future.  As dawn broke over the horizon, the city stirred from its slumber, forever transformed. The rival gangs, once locked in a bitter struggle, found a fragile alliance forged in the crucible of battle. Under a new banner, the united factions worked tirelessly to rebuild their crumbling home, turning the ravaged concrete jungle into an oasis of resilience and hope.  And so, Neo-Arkadia dared to dream of a world where the echoes of conflict faded into whispers of the past, where hearts, once entwined by hatred, birthed a harmony that resonated throughout the city's rebirth. In this dystopian future, action had kindled the fire of change, casting aside the chains that had bound them and leading them toward a future rebuilt on the foundations of unity.\n",
            "\n",
            "-----------------------------\n",
            "\n",
            "Prompt for Data Point 2:\n",
            "### Instruction:\n",
            "Generate a story based on the following prompt:\n",
            "\n",
            "Amidst the inky blackness of the night, a seamless curtain of shadows unfurled itself over the dense wilderness. In the heart of a war-torn nation, nestled between towering mountains and treacherous valleys, lay a remote enemy stronghold. It was here that the fate of an entire nation teetered on the precipice of destruction. Behind the menacing gates and fortified walls, the nefarious General Viktor Verenov reigned supreme, orchestrating his malevolent plans in secret.  In this harrowing landscape, emerged our indomitable hero, Captain Ethan Reynolds, an elite operative trained in the art of covert warfare. With a lean and chiseled physique, Ethan's eyes burned with a fierce determination, his every muscle honed to perfection. Tasked with a critical mission that could turn the tides of battle, he found himself alone, deep behind enemy lines.  As the moon cast its pale light upon the sprawling compound, Ethan stealthily weaved through the labyrinthine corridors, his senses heightened and alert. Every step was calculated, every breath controlled, as he evaded the vigilant guards patrolling the area. His mission was clear: to retrieve vital intelligence that would expose General Verenov's nefarious plans and bring an end to his reign of terror.  The relentless pursuit of his mission led Ethan deeper into the dark underbelly of the compound. He encountered locked doors, intricate security systems, and laser-tripped alarm systems, but his training had prepared him for such obstacles. With deft precision, he dismantled booby traps and outwitted sophisticated surveillance systems, leaving no trace of his presence.  Unbeknownst to Ethan, General Verenov had caught wind of an intruder within his sacred fortress. His paranoia peaked, and he ordered his troops to scour every inch of the compound. The tension in the air thickened as the noose closed in on Ethan, his heart pounding within the confines of his chest.  As dawn broke, bathing the world in shades of orange and gold, Ethan found himself standing on the precipice of success. With perspiration glistening on his brow, he uncovered the hidden vault containing the secrets of General Verenov's master plan. The room was adorned with maps, charts, and classified documents that revealed a sinister plot to unleash a devastating weapon upon innocent civilians. The weight of a nation's hope rested on Ethan's shoulders as he memorized every detail, ready to relay this critical information to his comrades.  With the evidence concealed beneath the folds of his tactical vest, Ethan made his way towards the extraction point. The compound was now alive with frenzied soldiers, their footsteps echoing like thudding drums. His heart raced as he moved soundlessly, melting into the shadows, staying just one step ahead of the enemy's relentless pursuit.  The final stretch of his escape presented formidable challenges, including an electrified fence and a veritable maze of enemy patrols. Ethan, however, tapped into the reserves of his training and stealthily navigated through the treacherous obstacles. Drawing upon his unwavering resolve, he leaped over the fence, nearly brushing against the charged wires, and merged seamlessly into the wilderness beyond.  As the sun reached its apex in the sky, Ethan finally reached the rendezvous point, a remote clearing nestled deep in the forest. It was here that he would meet his comrades, passing on the information that held the power to cripple General Verenov's insidious plans. Moments later, a helicopter materialized from the heavens, lowering its ladder towards Ethan. His fingers tightly clutching the classified documents, he ascended into the hovering aircraft, leaving the enemy stronghold behind.  Days turned into weeks, and the mission's significance rippled through the nation. Armed with Ethan's intelligence, the allied forces struck with precision, dismantling General Verenov's empire piece by piece. The enemy stronghold crumbled, and the people of the war-torn nation breathed a collective sigh of relief.  For his unparalleled bravery and unwavering dedication to the cause, Captain Ethan Reynolds was honored with the highest accolades. However, true to his nature, he remained humble, knowing that his actions were merely part of a larger tapestry of sacrifices made by countless individuals in the name of freedom.  In the years that followed, Captain Ethan Reynolds continued his role in covert operations, embarking on countless missions behind enemy lines. His actions would forever reverberate through the annals of history, reminding the world of the valor and selflessness required to protect the values held dear.\n",
            "\n",
            "-----------------------------\n",
            "\n",
            "Prompt for Data Point 3:\n",
            "### Instruction:\n",
            "Generate a story based on the following prompt:\n",
            "\n",
            "In a sprawling metropolis known as NeoCity, the pulsating heart of technological advancement, a group of elite hackers known as \"The Phantom Shadows\" dwelled in the shadows. Led by their enigmatic leader, Cipher, they navigated the intricate web of cyberspace with unparalleled skill. With their nimble fingers dancing across keyboards and minds ceaselessly calculating algorithms, they were the unseen kings of the digital realm.  As the sun dipped below the horizon, casting an ethereal glow over the glistening skyscrapers, Cipher gathered his team for a secret meeting. In a dimly lit underground hideout, adorned with neon lights and towering stacks of computer servers, they discussed their latest endeavor. A classified government document had come into their possession, revealing a plot by a rogue nation to launch a devastating cyber-attack on NeoCity's infrastructure, sending the entire city into chaos.  This was a battle that extended beyond the virtual realm; lives were at stake, and action needed to be taken. The Phantom Shadows knew that to prevent this catastrophe, they would have to infiltrate the heavily fortified headquarters of their adversaries and acquire the data needed to dismantle their nefarious scheme. Equipped with state-of-the-art hacking tools and with hearts filled with unwavering determination, they prepared themselves for the upcoming mission.  Under the cover of darkness, The Phantom Shadows embarked on their perilous journey. Scaling walls, disabling security systems, and easily bypassing complex firewalls, they were like ghosts weaving through the physical and digital barriers simultaneously. The tension in the air was palpable as they ventured deeper into the enemy's lair.  However, their stealth was not infallible. As Cipher decrypted a crucial file, alarm bells blared, sending the facility into lockdown mode. Armed guards swarmed the corridors, their footsteps growing louder with each passing second. It was a race against time.  With unwavering resolve, The Phantom Shadows split into groups, employing their unparalleled skills to evade capture. Cipher, the master strategist, manipulated the security cameras, causing momentary blind spots, allowing his team to move undetected. Sonic, the agile infiltrator, swiftly made her way through ventilation shafts, dodging laser grids with acrobatic finesse. Meanwhile, Zero, the brilliant codebreaker, hacked into the mainframe, disabling security systems to create an escape route.  Faced with seemingly insurmountable obstacles, The Phantom Shadows relied on their unwavering teamwork and resilience. Even as bullets whizzed past them, they stuck together, utilizing their unique talents to overcome each obstacle with calculated precision. With every keystroke, they got closer to their goal.  Finally, with sweat trickling down their brows and hearts pounding in their chests, they reached the central chamber housing the mastermind behind the cyber-attack. In a climactic confrontation, Cipher engaged in a battle of wits and skill against the formidable enemy. With each stroke of the keyboard, Cipher uncovered the enemy's true identity and motives, exposing their treacherous plot and saving NeoCity from imminent destruction.  As the authorities apprehended the rogue nation's agents and the threat was neutralized, NeoCity rejoiced. The exploits of The Phantom Shadows reverberated through the digital world, earning them legendary status. They had proven that in a world driven by bytes and algorithms, action was a force to be reckoned with.  With their mission accomplished, Cipher and his team vanished back into the depths of cyberspace, their actions leaving an indelible mark on society. The world may never know their true identities, but their legacy as the guardians of justice and masters of cyber warfare would forever be remembered.  And so, in the sprawling metropolis of NeoCity, the invisible warriors fought their battles, protecting the digital realm from those who sought to exploit it. A new era of vigilance had dawned, where the power of action in the face of cyber warfare would forever be heralded as the greatest defense.\n",
            "\n",
            "-----------------------------\n",
            "\n",
            "Prompt for Data Point 4:\n",
            "### Instruction:\n",
            "Generate a story based on the following prompt:\n",
            "\n",
            "Amidst the sprawling hills and enchanting groves of the kingdom of Evergreen lay the eminent village of Stonehaven. It was a place known for its tranquil serenity, but little did the villagers know that the fragile peace they held dear was about to be shattered by a consequential series of events. Armand, an honorable and fearless knight, was the talk of the village. Renowned for his skill with a sword, his agile movements, and his tenacity in battle, he was revered by the villagers and feared by anyone foolish enough to challenge him.  One fateful evening, a mysterious stranger arrived in Stonehaven. His name was Lucian, a prodigious swordsman with an air of dark mystery. He was shrouded in black attire, his silver hair cascading down his back, and his eyes emanating an unwavering intensity. Whispers of his formidable talents spread throughout the village, igniting curiosity and trepidation among its inhabitants. It was inevitable that the paths of Armand and Lucian would cross, setting the stage for a duel that would become the stuff of legends.  As the news of Lucian's arrival reached Armand, a glimmer of excitement danced in his steel-blue eyes. His heart yearned for a worthy adversary who could test his mettle, and Lucian appeared to be the perfect challenger. A gathering crowd encircled them as they faced each other in the village square, the atmosphere thick with anticipation. The villagers held their breath, awaiting the clash of the titans.  The duel commenced with a symphony of clashing steel, each sword stroke a testimony to the remarkable skill possessed by both combatants. The sound of their swords reverberated through the village, creating an enchanting melody that captivated all who listened. Armand's movements were precise and calculated, every swing conveying boundless power. Lucian, on the other hand, moved with a graceful elegance, his every strike infused with a touch of unearthly finesse.  Time seemed to stand still as the two warriors engaged in their fierce dance of swords. The villagers watched in awe-struck silence, their eyes darting between the combatants, unable to predict the outcome of the monumental clash. Armand's strength and experience clashed against Lucian's unparalleled technique and speed. It was a battle of contrasts, where every parry and riposte held the weight of destiny.  The duel raged on for what felt like an eternity, each swordsman displaying unwavering determination and an unyielding spirit. The setting sun cast a warm glow over the spectacle, imbuing the final moments with an ethereal beauty. In one swift movement, Lucian's blade found an opening, striking Armand's armor and knocking him to the ground. The crowd gasped in collective disbelief, their admiration for both warriors unyielding.  Glowering down at his wounded opponent, Lucian extended a hand, offering Armand a chance to rise. With a nod of respect, Armand grasped the gesture, accepting his defeat with grace and humility. Though he had fallen in combat, the bond forged between the two swordsmen transcended victory and loss. They had witnessed the embodiment of true skill, and both earned the respect of the villagers.  From that day forward, Stonehaven became a bastion of martial prowess and camaraderie. The villagers turned the duel into a yearly event, celebrating the valor and skill displayed by Armand and Lucian. The profound impact of their duel inspired a generation of aspiring swordsmen, forever etching their names in the annals of the village. Armand and Lucian's story became a timeless legend, a testament to the power of action and the enduring legacy of a duel between skilled swordsmen.\n",
            "\n",
            "-----------------------------\n",
            "\n",
            "Prompt for Data Point 5:\n",
            "### Instruction:\n",
            "Generate a story based on the following prompt:\n",
            "\n",
            "In the realm of Vindranth, where emerald green meadows stretched out endlessly, stood the ancient city of Ardentia. Its stone walls boasted the tales of countless generations, and its people were known far and wide for their valor and courage. In the heart of the city, a young knight named Lysander spent his days training in the art of swordsmanship. With a heart enlightened by only the many legends of warrior's past, Lysander yearned for the day when he would embark on his own heroic journey.  News arrived in the city that the neighboring kingdom of Ravenholm was ravaged by a great evil. A ruthless sorcerer, known as Morvath the Terrible, had seized control and terrorized the land. Seeking glory and armed with a razor-sharp blade, Lysander volunteered to venture forth, leaving the safety of Ardentia behind.  As our valiant knight approached the border of Ravenholm, he could see the once vibrant fields drowned in darkness. The eerie silence that hung in the air was only broken by the distant howl of a lone wolf. Gripping the hilt of his sword, Lysander's heart pounded with anticipation as he ventured deeper into the kingdom.  Soon, Lysander found himself traversing a treacherous mountain pass, its jagged peaks clawing at the sky above. A sudden gust of wind carried with it a whispered warning - a tribe of merciless bandits awaited those foolish enough to challenge them. Undeterred, Lysander pressed on, ready to face any foes that crossed his path.  As the sun dipped below the mountains, casting long shadows across the land, Lysander stumbled upon a hidden glade nestled amidst the ancient trees. To his surprise, he found himself face-to-face with a fearsome warrior named Malachi. With a towering stature and a sword as wide as a man's arm, Malachi possessed an unmatched prowess and reputation for his epic swordsmanship.  Recognizing the brotherhood borne from the art of the blade, Malachi agreed to teach Lysander the secret techniques of a true swordsman. For days, Lysander and Malachi sparred under the moonlit sky, their swords clashing in a symphony of steel that echoed through the trees. With each passing day, Lysander's skill grew, and his determination reached new heights.  Empowered by his newfound confidence, Lysander pressed forward, confronting Morvath's minions with righteous fury. Swarms of wicked creatures lunged at him from every corner, but the young knight deflected and parried their attacks with precision. With the legendary swordsmanship of Ardentia coursing through his veins, Lysander defeated every foe that dared cross his path.  Finally, the day of reckoning arrived. In the heart of Ravenholm, upon a desolate battleground, Morvath the Terrible awaited his challenger. Dressed in dark robes and wielding a staff crackling with malevolent energy, the sorcerer exuded an aura of sheer malevolence. Yet, Lysander remained undeterred, his grip on his sword tightening as he faced his greatest adversary.  Their duel was nothing short of extraordinary. Sparks flew as steel clashed against sorcery, the sound reverberating through the barren lands. With every swing of his mighty blade, Lysander's resolve grew, channeling the spirits of the ancient warriors who once defended Vindranth. Slowly but surely, Morvath found himself overwhelmed by the knight's unwavering determination.  In one final strike, Lysander's blade pierced through the sorcerer's defenses, casting Morvath to the ground in defeat. Victory washed over Lysander as the dark forces that clouded Ravenholm dissipated with Morvath's defeat. The land rejoiced, and the people were freed from the grip of tyranny.  Returning to Ardentia as a triumphant hero, Lysander was hailed as a savior, his name forever etched in the annals of legend. However, his greatest reward lay not in the adoration of the masses but in the unwavering knowledge that he had made a difference, that he had answered the call to action, and forged his own epic tale with the sword at his side.  And so, in the realm of Vindranth, where the emerald fields danced in the gentle breeze, Lysander's tale lived on, inspiring generations to come to take up arms and face their own battles. The legacy of his epic sword fights remained eternally etched in the tapestry of history, reminding all who would listen that heroes are made in the crucible of action.\n",
            "\n",
            "-----------------------------\n",
            "\n"
          ]
        }
      ]
    },
    {
      "cell_type": "markdown",
      "source": [
        "# **GPT2 and its tokenizer**\n",
        "* https://huggingface.co/docs/transformers/model_doc/gpt2"
      ],
      "metadata": {
        "id": "ARL-NrpAgSSZ"
      }
    },
    {
      "cell_type": "code",
      "source": [
        "from transformers import AutoTokenizer, AutoModelForCausalLM\n",
        "tokenizer = AutoTokenizer.from_pretrained('gpt2')\n",
        "model = AutoModelForCausalLM.from_pretrained('gpt2')"
      ],
      "metadata": {
        "colab": {
          "base_uri": "https://localhost:8080/",
          "height": 209,
          "referenced_widgets": [
            "7af5b4dcb1294aad9fe85472241fa741",
            "f1f6c75af3224b809c7d5df9ce3c6ef6",
            "29273d1cbc5349dba6b807704016843b",
            "8d1c0c460c074c87b8e0187660c2364b",
            "374405bf308447a1904192c8bc571e33",
            "15e2d43125ac4264bf4696c513dfa803",
            "17ce7983d52c4de7a9d5906abe6cebc5",
            "85afaee75f9843f0b9e3025cfcd39a39",
            "841af220ad0e4b42b24e5ce541188f1f",
            "12b1597a11914376910637335e6674e4",
            "3851acafccdf4580a38ea7ac831c5a3b",
            "7e62a97ba32b49138571dd60ce65a68f",
            "d91eaf7c03734cb4bffce17dd9bbc859",
            "bdb102030849481f8a46ed6baa0bbebf",
            "ee5534c2d94f4dd1aeb4183ce6540372",
            "5d1689d033244f1b83018a8890cbef46",
            "fd71c18dfb4e4239a081ed32ad403c03",
            "207411cd99f34d4e8dce12463922fd41",
            "b6b22f0a3d244cf5b718bea7e7746f10",
            "0ecb97d9158348fb88b91972af697029",
            "2a00a7ef96614d4c8c53f64c591c0dc8",
            "403eeaba01cb439f822e9eb99bef3710",
            "cb40146cd74646b2979b6f7a5e841201",
            "1d384e97f2664bd4b2c397cc6a1c18f6",
            "3bffb485f9cd4fd2bada3cb81941323f",
            "f5b1d048ae5940f09ae1f2f867224c7a",
            "beb71bfaed7b4883b2e526eb35a0e959",
            "f2ea1c96554d485d89a427e6b83d0a91",
            "752d7bcbce4d4bdfa3be20b0e8cf2cab",
            "b9d6971fd6084b7c8d98f7c07fecf6c1",
            "b7835156ef7e44fabb32f9be7d0f0427",
            "ff69dfdf14514d7caf58d4252c9937b9",
            "0aa84abc0cd847f59d9c98985d1696f1",
            "c0f7155eb4074d3a9834178138496659",
            "4a8901643f19489f88dc115901b84a58",
            "b090391f585b4331b1aba343129f5b11",
            "544f8717996846bbac1ef26bf3f09b8f",
            "5c790743ccfc4f0093e677c474a6bdf8",
            "14a1942e806a4752951f82ef45aa474b",
            "afd606477e7c42d787440a6073c58e08",
            "cdbba931946241ef9995fd42749f3d58",
            "a8f71295d0644f3db500e768e7f559fa",
            "b67973ae82ec4c28a12c44d9c9dc07e8",
            "6fae59050b9846eabdfdbd62a12e6b54",
            "b19c776988514f74882f44db9679b40b",
            "9b4a291cb86d46a9bce430ded395c341",
            "a709bedd36764a27a6909ab4b5ea13ca",
            "e09369942ea6434cba935e6c918ec605",
            "6c8f3916d7fe49538a2d6d7dc6d7e174",
            "5ad9ab890c494d88a1f32f77a0858954",
            "2fb423c6055c4c378e4306d08b564765",
            "10b752bdffa3467ba4804ebd4fec4da9",
            "ca0ee8a28aca4e499977a4bcd1110667",
            "ae6529703c7e4251808babe5003893c0",
            "c59514831b274460a8fcb1c2796fb3de",
            "62ba2f6bf61340958c95a6c8a4e2beed",
            "9b634d422f23481f874d9a2e39b80481",
            "4c7792a8e4a542bea00a38cf0abe7630",
            "4cf67454f8054854a5101ad946eacdd9",
            "c9dc83e98b174225b8235c2ac32c696d",
            "41d4cd35664143feb1194307c0050fb3",
            "27b3188ee8f84a89be29e0ddc9e845d7",
            "63eda9b3a12d4e239cbcc49e56113200",
            "0f5de9f9345745469d3d73cf5a64e3ab",
            "ca44e040af064d90a4e28e96ab67bbc8",
            "b8fbabc3ed4e4739bfae209dc705c85b"
          ]
        },
        "id": "LaRsH5I-MbGs",
        "outputId": "89e10302-c35b-4dd6-96e3-25a66e9abc13"
      },
      "execution_count": 16,
      "outputs": [
        {
          "output_type": "display_data",
          "data": {
            "text/plain": [
              "config.json:   0%|          | 0.00/665 [00:00<?, ?B/s]"
            ],
            "application/vnd.jupyter.widget-view+json": {
              "version_major": 2,
              "version_minor": 0,
              "model_id": "7af5b4dcb1294aad9fe85472241fa741"
            }
          },
          "metadata": {}
        },
        {
          "output_type": "display_data",
          "data": {
            "text/plain": [
              "vocab.json:   0%|          | 0.00/1.04M [00:00<?, ?B/s]"
            ],
            "application/vnd.jupyter.widget-view+json": {
              "version_major": 2,
              "version_minor": 0,
              "model_id": "7e62a97ba32b49138571dd60ce65a68f"
            }
          },
          "metadata": {}
        },
        {
          "output_type": "display_data",
          "data": {
            "text/plain": [
              "merges.txt:   0%|          | 0.00/456k [00:00<?, ?B/s]"
            ],
            "application/vnd.jupyter.widget-view+json": {
              "version_major": 2,
              "version_minor": 0,
              "model_id": "cb40146cd74646b2979b6f7a5e841201"
            }
          },
          "metadata": {}
        },
        {
          "output_type": "display_data",
          "data": {
            "text/plain": [
              "tokenizer.json:   0%|          | 0.00/1.36M [00:00<?, ?B/s]"
            ],
            "application/vnd.jupyter.widget-view+json": {
              "version_major": 2,
              "version_minor": 0,
              "model_id": "c0f7155eb4074d3a9834178138496659"
            }
          },
          "metadata": {}
        },
        {
          "output_type": "display_data",
          "data": {
            "text/plain": [
              "model.safetensors:   0%|          | 0.00/548M [00:00<?, ?B/s]"
            ],
            "application/vnd.jupyter.widget-view+json": {
              "version_major": 2,
              "version_minor": 0,
              "model_id": "b19c776988514f74882f44db9679b40b"
            }
          },
          "metadata": {}
        },
        {
          "output_type": "display_data",
          "data": {
            "text/plain": [
              "generation_config.json:   0%|          | 0.00/124 [00:00<?, ?B/s]"
            ],
            "application/vnd.jupyter.widget-view+json": {
              "version_major": 2,
              "version_minor": 0,
              "model_id": "62ba2f6bf61340958c95a6c8a4e2beed"
            }
          },
          "metadata": {}
        }
      ]
    },
    {
      "cell_type": "code",
      "source": [
        "# Set the padding token for the tokenizer\n",
        "tokenizer.pad_token = tokenizer.eos_token"
      ],
      "metadata": {
        "id": "sqGEsD81CslS"
      },
      "execution_count": 18,
      "outputs": []
    },
    {
      "cell_type": "markdown",
      "source": [
        "# **Dataset Preparation and Tokenization for GPT-2 Training**\n",
        "* This code segment appears to perform the following tasks:\n",
        "\n",
        "* Assumes a dataset with specific keys ('instruction', 'input', 'output', and 'text').\n",
        "* Iterates through the dataset to generate prompts based on the available data points.\n",
        "* Tokenizes the generated prompts and output text using a tokenizer, preparing them as tensors.\n",
        "* Compiles tokenized inputs, labels, and attention masks to be used for GPT-2 model training."
      ],
      "metadata": {
        "id": "YQ_YQmJZg1GH"
      }
    },
    {
      "cell_type": "code",
      "source": [
        "from transformers import Trainer, TrainingArguments\n",
        "import torch\n",
        "# Assuming subset_dataset is your dataset with 'id', 'Story'\n",
        "dataset = subset_dataset\n",
        "\n",
        "# Initialize empty lists to store inputs, targets, and attention masks\n",
        "input_ids = []\n",
        "labels = []\n",
        "attention_masks = []\n",
        "\n",
        "# Tokenize and prepare the dataset\n",
        "for data_point in dataset:\n",
        "    # Generate prompt\n",
        "    prompt = get_zero_shot_prompt(data_point)\n",
        "\n",
        "    # Tokenize prompt\n",
        "    tokenized_prompts = tokenizer(prompt, return_tensors=\"pt\", truncation=True, padding=\"max_length\", max_length=128)\n",
        "\n",
        "    # Tokenize output text (corrected text)\n",
        "    tokenized_output = tokenizer(data_point['Story'], return_tensors=\"pt\", truncation=True, padding=\"max_length\", max_length=128)\n",
        "\n",
        "    # Append tokenized inputs, labels, and attention masks\n",
        "    input_ids.append(tokenized_prompts['input_ids'])\n",
        "    labels.append(tokenized_output['input_ids'])\n",
        "    attention_masks.append(tokenized_prompts['attention_mask'])\n",
        "\n",
        "# Convert lists to tensors\n",
        "input_ids = torch.stack(input_ids)\n",
        "labels = torch.stack(labels)\n",
        "attention_masks = torch.stack(attention_masks)"
      ],
      "metadata": {
        "id": "sZ3qkj3RQRix"
      },
      "execution_count": 19,
      "outputs": []
    },
    {
      "cell_type": "markdown",
      "source": [
        "### **Printing input_ids, labels, and attention_masks for the first 5 examples**"
      ],
      "metadata": {
        "id": "fV2lLzKngnOi"
      }
    },
    {
      "cell_type": "code",
      "source": [
        "# Assuming the code provided earlier to prepare the dataset is already executed\n",
        "\n",
        "# Printing input_ids, labels, and attention_masks for the first 5 examples\n",
        "for i in range(3):\n",
        "    print(f\"Example {i+1}:\")\n",
        "    print(\"Input IDs:\", input_ids[i])\n",
        "    print(\"Labels:\", labels[i])\n",
        "    print(\"Attention Mask:\", attention_masks[i])\n",
        "    print(\"-----------------------\")\n"
      ],
      "metadata": {
        "colab": {
          "base_uri": "https://localhost:8080/"
        },
        "id": "K7LmtvNYN2Da",
        "outputId": "924da058-0ca2-43be-a079-ba30d3963976"
      },
      "execution_count": 20,
      "outputs": [
        {
          "output_type": "stream",
          "name": "stdout",
          "text": [
            "Example 1:\n",
            "Input IDs: tensor([[21017, 46486,    25,   198,  8645,   378,   257,  1621,  1912,   319,\n",
            "           262,  1708,  6152,    25,   198,   198,   818,   262, 46609,  1748,\n",
            "           286,   968,  1971,    11,   810,   262, 25988,  7588,   277,   677,\n",
            "         28970,   290,   262,  2128,   286,  4979, 48134,   515,   832,   262,\n",
            "          6483,    11,  5615,   257,   582,  3706, 28926, 18501,    13,  2080,\n",
            "           465,   442,   271, 18449, 19218,  1370,    11, 30662,  4171,  2951,\n",
            "            11,   290,   257, 48226, 23470,   416,   812,   286,  3047,    11,\n",
            "         28926, 17273,   281,  1633,   286, 10715,   326, 33720,   883,   508,\n",
            "         12606,   465,  3108,    13,   679,  5615,   257, 25565,  1204,   287,\n",
            "           257, 12949,  7962,    11,  4581,   465,  1528,   355,   281, 42627,\n",
            "            11,   465, 12513, 45853,   287, 16187,   290, 22780,    13,   220,\n",
            "          1881, 46873,  3329,    11,   355,   262,  1748, 43363,   284,   262,\n",
            "         14405,  9383,  4405,   286,   663,   898, 36051,    11]])\n",
            "Labels: tensor([[  818,   262, 46609,  1748,   286,   968,  1971,    11,   810,   262,\n",
            "         25988,  7588,   277,   677, 28970,   290,   262,  2128,   286,  4979,\n",
            "         48134,   515,   832,   262,  6483,    11,  5615,   257,   582,  3706,\n",
            "         28926, 18501,    13,  2080,   465,   442,   271, 18449, 19218,  1370,\n",
            "            11, 30662,  4171,  2951,    11,   290,   257, 48226, 23470,   416,\n",
            "           812,   286,  3047,    11, 28926, 17273,   281,  1633,   286, 10715,\n",
            "           326, 33720,   883,   508, 12606,   465,  3108,    13,   679,  5615,\n",
            "           257, 25565,  1204,   287,   257, 12949,  7962,    11,  4581,   465,\n",
            "          1528,   355,   281, 42627,    11,   465, 12513, 45853,   287, 16187,\n",
            "           290, 22780,    13,   220,  1881, 46873,  3329,    11,   355,   262,\n",
            "          1748, 43363,   284,   262, 14405,  9383,  4405,   286,   663,   898,\n",
            "         36051,    11, 28926,  2722,   257, 47774,  3275,   319,   257, 46027,\n",
            "          3072,    13,   632,  2391,  5081,    11,   366,  2990]])\n",
            "Attention Mask: tensor([[1, 1, 1, 1, 1, 1, 1, 1, 1, 1, 1, 1, 1, 1, 1, 1, 1, 1, 1, 1, 1, 1, 1, 1,\n",
            "         1, 1, 1, 1, 1, 1, 1, 1, 1, 1, 1, 1, 1, 1, 1, 1, 1, 1, 1, 1, 1, 1, 1, 1,\n",
            "         1, 1, 1, 1, 1, 1, 1, 1, 1, 1, 1, 1, 1, 1, 1, 1, 1, 1, 1, 1, 1, 1, 1, 1,\n",
            "         1, 1, 1, 1, 1, 1, 1, 1, 1, 1, 1, 1, 1, 1, 1, 1, 1, 1, 1, 1, 1, 1, 1, 1,\n",
            "         1, 1, 1, 1, 1, 1, 1, 1, 1, 1, 1, 1, 1, 1, 1, 1, 1, 1, 1, 1, 1, 1, 1, 1,\n",
            "         1, 1, 1, 1, 1, 1, 1, 1]])\n",
            "-----------------------\n",
            "Example 2:\n",
            "Input IDs: tensor([[21017, 46486,    25,   198,  8645,   378,   257,  1621,  1912,   319,\n",
            "           262,  1708,  6152,    25,   198,   198,   464,  6766, 19110,   503,\n",
            "           878,   606,    11,   281, 13079,  1033, 40054,   286,  4171, 41159,\n",
            "           691,   416, 39145,  2330, 15114,    13,   383,  1633,  8469,   992,\n",
            "           351,   262, 24054,   286,  2223,   355,   262, 40733,  9272,   379,\n",
            "           262,  1633,  3245,    11,   511, 33143, 10543, 20792, 26852,  3723,\n",
            "           739,   262, 19613,  4252,    13,  9754,   262, 14982,   373,  8599,\n",
            "         20700, 17468,    11,   257, 29314,  9298,   351,  2951,   355,  7786,\n",
            "           355,   257, 48710,   338,    11,   290,   257,  2612,   326,  4405,\n",
            "           351,   262, 18662,   286,  1175,    13,   220,  5345,   287,   262,\n",
            "         15925,   286,   257, 30082,  5358,    11,   262,  1621,  2753,  1295,\n",
            "          1141,   262,  6001,   286,  2159,  1810,  2873,    13,  8599, 17468,\n",
            "            11,   257, 43157,   290, 27939,  3554,    11,   550]])\n",
            "Labels: tensor([[  464,  6766, 19110,   503,   878,   606,    11,   281, 13079,  1033,\n",
            "         40054,   286,  4171, 41159,   691,   416, 39145,  2330, 15114,    13,\n",
            "           383,  1633,  8469,   992,   351,   262, 24054,   286,  2223,   355,\n",
            "           262, 40733,  9272,   379,   262,  1633,  3245,    11,   511, 33143,\n",
            "         10543, 20792, 26852,  3723,   739,   262, 19613,  4252,    13,  9754,\n",
            "           262, 14982,   373,  8599, 20700, 17468,    11,   257, 29314,  9298,\n",
            "           351,  2951,   355,  7786,   355,   257, 48710,   338,    11,   290,\n",
            "           257,  2612,   326,  4405,   351,   262, 18662,   286,  1175,    13,\n",
            "           220,  5345,   287,   262, 15925,   286,   257, 30082,  5358,    11,\n",
            "           262,  1621,  2753,  1295,  1141,   262,  6001,   286,  2159,  1810,\n",
            "          2873,    13,  8599, 17468,    11,   257, 43157,   290, 27939,  3554,\n",
            "            11,   550,  7366,   465,  8507,   832, 12925,  4388, 10566,    13,\n",
            "           679,   373,  1900,   329,   465,  2709, 14209, 38974]])\n",
            "Attention Mask: tensor([[1, 1, 1, 1, 1, 1, 1, 1, 1, 1, 1, 1, 1, 1, 1, 1, 1, 1, 1, 1, 1, 1, 1, 1,\n",
            "         1, 1, 1, 1, 1, 1, 1, 1, 1, 1, 1, 1, 1, 1, 1, 1, 1, 1, 1, 1, 1, 1, 1, 1,\n",
            "         1, 1, 1, 1, 1, 1, 1, 1, 1, 1, 1, 1, 1, 1, 1, 1, 1, 1, 1, 1, 1, 1, 1, 1,\n",
            "         1, 1, 1, 1, 1, 1, 1, 1, 1, 1, 1, 1, 1, 1, 1, 1, 1, 1, 1, 1, 1, 1, 1, 1,\n",
            "         1, 1, 1, 1, 1, 1, 1, 1, 1, 1, 1, 1, 1, 1, 1, 1, 1, 1, 1, 1, 1, 1, 1, 1,\n",
            "         1, 1, 1, 1, 1, 1, 1, 1]])\n",
            "-----------------------\n",
            "Example 3:\n",
            "Input IDs: tensor([[21017, 46486,    25,   198,  8645,   378,   257,  1621,  1912,   319,\n",
            "           262,  1708,  6152,    25,   198,   198,   818,   262, 15925,   286,\n",
            "           257, 46609,  1138, 25986,   573, 46564,   351, 37885,  2416,   364,\n",
            "           326,  9775, 12615,   262, 27636,    11, 16343,   992,   257,  1402,\n",
            "           290,   555, 32935, 15591,    13,   632, 19611,   284, 28926,    11,\n",
            "           257,  1862,   290, 10457, 11949, 13529,   416,   465,  1035,   265,\n",
            "          3379, 24613,   329, 11044,   290,  8855,    13,  2080, 35537,    12,\n",
            "         44279,  2832,   290,   257,  2000,  1336,   286,  4213,    11,   339,\n",
            "          3377,   790, 23137,  1711, 44569,  1586,   290, 21671, 43937, 39405,\n",
            "           326,   714,  1210, 10625,   656,  3950,    13,   220,  1881, 46873,\n",
            "          6672,    11,   981,  7440,    76,  3039,   832,   257,  3091,  5901,\n",
            "           351,  6156,  4171, 17190,    11, 28926, 24241,  2402,   257, 19501,\n",
            "         44566,    13,   632, 18904,   257, 41197,  4572,    11]])\n",
            "Labels: tensor([[  818,   262, 15925,   286,   257, 46609,  1138, 25986,   573, 46564,\n",
            "           351, 37885,  2416,   364,   326,  9775, 12615,   262, 27636,    11,\n",
            "         16343,   992,   257,  1402,   290,   555, 32935, 15591,    13,   632,\n",
            "         19611,   284, 28926,    11,   257,  1862,   290, 10457, 11949, 13529,\n",
            "           416,   465,  1035,   265,  3379, 24613,   329, 11044,   290,  8855,\n",
            "            13,  2080, 35537,    12, 44279,  2832,   290,   257,  2000,  1336,\n",
            "           286,  4213,    11,   339,  3377,   790, 23137,  1711, 44569,  1586,\n",
            "           290, 21671, 43937, 39405,   326,   714,  1210, 10625,   656,  3950,\n",
            "            13,   220,  1881, 46873,  6672,    11,   981,  7440,    76,  3039,\n",
            "           832,   257,  3091,  5901,   351,  6156,  4171, 17190,    11, 28926,\n",
            "         24241,  2402,   257, 19501, 44566,    13,   632, 18904,   257, 41197,\n",
            "          4572,    11,   257, 39579,  6175,  9379,   351, 26852,  3723,  7771,\n",
            "         21755,   290,   281, 22491,   286, 40181,  1176,    13]])\n",
            "Attention Mask: tensor([[1, 1, 1, 1, 1, 1, 1, 1, 1, 1, 1, 1, 1, 1, 1, 1, 1, 1, 1, 1, 1, 1, 1, 1,\n",
            "         1, 1, 1, 1, 1, 1, 1, 1, 1, 1, 1, 1, 1, 1, 1, 1, 1, 1, 1, 1, 1, 1, 1, 1,\n",
            "         1, 1, 1, 1, 1, 1, 1, 1, 1, 1, 1, 1, 1, 1, 1, 1, 1, 1, 1, 1, 1, 1, 1, 1,\n",
            "         1, 1, 1, 1, 1, 1, 1, 1, 1, 1, 1, 1, 1, 1, 1, 1, 1, 1, 1, 1, 1, 1, 1, 1,\n",
            "         1, 1, 1, 1, 1, 1, 1, 1, 1, 1, 1, 1, 1, 1, 1, 1, 1, 1, 1, 1, 1, 1, 1, 1,\n",
            "         1, 1, 1, 1, 1, 1, 1, 1]])\n",
            "-----------------------\n"
          ]
        }
      ]
    },
    {
      "cell_type": "markdown",
      "source": [
        "# **Dynamic Data Collation for GPT-2 Model Training**\n",
        "* This code segment encompasses a class, GPT2DataCollator, which is designed to handle the collation of input features for GPT-2 model training. It dynamically checks the type of input features (whether they are dictionaries or tuples) and appropriately extracts input IDs, attention masks, and labels for padding and preparing the data to the same length. This data collation process is crucial for ensuring the uniformity and compatibility of the input features during the training of the GPT-2 model."
      ],
      "metadata": {
        "id": "VH8dh2xhhAET"
      }
    },
    {
      "cell_type": "code",
      "source": [
        "from transformers import Trainer, TrainingArguments\n",
        "import torch\n",
        "\n",
        "\n",
        "class GPT2DataCollator:\n",
        "    def __call__(self, features):\n",
        "        # Check if the features are dictionaries or tuples\n",
        "        if isinstance(features[0], dict):\n",
        "            input_ids = [feature['input_ids'] for feature in features]\n",
        "            attention_masks = [feature['attention_mask'] for feature in features]\n",
        "            labels = [feature['labels'] for feature in features]\n",
        "        else:  # Assuming features are tuples\n",
        "            input_ids = [feature[0] for feature in features]\n",
        "            attention_masks = [feature[1] for feature in features]\n",
        "            labels = [feature[2] for feature in features]\n",
        "\n",
        "        # Pad inputs and labels to the same length\n",
        "        input_ids = torch.nn.utils.rnn.pad_sequence(input_ids, batch_first=True, padding_value=tokenizer.pad_token_id)\n",
        "        attention_masks = torch.nn.utils.rnn.pad_sequence(attention_masks, batch_first=True, padding_value=0)\n",
        "        labels = torch.nn.utils.rnn.pad_sequence(labels, batch_first=True, padding_value=tokenizer.pad_token_id)\n",
        "\n",
        "        return {\n",
        "            'input_ids': input_ids,\n",
        "            'attention_mask': attention_masks,\n",
        "            'labels': labels\n",
        "        }\n"
      ],
      "metadata": {
        "id": "iYwb-UutTO1-"
      },
      "execution_count": 21,
      "outputs": []
    },
    {
      "cell_type": "markdown",
      "source": [
        "# **Define the Training Arguments and Trainer**"
      ],
      "metadata": {
        "id": "uSD-pX5nhYmz"
      }
    },
    {
      "cell_type": "code",
      "source": [
        "'''\n",
        "# Define the training arguments\n",
        "training_args = TrainingArguments(\n",
        "    output_dir='./gpt2-finetuned-version',    # Directory to save the model and checkpoints\n",
        "    num_train_epochs=5,               # Number of training epochs\n",
        "    per_device_train_batch_size=4,    # Batch size per device during training\n",
        "    save_steps=5000,                  # Save checkpoint every X steps\n",
        "    logging_dir='./logs',             # Directory for storing logs\n",
        "    logging_steps=500,                # Log training metrics every X steps\n",
        "    evaluation_strategy=\"epoch\",      # Evaluation strategy to adopt during training\n",
        "    report_to=\"none\",                 # Disable evaluation during training\n",
        "    prediction_loss_only=True,        # Compute only the prediction loss\n",
        "    warmup_steps=500# number of warmup steps for learning rate scheduler\n",
        "    # Add any additional arguments as needed\n",
        ")\n",
        "\n",
        "# Initialize the Trainer with the custom data collator\n",
        "trainer = Trainer(\n",
        "    model=model,\n",
        "    args=training_args,\n",
        "    train_dataset=torch.utils.data.TensorDataset(input_ids, attention_masks, labels),\n",
        "    eval_dataset=torch.utils.data.TensorDataset(input_ids, attention_masks, labels),\n",
        "    data_collator=GPT2DataCollator()  # Use the custom data collator\n",
        ")\n",
        "'''"
      ],
      "metadata": {
        "id": "RHMSmJaATStX"
      },
      "execution_count": 24,
      "outputs": []
    },
    {
      "cell_type": "code",
      "source": [
        "'''\n",
        "# Start training\n",
        "trainer.train()\n",
        "'''"
      ],
      "metadata": {
        "colab": {
          "base_uri": "https://localhost:8080/",
          "height": 267
        },
        "id": "JLjHNwryDOJA",
        "outputId": "52e9a76b-d5dc-4652-ad96-e20a0900d9ae"
      },
      "execution_count": 25,
      "outputs": [
        {
          "output_type": "display_data",
          "data": {
            "text/plain": [
              "<IPython.core.display.HTML object>"
            ],
            "text/html": [
              "\n",
              "    <div>\n",
              "      \n",
              "      <progress value='6250' max='6250' style='width:300px; height:20px; vertical-align: middle;'></progress>\n",
              "      [6250/6250 22:45, Epoch 5/5]\n",
              "    </div>\n",
              "    <table border=\"1\" class=\"dataframe\">\n",
              "  <thead>\n",
              " <tr style=\"text-align: left;\">\n",
              "      <th>Epoch</th>\n",
              "      <th>Training Loss</th>\n",
              "      <th>Validation Loss</th>\n",
              "    </tr>\n",
              "  </thead>\n",
              "  <tbody>\n",
              "    <tr>\n",
              "      <td>1</td>\n",
              "      <td>6.432100</td>\n",
              "      <td>6.214691</td>\n",
              "    </tr>\n",
              "    <tr>\n",
              "      <td>2</td>\n",
              "      <td>6.187800</td>\n",
              "      <td>6.050375</td>\n",
              "    </tr>\n",
              "    <tr>\n",
              "      <td>3</td>\n",
              "      <td>6.081100</td>\n",
              "      <td>5.942913</td>\n",
              "    </tr>\n",
              "    <tr>\n",
              "      <td>4</td>\n",
              "      <td>5.995300</td>\n",
              "      <td>5.874067</td>\n",
              "    </tr>\n",
              "    <tr>\n",
              "      <td>5</td>\n",
              "      <td>5.931500</td>\n",
              "      <td>5.841997</td>\n",
              "    </tr>\n",
              "  </tbody>\n",
              "</table><p>"
            ]
          },
          "metadata": {}
        },
        {
          "output_type": "execute_result",
          "data": {
            "text/plain": [
              "TrainOutput(global_step=6250, training_loss=6.17996515625, metrics={'train_runtime': 1367.5062, 'train_samples_per_second': 18.281, 'train_steps_per_second': 4.57, 'total_flos': 1633075200000000.0, 'train_loss': 6.17996515625, 'epoch': 5.0})"
            ]
          },
          "metadata": {},
          "execution_count": 25
        }
      ]
    },
    {
      "cell_type": "code",
      "source": [
        "'''\n",
        "trainer.save_model()\n",
        "'''"
      ],
      "metadata": {
        "id": "RzqCF7I6DOTN"
      },
      "execution_count": 26,
      "outputs": []
    },
    {
      "cell_type": "markdown",
      "source": [
        "# **Load the save model and train it again here...**"
      ],
      "metadata": {
        "id": "pi7ONgjQhifB"
      }
    },
    {
      "cell_type": "code",
      "source": [
        "from transformers import Trainer, TrainingArguments\n",
        "# Load the previously trained model\n",
        "model_path = './gpt2-finetuned-version'  # Replace this with the path to your saved model\n",
        "model = AutoModelForCausalLM.from_pretrained(model_path)\n",
        "\n",
        "# Define the training arguments\n",
        "training_args = TrainingArguments(\n",
        "    output_dir='./gpt2-final-version',    # Directory to save the model and checkpoints\n",
        "    num_train_epochs=5,               # Number of training epochs\n",
        "    per_device_train_batch_size=4,    # Batch size per device during training\n",
        "    save_steps=1000,                  # Save checkpoint every X steps\n",
        "    logging_dir='./logs',             # Directory for storing logs\n",
        "    logging_steps=500,                # Log training metrics every X steps\n",
        "    evaluation_strategy=\"epoch\",      # Evaluation strategy to adopt during training\n",
        "    report_to=\"none\",                 # Disable evaluation during training\n",
        "    prediction_loss_only=True,        # Compute only the prediction loss\n",
        "    warmup_steps=500# number of warmup steps for learning rate scheduler\n",
        "    # Add any additional arguments as needed\n",
        ")\n",
        "\n",
        "# Initialize the Trainer with the custom data collator\n",
        "trainer = Trainer(\n",
        "    model=model,\n",
        "    args=training_args,\n",
        "    train_dataset=torch.utils.data.TensorDataset(input_ids, attention_masks, labels),\n",
        "    eval_dataset=torch.utils.data.TensorDataset(input_ids, attention_masks, labels),\n",
        "    data_collator=GPT2DataCollator()  # Use the custom data collator\n",
        ")"
      ],
      "metadata": {
        "id": "IX4xjo1OTUTB"
      },
      "execution_count": 27,
      "outputs": []
    },
    {
      "cell_type": "code",
      "source": [
        "# Start training\n",
        "trainer.train()"
      ],
      "metadata": {
        "colab": {
          "base_uri": "https://localhost:8080/",
          "height": 267
        },
        "id": "DFK04cXTUG_W",
        "outputId": "8bb73d3e-0cdc-46a9-d5f0-f6d5150d2f23"
      },
      "execution_count": 28,
      "outputs": [
        {
          "output_type": "display_data",
          "data": {
            "text/plain": [
              "<IPython.core.display.HTML object>"
            ],
            "text/html": [
              "\n",
              "    <div>\n",
              "      \n",
              "      <progress value='6250' max='6250' style='width:300px; height:20px; vertical-align: middle;'></progress>\n",
              "      [6250/6250 23:56, Epoch 5/5]\n",
              "    </div>\n",
              "    <table border=\"1\" class=\"dataframe\">\n",
              "  <thead>\n",
              " <tr style=\"text-align: left;\">\n",
              "      <th>Epoch</th>\n",
              "      <th>Training Loss</th>\n",
              "      <th>Validation Loss</th>\n",
              "    </tr>\n",
              "  </thead>\n",
              "  <tbody>\n",
              "    <tr>\n",
              "      <td>1</td>\n",
              "      <td>5.966000</td>\n",
              "      <td>5.816307</td>\n",
              "    </tr>\n",
              "    <tr>\n",
              "      <td>2</td>\n",
              "      <td>5.829100</td>\n",
              "      <td>5.672485</td>\n",
              "    </tr>\n",
              "    <tr>\n",
              "      <td>3</td>\n",
              "      <td>5.722800</td>\n",
              "      <td>5.558096</td>\n",
              "    </tr>\n",
              "    <tr>\n",
              "      <td>4</td>\n",
              "      <td>5.670200</td>\n",
              "      <td>5.487247</td>\n",
              "    </tr>\n",
              "    <tr>\n",
              "      <td>5</td>\n",
              "      <td>5.616300</td>\n",
              "      <td>5.453045</td>\n",
              "    </tr>\n",
              "  </tbody>\n",
              "</table><p>"
            ]
          },
          "metadata": {}
        },
        {
          "output_type": "execute_result",
          "data": {
            "text/plain": [
              "TrainOutput(global_step=6250, training_loss=5.74840458984375, metrics={'train_runtime': 1436.3619, 'train_samples_per_second': 17.405, 'train_steps_per_second': 4.351, 'total_flos': 1633075200000000.0, 'train_loss': 5.74840458984375, 'epoch': 5.0})"
            ]
          },
          "metadata": {},
          "execution_count": 28
        }
      ]
    },
    {
      "cell_type": "code",
      "source": [
        "#Save the fine-tuned model here\n",
        "trainer.save_model()"
      ],
      "metadata": {
        "id": "vYtiotAQaTNW"
      },
      "execution_count": 29,
      "outputs": []
    },
    {
      "cell_type": "code",
      "source": [
        "# Evaluate perplexity on the test dataset\n",
        "eval_result = trainer.evaluate(eval_dataset=torch.utils.data.TensorDataset(input_ids, attention_masks, labels))\n",
        "print(\"Perplexity:\", eval_result['eval_loss'])"
      ],
      "metadata": {
        "colab": {
          "base_uri": "https://localhost:8080/",
          "height": 54
        },
        "id": "nvjjPxfAjU7y",
        "outputId": "8ddfcc01-7bc8-4a20-bba9-3270cd7956df"
      },
      "execution_count": 30,
      "outputs": [
        {
          "output_type": "display_data",
          "data": {
            "text/plain": [
              "<IPython.core.display.HTML object>"
            ],
            "text/html": [
              "\n",
              "    <div>\n",
              "      \n",
              "      <progress value='625' max='625' style='width:300px; height:20px; vertical-align: middle;'></progress>\n",
              "      [625/625 00:54]\n",
              "    </div>\n",
              "    "
            ]
          },
          "metadata": {}
        },
        {
          "output_type": "stream",
          "name": "stdout",
          "text": [
            "Perplexity: 5.45304536819458\n"
          ]
        }
      ]
    },
    {
      "cell_type": "markdown",
      "source": [
        "# **Text Generation Using Fine-Tuned GPT-2 Model Pipeline**"
      ],
      "metadata": {
        "id": "-rcFwCmQhurf"
      }
    },
    {
      "cell_type": "code",
      "source": [
        "from transformers import pipeline\n",
        "\n",
        "# Define the generator pipeline using the fine-tuned GPT-2 model and tokenizer\n",
        "generator = pipeline('text-generation', model='./gpt2-final-version', tokenizer='gpt2', pad_token_id=tokenizer.pad_token_id)\n",
        "\n",
        "# Test prompt for generating text\n",
        "test_prompt = (\n",
        "    f\"### Instruction:\\nGenerate a story based on the following prompt:\\n\\nAmidst the inky blackness of the night \"\n",
        ")\n",
        "\n",
        "# Generate text based on the test prompt using the generator pipeline\n",
        "generated_test_text = generator(test_prompt, max_length=128, num_return_sequences=1)\n",
        "\n",
        "# Print the generated text for the test prompt\n",
        "print(generated_test_text[0]['generated_text'])\n",
        "\n"
      ],
      "metadata": {
        "colab": {
          "base_uri": "https://localhost:8080/"
        },
        "id": "BVC4UIKUYw7v",
        "outputId": "33415709-dc55-4a98-add9-442fba961a7e"
      },
      "execution_count": 38,
      "outputs": [
        {
          "output_type": "stream",
          "name": "stdout",
          "text": [
            "### Instruction:\n",
            "Generate a story based on the following prompt:\n",
            "\n",
            "Amidst the inky blackness of the night  of by It- a.anse in ofled. stood The It by, the the as... The.. its the within. of the. within the.... a In young As The of and His and in of with the Withiable It, beyond and of a the Born was the by and of eyes a was were his a his town The that their their was for whereled the of, and confines as that  curiosity for to to a to andled its. and\n"
          ]
        }
      ]
    },
    {
      "cell_type": "markdown",
      "source": [
        "# **More Text Generation Examples**"
      ],
      "metadata": {
        "id": "2xegPLZi1cwY"
      }
    },
    {
      "cell_type": "code",
      "source": [
        "from datasets import load_dataset\n",
        "\n",
        "dataset = load_dataset(\"AtlasUnified/atlas-storyteller\")"
      ],
      "metadata": {
        "id": "cSY8ypFD0_O9"
      },
      "execution_count": 36,
      "outputs": []
    },
    {
      "cell_type": "code",
      "source": [
        "# Get the first 10 data points\n",
        "num_samples_to_display = 10\n",
        "subset_dataset = dataset['train'].select(range(num_samples_to_display))\n",
        "\n",
        "# List to store 'Story' values\n",
        "story_list = []\n",
        "\n",
        "# Display information for 10 data points from the subset and save 'Story' values\n",
        "num_samples_to_show = 10\n",
        "for i in range(num_samples_to_show):\n",
        "    data = subset_dataset[i]\n",
        "\n",
        "    # Save 'Story' into the list\n",
        "    story_list.append(data['Story'])\n",
        "\n",
        "    print(f\"Data Point {i + 1}:\")\n",
        "    print(\"ID:\", data['id'])\n",
        "    print(\"Story:\", data['Story'])\n",
        "    print(\"\\n-----------------------------\\n\")"
      ],
      "metadata": {
        "colab": {
          "base_uri": "https://localhost:8080/"
        },
        "id": "azJOi1Pd1E3Y",
        "outputId": "f01c2e22-8186-4f6f-912f-85d282e247d2"
      },
      "execution_count": 48,
      "outputs": [
        {
          "output_type": "stream",
          "name": "stdout",
          "text": [
            "Data Point 1:\n",
            "ID: seed_task_0\n",
            "Story: In the bustling city of New York, where the neon lights flickered and the sound of traffic reverberated through the streets, lived a man named Ethan Sullivan. With his chiseled jawline, piercing blue eyes, and a physique carved by years of training, Ethan possessed an air of mystery that intrigued those who crossed his path. He lived a solitary life in a modest apartment, spending his days as an accountant, his nights cloaked in shadows and secrecy.  One fateful morning, as the city awoke to the rhythmic beat of its own heartbeat, Ethan received a cryptic message on a burner phone. It simply stated, \"They're coming for you.\" His heart quickened, and a wave of apprehension washed over him. Who were \"they,\" and why were they after him? Ethan's blood ran cold, fueling a surge of adrenaline that urged him to take action.  Without a moment's hesitation, Ethan gathered his meager belongings and made his way to a hidden room beneath his apartment. The room, concealed behind a bookshelf, was a secret sanctuary where he had spent countless hours honing his skills and preparing for the unknown. As he descended the narrow staircase, the walls whispered tales of peril and resilience, fueling his determination.  Days turned into nights, and the hunt for Ethan intensified. He navigated the city's labyrinthine underworld, seeking answers to the questions that shadowed his every step. His pursuit brought him face to face with a network of spies, double agents, and dangerous mercenaries, all entangled in a web of deception. Ethan's resilience was pushed to its limits as he evaded their clutches, relying on his training and instincts to outwit his adversaries.  Amidst the chaos, Ethan discovered a hidden connection between himself and the mysterious organization that sought his demise. Unbeknownst to him, he possessed an uncanny ability to unlock long-dormant memories, memories that held the key to an ancient artifact rumored to possess unimaginable power. This revelation marked a turning point in his quest, as he realized that his actions were not only a matter of personal survival but threatened the delicate balance of the entire world.  With newfound purpose, Ethan embarked on a perilous journey across continents, battling foes and confronting the ghosts of his past. He delved into ancient texts, deciphering cryptic symbols and untangling riddles that led him closer to the artifact's secret location. The world around him trembled, unaware of the cataclysmic power that awaited should the artifact fall into the wrong hands.  In the heart of the Amazon rainforest, amidst lush foliage and echoing wildlife, Ethan reached the sacred temple where the artifact lay hidden. The air crackled with anticipation as he overcame treacherous trials, testing both his physical and mental prowess. With each obstacle conquered, his purpose grew clearer, his resolve unyielding.  Finally, standing on the precipice of destiny, Ethan found himself face to face with his nemesis, the orchestrator of his torment. A battle of wills ensued, each combatant matching the other blow for blow, weaving a deadly dance of strength and strategy. It was a battle that transcended the physical, a clash between opposing ideologies.  In the end, it was Ethan's unwavering determination that prevailed. With a final, decisive strike, he thwarted his enemy's plans and secured the artifact, safeguarding the world from its malevolence. The weight of his actions settled upon him, and as he gazed upon the artifact, he understood the responsibility that came with its power.  With the threat vanquished and the world saved, Ethan's journey drew to a close. He returned to his solitary life in New York, no longer haunted by the phantom of impending danger. Yet, his actions had left an indelible mark upon his soul, a reminder that even in the face of insurmountable odds, one individual could make a difference. And with that knowledge, Ethan Sullivan embraced the path that lay ahead of him, ready to face whatever challenges may come his way.\n",
            "\n",
            "-----------------------------\n",
            "\n",
            "Data Point 2:\n",
            "ID: seed_task_1\n",
            "Story: The sky stretched out before them, an endless expanse of blue pierced only by fluffy white clouds. The air crackled with the anticipation of action as the squadron gathered at the airfield, their sleek fighter jets gleaming under the noon sun. Among the pilots was Captain Joshua Bennett, a seasoned veteran with eyes as sharp as a hawk's, and a heart that beat with the rhythm of war.  Set in the midst of a raging conflict, the story takes place during the height of World War II. Captain Bennett, a fearless and daring leader, had earned his reputation through countless successful missions. He was known for his audacious maneuvers and masterful control of aircraft, traits that instilled confidence in every member of his squadron.  Their current mission was crucial - they were tasked with intercepting and neutralizing a squadron of enemy bombers bound for a nearby heavily fortified city. The stakes were high; failure meant devastation for countless lives on the ground. But failure was not an option for Captain Bennett and his men.  As they climbed into their cockpits, each pilot embraced the danger that lay ahead. The roar of engines filled the air, drowning out all other sounds. The planes taxied onto the runway, lined up with military precision. The countdown began, the moment drawing closer with each passing second.  With a thunderous roar, the planes rocketed into the clear blue sky. Wings unfolded, propellers spun, and the pilots adjusted their throttles to find the perfect balance of speed and maneuverability. The rush of wind whipped their faces as they gained altitude, soaring towards their destiny.  As they closed in on the enemy formation, the first hints of adrenaline coursed through their veins. The lead bomber came into view, its gray monstrosity blotting out the sun. It was a formidable target, bristling with defensive guns and encased in heavy armor.  Captain Bennett's voice broke through the radio static, calm yet tinged with intensity. \"Stick to the plan, gentlemen. Stay in formation, and watch each other's backs.\" The squadron spread their wings and formed a protective wall around their leader. It was time to engage.  In a dazzling display of aerial acrobatics and precision, the dogfight began. Fighter jets darted and weaved through the air, leaving white contrails in their wake. The deafening roar of engines mingled with the staccato bursts of gunfire. Maneuvers honed through countless hours of training were put to the test as the pilots pushed themselves to the limits.  Enemy tracers wove through the sky like deadly ribbons, threatening to tear the squadron apart. Captain Bennett's instincts kicked in, his eyes scanning the chaotic battlefield, searching for weak points. He made split-second decisions, radioing commands to his men as they fought tooth and nail against their adversaries.  Bullets grazed wings, but the pilots pressed on, clinging to that indomitable spirit of victory. They danced with death, their every move calculated and executed with utmost precision. Captain Bennett, like a maestro directing an orchestra, orchestrated the deadly symphony of war, leading his men with unwavering determination.  As the fight raged on, the squadron's efforts began to bear fruit. One enemy bomber after another plummeted from the sky, engulfed in billowing flames. The sky turned into a kaleidoscope of smoke and fire, a testament to their courage and skill. The tide began to turn, the remaining enemy formations faltering under the relentless onslaught.  And then, silence fell upon the battlefield. The enemy bombers lay shattered and defeated, scattered like forlorn chess pieces across the sky. The squadron, weary yet triumphant, regrouped in a display of unity and solidarity.  Captain Bennett's voice broke through the radio once again, this time filled with pride. \"Well done, gentlemen. Another victory for the history books.\" The cheers of his comrades echoed in the air, mingling with the sea breeze.  As the planes headed back to base, engines humming in synchrony, the captain couldn't help but smile. They had prevailed against all odds, proving their mettle in the crucible of combat. He knew that their actions had made a difference, had saved lives, and kept hope alive in the hearts of those on the ground.  Their legacy as warriors in the skies would forever be remembered, etched in the annals of history. And Captain Joshua Bennett, the fearless leader who led his squadron with unwavering resolve, would forever be hailed as a hero, a beacon of courage in the darkest of times.\n",
            "\n",
            "-----------------------------\n",
            "\n",
            "Data Point 3:\n",
            "ID: seed_task_2\n",
            "Story: In the midst of a bustling metropolis teeming with skyscrapers that seemingly touched the heavens, nestled a small and unassuming garage. It belonged to Ethan, a young and brilliant engineer consumed by his insatiable thirst for innovation and adventure. With grease-stained hands and a mind full of ideas, he spent every waking hour tinkering and crafting marvelous inventions that could turn dreams into reality.  One fateful afternoon, while rummaging through a box filled with ancient blueprints, Ethan stumbled upon a peculiar schematic. It depicted a colossal machine, a menacing giant robot with gleaming steel limbs and an aura of unstoppable power. Intrigued and fascinated, he couldn't resist the temptation to bring this mechanical behemoth to life.  Days turned into weeks, and nights melted away as Ethan toiled tirelessly in his secluded workshop, pouring every ounce of his skill and determination into the construction of his masterpiece. Finally, after countless sleepless nights, his creation stood before him in all its majestic glory - a formidable mech equipped with an array of devastating weapons, ready to challenge any foe that dared face it.  News of Ethan's extraordinary creation spread like wildfire across the city, catching the attention of a notorious and power-hungry conglomerate known as IronCorp Industries. Their enigmatic leader, Raymond Blackwood, was a zealous man who sought to dominate the world using an army of unstoppable robots. Enraged by the presence of a potential rival, Blackwood devised a sinister plan to steal Ethan's invention, ensuring his own hegemony remained unchallenged.  As dusk settled over the city, Ethan climbed into the cockpit of his mighty mech, aptly named \"Ironfire,\" and prepared for battle. He had heard whispers of IronCorp's plans and knew that he must act swiftly to protect his creation, and by extension, the very heart of innovation itself.  Engulfed in the shadows, Ethan set out on a perilous journey through the dimly lit streets, radar systems humming softly as he tracked the movements of IronCorp's relentless forces. Every corner of the city seemed to pulsate with danger, each alleyway hiding a potential ambush. But Ethan's resolve burned bright, and with every step, his heart raced with a mix of anticipation and desperation.  Finally, deep within the heart of an abandoned factory, a cacophony of metallic growls echoed ominously. Ironfire stepped forward, ready to face an army of imposing IronCorp robots driven by malice and greed. As the battle raged on, Ethan's instincts and intimate knowledge of his creation guided him. He evaded crushing blows and countered with devastating precision, each strike in perfect harmony with the symphony of danger that surrounded him.  In a climactic clash of metal and might, Ironfire unleashed a powerful surge of energy that coursed through the remnants of IronCorp's defeated robots. Sparks danced and smoke filled the air, the battle leaving nothing but a wake of debris in its path. Ethan stood triumphant, having defended his creation and regained his vision of a world where innovation thrived untethered.  Word of Ethan's heroic victory spread throughout the city, and he became a legend, a symbol of defiance against corporate tyranny. IronCorp, left in shambles, retreated into the shadows, their dreams of domination shattered. From that day forward, the city monumentally shifted, embracing a new era where aspiring inventors and unyielding dreamers were celebrated and cherished.  As the sun set on the horizon, bathing the city in hues of crimson and gold, Ethan surveyed the landscape that had once been plagued by darkness. A smile graced his lips, knowing that he had played a pivotal role in defending the very essence of action and innovation against overwhelming odds. And with newfound hope in his heart, he embarked on a journey to inspire a generation and forge a future where dreams knew no boundaries.\n",
            "\n",
            "-----------------------------\n",
            "\n",
            "Data Point 4:\n",
            "ID: seed_task_3\n",
            "Story: In the heart of a once-thriving metropolis, now reduced to a desolate wasteland, a lone figure emerged from the shadows. Leather-clad and armed to the teeth, his name was Gabriel. Standing at the precipice of an abandoned street, he surveyed the remnants of what was once a bustling city. Hollowed buildings loomed like guardians of a forgotten time, their broken windows reflecting the glimmers of an apocalyptic twilight.  It had been years since the outbreak, the virus that turned ordinary people into ravenous zombies. Gabriel, a former army officer, had become a symbol of hope in this desolate world. With his unwavering determination and unparalleled combat skills, he had earned the respect of fellow survivors. But there was one mission that haunted his every step – the hunt for Patient Zero, the source of this unspeakable horror.  As Gabriel patrolled the remnants of humanity's domain, a garbled transmission pierced the silence, crackling with static. It was a distress call from a nearby settlement. He hesitated for a moment, torn between his undying pursuit and the plight of innocents in need. His duty prevailed, and he set off towards the desperate cries of his fellow survivors.  Arriving at the settlement, Gabriel found himself face to face with chaos. The once-peaceful refuge had been overrun by hordes of infected. Their guttural moans filled the air as they mindlessly tore through barricades and devoured any living thing in their path. Amidst the bedlam, a young woman named Ava caught Gabriel's eye. Fearlessly armed with her own makeshift weapons, she fought valiantly to protect the last remnants of her community.  Recognizing her grit, Gabriel teamed up with Ava to stem the tide of the infected. Together, they forged a path through the chaos, leaving a trail of fallen zombies in their wake. Their teamwork was seamless, as if forged in the fires of adversity. Gabriel marveled at Ava's resilience and fiery determination as they battled side by side. It was a beacon of light in a world veiled in darkness.  Their efforts culminated in a climactic showdown with a particularly formidable horde. Surrounded, Gabriel and Ava fought with unmatched ferocity. Their weapons whirled through the air, dispatching zombie after zombie. Every strike was executed flawlessly, guided by their shared purpose. In the final moments, Gabriel unleashed a torrent of bullets, decimating the horde.  Exhausted but triumphant, Gabriel and Ava watched as the last of the infected crumpled to the ground. The settlement, once teetering on the edge of destruction, was saved. Gabriel couldn't help but feel a surge of admiration for Ava's indomitable spirit. In her, he discovered a kindred soul - a warrior forged by the unforgiving battleground of a post-apocalyptic world.  With the settlement secured, Gabriel and Ava returned to their never-ending mission - the search for Patient Zero. Fuelled by their recent victory, their resolve grew stronger. They scoured the remnants of civilization, following leads and piecing together clues with dogged determination. And finally, after countless battles and near-death experiences, they unearthed a hidden facility concealing the truth.  Within its sterile walls lay the answer to their questions - the true origin of the virus that had decimated their world. Patient Zero, a shadowy figure named Dr. Emil Reinhardt, had been consumed by the very entity he had created. The duo confronted the fallen scientist, his twisted form bearing evidence of his monstrous experiments. With a final burst of strength, Gabriel and Ava ended the life of the man who had unleashed this plague.  In the aftermath, as Gabriel and Ava surveyed the smoldering ruins of the facility, a sense of bitter victory washed over them. The battle against the infected hordes would continue, but a small semblance of justice had been attained. With renewed purpose and an unbreakable bond, they vowed to push forward, fighting relentlessly until the world they once knew was restored.  United by their resilience and unwavering courage, Gabriel and Ava became legends whispered in the ears of survivors, igniting a dwindling flame of hope in the darkest corners of the earth. In a world ravaged by zombies and despair, their actions spoke louder than words, inspiring others to rise against the encroaching tide of darkness.\n",
            "\n",
            "-----------------------------\n",
            "\n",
            "Data Point 5:\n",
            "ID: seed_task_4\n",
            "Story: In the gritty underbelly of a city plagued by crime, Detective John Anderson was a tenacious force to be reckoned with. Tall and lean, with a sharp jawline and piercing blue eyes, he exuded an aura of unwavering determination. The city had become his battleground, and the criminals feared his name.  The whispers on the streets spoke of a notorious criminal mastermind known as \"The Phantom.\" No one had ever seen his face, and his crimes left the police baffled. Like a phantom, he slipped through their fingers, leaving no trace behind. Detective Anderson was obsessed with catching him, a relentless pursuit that consumed his every waking moment.  Late one stormy evening, as the rain poured mercilessly, Detective Anderson received a tip that The Phantom was planning a heist at the city's prestigious art museum. Determined to finally corner his elusive adversary, Anderson made his way to the darkened museum, the faint glow of the moon highlighting his determined gaze.  Inside the museum, the tension thickened as Anderson explored the labyrinthine corridors and galleries. True to his name, The Phantom seemed to be everywhere and nowhere all at once. Paintings were stolen, alarms were triggered, and yet the criminal remained elusive. It was a cat and mouse game, each move meticulously planned, leaving Anderson scrambling to anticipate the next.  Days turned into weeks, and the city grew restless, with each passing moment the grip of fear tightened. The newspapers were filled with headlines screaming of a criminal genius outsmarting the police force at every turn. But Detective Anderson remained undeterred, fueled by a relentless desire for justice.  One fateful night, Anderson received a cryptic message, informing him that The Phantom would strike at the city's grand opera house. Racing against time, he stormed into the opulent theater as the first notes of a symphony filled the air. The tension palpable, Anderson carefully weaved his way through the crowd, his eyes scanning for any suspicious individuals.  As the performance reached its crescendo, a sudden commotion erupted. The lights flickered, and chaos ensued. Anderson instinctively sprinted towards the source of the disturbance. In a darkened corner, he caught a glimpse of a figure he knew all too well. The Phantom.  A chase ensued through the labyrinthine backstage area, their footsteps echoing like thunder. Anderson's heart pounded in his chest as he closed in on his prey. With each twist and turn, he felt the thrum of adrenaline course through his veins, propelling him forward.  Finally, in a moment of sheer determination, Anderson tackled The Phantom to the ground, their bodies colliding with a resounding thud. As they wrestled on the cold floor, Anderson's grip tightened, his fingers digging into the criminal's flesh. The long-awaited arrest was within his grasp.  With the handcuffs securely fastened around The Phantom's wrists, Anderson couldn't help but feel a mix of triumph and relief. The city could finally breathe a sigh of relief, knowing that justice had prevailed. It was a victory hard-fought, a testament to the determination and unwavering resolve of one man.  As the sirens wailed in the distance, Anderson looked down at his defeated adversary, the rain washing away the masquerade of anonymity from The Phantom's face. The eyes staring back at him were filled with a mix of defeat and begrudging respect. An unspoken recognition passed between them, as if they were two sides of the same coin, forever destined to dance this dangerous dance.  And so, as the rain continued to pour, Detective John Anderson stood victorious in the darkness, a testament to the indomitable spirit of those who refuse to falter in the face of evil. The city would remember his name, just as The Phantom would forever be etched in the annals of criminal history. The cat and mouse game had reached its climax, leaving behind a trail of broken illusions and hard-fought triumphs.\n",
            "\n",
            "-----------------------------\n",
            "\n",
            "Data Point 6:\n",
            "ID: seed_task_5\n",
            "Story: In the crumbling metropolis of Neo-Arkadia, a city teetering on the brink of chaos, rival gangs waged war for control over scarce resources. Dilapidated skyscrapers stood tall, their shattered windows reflecting the desolation that shrouded the once-thriving urban landscape. Among this dystopian backdrop, two formidable gangs emerged as the most powerful contenders: the Razor Wings and the Shadow Serpents.  The city's unmistakable staleness hung in the air as the sun dipped below the horizon, casting long shadows across the cracked pavement. The Red Sector, a territory claimed by the Shadow Serpents, pulsated with an otherworldly energy. Led by the enigmatic and ruthless Viper, the gang thrived in the darkness, leaving a trail of chaos and blood in their wake.  In stark contrast, the Blue Sector was the bastion of the Razor Wings. Led by the charismatic yet relentless Phoenix, they were the embodiment of unruly rebellion. Their numbers may have been smaller, but their will to fight was unmatched. The graffiti-covered walls of their stronghold echoed with whispered rumors of their plans to overthrow the Shadow Serpents and restore balance to the decaying city.  As tensions heightened, fate trembled upon a solitary moment. On the eve of the city's annual Nightfall Festival, whispers of an all-out confrontation between the two gangs swirled through the dilapidated streets. The Nightfall Festival, a rare celebration in this bleak existence, invited both gangs to a truce for one night. It was an opportunity seeded with the promise of peace, yet primed to ignite a cataclysmic clash.  The streets thrummed with anticipation, every neon sign flickering with a touch of menace. The colorful streamers that adorned the lamp posts seemed out of place, like desperate pleas for hope in a world devoid of it. The festival grounds were a whirlwind of activity, the air filled with the scent of sizzling street food and the symphony of laughter and music, tinged with an undercurrent of tension.  As the clock struck midnight, the stage was set, the city holding its breath. The crowd parted like the Red Sea as Viper, clad in a cloak of shadow, made his grand entrance, flanked by his loyal Serpents. Phoenix, his gaze unwavering, countered with the audacity of youth, leading the Razor Wings forward.  With bated breath, Neo-Arkadia watched as the cacophony of conflict unfolded. Fists flew through the air, creating a symphony of impact. The neon glow illuminated their faces, etching the ferocity in their eyes. The clashes were both fierce and calculated, a ballet of destruction that danced upon the razors' edge.  Amidst the chaos, a glimmer of hope emerged. A young woman, an outsider named Ember, maneuvered through the chaos, a spark of defiance ignited within her. Inspired by the determination of both gangs, she sought to bridge the divide and create a truce that transcended the blood-soaked street.  With her heart pounding in her chest, Ember maneuvered through the battlefield, dodging blows and leaping over obstacles. Her voice reverberated through the shattered cityscape, a beacon of unity in the relentless storm. Her words cascaded like a soothing rain, washing away the deep-rooted animosity that had consumed them.  Slowly, the Razor Wings and the Shadow Serpents began to lower their weapons. Eyes met across the battlefield, once filled with rage, now softened by the ember of shared humanity. Defying the decay that had plagued their lives, they stood united, embracing the possibility of a brighter future.  As dawn broke over the horizon, the city stirred from its slumber, forever transformed. The rival gangs, once locked in a bitter struggle, found a fragile alliance forged in the crucible of battle. Under a new banner, the united factions worked tirelessly to rebuild their crumbling home, turning the ravaged concrete jungle into an oasis of resilience and hope.  And so, Neo-Arkadia dared to dream of a world where the echoes of conflict faded into whispers of the past, where hearts, once entwined by hatred, birthed a harmony that resonated throughout the city's rebirth. In this dystopian future, action had kindled the fire of change, casting aside the chains that had bound them and leading them toward a future rebuilt on the foundations of unity.\n",
            "\n",
            "-----------------------------\n",
            "\n",
            "Data Point 7:\n",
            "ID: seed_task_6\n",
            "Story: Amidst the inky blackness of the night, a seamless curtain of shadows unfurled itself over the dense wilderness. In the heart of a war-torn nation, nestled between towering mountains and treacherous valleys, lay a remote enemy stronghold. It was here that the fate of an entire nation teetered on the precipice of destruction. Behind the menacing gates and fortified walls, the nefarious General Viktor Verenov reigned supreme, orchestrating his malevolent plans in secret.  In this harrowing landscape, emerged our indomitable hero, Captain Ethan Reynolds, an elite operative trained in the art of covert warfare. With a lean and chiseled physique, Ethan's eyes burned with a fierce determination, his every muscle honed to perfection. Tasked with a critical mission that could turn the tides of battle, he found himself alone, deep behind enemy lines.  As the moon cast its pale light upon the sprawling compound, Ethan stealthily weaved through the labyrinthine corridors, his senses heightened and alert. Every step was calculated, every breath controlled, as he evaded the vigilant guards patrolling the area. His mission was clear: to retrieve vital intelligence that would expose General Verenov's nefarious plans and bring an end to his reign of terror.  The relentless pursuit of his mission led Ethan deeper into the dark underbelly of the compound. He encountered locked doors, intricate security systems, and laser-tripped alarm systems, but his training had prepared him for such obstacles. With deft precision, he dismantled booby traps and outwitted sophisticated surveillance systems, leaving no trace of his presence.  Unbeknownst to Ethan, General Verenov had caught wind of an intruder within his sacred fortress. His paranoia peaked, and he ordered his troops to scour every inch of the compound. The tension in the air thickened as the noose closed in on Ethan, his heart pounding within the confines of his chest.  As dawn broke, bathing the world in shades of orange and gold, Ethan found himself standing on the precipice of success. With perspiration glistening on his brow, he uncovered the hidden vault containing the secrets of General Verenov's master plan. The room was adorned with maps, charts, and classified documents that revealed a sinister plot to unleash a devastating weapon upon innocent civilians. The weight of a nation's hope rested on Ethan's shoulders as he memorized every detail, ready to relay this critical information to his comrades.  With the evidence concealed beneath the folds of his tactical vest, Ethan made his way towards the extraction point. The compound was now alive with frenzied soldiers, their footsteps echoing like thudding drums. His heart raced as he moved soundlessly, melting into the shadows, staying just one step ahead of the enemy's relentless pursuit.  The final stretch of his escape presented formidable challenges, including an electrified fence and a veritable maze of enemy patrols. Ethan, however, tapped into the reserves of his training and stealthily navigated through the treacherous obstacles. Drawing upon his unwavering resolve, he leaped over the fence, nearly brushing against the charged wires, and merged seamlessly into the wilderness beyond.  As the sun reached its apex in the sky, Ethan finally reached the rendezvous point, a remote clearing nestled deep in the forest. It was here that he would meet his comrades, passing on the information that held the power to cripple General Verenov's insidious plans. Moments later, a helicopter materialized from the heavens, lowering its ladder towards Ethan. His fingers tightly clutching the classified documents, he ascended into the hovering aircraft, leaving the enemy stronghold behind.  Days turned into weeks, and the mission's significance rippled through the nation. Armed with Ethan's intelligence, the allied forces struck with precision, dismantling General Verenov's empire piece by piece. The enemy stronghold crumbled, and the people of the war-torn nation breathed a collective sigh of relief.  For his unparalleled bravery and unwavering dedication to the cause, Captain Ethan Reynolds was honored with the highest accolades. However, true to his nature, he remained humble, knowing that his actions were merely part of a larger tapestry of sacrifices made by countless individuals in the name of freedom.  In the years that followed, Captain Ethan Reynolds continued his role in covert operations, embarking on countless missions behind enemy lines. His actions would forever reverberate through the annals of history, reminding the world of the valor and selflessness required to protect the values held dear.\n",
            "\n",
            "-----------------------------\n",
            "\n",
            "Data Point 8:\n",
            "ID: seed_task_7\n",
            "Story: In a sprawling metropolis known as NeoCity, the pulsating heart of technological advancement, a group of elite hackers known as \"The Phantom Shadows\" dwelled in the shadows. Led by their enigmatic leader, Cipher, they navigated the intricate web of cyberspace with unparalleled skill. With their nimble fingers dancing across keyboards and minds ceaselessly calculating algorithms, they were the unseen kings of the digital realm.  As the sun dipped below the horizon, casting an ethereal glow over the glistening skyscrapers, Cipher gathered his team for a secret meeting. In a dimly lit underground hideout, adorned with neon lights and towering stacks of computer servers, they discussed their latest endeavor. A classified government document had come into their possession, revealing a plot by a rogue nation to launch a devastating cyber-attack on NeoCity's infrastructure, sending the entire city into chaos.  This was a battle that extended beyond the virtual realm; lives were at stake, and action needed to be taken. The Phantom Shadows knew that to prevent this catastrophe, they would have to infiltrate the heavily fortified headquarters of their adversaries and acquire the data needed to dismantle their nefarious scheme. Equipped with state-of-the-art hacking tools and with hearts filled with unwavering determination, they prepared themselves for the upcoming mission.  Under the cover of darkness, The Phantom Shadows embarked on their perilous journey. Scaling walls, disabling security systems, and easily bypassing complex firewalls, they were like ghosts weaving through the physical and digital barriers simultaneously. The tension in the air was palpable as they ventured deeper into the enemy's lair.  However, their stealth was not infallible. As Cipher decrypted a crucial file, alarm bells blared, sending the facility into lockdown mode. Armed guards swarmed the corridors, their footsteps growing louder with each passing second. It was a race against time.  With unwavering resolve, The Phantom Shadows split into groups, employing their unparalleled skills to evade capture. Cipher, the master strategist, manipulated the security cameras, causing momentary blind spots, allowing his team to move undetected. Sonic, the agile infiltrator, swiftly made her way through ventilation shafts, dodging laser grids with acrobatic finesse. Meanwhile, Zero, the brilliant codebreaker, hacked into the mainframe, disabling security systems to create an escape route.  Faced with seemingly insurmountable obstacles, The Phantom Shadows relied on their unwavering teamwork and resilience. Even as bullets whizzed past them, they stuck together, utilizing their unique talents to overcome each obstacle with calculated precision. With every keystroke, they got closer to their goal.  Finally, with sweat trickling down their brows and hearts pounding in their chests, they reached the central chamber housing the mastermind behind the cyber-attack. In a climactic confrontation, Cipher engaged in a battle of wits and skill against the formidable enemy. With each stroke of the keyboard, Cipher uncovered the enemy's true identity and motives, exposing their treacherous plot and saving NeoCity from imminent destruction.  As the authorities apprehended the rogue nation's agents and the threat was neutralized, NeoCity rejoiced. The exploits of The Phantom Shadows reverberated through the digital world, earning them legendary status. They had proven that in a world driven by bytes and algorithms, action was a force to be reckoned with.  With their mission accomplished, Cipher and his team vanished back into the depths of cyberspace, their actions leaving an indelible mark on society. The world may never know their true identities, but their legacy as the guardians of justice and masters of cyber warfare would forever be remembered.  And so, in the sprawling metropolis of NeoCity, the invisible warriors fought their battles, protecting the digital realm from those who sought to exploit it. A new era of vigilance had dawned, where the power of action in the face of cyber warfare would forever be heralded as the greatest defense.\n",
            "\n",
            "-----------------------------\n",
            "\n",
            "Data Point 9:\n",
            "ID: seed_task_8\n",
            "Story: Amidst the sprawling hills and enchanting groves of the kingdom of Evergreen lay the eminent village of Stonehaven. It was a place known for its tranquil serenity, but little did the villagers know that the fragile peace they held dear was about to be shattered by a consequential series of events. Armand, an honorable and fearless knight, was the talk of the village. Renowned for his skill with a sword, his agile movements, and his tenacity in battle, he was revered by the villagers and feared by anyone foolish enough to challenge him.  One fateful evening, a mysterious stranger arrived in Stonehaven. His name was Lucian, a prodigious swordsman with an air of dark mystery. He was shrouded in black attire, his silver hair cascading down his back, and his eyes emanating an unwavering intensity. Whispers of his formidable talents spread throughout the village, igniting curiosity and trepidation among its inhabitants. It was inevitable that the paths of Armand and Lucian would cross, setting the stage for a duel that would become the stuff of legends.  As the news of Lucian's arrival reached Armand, a glimmer of excitement danced in his steel-blue eyes. His heart yearned for a worthy adversary who could test his mettle, and Lucian appeared to be the perfect challenger. A gathering crowd encircled them as they faced each other in the village square, the atmosphere thick with anticipation. The villagers held their breath, awaiting the clash of the titans.  The duel commenced with a symphony of clashing steel, each sword stroke a testimony to the remarkable skill possessed by both combatants. The sound of their swords reverberated through the village, creating an enchanting melody that captivated all who listened. Armand's movements were precise and calculated, every swing conveying boundless power. Lucian, on the other hand, moved with a graceful elegance, his every strike infused with a touch of unearthly finesse.  Time seemed to stand still as the two warriors engaged in their fierce dance of swords. The villagers watched in awe-struck silence, their eyes darting between the combatants, unable to predict the outcome of the monumental clash. Armand's strength and experience clashed against Lucian's unparalleled technique and speed. It was a battle of contrasts, where every parry and riposte held the weight of destiny.  The duel raged on for what felt like an eternity, each swordsman displaying unwavering determination and an unyielding spirit. The setting sun cast a warm glow over the spectacle, imbuing the final moments with an ethereal beauty. In one swift movement, Lucian's blade found an opening, striking Armand's armor and knocking him to the ground. The crowd gasped in collective disbelief, their admiration for both warriors unyielding.  Glowering down at his wounded opponent, Lucian extended a hand, offering Armand a chance to rise. With a nod of respect, Armand grasped the gesture, accepting his defeat with grace and humility. Though he had fallen in combat, the bond forged between the two swordsmen transcended victory and loss. They had witnessed the embodiment of true skill, and both earned the respect of the villagers.  From that day forward, Stonehaven became a bastion of martial prowess and camaraderie. The villagers turned the duel into a yearly event, celebrating the valor and skill displayed by Armand and Lucian. The profound impact of their duel inspired a generation of aspiring swordsmen, forever etching their names in the annals of the village. Armand and Lucian's story became a timeless legend, a testament to the power of action and the enduring legacy of a duel between skilled swordsmen.\n",
            "\n",
            "-----------------------------\n",
            "\n",
            "Data Point 10:\n",
            "ID: seed_task_9\n",
            "Story: In the realm of Vindranth, where emerald green meadows stretched out endlessly, stood the ancient city of Ardentia. Its stone walls boasted the tales of countless generations, and its people were known far and wide for their valor and courage. In the heart of the city, a young knight named Lysander spent his days training in the art of swordsmanship. With a heart enlightened by only the many legends of warrior's past, Lysander yearned for the day when he would embark on his own heroic journey.  News arrived in the city that the neighboring kingdom of Ravenholm was ravaged by a great evil. A ruthless sorcerer, known as Morvath the Terrible, had seized control and terrorized the land. Seeking glory and armed with a razor-sharp blade, Lysander volunteered to venture forth, leaving the safety of Ardentia behind.  As our valiant knight approached the border of Ravenholm, he could see the once vibrant fields drowned in darkness. The eerie silence that hung in the air was only broken by the distant howl of a lone wolf. Gripping the hilt of his sword, Lysander's heart pounded with anticipation as he ventured deeper into the kingdom.  Soon, Lysander found himself traversing a treacherous mountain pass, its jagged peaks clawing at the sky above. A sudden gust of wind carried with it a whispered warning - a tribe of merciless bandits awaited those foolish enough to challenge them. Undeterred, Lysander pressed on, ready to face any foes that crossed his path.  As the sun dipped below the mountains, casting long shadows across the land, Lysander stumbled upon a hidden glade nestled amidst the ancient trees. To his surprise, he found himself face-to-face with a fearsome warrior named Malachi. With a towering stature and a sword as wide as a man's arm, Malachi possessed an unmatched prowess and reputation for his epic swordsmanship.  Recognizing the brotherhood borne from the art of the blade, Malachi agreed to teach Lysander the secret techniques of a true swordsman. For days, Lysander and Malachi sparred under the moonlit sky, their swords clashing in a symphony of steel that echoed through the trees. With each passing day, Lysander's skill grew, and his determination reached new heights.  Empowered by his newfound confidence, Lysander pressed forward, confronting Morvath's minions with righteous fury. Swarms of wicked creatures lunged at him from every corner, but the young knight deflected and parried their attacks with precision. With the legendary swordsmanship of Ardentia coursing through his veins, Lysander defeated every foe that dared cross his path.  Finally, the day of reckoning arrived. In the heart of Ravenholm, upon a desolate battleground, Morvath the Terrible awaited his challenger. Dressed in dark robes and wielding a staff crackling with malevolent energy, the sorcerer exuded an aura of sheer malevolence. Yet, Lysander remained undeterred, his grip on his sword tightening as he faced his greatest adversary.  Their duel was nothing short of extraordinary. Sparks flew as steel clashed against sorcery, the sound reverberating through the barren lands. With every swing of his mighty blade, Lysander's resolve grew, channeling the spirits of the ancient warriors who once defended Vindranth. Slowly but surely, Morvath found himself overwhelmed by the knight's unwavering determination.  In one final strike, Lysander's blade pierced through the sorcerer's defenses, casting Morvath to the ground in defeat. Victory washed over Lysander as the dark forces that clouded Ravenholm dissipated with Morvath's defeat. The land rejoiced, and the people were freed from the grip of tyranny.  Returning to Ardentia as a triumphant hero, Lysander was hailed as a savior, his name forever etched in the annals of legend. However, his greatest reward lay not in the adoration of the masses but in the unwavering knowledge that he had made a difference, that he had answered the call to action, and forged his own epic tale with the sword at his side.  And so, in the realm of Vindranth, where the emerald fields danced in the gentle breeze, Lysander's tale lived on, inspiring generations to come to take up arms and face their own battles. The legacy of his epic sword fights remained eternally etched in the tapestry of history, reminding all who would listen that heroes are made in the crucible of action.\n",
            "\n",
            "-----------------------------\n",
            "\n"
          ]
        }
      ]
    },
    {
      "cell_type": "code",
      "source": [
        "from transformers import pipeline\n",
        "\n",
        "\n",
        "# Define the generator pipeline using the fine-tuned GPT-2 model and tokenizer\n",
        "generator = pipeline('text-generation', model='./gpt2-final-version', tokenizer='gpt2', pad_token_id=tokenizer.pad_token_id)\n",
        "\n",
        "# List to store generated stories\n",
        "generated_stories = []\n",
        "\n",
        "# Generate text based on the subset of the training dataset\n",
        "for example in subset_dataset:\n",
        "    # Extract the first 7 words from example['Story']\n",
        "    first_7_words = \" \".join(example['Story'].split()[:7])\n",
        "\n",
        "    # Create the test prompt using the extracted words\n",
        "    test_prompt = (\n",
        "        f\"### Instruction:\\nGenerate a story based on the following prompt:\\n\\n{first_7_words} \"\n",
        "    )\n",
        "\n",
        "    # Generate text based on the test prompt using the generator pipeline\n",
        "    generated_text = generator(test_prompt, max_length=128, num_return_sequences=1)\n",
        "\n",
        "    # Extract and store only the generated story\n",
        "    generated_story = generated_text[0]['generated_text'].split(\"### Instruction:\\nGenerate a story based on the following prompt:\\n\\n\")[1].strip()\n",
        "    generated_stories.append(generated_story)\n",
        "\n",
        "# Print or use the list of generated stories\n",
        "for idx, story in enumerate(generated_stories):\n",
        "    print(f\"Generated Story {idx + 1}:\\n{story}\")\n",
        "    print(\"------------------------------------------\")\n"
      ],
      "metadata": {
        "colab": {
          "base_uri": "https://localhost:8080/"
        },
        "id": "uoXcxIUw3pmb",
        "outputId": "effd7a3d-9df5-4696-c915-eb4f7c30eb0c"
      },
      "execution_count": 53,
      "outputs": [
        {
          "output_type": "stream",
          "name": "stdout",
          "text": [
            "Generated Story 1:\n",
            "In the bustling city of New York,  named, stood and It grand of the, towering architecture and and architecture intricate adorned architecture, with where its stood a architect renowned, to the of the intricate of a creativity, in - into a his creativity their the, and a, the sanctuary with in's to building the theirledled where known of skysc was renowned to a was of but by city, was of of city the story the architecture named by of and the namedled named the. was with. world Amid in of. of. inspiration world his\n",
            "------------------------------------------\n",
            "Generated Story 2:\n",
            "The sky stretched out before them, an  this the, a the clouds hung through the against with, air the nest a the the sky the,, the of stood rolling a, a, was war the of stood the the where had and a chaos conflict was a a conflict was hadered to to. of was lives from who of the chaos in and in soldiers a the.,-, the on the  the war chaos from. war the the horrors soldier despair. piercing of, the soldiers. to. and In of his With of a\n",
            "------------------------------------------\n",
            "Generated Story 3:\n",
            "In the midst of a bustling metropolis -.ers its the With. on. of, with known for.\" streets a named, street the was in with the with, where the a, life and known the where streets and and with for streets, a their,, and, mystery, this, a, streets place and in enigmatic, with and mystery of of to there peculiar inhabitants was young of had for that, and her the Amelia the urban,. streets her on night.  a and, the. labyrinth corner... upon Its\n",
            "------------------------------------------\n",
            "Generated Story 4:\n",
            "In the heart of a once-thriving metropolis,  stood its like of, the buildings, of, fa its buildings urban a the, architecture a facers a to as to, with streets fac in streets an of from to where of city the and where,, towering the with, the urban that fa, its the., the of thri of, urban this vibrant a  the its the,,. the of buildings theled The its and the, and where vibrant lived a the alley alley, urban theed stood the there through\n",
            "------------------------------------------\n",
            "Generated Story 5:\n",
            "In the gritty underbelly of a city  law a Vincent a his Vincent the and The the and for corruption law become to.. corruption. of corrupt their. life were a of,, to crime, city the, and he Vincent,'s by had. Vincent, and with the's citizens and for justiceelly city and,  himself The, years corrupt. to and, like and Vincent in.. a the, The innocent behind corrupt and, Vincent his toed with,, of.. of law him's of Vincent had his.\n",
            "------------------------------------------\n",
            "Generated Story 6:\n",
            "In the crumbling metropolis of Neo-Arkadia, a  was a Sk as theers below as was with an once Sk. buildings,,- its dystopian-ades of once sky, the ofers the dystopians theirrap, and therap, and fac, with, progress the the skysc of fac met a,, the,, the. had and future bleak Amid of stood The a Amid Amid. At  a their. a for Her a the of and The Sk. that,, her her of.. toadingades world\n",
            "------------------------------------------\n",
            "Generated Story 7:\n",
            "Amidst the inky blackness of the night,  a upon of It. The. the The.. aled It the the..,, The of of The shadows the. The was an where. and of the landscape that of stood a in of- the, that, of a, a place by towering figure eerie the had of and dil, we, eerie known by eerie, as, a, dil hadidated stood, with lur abandoned mansion who, the,, woman the lived that with past eerie, her and,. by\n",
            "------------------------------------------\n",
            "Generated Story 8:\n",
            "In a sprawling metropolis known as NeoCity,  there holog of as holog. holog through streets This of the their. to of Among. the- of life to and hair Amelia the her by eyes a and world her, her the mind herat technology the that world of holog the, that, and the of her and that augmented had boundaries that to the boundaries life virtual the were the the virtual in cyber of artificial and world city., realm human Amelia as of It in the Amelia She the Her mind's As had artificial own as of that the\n",
            "------------------------------------------\n",
            "Generated Story 9:\n",
            "Amidst the sprawling hills and enchanting groves  and With a its a vibrant a stood with in cob the a, by its.estone withenery was tap stood a the architecture,enery the a the stood its its, livedyll young that and herled her the forered of spirit a and life's a the her that for ins in her by her the's with of curiosity tales her her and and in her, a, of spent. for her, and and It of of. One. the stood. the andestone the, surrounded the\n",
            "------------------------------------------\n",
            "Generated Story 10:\n",
            "In the realm of Vindranth, where emerald  a thri throughires on a. It realm. with this and the.., through. through, village the a the, place named, for a and, the lives their. extraordinary to this place place., with and who  the an the extraordinary and of ancient mortals in of the that mortals mortals and were With, by, that beings eyes as her She to the ofing for, and heart beyond eyes she eyes, village that. She of the...ned had\n",
            "------------------------------------------\n"
          ]
        }
      ]
    },
    {
      "cell_type": "markdown",
      "source": [
        "# **BERTScore**\n",
        "* https://huggingface.co/spaces/evaluate-metric/bertscore"
      ],
      "metadata": {
        "id": "9a110rNUN-Hq"
      }
    },
    {
      "cell_type": "code",
      "source": [
        "!pip install evaluate"
      ],
      "metadata": {
        "colab": {
          "base_uri": "https://localhost:8080/"
        },
        "id": "HVj06YmpWdQf",
        "outputId": "cfa885b5-33e8-48d3-aeb0-bf8c2788d510"
      },
      "execution_count": 42,
      "outputs": [
        {
          "output_type": "stream",
          "name": "stdout",
          "text": [
            "Collecting evaluate\n",
            "  Downloading evaluate-0.4.1-py3-none-any.whl (84 kB)\n",
            "\u001b[?25l     \u001b[90m━━━━━━━━━━━━━━━━━━━━━━━━━━━━━━━━━━━━━━━━\u001b[0m \u001b[32m0.0/84.1 kB\u001b[0m \u001b[31m?\u001b[0m eta \u001b[36m-:--:--\u001b[0m\r\u001b[2K     \u001b[91m━━━━━━━━━━━━━━━━━━━━━━━━━━━━━\u001b[0m\u001b[90m╺\u001b[0m\u001b[90m━━━━━━━━━━\u001b[0m \u001b[32m61.4/84.1 kB\u001b[0m \u001b[31m1.9 MB/s\u001b[0m eta \u001b[36m0:00:01\u001b[0m\r\u001b[2K     \u001b[90m━━━━━━━━━━━━━━━━━━━━━━━━━━━━━━━━━━━━━━━━\u001b[0m \u001b[32m84.1/84.1 kB\u001b[0m \u001b[31m1.9 MB/s\u001b[0m eta \u001b[36m0:00:00\u001b[0m\n",
            "\u001b[?25hRequirement already satisfied: datasets>=2.0.0 in /usr/local/lib/python3.10/dist-packages (from evaluate) (2.16.1)\n",
            "Requirement already satisfied: numpy>=1.17 in /usr/local/lib/python3.10/dist-packages (from evaluate) (1.23.5)\n",
            "Requirement already satisfied: dill in /usr/local/lib/python3.10/dist-packages (from evaluate) (0.3.7)\n",
            "Requirement already satisfied: pandas in /usr/local/lib/python3.10/dist-packages (from evaluate) (1.5.3)\n",
            "Requirement already satisfied: requests>=2.19.0 in /usr/local/lib/python3.10/dist-packages (from evaluate) (2.31.0)\n",
            "Requirement already satisfied: tqdm>=4.62.1 in /usr/local/lib/python3.10/dist-packages (from evaluate) (4.66.1)\n",
            "Requirement already satisfied: xxhash in /usr/local/lib/python3.10/dist-packages (from evaluate) (3.4.1)\n",
            "Requirement already satisfied: multiprocess in /usr/local/lib/python3.10/dist-packages (from evaluate) (0.70.15)\n",
            "Requirement already satisfied: fsspec[http]>=2021.05.0 in /usr/local/lib/python3.10/dist-packages (from evaluate) (2023.6.0)\n",
            "Requirement already satisfied: huggingface-hub>=0.7.0 in /usr/local/lib/python3.10/dist-packages (from evaluate) (0.20.2)\n",
            "Requirement already satisfied: packaging in /usr/local/lib/python3.10/dist-packages (from evaluate) (23.2)\n",
            "Collecting responses<0.19 (from evaluate)\n",
            "  Downloading responses-0.18.0-py3-none-any.whl (38 kB)\n",
            "Requirement already satisfied: filelock in /usr/local/lib/python3.10/dist-packages (from datasets>=2.0.0->evaluate) (3.13.1)\n",
            "Requirement already satisfied: pyarrow>=8.0.0 in /usr/local/lib/python3.10/dist-packages (from datasets>=2.0.0->evaluate) (10.0.1)\n",
            "Requirement already satisfied: pyarrow-hotfix in /usr/local/lib/python3.10/dist-packages (from datasets>=2.0.0->evaluate) (0.6)\n",
            "Requirement already satisfied: aiohttp in /usr/local/lib/python3.10/dist-packages (from datasets>=2.0.0->evaluate) (3.9.1)\n",
            "Requirement already satisfied: pyyaml>=5.1 in /usr/local/lib/python3.10/dist-packages (from datasets>=2.0.0->evaluate) (6.0.1)\n",
            "Requirement already satisfied: typing-extensions>=3.7.4.3 in /usr/local/lib/python3.10/dist-packages (from huggingface-hub>=0.7.0->evaluate) (4.5.0)\n",
            "Requirement already satisfied: charset-normalizer<4,>=2 in /usr/local/lib/python3.10/dist-packages (from requests>=2.19.0->evaluate) (3.3.2)\n",
            "Requirement already satisfied: idna<4,>=2.5 in /usr/local/lib/python3.10/dist-packages (from requests>=2.19.0->evaluate) (3.6)\n",
            "Requirement already satisfied: urllib3<3,>=1.21.1 in /usr/local/lib/python3.10/dist-packages (from requests>=2.19.0->evaluate) (2.0.7)\n",
            "Requirement already satisfied: certifi>=2017.4.17 in /usr/local/lib/python3.10/dist-packages (from requests>=2.19.0->evaluate) (2023.11.17)\n",
            "Requirement already satisfied: python-dateutil>=2.8.1 in /usr/local/lib/python3.10/dist-packages (from pandas->evaluate) (2.8.2)\n",
            "Requirement already satisfied: pytz>=2020.1 in /usr/local/lib/python3.10/dist-packages (from pandas->evaluate) (2023.3.post1)\n",
            "Requirement already satisfied: attrs>=17.3.0 in /usr/local/lib/python3.10/dist-packages (from aiohttp->datasets>=2.0.0->evaluate) (23.2.0)\n",
            "Requirement already satisfied: multidict<7.0,>=4.5 in /usr/local/lib/python3.10/dist-packages (from aiohttp->datasets>=2.0.0->evaluate) (6.0.4)\n",
            "Requirement already satisfied: yarl<2.0,>=1.0 in /usr/local/lib/python3.10/dist-packages (from aiohttp->datasets>=2.0.0->evaluate) (1.9.4)\n",
            "Requirement already satisfied: frozenlist>=1.1.1 in /usr/local/lib/python3.10/dist-packages (from aiohttp->datasets>=2.0.0->evaluate) (1.4.1)\n",
            "Requirement already satisfied: aiosignal>=1.1.2 in /usr/local/lib/python3.10/dist-packages (from aiohttp->datasets>=2.0.0->evaluate) (1.3.1)\n",
            "Requirement already satisfied: async-timeout<5.0,>=4.0 in /usr/local/lib/python3.10/dist-packages (from aiohttp->datasets>=2.0.0->evaluate) (4.0.3)\n",
            "Requirement already satisfied: six>=1.5 in /usr/local/lib/python3.10/dist-packages (from python-dateutil>=2.8.1->pandas->evaluate) (1.16.0)\n",
            "Installing collected packages: responses, evaluate\n",
            "Successfully installed evaluate-0.4.1 responses-0.18.0\n"
          ]
        }
      ]
    },
    {
      "cell_type": "code",
      "source": [
        "!pip install bert_score"
      ],
      "metadata": {
        "colab": {
          "base_uri": "https://localhost:8080/"
        },
        "id": "h11J_xJjWnmi",
        "outputId": "b2af6d96-7638-4d5e-f15f-3e3fdd89723f"
      },
      "execution_count": 44,
      "outputs": [
        {
          "output_type": "stream",
          "name": "stdout",
          "text": [
            "Collecting bert_score\n",
            "  Downloading bert_score-0.3.13-py3-none-any.whl (61 kB)\n",
            "\u001b[?25l     \u001b[90m━━━━━━━━━━━━━━━━━━━━━━━━━━━━━━━━━━━━━━━━\u001b[0m \u001b[32m0.0/61.1 kB\u001b[0m \u001b[31m?\u001b[0m eta \u001b[36m-:--:--\u001b[0m\r\u001b[2K     \u001b[91m━━━━━━━━━━━━━━━━━━━━━━━━━━━━━━━━━\u001b[0m\u001b[90m╺\u001b[0m\u001b[90m━━━━━━\u001b[0m \u001b[32m51.2/61.1 kB\u001b[0m \u001b[31m1.6 MB/s\u001b[0m eta \u001b[36m0:00:01\u001b[0m\r\u001b[2K     \u001b[90m━━━━━━━━━━━━━━━━━━━━━━━━━━━━━━━━━━━━━━━━\u001b[0m \u001b[32m61.1/61.1 kB\u001b[0m \u001b[31m1.4 MB/s\u001b[0m eta \u001b[36m0:00:00\u001b[0m\n",
            "\u001b[?25hRequirement already satisfied: torch>=1.0.0 in /usr/local/lib/python3.10/dist-packages (from bert_score) (2.1.0+cu121)\n",
            "Requirement already satisfied: pandas>=1.0.1 in /usr/local/lib/python3.10/dist-packages (from bert_score) (1.5.3)\n",
            "Requirement already satisfied: transformers>=3.0.0 in /usr/local/lib/python3.10/dist-packages (from bert_score) (4.36.2)\n",
            "Requirement already satisfied: numpy in /usr/local/lib/python3.10/dist-packages (from bert_score) (1.23.5)\n",
            "Requirement already satisfied: requests in /usr/local/lib/python3.10/dist-packages (from bert_score) (2.31.0)\n",
            "Requirement already satisfied: tqdm>=4.31.1 in /usr/local/lib/python3.10/dist-packages (from bert_score) (4.66.1)\n",
            "Requirement already satisfied: matplotlib in /usr/local/lib/python3.10/dist-packages (from bert_score) (3.7.1)\n",
            "Requirement already satisfied: packaging>=20.9 in /usr/local/lib/python3.10/dist-packages (from bert_score) (23.2)\n",
            "Requirement already satisfied: python-dateutil>=2.8.1 in /usr/local/lib/python3.10/dist-packages (from pandas>=1.0.1->bert_score) (2.8.2)\n",
            "Requirement already satisfied: pytz>=2020.1 in /usr/local/lib/python3.10/dist-packages (from pandas>=1.0.1->bert_score) (2023.3.post1)\n",
            "Requirement already satisfied: filelock in /usr/local/lib/python3.10/dist-packages (from torch>=1.0.0->bert_score) (3.13.1)\n",
            "Requirement already satisfied: typing-extensions in /usr/local/lib/python3.10/dist-packages (from torch>=1.0.0->bert_score) (4.5.0)\n",
            "Requirement already satisfied: sympy in /usr/local/lib/python3.10/dist-packages (from torch>=1.0.0->bert_score) (1.12)\n",
            "Requirement already satisfied: networkx in /usr/local/lib/python3.10/dist-packages (from torch>=1.0.0->bert_score) (3.2.1)\n",
            "Requirement already satisfied: jinja2 in /usr/local/lib/python3.10/dist-packages (from torch>=1.0.0->bert_score) (3.1.2)\n",
            "Requirement already satisfied: fsspec in /usr/local/lib/python3.10/dist-packages (from torch>=1.0.0->bert_score) (2023.6.0)\n",
            "Requirement already satisfied: triton==2.1.0 in /usr/local/lib/python3.10/dist-packages (from torch>=1.0.0->bert_score) (2.1.0)\n",
            "Requirement already satisfied: huggingface-hub<1.0,>=0.19.3 in /usr/local/lib/python3.10/dist-packages (from transformers>=3.0.0->bert_score) (0.20.2)\n",
            "Requirement already satisfied: pyyaml>=5.1 in /usr/local/lib/python3.10/dist-packages (from transformers>=3.0.0->bert_score) (6.0.1)\n",
            "Requirement already satisfied: regex!=2019.12.17 in /usr/local/lib/python3.10/dist-packages (from transformers>=3.0.0->bert_score) (2023.6.3)\n",
            "Requirement already satisfied: tokenizers<0.19,>=0.14 in /usr/local/lib/python3.10/dist-packages (from transformers>=3.0.0->bert_score) (0.15.0)\n",
            "Requirement already satisfied: safetensors>=0.3.1 in /usr/local/lib/python3.10/dist-packages (from transformers>=3.0.0->bert_score) (0.4.1)\n",
            "Requirement already satisfied: contourpy>=1.0.1 in /usr/local/lib/python3.10/dist-packages (from matplotlib->bert_score) (1.2.0)\n",
            "Requirement already satisfied: cycler>=0.10 in /usr/local/lib/python3.10/dist-packages (from matplotlib->bert_score) (0.12.1)\n",
            "Requirement already satisfied: fonttools>=4.22.0 in /usr/local/lib/python3.10/dist-packages (from matplotlib->bert_score) (4.47.0)\n",
            "Requirement already satisfied: kiwisolver>=1.0.1 in /usr/local/lib/python3.10/dist-packages (from matplotlib->bert_score) (1.4.5)\n",
            "Requirement already satisfied: pillow>=6.2.0 in /usr/local/lib/python3.10/dist-packages (from matplotlib->bert_score) (9.4.0)\n",
            "Requirement already satisfied: pyparsing>=2.3.1 in /usr/local/lib/python3.10/dist-packages (from matplotlib->bert_score) (3.1.1)\n",
            "Requirement already satisfied: charset-normalizer<4,>=2 in /usr/local/lib/python3.10/dist-packages (from requests->bert_score) (3.3.2)\n",
            "Requirement already satisfied: idna<4,>=2.5 in /usr/local/lib/python3.10/dist-packages (from requests->bert_score) (3.6)\n",
            "Requirement already satisfied: urllib3<3,>=1.21.1 in /usr/local/lib/python3.10/dist-packages (from requests->bert_score) (2.0.7)\n",
            "Requirement already satisfied: certifi>=2017.4.17 in /usr/local/lib/python3.10/dist-packages (from requests->bert_score) (2023.11.17)\n",
            "Requirement already satisfied: six>=1.5 in /usr/local/lib/python3.10/dist-packages (from python-dateutil>=2.8.1->pandas>=1.0.1->bert_score) (1.16.0)\n",
            "Requirement already satisfied: MarkupSafe>=2.0 in /usr/local/lib/python3.10/dist-packages (from jinja2->torch>=1.0.0->bert_score) (2.1.3)\n",
            "Requirement already satisfied: mpmath>=0.19 in /usr/local/lib/python3.10/dist-packages (from sympy->torch>=1.0.0->bert_score) (1.3.0)\n",
            "Installing collected packages: bert_score\n",
            "Successfully installed bert_score-0.3.13\n"
          ]
        }
      ]
    },
    {
      "cell_type": "code",
      "source": [
        "!pip install sacrebleu"
      ],
      "metadata": {
        "colab": {
          "base_uri": "https://localhost:8080/"
        },
        "id": "QnAgvC9Eam6Z",
        "outputId": "6049e73e-1212-40fa-c7bf-8bf2c5d0526d"
      },
      "execution_count": 56,
      "outputs": [
        {
          "output_type": "stream",
          "name": "stdout",
          "text": [
            "Collecting sacrebleu\n",
            "  Downloading sacrebleu-2.4.0-py3-none-any.whl (106 kB)\n",
            "\u001b[2K     \u001b[90m━━━━━━━━━━━━━━━━━━━━━━━━━━━━━━━━━━━━━━━━\u001b[0m \u001b[32m106.3/106.3 kB\u001b[0m \u001b[31m2.2 MB/s\u001b[0m eta \u001b[36m0:00:00\u001b[0m\n",
            "\u001b[?25hCollecting portalocker (from sacrebleu)\n",
            "  Downloading portalocker-2.8.2-py3-none-any.whl (17 kB)\n",
            "Requirement already satisfied: regex in /usr/local/lib/python3.10/dist-packages (from sacrebleu) (2023.6.3)\n",
            "Requirement already satisfied: tabulate>=0.8.9 in /usr/local/lib/python3.10/dist-packages (from sacrebleu) (0.9.0)\n",
            "Requirement already satisfied: numpy>=1.17 in /usr/local/lib/python3.10/dist-packages (from sacrebleu) (1.23.5)\n",
            "Collecting colorama (from sacrebleu)\n",
            "  Downloading colorama-0.4.6-py2.py3-none-any.whl (25 kB)\n",
            "Requirement already satisfied: lxml in /usr/local/lib/python3.10/dist-packages (from sacrebleu) (4.9.4)\n",
            "Installing collected packages: portalocker, colorama, sacrebleu\n",
            "Successfully installed colorama-0.4.6 portalocker-2.8.2 sacrebleu-2.4.0\n"
          ]
        }
      ]
    },
    {
      "cell_type": "code",
      "source": [
        "print(story_list)"
      ],
      "metadata": {
        "colab": {
          "base_uri": "https://localhost:8080/"
        },
        "id": "MkGgt3ghXezZ",
        "outputId": "1c45b7eb-3f01-4e14-e096-41f88efba749"
      },
      "execution_count": 50,
      "outputs": [
        {
          "output_type": "stream",
          "name": "stdout",
          "text": [
            "['In the bustling city of New York, where the neon lights flickered and the sound of traffic reverberated through the streets, lived a man named Ethan Sullivan. With his chiseled jawline, piercing blue eyes, and a physique carved by years of training, Ethan possessed an air of mystery that intrigued those who crossed his path. He lived a solitary life in a modest apartment, spending his days as an accountant, his nights cloaked in shadows and secrecy.  One fateful morning, as the city awoke to the rhythmic beat of its own heartbeat, Ethan received a cryptic message on a burner phone. It simply stated, \"They\\'re coming for you.\" His heart quickened, and a wave of apprehension washed over him. Who were \"they,\" and why were they after him? Ethan\\'s blood ran cold, fueling a surge of adrenaline that urged him to take action.  Without a moment\\'s hesitation, Ethan gathered his meager belongings and made his way to a hidden room beneath his apartment. The room, concealed behind a bookshelf, was a secret sanctuary where he had spent countless hours honing his skills and preparing for the unknown. As he descended the narrow staircase, the walls whispered tales of peril and resilience, fueling his determination.  Days turned into nights, and the hunt for Ethan intensified. He navigated the city\\'s labyrinthine underworld, seeking answers to the questions that shadowed his every step. His pursuit brought him face to face with a network of spies, double agents, and dangerous mercenaries, all entangled in a web of deception. Ethan\\'s resilience was pushed to its limits as he evaded their clutches, relying on his training and instincts to outwit his adversaries.  Amidst the chaos, Ethan discovered a hidden connection between himself and the mysterious organization that sought his demise. Unbeknownst to him, he possessed an uncanny ability to unlock long-dormant memories, memories that held the key to an ancient artifact rumored to possess unimaginable power. This revelation marked a turning point in his quest, as he realized that his actions were not only a matter of personal survival but threatened the delicate balance of the entire world.  With newfound purpose, Ethan embarked on a perilous journey across continents, battling foes and confronting the ghosts of his past. He delved into ancient texts, deciphering cryptic symbols and untangling riddles that led him closer to the artifact\\'s secret location. The world around him trembled, unaware of the cataclysmic power that awaited should the artifact fall into the wrong hands.  In the heart of the Amazon rainforest, amidst lush foliage and echoing wildlife, Ethan reached the sacred temple where the artifact lay hidden. The air crackled with anticipation as he overcame treacherous trials, testing both his physical and mental prowess. With each obstacle conquered, his purpose grew clearer, his resolve unyielding.  Finally, standing on the precipice of destiny, Ethan found himself face to face with his nemesis, the orchestrator of his torment. A battle of wills ensued, each combatant matching the other blow for blow, weaving a deadly dance of strength and strategy. It was a battle that transcended the physical, a clash between opposing ideologies.  In the end, it was Ethan\\'s unwavering determination that prevailed. With a final, decisive strike, he thwarted his enemy\\'s plans and secured the artifact, safeguarding the world from its malevolence. The weight of his actions settled upon him, and as he gazed upon the artifact, he understood the responsibility that came with its power.  With the threat vanquished and the world saved, Ethan\\'s journey drew to a close. He returned to his solitary life in New York, no longer haunted by the phantom of impending danger. Yet, his actions had left an indelible mark upon his soul, a reminder that even in the face of insurmountable odds, one individual could make a difference. And with that knowledge, Ethan Sullivan embraced the path that lay ahead of him, ready to face whatever challenges may come his way.', 'The sky stretched out before them, an endless expanse of blue pierced only by fluffy white clouds. The air crackled with the anticipation of action as the squadron gathered at the airfield, their sleek fighter jets gleaming under the noon sun. Among the pilots was Captain Joshua Bennett, a seasoned veteran with eyes as sharp as a hawk\\'s, and a heart that beat with the rhythm of war.  Set in the midst of a raging conflict, the story takes place during the height of World War II. Captain Bennett, a fearless and daring leader, had earned his reputation through countless successful missions. He was known for his audacious maneuvers and masterful control of aircraft, traits that instilled confidence in every member of his squadron.  Their current mission was crucial - they were tasked with intercepting and neutralizing a squadron of enemy bombers bound for a nearby heavily fortified city. The stakes were high; failure meant devastation for countless lives on the ground. But failure was not an option for Captain Bennett and his men.  As they climbed into their cockpits, each pilot embraced the danger that lay ahead. The roar of engines filled the air, drowning out all other sounds. The planes taxied onto the runway, lined up with military precision. The countdown began, the moment drawing closer with each passing second.  With a thunderous roar, the planes rocketed into the clear blue sky. Wings unfolded, propellers spun, and the pilots adjusted their throttles to find the perfect balance of speed and maneuverability. The rush of wind whipped their faces as they gained altitude, soaring towards their destiny.  As they closed in on the enemy formation, the first hints of adrenaline coursed through their veins. The lead bomber came into view, its gray monstrosity blotting out the sun. It was a formidable target, bristling with defensive guns and encased in heavy armor.  Captain Bennett\\'s voice broke through the radio static, calm yet tinged with intensity. \"Stick to the plan, gentlemen. Stay in formation, and watch each other\\'s backs.\" The squadron spread their wings and formed a protective wall around their leader. It was time to engage.  In a dazzling display of aerial acrobatics and precision, the dogfight began. Fighter jets darted and weaved through the air, leaving white contrails in their wake. The deafening roar of engines mingled with the staccato bursts of gunfire. Maneuvers honed through countless hours of training were put to the test as the pilots pushed themselves to the limits.  Enemy tracers wove through the sky like deadly ribbons, threatening to tear the squadron apart. Captain Bennett\\'s instincts kicked in, his eyes scanning the chaotic battlefield, searching for weak points. He made split-second decisions, radioing commands to his men as they fought tooth and nail against their adversaries.  Bullets grazed wings, but the pilots pressed on, clinging to that indomitable spirit of victory. They danced with death, their every move calculated and executed with utmost precision. Captain Bennett, like a maestro directing an orchestra, orchestrated the deadly symphony of war, leading his men with unwavering determination.  As the fight raged on, the squadron\\'s efforts began to bear fruit. One enemy bomber after another plummeted from the sky, engulfed in billowing flames. The sky turned into a kaleidoscope of smoke and fire, a testament to their courage and skill. The tide began to turn, the remaining enemy formations faltering under the relentless onslaught.  And then, silence fell upon the battlefield. The enemy bombers lay shattered and defeated, scattered like forlorn chess pieces across the sky. The squadron, weary yet triumphant, regrouped in a display of unity and solidarity.  Captain Bennett\\'s voice broke through the radio once again, this time filled with pride. \"Well done, gentlemen. Another victory for the history books.\" The cheers of his comrades echoed in the air, mingling with the sea breeze.  As the planes headed back to base, engines humming in synchrony, the captain couldn\\'t help but smile. They had prevailed against all odds, proving their mettle in the crucible of combat. He knew that their actions had made a difference, had saved lives, and kept hope alive in the hearts of those on the ground.  Their legacy as warriors in the skies would forever be remembered, etched in the annals of history. And Captain Joshua Bennett, the fearless leader who led his squadron with unwavering resolve, would forever be hailed as a hero, a beacon of courage in the darkest of times.', 'In the midst of a bustling metropolis teeming with skyscrapers that seemingly touched the heavens, nestled a small and unassuming garage. It belonged to Ethan, a young and brilliant engineer consumed by his insatiable thirst for innovation and adventure. With grease-stained hands and a mind full of ideas, he spent every waking hour tinkering and crafting marvelous inventions that could turn dreams into reality.  One fateful afternoon, while rummaging through a box filled with ancient blueprints, Ethan stumbled upon a peculiar schematic. It depicted a colossal machine, a menacing giant robot with gleaming steel limbs and an aura of unstoppable power. Intrigued and fascinated, he couldn\\'t resist the temptation to bring this mechanical behemoth to life.  Days turned into weeks, and nights melted away as Ethan toiled tirelessly in his secluded workshop, pouring every ounce of his skill and determination into the construction of his masterpiece. Finally, after countless sleepless nights, his creation stood before him in all its majestic glory - a formidable mech equipped with an array of devastating weapons, ready to challenge any foe that dared face it.  News of Ethan\\'s extraordinary creation spread like wildfire across the city, catching the attention of a notorious and power-hungry conglomerate known as IronCorp Industries. Their enigmatic leader, Raymond Blackwood, was a zealous man who sought to dominate the world using an army of unstoppable robots. Enraged by the presence of a potential rival, Blackwood devised a sinister plan to steal Ethan\\'s invention, ensuring his own hegemony remained unchallenged.  As dusk settled over the city, Ethan climbed into the cockpit of his mighty mech, aptly named \"Ironfire,\" and prepared for battle. He had heard whispers of IronCorp\\'s plans and knew that he must act swiftly to protect his creation, and by extension, the very heart of innovation itself.  Engulfed in the shadows, Ethan set out on a perilous journey through the dimly lit streets, radar systems humming softly as he tracked the movements of IronCorp\\'s relentless forces. Every corner of the city seemed to pulsate with danger, each alleyway hiding a potential ambush. But Ethan\\'s resolve burned bright, and with every step, his heart raced with a mix of anticipation and desperation.  Finally, deep within the heart of an abandoned factory, a cacophony of metallic growls echoed ominously. Ironfire stepped forward, ready to face an army of imposing IronCorp robots driven by malice and greed. As the battle raged on, Ethan\\'s instincts and intimate knowledge of his creation guided him. He evaded crushing blows and countered with devastating precision, each strike in perfect harmony with the symphony of danger that surrounded him.  In a climactic clash of metal and might, Ironfire unleashed a powerful surge of energy that coursed through the remnants of IronCorp\\'s defeated robots. Sparks danced and smoke filled the air, the battle leaving nothing but a wake of debris in its path. Ethan stood triumphant, having defended his creation and regained his vision of a world where innovation thrived untethered.  Word of Ethan\\'s heroic victory spread throughout the city, and he became a legend, a symbol of defiance against corporate tyranny. IronCorp, left in shambles, retreated into the shadows, their dreams of domination shattered. From that day forward, the city monumentally shifted, embracing a new era where aspiring inventors and unyielding dreamers were celebrated and cherished.  As the sun set on the horizon, bathing the city in hues of crimson and gold, Ethan surveyed the landscape that had once been plagued by darkness. A smile graced his lips, knowing that he had played a pivotal role in defending the very essence of action and innovation against overwhelming odds. And with newfound hope in his heart, he embarked on a journey to inspire a generation and forge a future where dreams knew no boundaries.', \"In the heart of a once-thriving metropolis, now reduced to a desolate wasteland, a lone figure emerged from the shadows. Leather-clad and armed to the teeth, his name was Gabriel. Standing at the precipice of an abandoned street, he surveyed the remnants of what was once a bustling city. Hollowed buildings loomed like guardians of a forgotten time, their broken windows reflecting the glimmers of an apocalyptic twilight.  It had been years since the outbreak, the virus that turned ordinary people into ravenous zombies. Gabriel, a former army officer, had become a symbol of hope in this desolate world. With his unwavering determination and unparalleled combat skills, he had earned the respect of fellow survivors. But there was one mission that haunted his every step – the hunt for Patient Zero, the source of this unspeakable horror.  As Gabriel patrolled the remnants of humanity's domain, a garbled transmission pierced the silence, crackling with static. It was a distress call from a nearby settlement. He hesitated for a moment, torn between his undying pursuit and the plight of innocents in need. His duty prevailed, and he set off towards the desperate cries of his fellow survivors.  Arriving at the settlement, Gabriel found himself face to face with chaos. The once-peaceful refuge had been overrun by hordes of infected. Their guttural moans filled the air as they mindlessly tore through barricades and devoured any living thing in their path. Amidst the bedlam, a young woman named Ava caught Gabriel's eye. Fearlessly armed with her own makeshift weapons, she fought valiantly to protect the last remnants of her community.  Recognizing her grit, Gabriel teamed up with Ava to stem the tide of the infected. Together, they forged a path through the chaos, leaving a trail of fallen zombies in their wake. Their teamwork was seamless, as if forged in the fires of adversity. Gabriel marveled at Ava's resilience and fiery determination as they battled side by side. It was a beacon of light in a world veiled in darkness.  Their efforts culminated in a climactic showdown with a particularly formidable horde. Surrounded, Gabriel and Ava fought with unmatched ferocity. Their weapons whirled through the air, dispatching zombie after zombie. Every strike was executed flawlessly, guided by their shared purpose. In the final moments, Gabriel unleashed a torrent of bullets, decimating the horde.  Exhausted but triumphant, Gabriel and Ava watched as the last of the infected crumpled to the ground. The settlement, once teetering on the edge of destruction, was saved. Gabriel couldn't help but feel a surge of admiration for Ava's indomitable spirit. In her, he discovered a kindred soul - a warrior forged by the unforgiving battleground of a post-apocalyptic world.  With the settlement secured, Gabriel and Ava returned to their never-ending mission - the search for Patient Zero. Fuelled by their recent victory, their resolve grew stronger. They scoured the remnants of civilization, following leads and piecing together clues with dogged determination. And finally, after countless battles and near-death experiences, they unearthed a hidden facility concealing the truth.  Within its sterile walls lay the answer to their questions - the true origin of the virus that had decimated their world. Patient Zero, a shadowy figure named Dr. Emil Reinhardt, had been consumed by the very entity he had created. The duo confronted the fallen scientist, his twisted form bearing evidence of his monstrous experiments. With a final burst of strength, Gabriel and Ava ended the life of the man who had unleashed this plague.  In the aftermath, as Gabriel and Ava surveyed the smoldering ruins of the facility, a sense of bitter victory washed over them. The battle against the infected hordes would continue, but a small semblance of justice had been attained. With renewed purpose and an unbreakable bond, they vowed to push forward, fighting relentlessly until the world they once knew was restored.  United by their resilience and unwavering courage, Gabriel and Ava became legends whispered in the ears of survivors, igniting a dwindling flame of hope in the darkest corners of the earth. In a world ravaged by zombies and despair, their actions spoke louder than words, inspiring others to rise against the encroaching tide of darkness.\", 'In the gritty underbelly of a city plagued by crime, Detective John Anderson was a tenacious force to be reckoned with. Tall and lean, with a sharp jawline and piercing blue eyes, he exuded an aura of unwavering determination. The city had become his battleground, and the criminals feared his name.  The whispers on the streets spoke of a notorious criminal mastermind known as \"The Phantom.\" No one had ever seen his face, and his crimes left the police baffled. Like a phantom, he slipped through their fingers, leaving no trace behind. Detective Anderson was obsessed with catching him, a relentless pursuit that consumed his every waking moment.  Late one stormy evening, as the rain poured mercilessly, Detective Anderson received a tip that The Phantom was planning a heist at the city\\'s prestigious art museum. Determined to finally corner his elusive adversary, Anderson made his way to the darkened museum, the faint glow of the moon highlighting his determined gaze.  Inside the museum, the tension thickened as Anderson explored the labyrinthine corridors and galleries. True to his name, The Phantom seemed to be everywhere and nowhere all at once. Paintings were stolen, alarms were triggered, and yet the criminal remained elusive. It was a cat and mouse game, each move meticulously planned, leaving Anderson scrambling to anticipate the next.  Days turned into weeks, and the city grew restless, with each passing moment the grip of fear tightened. The newspapers were filled with headlines screaming of a criminal genius outsmarting the police force at every turn. But Detective Anderson remained undeterred, fueled by a relentless desire for justice.  One fateful night, Anderson received a cryptic message, informing him that The Phantom would strike at the city\\'s grand opera house. Racing against time, he stormed into the opulent theater as the first notes of a symphony filled the air. The tension palpable, Anderson carefully weaved his way through the crowd, his eyes scanning for any suspicious individuals.  As the performance reached its crescendo, a sudden commotion erupted. The lights flickered, and chaos ensued. Anderson instinctively sprinted towards the source of the disturbance. In a darkened corner, he caught a glimpse of a figure he knew all too well. The Phantom.  A chase ensued through the labyrinthine backstage area, their footsteps echoing like thunder. Anderson\\'s heart pounded in his chest as he closed in on his prey. With each twist and turn, he felt the thrum of adrenaline course through his veins, propelling him forward.  Finally, in a moment of sheer determination, Anderson tackled The Phantom to the ground, their bodies colliding with a resounding thud. As they wrestled on the cold floor, Anderson\\'s grip tightened, his fingers digging into the criminal\\'s flesh. The long-awaited arrest was within his grasp.  With the handcuffs securely fastened around The Phantom\\'s wrists, Anderson couldn\\'t help but feel a mix of triumph and relief. The city could finally breathe a sigh of relief, knowing that justice had prevailed. It was a victory hard-fought, a testament to the determination and unwavering resolve of one man.  As the sirens wailed in the distance, Anderson looked down at his defeated adversary, the rain washing away the masquerade of anonymity from The Phantom\\'s face. The eyes staring back at him were filled with a mix of defeat and begrudging respect. An unspoken recognition passed between them, as if they were two sides of the same coin, forever destined to dance this dangerous dance.  And so, as the rain continued to pour, Detective John Anderson stood victorious in the darkness, a testament to the indomitable spirit of those who refuse to falter in the face of evil. The city would remember his name, just as The Phantom would forever be etched in the annals of criminal history. The cat and mouse game had reached its climax, leaving behind a trail of broken illusions and hard-fought triumphs.', \"In the crumbling metropolis of Neo-Arkadia, a city teetering on the brink of chaos, rival gangs waged war for control over scarce resources. Dilapidated skyscrapers stood tall, their shattered windows reflecting the desolation that shrouded the once-thriving urban landscape. Among this dystopian backdrop, two formidable gangs emerged as the most powerful contenders: the Razor Wings and the Shadow Serpents.  The city's unmistakable staleness hung in the air as the sun dipped below the horizon, casting long shadows across the cracked pavement. The Red Sector, a territory claimed by the Shadow Serpents, pulsated with an otherworldly energy. Led by the enigmatic and ruthless Viper, the gang thrived in the darkness, leaving a trail of chaos and blood in their wake.  In stark contrast, the Blue Sector was the bastion of the Razor Wings. Led by the charismatic yet relentless Phoenix, they were the embodiment of unruly rebellion. Their numbers may have been smaller, but their will to fight was unmatched. The graffiti-covered walls of their stronghold echoed with whispered rumors of their plans to overthrow the Shadow Serpents and restore balance to the decaying city.  As tensions heightened, fate trembled upon a solitary moment. On the eve of the city's annual Nightfall Festival, whispers of an all-out confrontation between the two gangs swirled through the dilapidated streets. The Nightfall Festival, a rare celebration in this bleak existence, invited both gangs to a truce for one night. It was an opportunity seeded with the promise of peace, yet primed to ignite a cataclysmic clash.  The streets thrummed with anticipation, every neon sign flickering with a touch of menace. The colorful streamers that adorned the lamp posts seemed out of place, like desperate pleas for hope in a world devoid of it. The festival grounds were a whirlwind of activity, the air filled with the scent of sizzling street food and the symphony of laughter and music, tinged with an undercurrent of tension.  As the clock struck midnight, the stage was set, the city holding its breath. The crowd parted like the Red Sea as Viper, clad in a cloak of shadow, made his grand entrance, flanked by his loyal Serpents. Phoenix, his gaze unwavering, countered with the audacity of youth, leading the Razor Wings forward.  With bated breath, Neo-Arkadia watched as the cacophony of conflict unfolded. Fists flew through the air, creating a symphony of impact. The neon glow illuminated their faces, etching the ferocity in their eyes. The clashes were both fierce and calculated, a ballet of destruction that danced upon the razors' edge.  Amidst the chaos, a glimmer of hope emerged. A young woman, an outsider named Ember, maneuvered through the chaos, a spark of defiance ignited within her. Inspired by the determination of both gangs, she sought to bridge the divide and create a truce that transcended the blood-soaked street.  With her heart pounding in her chest, Ember maneuvered through the battlefield, dodging blows and leaping over obstacles. Her voice reverberated through the shattered cityscape, a beacon of unity in the relentless storm. Her words cascaded like a soothing rain, washing away the deep-rooted animosity that had consumed them.  Slowly, the Razor Wings and the Shadow Serpents began to lower their weapons. Eyes met across the battlefield, once filled with rage, now softened by the ember of shared humanity. Defying the decay that had plagued their lives, they stood united, embracing the possibility of a brighter future.  As dawn broke over the horizon, the city stirred from its slumber, forever transformed. The rival gangs, once locked in a bitter struggle, found a fragile alliance forged in the crucible of battle. Under a new banner, the united factions worked tirelessly to rebuild their crumbling home, turning the ravaged concrete jungle into an oasis of resilience and hope.  And so, Neo-Arkadia dared to dream of a world where the echoes of conflict faded into whispers of the past, where hearts, once entwined by hatred, birthed a harmony that resonated throughout the city's rebirth. In this dystopian future, action had kindled the fire of change, casting aside the chains that had bound them and leading them toward a future rebuilt on the foundations of unity.\", \"Amidst the inky blackness of the night, a seamless curtain of shadows unfurled itself over the dense wilderness. In the heart of a war-torn nation, nestled between towering mountains and treacherous valleys, lay a remote enemy stronghold. It was here that the fate of an entire nation teetered on the precipice of destruction. Behind the menacing gates and fortified walls, the nefarious General Viktor Verenov reigned supreme, orchestrating his malevolent plans in secret.  In this harrowing landscape, emerged our indomitable hero, Captain Ethan Reynolds, an elite operative trained in the art of covert warfare. With a lean and chiseled physique, Ethan's eyes burned with a fierce determination, his every muscle honed to perfection. Tasked with a critical mission that could turn the tides of battle, he found himself alone, deep behind enemy lines.  As the moon cast its pale light upon the sprawling compound, Ethan stealthily weaved through the labyrinthine corridors, his senses heightened and alert. Every step was calculated, every breath controlled, as he evaded the vigilant guards patrolling the area. His mission was clear: to retrieve vital intelligence that would expose General Verenov's nefarious plans and bring an end to his reign of terror.  The relentless pursuit of his mission led Ethan deeper into the dark underbelly of the compound. He encountered locked doors, intricate security systems, and laser-tripped alarm systems, but his training had prepared him for such obstacles. With deft precision, he dismantled booby traps and outwitted sophisticated surveillance systems, leaving no trace of his presence.  Unbeknownst to Ethan, General Verenov had caught wind of an intruder within his sacred fortress. His paranoia peaked, and he ordered his troops to scour every inch of the compound. The tension in the air thickened as the noose closed in on Ethan, his heart pounding within the confines of his chest.  As dawn broke, bathing the world in shades of orange and gold, Ethan found himself standing on the precipice of success. With perspiration glistening on his brow, he uncovered the hidden vault containing the secrets of General Verenov's master plan. The room was adorned with maps, charts, and classified documents that revealed a sinister plot to unleash a devastating weapon upon innocent civilians. The weight of a nation's hope rested on Ethan's shoulders as he memorized every detail, ready to relay this critical information to his comrades.  With the evidence concealed beneath the folds of his tactical vest, Ethan made his way towards the extraction point. The compound was now alive with frenzied soldiers, their footsteps echoing like thudding drums. His heart raced as he moved soundlessly, melting into the shadows, staying just one step ahead of the enemy's relentless pursuit.  The final stretch of his escape presented formidable challenges, including an electrified fence and a veritable maze of enemy patrols. Ethan, however, tapped into the reserves of his training and stealthily navigated through the treacherous obstacles. Drawing upon his unwavering resolve, he leaped over the fence, nearly brushing against the charged wires, and merged seamlessly into the wilderness beyond.  As the sun reached its apex in the sky, Ethan finally reached the rendezvous point, a remote clearing nestled deep in the forest. It was here that he would meet his comrades, passing on the information that held the power to cripple General Verenov's insidious plans. Moments later, a helicopter materialized from the heavens, lowering its ladder towards Ethan. His fingers tightly clutching the classified documents, he ascended into the hovering aircraft, leaving the enemy stronghold behind.  Days turned into weeks, and the mission's significance rippled through the nation. Armed with Ethan's intelligence, the allied forces struck with precision, dismantling General Verenov's empire piece by piece. The enemy stronghold crumbled, and the people of the war-torn nation breathed a collective sigh of relief.  For his unparalleled bravery and unwavering dedication to the cause, Captain Ethan Reynolds was honored with the highest accolades. However, true to his nature, he remained humble, knowing that his actions were merely part of a larger tapestry of sacrifices made by countless individuals in the name of freedom.  In the years that followed, Captain Ethan Reynolds continued his role in covert operations, embarking on countless missions behind enemy lines. His actions would forever reverberate through the annals of history, reminding the world of the valor and selflessness required to protect the values held dear.\", 'In a sprawling metropolis known as NeoCity, the pulsating heart of technological advancement, a group of elite hackers known as \"The Phantom Shadows\" dwelled in the shadows. Led by their enigmatic leader, Cipher, they navigated the intricate web of cyberspace with unparalleled skill. With their nimble fingers dancing across keyboards and minds ceaselessly calculating algorithms, they were the unseen kings of the digital realm.  As the sun dipped below the horizon, casting an ethereal glow over the glistening skyscrapers, Cipher gathered his team for a secret meeting. In a dimly lit underground hideout, adorned with neon lights and towering stacks of computer servers, they discussed their latest endeavor. A classified government document had come into their possession, revealing a plot by a rogue nation to launch a devastating cyber-attack on NeoCity\\'s infrastructure, sending the entire city into chaos.  This was a battle that extended beyond the virtual realm; lives were at stake, and action needed to be taken. The Phantom Shadows knew that to prevent this catastrophe, they would have to infiltrate the heavily fortified headquarters of their adversaries and acquire the data needed to dismantle their nefarious scheme. Equipped with state-of-the-art hacking tools and with hearts filled with unwavering determination, they prepared themselves for the upcoming mission.  Under the cover of darkness, The Phantom Shadows embarked on their perilous journey. Scaling walls, disabling security systems, and easily bypassing complex firewalls, they were like ghosts weaving through the physical and digital barriers simultaneously. The tension in the air was palpable as they ventured deeper into the enemy\\'s lair.  However, their stealth was not infallible. As Cipher decrypted a crucial file, alarm bells blared, sending the facility into lockdown mode. Armed guards swarmed the corridors, their footsteps growing louder with each passing second. It was a race against time.  With unwavering resolve, The Phantom Shadows split into groups, employing their unparalleled skills to evade capture. Cipher, the master strategist, manipulated the security cameras, causing momentary blind spots, allowing his team to move undetected. Sonic, the agile infiltrator, swiftly made her way through ventilation shafts, dodging laser grids with acrobatic finesse. Meanwhile, Zero, the brilliant codebreaker, hacked into the mainframe, disabling security systems to create an escape route.  Faced with seemingly insurmountable obstacles, The Phantom Shadows relied on their unwavering teamwork and resilience. Even as bullets whizzed past them, they stuck together, utilizing their unique talents to overcome each obstacle with calculated precision. With every keystroke, they got closer to their goal.  Finally, with sweat trickling down their brows and hearts pounding in their chests, they reached the central chamber housing the mastermind behind the cyber-attack. In a climactic confrontation, Cipher engaged in a battle of wits and skill against the formidable enemy. With each stroke of the keyboard, Cipher uncovered the enemy\\'s true identity and motives, exposing their treacherous plot and saving NeoCity from imminent destruction.  As the authorities apprehended the rogue nation\\'s agents and the threat was neutralized, NeoCity rejoiced. The exploits of The Phantom Shadows reverberated through the digital world, earning them legendary status. They had proven that in a world driven by bytes and algorithms, action was a force to be reckoned with.  With their mission accomplished, Cipher and his team vanished back into the depths of cyberspace, their actions leaving an indelible mark on society. The world may never know their true identities, but their legacy as the guardians of justice and masters of cyber warfare would forever be remembered.  And so, in the sprawling metropolis of NeoCity, the invisible warriors fought their battles, protecting the digital realm from those who sought to exploit it. A new era of vigilance had dawned, where the power of action in the face of cyber warfare would forever be heralded as the greatest defense.', \"Amidst the sprawling hills and enchanting groves of the kingdom of Evergreen lay the eminent village of Stonehaven. It was a place known for its tranquil serenity, but little did the villagers know that the fragile peace they held dear was about to be shattered by a consequential series of events. Armand, an honorable and fearless knight, was the talk of the village. Renowned for his skill with a sword, his agile movements, and his tenacity in battle, he was revered by the villagers and feared by anyone foolish enough to challenge him.  One fateful evening, a mysterious stranger arrived in Stonehaven. His name was Lucian, a prodigious swordsman with an air of dark mystery. He was shrouded in black attire, his silver hair cascading down his back, and his eyes emanating an unwavering intensity. Whispers of his formidable talents spread throughout the village, igniting curiosity and trepidation among its inhabitants. It was inevitable that the paths of Armand and Lucian would cross, setting the stage for a duel that would become the stuff of legends.  As the news of Lucian's arrival reached Armand, a glimmer of excitement danced in his steel-blue eyes. His heart yearned for a worthy adversary who could test his mettle, and Lucian appeared to be the perfect challenger. A gathering crowd encircled them as they faced each other in the village square, the atmosphere thick with anticipation. The villagers held their breath, awaiting the clash of the titans.  The duel commenced with a symphony of clashing steel, each sword stroke a testimony to the remarkable skill possessed by both combatants. The sound of their swords reverberated through the village, creating an enchanting melody that captivated all who listened. Armand's movements were precise and calculated, every swing conveying boundless power. Lucian, on the other hand, moved with a graceful elegance, his every strike infused with a touch of unearthly finesse.  Time seemed to stand still as the two warriors engaged in their fierce dance of swords. The villagers watched in awe-struck silence, their eyes darting between the combatants, unable to predict the outcome of the monumental clash. Armand's strength and experience clashed against Lucian's unparalleled technique and speed. It was a battle of contrasts, where every parry and riposte held the weight of destiny.  The duel raged on for what felt like an eternity, each swordsman displaying unwavering determination and an unyielding spirit. The setting sun cast a warm glow over the spectacle, imbuing the final moments with an ethereal beauty. In one swift movement, Lucian's blade found an opening, striking Armand's armor and knocking him to the ground. The crowd gasped in collective disbelief, their admiration for both warriors unyielding.  Glowering down at his wounded opponent, Lucian extended a hand, offering Armand a chance to rise. With a nod of respect, Armand grasped the gesture, accepting his defeat with grace and humility. Though he had fallen in combat, the bond forged between the two swordsmen transcended victory and loss. They had witnessed the embodiment of true skill, and both earned the respect of the villagers.  From that day forward, Stonehaven became a bastion of martial prowess and camaraderie. The villagers turned the duel into a yearly event, celebrating the valor and skill displayed by Armand and Lucian. The profound impact of their duel inspired a generation of aspiring swordsmen, forever etching their names in the annals of the village. Armand and Lucian's story became a timeless legend, a testament to the power of action and the enduring legacy of a duel between skilled swordsmen.\", \"In the realm of Vindranth, where emerald green meadows stretched out endlessly, stood the ancient city of Ardentia. Its stone walls boasted the tales of countless generations, and its people were known far and wide for their valor and courage. In the heart of the city, a young knight named Lysander spent his days training in the art of swordsmanship. With a heart enlightened by only the many legends of warrior's past, Lysander yearned for the day when he would embark on his own heroic journey.  News arrived in the city that the neighboring kingdom of Ravenholm was ravaged by a great evil. A ruthless sorcerer, known as Morvath the Terrible, had seized control and terrorized the land. Seeking glory and armed with a razor-sharp blade, Lysander volunteered to venture forth, leaving the safety of Ardentia behind.  As our valiant knight approached the border of Ravenholm, he could see the once vibrant fields drowned in darkness. The eerie silence that hung in the air was only broken by the distant howl of a lone wolf. Gripping the hilt of his sword, Lysander's heart pounded with anticipation as he ventured deeper into the kingdom.  Soon, Lysander found himself traversing a treacherous mountain pass, its jagged peaks clawing at the sky above. A sudden gust of wind carried with it a whispered warning - a tribe of merciless bandits awaited those foolish enough to challenge them. Undeterred, Lysander pressed on, ready to face any foes that crossed his path.  As the sun dipped below the mountains, casting long shadows across the land, Lysander stumbled upon a hidden glade nestled amidst the ancient trees. To his surprise, he found himself face-to-face with a fearsome warrior named Malachi. With a towering stature and a sword as wide as a man's arm, Malachi possessed an unmatched prowess and reputation for his epic swordsmanship.  Recognizing the brotherhood borne from the art of the blade, Malachi agreed to teach Lysander the secret techniques of a true swordsman. For days, Lysander and Malachi sparred under the moonlit sky, their swords clashing in a symphony of steel that echoed through the trees. With each passing day, Lysander's skill grew, and his determination reached new heights.  Empowered by his newfound confidence, Lysander pressed forward, confronting Morvath's minions with righteous fury. Swarms of wicked creatures lunged at him from every corner, but the young knight deflected and parried their attacks with precision. With the legendary swordsmanship of Ardentia coursing through his veins, Lysander defeated every foe that dared cross his path.  Finally, the day of reckoning arrived. In the heart of Ravenholm, upon a desolate battleground, Morvath the Terrible awaited his challenger. Dressed in dark robes and wielding a staff crackling with malevolent energy, the sorcerer exuded an aura of sheer malevolence. Yet, Lysander remained undeterred, his grip on his sword tightening as he faced his greatest adversary.  Their duel was nothing short of extraordinary. Sparks flew as steel clashed against sorcery, the sound reverberating through the barren lands. With every swing of his mighty blade, Lysander's resolve grew, channeling the spirits of the ancient warriors who once defended Vindranth. Slowly but surely, Morvath found himself overwhelmed by the knight's unwavering determination.  In one final strike, Lysander's blade pierced through the sorcerer's defenses, casting Morvath to the ground in defeat. Victory washed over Lysander as the dark forces that clouded Ravenholm dissipated with Morvath's defeat. The land rejoiced, and the people were freed from the grip of tyranny.  Returning to Ardentia as a triumphant hero, Lysander was hailed as a savior, his name forever etched in the annals of legend. However, his greatest reward lay not in the adoration of the masses but in the unwavering knowledge that he had made a difference, that he had answered the call to action, and forged his own epic tale with the sword at his side.  And so, in the realm of Vindranth, where the emerald fields danced in the gentle breeze, Lysander's tale lived on, inspiring generations to come to take up arms and face their own battles. The legacy of his epic sword fights remained eternally etched in the tapestry of history, reminding all who would listen that heroes are made in the crucible of action.\"]\n"
          ]
        }
      ]
    },
    {
      "cell_type": "code",
      "source": [
        "print(generated_stories)"
      ],
      "metadata": {
        "colab": {
          "base_uri": "https://localhost:8080/"
        },
        "id": "yE_dsvJOXhhx",
        "outputId": "01141868-1197-487d-ceed-2b9852e6e86d"
      },
      "execution_count": 54,
      "outputs": [
        {
          "output_type": "stream",
          "name": "stdout",
          "text": [
            "[\"In the bustling city of New York,  named, stood and It grand of the, towering architecture and and architecture intricate adorned architecture, with where its stood a architect renowned, to the of the intricate of a creativity, in - into a his creativity their the, and a, the sanctuary with in's to building the theirledled where known of skysc was renowned to a was of but by city, was of of city the story the architecture named by of and the namedled named the. was with. world Amid in of. of. inspiration world his\", 'The sky stretched out before them, an  this the, a the clouds hung through the against with, air the nest a the the sky the,, the of stood rolling a, a, was war the of stood the the where had and a chaos conflict was a a conflict was hadered to to. of was lives from who of the chaos in and in soldiers a the.,-, the on the  the war chaos from. war the the horrors soldier despair. piercing of, the soldiers. to. and In of his With of a', 'In the midst of a bustling metropolis -.ers its the With. on. of, with known for.\" streets a named, street the was in with the with, where the a, life and known the where streets and and with for streets, a their,, and, mystery, this, a, streets place and in enigmatic, with and mystery of of to there peculiar inhabitants was young of had for that, and her the Amelia the urban,. streets her on night.  a and, the. labyrinth corner... upon Its', 'In the heart of a once-thriving metropolis,  stood its like of, the buildings, of, fa its buildings urban a the, architecture a facers a to as to, with streets fac in streets an of from to where of city the and where,, towering the with, the urban that fa, its the., the of thri of, urban this vibrant a  the its the,,. the of buildings theled The its and the, and where vibrant lived a the alley alley, urban theed stood the there through', \"In the gritty underbelly of a city  law a Vincent a his Vincent the and The the and for corruption law become to.. corruption. of corrupt their. life were a of,, to crime, city the, and he Vincent,'s by had. Vincent, and with the's citizens and for justiceelly city and,  himself The, years corrupt. to and, like and Vincent in.. a the, The innocent behind corrupt and, Vincent his toed with,, of.. of law him's of Vincent had his.\", 'In the crumbling metropolis of Neo-Arkadia, a  was a Sk as theers below as was with an once Sk. buildings,,- its dystopian-ades of once sky, the ofers the dystopians theirrap, and therap, and fac, with, progress the the skysc of fac met a,, the,, the. had and future bleak Amid of stood The a Amid Amid. At  a their. a for Her a the of and The Sk. that,, her her of.. toadingades world', 'Amidst the inky blackness of the night,  a upon of It. The. the The.. aled It the the..,, The of of The shadows the. The was an where. and of the landscape that of stood a in of- the, that, of a, a place by towering figure eerie the had of and dil, we, eerie known by eerie, as, a, dil hadidated stood, with lur abandoned mansion who, the,, woman the lived that with past eerie, her and,. by', \"In a sprawling metropolis known as NeoCity,  there holog of as holog. holog through streets This of the their. to of Among. the- of life to and hair Amelia the her by eyes a and world her, her the mind herat technology the that world of holog the, that, and the of her and that augmented had boundaries that to the boundaries life virtual the were the the virtual in cyber of artificial and world city., realm human Amelia as of It in the Amelia She the Her mind's As had artificial own as of that the\", \"Amidst the sprawling hills and enchanting groves  and With a its a vibrant a stood with in cob the a, by its.estone withenery was tap stood a the architecture,enery the a the stood its its, livedyll young that and herled her the forered of spirit a and life's a the her that for ins in her by her the's with of curiosity tales her her and and in her, a, of spent. for her, and and It of of. One. the stood. the andestone the, surrounded the\", 'In the realm of Vindranth, where emerald  a thri throughires on a. It realm. with this and the.., through. through, village the a the, place named, for a and, the lives their. extraordinary to this place place., with and who  the an the extraordinary and of ancient mortals in of the that mortals mortals and were With, by, that beings eyes as her She to the ofing for, and heart beyond eyes she eyes, village that. She of the...ned had']\n"
          ]
        }
      ]
    },
    {
      "cell_type": "markdown",
      "source": [
        "# **Partial match with the distilbert-base-uncased model:**"
      ],
      "metadata": {
        "id": "QN6ElEnxZicl"
      }
    },
    {
      "cell_type": "code",
      "source": [
        "from evaluate import load\n",
        "from bert_score import score as bert_score\n",
        "from sacrebleu import corpus_bleu\n",
        "\n",
        "# Load BERTScore model\n",
        "bertscore = load(\"bertscore\")\n",
        "\n",
        "# Prepare data\n",
        "predictions = generated_stories\n",
        "references = story_list\n",
        "\n",
        "# Calculate BERTScore\n",
        "bert_results = bertscore.compute(predictions=predictions, references=story_list, model_type=\"distilbert-base-uncased\")\n",
        "\n",
        "# Print BERTScore results\n",
        "print(\"BERTScore Results:\")\n",
        "print(bert_results)\n",
        "\n",
        "# Load BLEU metrics\n",
        "bleu_metric = load(\"bleu\")\n",
        "\n",
        "# Calculate Bilingual Evaluation Understudy (BLEU)\n",
        "results_bleu = bleu_metric.compute(predictions=generated_stories, references=story_list)\n",
        "print(f\"\\nBLEU Score: {results_bleu }\\n\")"
      ],
      "metadata": {
        "colab": {
          "base_uri": "https://localhost:8080/"
        },
        "id": "4UdvIJw3aTSz",
        "outputId": "afcccc03-8ba3-46e2-97c2-b3d5f50297ac"
      },
      "execution_count": 59,
      "outputs": [
        {
          "output_type": "stream",
          "name": "stdout",
          "text": [
            "BERTScore Results:\n",
            "{'precision': [0.6970096826553345, 0.7138975858688354, 0.7101558446884155, 0.7055715322494507, 0.7093360424041748, 0.7241700887680054, 0.7070430517196655, 0.7062804102897644, 0.7122389674186707, 0.7180802226066589], 'recall': [0.6475098133087158, 0.664555549621582, 0.6575219631195068, 0.6577696800231934, 0.6542364358901978, 0.6878328323364258, 0.6524725556373596, 0.660372257232666, 0.6583566665649414, 0.6526166200637817], 'f1': [0.6713485717773438, 0.6883434653282166, 0.6828261017799377, 0.68083256483078, 0.6806730031967163, 0.7055339217185974, 0.6786625385284424, 0.6825552582740784, 0.684238612651825, 0.6837852001190186], 'hashcode': 'distilbert-base-uncased_L5_no-idf_version=0.3.12(hug_trans=4.36.2)'}\n",
            "\n",
            "BLEU Score: {'bleu': 0.00023617025412962943, 'precisions': [0.7476007677543186, 0.1308139534883721, 0.057729941291585124, 0.04743083003952569], 'brevity_penalty': 0.0018462001599520977, 'length_ratio': 0.13708722536508355, 'translation_length': 1042, 'reference_length': 7601}\n",
            "\n"
          ]
        }
      ]
    }
  ]
}